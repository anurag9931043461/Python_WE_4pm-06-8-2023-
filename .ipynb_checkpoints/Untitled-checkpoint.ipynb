{
 "cells": [
  {
   "cell_type": "markdown",
   "id": "6ce0fa05-8c99-4cfa-9218-18ee98c21032",
   "metadata": {},
   "source": [
    "# Tuple\n",
    "\n",
    "> Tuple constructor is tuple()\n",
    "\n",
    "> tuple literal is ()\n",
    "\n",
    "> Tuple is a set of sequence of elements.\n",
    "\n",
    "> Tuple support indexing \n",
    "\n",
    "> Tuple support slicing \n",
    "\n",
    "> Tuple support concatination\n",
    "\n",
    "> Tuple support nested tuple\n",
    "\n",
    "> Tuple is immutable(hashable)\n",
    "\n",
    "> Tuple methods."
   ]
  },
  {
   "cell_type": "code",
   "execution_count": 2,
   "id": "492fba92-85fc-4f3c-9c2f-76c38637b7e8",
   "metadata": {},
   "outputs": [],
   "source": [
    "a=(10,10.03,\"10\",[1,2],(1,2,3,4),{1,2,3},frozenset({1,2,3}),{1:\"krishna\"})"
   ]
  },
  {
   "cell_type": "code",
   "execution_count": 3,
   "id": "feb8251e-f0fd-414f-88d2-fa12108a9d32",
   "metadata": {},
   "outputs": [
    {
     "name": "stdout",
     "output_type": "stream",
     "text": [
      "(10, 10.03, '10', [1, 2], (1, 2, 3, 4), {1, 2, 3}, frozenset({1, 2, 3}), {1: 'krishna'})\n"
     ]
    }
   ],
   "source": [
    "print(a)"
   ]
  },
  {
   "cell_type": "code",
   "execution_count": 4,
   "id": "65e2e070-d98e-4258-a24a-c01d603180c8",
   "metadata": {},
   "outputs": [
    {
     "data": {
      "text/plain": [
       "(10,\n",
       " 10.03,\n",
       " '10',\n",
       " [1, 2],\n",
       " (1, 2, 3, 4),\n",
       " {1, 2, 3},\n",
       " frozenset({1, 2, 3}),\n",
       " {1: 'krishna'})"
      ]
     },
     "execution_count": 4,
     "metadata": {},
     "output_type": "execute_result"
    }
   ],
   "source": [
    "a"
   ]
  },
  {
   "cell_type": "code",
   "execution_count": 5,
   "id": "a7d67093-30cc-47ff-88f3-3d1c7df45174",
   "metadata": {},
   "outputs": [
    {
     "data": {
      "text/plain": [
       "8"
      ]
     },
     "execution_count": 5,
     "metadata": {},
     "output_type": "execute_result"
    }
   ],
   "source": [
    "len(a)"
   ]
  },
  {
   "cell_type": "code",
   "execution_count": 6,
   "id": "5a6df9e9-62cb-4495-ba88-84550ca397f1",
   "metadata": {},
   "outputs": [
    {
     "data": {
      "text/plain": [
       "10"
      ]
     },
     "execution_count": 6,
     "metadata": {},
     "output_type": "execute_result"
    }
   ],
   "source": [
    "a[0]"
   ]
  },
  {
   "cell_type": "code",
   "execution_count": 7,
   "id": "e447cebe-6ab7-450b-88ac-cbef19add6fc",
   "metadata": {},
   "outputs": [
    {
     "data": {
      "text/plain": [
       "{1: 'krishna'}"
      ]
     },
     "execution_count": 7,
     "metadata": {},
     "output_type": "execute_result"
    }
   ],
   "source": [
    "a[-1]"
   ]
  },
  {
   "cell_type": "code",
   "execution_count": 8,
   "id": "8bcd0090-c3df-41f5-ad06-29ddf0203538",
   "metadata": {},
   "outputs": [
    {
     "data": {
      "text/plain": [
       "(10,\n",
       " 10.03,\n",
       " '10',\n",
       " [1, 2],\n",
       " (1, 2, 3, 4),\n",
       " {1, 2, 3},\n",
       " frozenset({1, 2, 3}),\n",
       " {1: 'krishna'})"
      ]
     },
     "execution_count": 8,
     "metadata": {},
     "output_type": "execute_result"
    }
   ],
   "source": [
    "a"
   ]
  },
  {
   "cell_type": "code",
   "execution_count": 9,
   "id": "ed3f6363-2587-471a-b48d-591715273512",
   "metadata": {},
   "outputs": [
    {
     "data": {
      "text/plain": [
       "3"
      ]
     },
     "execution_count": 9,
     "metadata": {},
     "output_type": "execute_result"
    }
   ],
   "source": [
    "a[4][2]"
   ]
  },
  {
   "cell_type": "code",
   "execution_count": 11,
   "id": "baf23d97-5262-4443-83d4-31f124a97e46",
   "metadata": {},
   "outputs": [
    {
     "data": {
      "text/plain": [
       "(2, 3)"
      ]
     },
     "execution_count": 11,
     "metadata": {},
     "output_type": "execute_result"
    }
   ],
   "source": [
    "a[4][1:3:1]"
   ]
  },
  {
   "cell_type": "code",
   "execution_count": 12,
   "id": "b31ede11-b588-438b-b65a-b2aea6e1fa89",
   "metadata": {},
   "outputs": [],
   "source": [
    "a=(1,2,3,4)"
   ]
  },
  {
   "cell_type": "code",
   "execution_count": 13,
   "id": "46fcf1d0-150c-4938-968f-857b7a04aa15",
   "metadata": {},
   "outputs": [],
   "source": [
    "b=(3,4,5)"
   ]
  },
  {
   "cell_type": "code",
   "execution_count": 14,
   "id": "3a6f9e5a-fcf6-4755-9838-d08bed83fbe3",
   "metadata": {},
   "outputs": [
    {
     "name": "stdout",
     "output_type": "stream",
     "text": [
      "(1, 2, 3, 4, 3, 4, 5)\n"
     ]
    }
   ],
   "source": [
    "print(a+b)"
   ]
  },
  {
   "cell_type": "code",
   "execution_count": 18,
   "id": "2fe76be4-8f27-4ad6-b8c8-9d850d9b40a4",
   "metadata": {},
   "outputs": [
    {
     "data": {
      "text/plain": [
       "0"
      ]
     },
     "execution_count": 18,
     "metadata": {},
     "output_type": "execute_result"
    }
   ],
   "source": [
    "a.count(10)"
   ]
  },
  {
   "cell_type": "code",
   "execution_count": 19,
   "id": "87532bfc-5873-4668-8d27-457615c58514",
   "metadata": {},
   "outputs": [
    {
     "data": {
      "text/plain": [
       "(1, 2, 3, 4)"
      ]
     },
     "execution_count": 19,
     "metadata": {},
     "output_type": "execute_result"
    }
   ],
   "source": [
    "a"
   ]
  },
  {
   "cell_type": "code",
   "execution_count": 20,
   "id": "bc4bccca-698f-4717-9ce6-28db7deea2d8",
   "metadata": {},
   "outputs": [
    {
     "data": {
      "text/plain": [
       "2"
      ]
     },
     "execution_count": 20,
     "metadata": {},
     "output_type": "execute_result"
    }
   ],
   "source": [
    "a.index(3)"
   ]
  },
  {
   "cell_type": "code",
   "execution_count": 21,
   "id": "de3a8461-7ed7-43a3-8d87-675acd39e50e",
   "metadata": {},
   "outputs": [],
   "source": [
    "a=tuple()"
   ]
  },
  {
   "cell_type": "code",
   "execution_count": 22,
   "id": "7ef69341-9cb6-4f6c-b8af-b9370717ec60",
   "metadata": {},
   "outputs": [
    {
     "name": "stdout",
     "output_type": "stream",
     "text": [
      "()\n"
     ]
    }
   ],
   "source": [
    "print(a)"
   ]
  },
  {
   "cell_type": "code",
   "execution_count": 23,
   "id": "92f0acc8-40b9-41f7-a06a-04aa51d5e112",
   "metadata": {},
   "outputs": [
    {
     "data": {
      "text/plain": [
       "0"
      ]
     },
     "execution_count": 23,
     "metadata": {},
     "output_type": "execute_result"
    }
   ],
   "source": [
    "len(a)"
   ]
  },
  {
   "cell_type": "code",
   "execution_count": 24,
   "id": "fad44bd8-de97-4cfd-9fdf-88eb6c029edd",
   "metadata": {},
   "outputs": [
    {
     "name": "stdout",
     "output_type": "stream",
     "text": [
      "()\n"
     ]
    }
   ],
   "source": [
    "b=()\n",
    "print(b)"
   ]
  },
  {
   "cell_type": "code",
   "execution_count": 26,
   "id": "d831c6e2-55cb-4703-80b9-b5a30ee89e17",
   "metadata": {},
   "outputs": [
    {
     "name": "stdout",
     "output_type": "stream",
     "text": [
      "<class 'tuple'>\n"
     ]
    }
   ],
   "source": [
    "print(type(b))"
   ]
  },
  {
   "cell_type": "code",
   "execution_count": null,
   "id": "c39edeb9-ef86-407b-a2b9-197a54ffa6ee",
   "metadata": {},
   "outputs": [],
   "source": []
  }
 ],
 "metadata": {
  "kernelspec": {
   "display_name": "Python 3 (ipykernel)",
   "language": "python",
   "name": "python3"
  },
  "language_info": {
   "codemirror_mode": {
    "name": "ipython",
    "version": 3
   },
   "file_extension": ".py",
   "mimetype": "text/x-python",
   "name": "python",
   "nbconvert_exporter": "python",
   "pygments_lexer": "ipython3",
   "version": "3.11.4"
  }
 },
 "nbformat": 4,
 "nbformat_minor": 5
}
