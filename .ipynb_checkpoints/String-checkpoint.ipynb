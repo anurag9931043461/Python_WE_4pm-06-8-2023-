{
 "cells": [
  {
   "cell_type": "markdown",
   "id": "212b75b4-c188-4748-977a-08df94090162",
   "metadata": {},
   "source": [
    "# String\n",
    "\n",
    "> String constructor is str()\n",
    "\n",
    "> String literal is '',\"\",\"\"\"\"\"\",''''''\n",
    "\n",
    "> String is a set of sequence of character\n",
    "\n",
    "> String support indexing \n",
    "\n",
    "> String support slicing\n",
    "\n",
    "> String support concatination\n",
    "\n",
    "> String is immutable(hashable)\n",
    "\n",
    "> String methods."
   ]
  },
  {
   "cell_type": "code",
   "execution_count": 10,
   "id": "eabb10bf-475f-49cb-9230-dc68de23138b",
   "metadata": {},
   "outputs": [
    {
     "name": "stdout",
     "output_type": "stream",
     "text": [
      "Hello world\n",
      "hello world\n"
     ]
    }
   ],
   "source": [
    "print(\"Hello world\")\n",
    "print('hello world')"
   ]
  },
  {
   "cell_type": "code",
   "execution_count": 12,
   "id": "03540fcc-dd77-4e17-bf7b-70f145a9d705",
   "metadata": {},
   "outputs": [
    {
     "name": "stdout",
     "output_type": "stream",
     "text": [
      "hello \n",
      "\n",
      "\n",
      "                            world\n",
      "hello\n",
      "\n",
      "\n",
      " world\n"
     ]
    }
   ],
   "source": [
    "print(\"\"\"hello \n",
    "\n",
    "\n",
    "                            world\"\"\")\n",
    "print('''hello\n",
    "\n",
    "\n",
    " world''')"
   ]
  },
  {
   "cell_type": "code",
   "execution_count": 14,
   "id": "4701d971-b7b3-4471-a2aa-f171994b96a4",
   "metadata": {},
   "outputs": [
    {
     "name": "stdout",
     "output_type": "stream",
     "text": [
      "hello world\n",
      "hello world\n"
     ]
    }
   ],
   "source": [
    "print(\"hello world\");\n",
    "print(\"hello world\");"
   ]
  },
  {
   "cell_type": "code",
   "execution_count": 15,
   "id": "88a27f5a-7b90-435e-a32a-6f9f37736b85",
   "metadata": {},
   "outputs": [
    {
     "ename": "SyntaxError",
     "evalue": "invalid syntax (2418148056.py, line 1)",
     "output_type": "error",
     "traceback": [
      "\u001b[1;36m  Cell \u001b[1;32mIn[15], line 1\u001b[1;36m\u001b[0m\n\u001b[1;33m    print(\"hello world\")print(\"hello world\");\u001b[0m\n\u001b[1;37m                        ^\u001b[0m\n\u001b[1;31mSyntaxError\u001b[0m\u001b[1;31m:\u001b[0m invalid syntax\n"
     ]
    }
   ],
   "source": [
    "print(\"hello world\")print(\"hello world\");"
   ]
  },
  {
   "cell_type": "code",
   "execution_count": 16,
   "id": "70127dae-ffc1-47ac-ac6b-04de192f98e4",
   "metadata": {},
   "outputs": [
    {
     "name": "stdout",
     "output_type": "stream",
     "text": [
      "hello world\n",
      "hello world\n"
     ]
    }
   ],
   "source": [
    "print(\"hello world\");print(\"hello world\");"
   ]
  },
  {
   "cell_type": "code",
   "execution_count": 17,
   "id": "c6e416e7-d0c4-48be-bc38-7bea6a072bb6",
   "metadata": {},
   "outputs": [
    {
     "name": "stdout",
     "output_type": "stream",
     "text": [
      "hello world\n",
      "hello world\n"
     ]
    }
   ],
   "source": [
    "print(\"hello world\");print(\"hello world\")"
   ]
  },
  {
   "cell_type": "code",
   "execution_count": 20,
   "id": "4836550d-0cee-4d0b-b22c-2e46bbe566d1",
   "metadata": {},
   "outputs": [
    {
     "name": "stdout",
     "output_type": "stream",
     "text": [
      "hello world\n",
      "hello world\n",
      "bye\n"
     ]
    }
   ],
   "source": [
    "print(\"hello world\");print(\"hello world\");print(\"bye\")"
   ]
  },
  {
   "cell_type": "code",
   "execution_count": 21,
   "id": "87a72e2d-16e6-4849-b41d-4c0d91138c17",
   "metadata": {},
   "outputs": [
    {
     "name": "stdout",
     "output_type": "stream",
     "text": [
      "hello world\n",
      "hello world\n",
      "bye\n"
     ]
    }
   ],
   "source": [
    "print(\"hello world\",end=\"\\n\");print(\"hello world\",end=\"\\n\");print(\"bye\",end=\"\\n\")"
   ]
  },
  {
   "cell_type": "code",
   "execution_count": 34,
   "id": "9d67de58-1d47-4e97-9f33-ca3980c6ced6",
   "metadata": {},
   "outputs": [
    {
     "name": "stdout",
     "output_type": "stream",
     "text": [
      "hello world hello world Rohan bye\n",
      "this is krishna\n"
     ]
    }
   ],
   "source": [
    "print(\"hello world\",end=\" \");print(\"hello world\",end=\" Rohan \");print(\"bye\",end=\"\\n\")\n",
    "print(\"this is krishna\")"
   ]
  },
  {
   "cell_type": "code",
   "execution_count": 28,
   "id": "279bd777-5da1-494a-aec7-492a74dcd09f",
   "metadata": {},
   "outputs": [
    {
     "name": "stdout",
     "output_type": "stream",
     "text": [
      "hello world\n"
     ]
    }
   ],
   "source": [
    "print(\"hello world\")"
   ]
  },
  {
   "cell_type": "code",
   "execution_count": 30,
   "id": "406b275a-82da-4ddf-aad0-495ac93b6d2d",
   "metadata": {},
   "outputs": [
    {
     "name": "stdout",
     "output_type": "stream",
     "text": [
      "Hello world"
     ]
    }
   ],
   "source": [
    "print(end=\"Hello world\")"
   ]
  },
  {
   "cell_type": "code",
   "execution_count": 31,
   "id": "67c564a9-1d70-4bd5-9bb0-39f093b11074",
   "metadata": {},
   "outputs": [
    {
     "ename": "NameError",
     "evalue": "name 'end' is not defined",
     "output_type": "error",
     "traceback": [
      "\u001b[1;31m---------------------------------------------------------------------------\u001b[0m",
      "\u001b[1;31mNameError\u001b[0m                                 Traceback (most recent call last)",
      "Cell \u001b[1;32mIn[31], line 1\u001b[0m\n\u001b[1;32m----> 1\u001b[0m \u001b[43mend\u001b[49m(\u001b[38;5;124m\"\u001b[39m\u001b[38;5;124mhello world\u001b[39m\u001b[38;5;124m\"\u001b[39m)\n",
      "\u001b[1;31mNameError\u001b[0m: name 'end' is not defined"
     ]
    }
   ],
   "source": [
    "end(\"hello world\")"
   ]
  },
  {
   "cell_type": "code",
   "execution_count": 32,
   "id": "0edc600d-0847-4b21-b2cf-591d0cda51d9",
   "metadata": {},
   "outputs": [],
   "source": [
    "end=\"hello world\""
   ]
  },
  {
   "cell_type": "code",
   "execution_count": 33,
   "id": "a8dc0956-e727-42be-b350-757ca2b7efee",
   "metadata": {},
   "outputs": [
    {
     "name": "stdout",
     "output_type": "stream",
     "text": [
      "hello world\n"
     ]
    }
   ],
   "source": [
    "print(end)"
   ]
  },
  {
   "cell_type": "code",
   "execution_count": 36,
   "id": "970806e1-13db-43a7-8b2f-5bd42bfa51be",
   "metadata": {},
   "outputs": [
    {
     "name": "stdout",
     "output_type": "stream",
     "text": [
      "apple orange pineapple\n"
     ]
    }
   ],
   "source": [
    "print(\"apple\",\"orange\",\"pineapple\")"
   ]
  },
  {
   "cell_type": "code",
   "execution_count": 37,
   "id": "91ff42ec-758d-46f5-8468-386455b798d0",
   "metadata": {},
   "outputs": [
    {
     "name": "stdout",
     "output_type": "stream",
     "text": [
      "apple orange pineapple\n"
     ]
    }
   ],
   "source": [
    "print(\"apple\",\"orange\",\"pineapple\",sep=\" \")"
   ]
  },
  {
   "cell_type": "code",
   "execution_count": 38,
   "id": "7299a915-224c-49ea-a514-16d2fcbf3872",
   "metadata": {},
   "outputs": [
    {
     "name": "stdout",
     "output_type": "stream",
     "text": [
      "apple$orange$pineapple\n"
     ]
    }
   ],
   "source": [
    "print(\"apple\",\"orange\",\"pineapple\",sep=\"$\")"
   ]
  },
  {
   "cell_type": "code",
   "execution_count": 39,
   "id": "0c6bfc9d-3757-4027-af9a-752b01561f8f",
   "metadata": {},
   "outputs": [],
   "source": [
    "a=str()"
   ]
  },
  {
   "cell_type": "code",
   "execution_count": 42,
   "id": "d69b01d5-f20b-4106-9182-fc8c12bc28e0",
   "metadata": {},
   "outputs": [
    {
     "name": "stdout",
     "output_type": "stream",
     "text": [
      "\n"
     ]
    }
   ],
   "source": [
    "print(a)"
   ]
  },
  {
   "cell_type": "code",
   "execution_count": 50,
   "id": "babb7d1d-fce7-47cb-bb7c-8b54ac84441b",
   "metadata": {},
   "outputs": [
    {
     "data": {
      "text/plain": [
       "''"
      ]
     },
     "execution_count": 50,
     "metadata": {},
     "output_type": "execute_result"
    }
   ],
   "source": [
    "b=''\n",
    "b"
   ]
  },
  {
   "cell_type": "code",
   "execution_count": 44,
   "id": "1d0d6b0b-7697-40ac-9a0e-75d9fc1d762a",
   "metadata": {},
   "outputs": [
    {
     "data": {
      "text/plain": [
       "'hello world'"
      ]
     },
     "execution_count": 44,
     "metadata": {},
     "output_type": "execute_result"
    }
   ],
   "source": [
    "\"hello world\""
   ]
  },
  {
   "cell_type": "code",
   "execution_count": 45,
   "id": "62f39664-643b-48d8-a3ec-0d273ec957ae",
   "metadata": {},
   "outputs": [
    {
     "name": "stdout",
     "output_type": "stream",
     "text": [
      "hello world\n"
     ]
    }
   ],
   "source": [
    "print(\"hello world\")"
   ]
  },
  {
   "cell_type": "code",
   "execution_count": 46,
   "id": "9ad545b1-c981-4cae-9172-7100d75a99d8",
   "metadata": {},
   "outputs": [
    {
     "name": "stdout",
     "output_type": "stream",
     "text": [
      "19\n"
     ]
    }
   ],
   "source": [
    "\"hello world\"\n",
    "print(19)"
   ]
  },
  {
   "cell_type": "code",
   "execution_count": 49,
   "id": "4dffc4dc-1086-431a-a401-8d962065aac8",
   "metadata": {},
   "outputs": [
    {
     "name": "stdout",
     "output_type": "stream",
     "text": [
      "hello world\n",
      "hello world\n",
      "hello world\n"
     ]
    },
    {
     "data": {
      "text/plain": [
       "'hello world'"
      ]
     },
     "execution_count": 49,
     "metadata": {},
     "output_type": "execute_result"
    }
   ],
   "source": [
    "print(\"hello world\")\n",
    "print(\"hello world\")\n",
    "print(\"hello world\")\n",
    "\"hello world\""
   ]
  },
  {
   "cell_type": "code",
   "execution_count": 51,
   "id": "3d11738d-4f39-472a-835d-2fc6e9a559d7",
   "metadata": {},
   "outputs": [
    {
     "data": {
      "text/plain": [
       "''"
      ]
     },
     "execution_count": 51,
     "metadata": {},
     "output_type": "execute_result"
    }
   ],
   "source": [
    "c=\"\"\n",
    "c"
   ]
  },
  {
   "cell_type": "code",
   "execution_count": 52,
   "id": "770fc3b9-8576-40fa-ab12-c322031f3370",
   "metadata": {},
   "outputs": [
    {
     "data": {
      "text/plain": [
       "''"
      ]
     },
     "execution_count": 52,
     "metadata": {},
     "output_type": "execute_result"
    }
   ],
   "source": [
    "d=\"\"\"\"\"\"\n",
    "d"
   ]
  },
  {
   "cell_type": "code",
   "execution_count": 53,
   "id": "0bfff777-34f1-4058-990b-faa5ce231c6d",
   "metadata": {},
   "outputs": [
    {
     "data": {
      "text/plain": [
       "''"
      ]
     },
     "execution_count": 53,
     "metadata": {},
     "output_type": "execute_result"
    }
   ],
   "source": [
    "e=''''''\n",
    "e"
   ]
  },
  {
   "cell_type": "code",
   "execution_count": 54,
   "id": "fe757037-bb49-4d9d-8d65-b35d5b028157",
   "metadata": {},
   "outputs": [
    {
     "data": {
      "text/plain": [
       "''"
      ]
     },
     "execution_count": 54,
     "metadata": {},
     "output_type": "execute_result"
    }
   ],
   "source": [
    "d=''\n",
    "d"
   ]
  },
  {
   "cell_type": "code",
   "execution_count": 56,
   "id": "714532b9-be16-4ba0-9d28-c0bd1f4feaeb",
   "metadata": {},
   "outputs": [
    {
     "data": {
      "text/plain": [
       "''"
      ]
     },
     "execution_count": 56,
     "metadata": {},
     "output_type": "execute_result"
    }
   ],
   "source": [
    "e=str()\n",
    "e"
   ]
  },
  {
   "cell_type": "markdown",
   "id": "f1e944cc-4fdc-4fb3-b04f-5232740d2209",
   "metadata": {},
   "source": [
    "# indexing"
   ]
  },
  {
   "cell_type": "code",
   "execution_count": 61,
   "id": "54751e8e-678e-4b66-813f-7964487d41f4",
   "metadata": {},
   "outputs": [],
   "source": [
    "a=\"KRISHNA KUMAR\""
   ]
  },
  {
   "cell_type": "code",
   "execution_count": 62,
   "id": "61a37b87-d331-4585-b48d-db6e2750bb0f",
   "metadata": {},
   "outputs": [
    {
     "name": "stdout",
     "output_type": "stream",
     "text": [
      "KRISHNA KUMAR\n"
     ]
    }
   ],
   "source": [
    "print(a)"
   ]
  },
  {
   "cell_type": "code",
   "execution_count": 63,
   "id": "e2db3d41-eb35-45c3-bb87-01322efe8db1",
   "metadata": {},
   "outputs": [
    {
     "name": "stdout",
     "output_type": "stream",
     "text": [
      "K\n"
     ]
    }
   ],
   "source": [
    "print(a[0])  # positive indexing"
   ]
  },
  {
   "cell_type": "code",
   "execution_count": 64,
   "id": "a8a6bdcf-92f1-4b17-8ee6-ac10ea3972e4",
   "metadata": {},
   "outputs": [
    {
     "name": "stdout",
     "output_type": "stream",
     "text": [
      "A\n"
     ]
    }
   ],
   "source": [
    "print(a[-7])  # negative indexing"
   ]
  },
  {
   "cell_type": "code",
   "execution_count": 65,
   "id": "39392d4f-07c2-4511-90e2-549b91f80815",
   "metadata": {},
   "outputs": [
    {
     "name": "stdout",
     "output_type": "stream",
     "text": [
      "K\n"
     ]
    }
   ],
   "source": [
    "print(a[-13])"
   ]
  },
  {
   "cell_type": "code",
   "execution_count": 66,
   "id": "9bd4d3c7-c178-4c37-a1b8-6f201ea5a627",
   "metadata": {},
   "outputs": [
    {
     "name": "stdout",
     "output_type": "stream",
     "text": [
      "K\n"
     ]
    }
   ],
   "source": [
    "print(a[0])"
   ]
  },
  {
   "cell_type": "code",
   "execution_count": 68,
   "id": "351ea717-e1e3-4f97-aa25-40c115399ef2",
   "metadata": {},
   "outputs": [
    {
     "name": "stdout",
     "output_type": "stream",
     "text": [
      "K\n"
     ]
    }
   ],
   "source": [
    "print(a[8])"
   ]
  },
  {
   "cell_type": "code",
   "execution_count": 69,
   "id": "17dc9051-11bc-4239-8a26-9d16e96d3904",
   "metadata": {},
   "outputs": [
    {
     "name": "stdout",
     "output_type": "stream",
     "text": [
      "K\n"
     ]
    }
   ],
   "source": [
    "print(a[-5])"
   ]
  },
  {
   "cell_type": "code",
   "execution_count": 77,
   "id": "a1a4229f-b4ee-4499-a29b-196f3e748e7a",
   "metadata": {},
   "outputs": [
    {
     "name": "stdout",
     "output_type": "stream",
     "text": [
      "KRISH\n"
     ]
    }
   ],
   "source": [
    "print(a[0:5:1])"
   ]
  },
  {
   "cell_type": "code",
   "execution_count": 80,
   "id": "ac72d91b-2486-4b7b-b359-4977021eb0ee",
   "metadata": {},
   "outputs": [
    {
     "name": "stdout",
     "output_type": "stream",
     "text": [
      "KUMAR\n"
     ]
    }
   ],
   "source": [
    "print(a[8:16:1])"
   ]
  },
  {
   "cell_type": "code",
   "execution_count": 81,
   "id": "12f83b43-bf1b-4604-8ad0-5c05075ed0d4",
   "metadata": {},
   "outputs": [],
   "source": [
    "b=\"Marium\""
   ]
  },
  {
   "cell_type": "code",
   "execution_count": 84,
   "id": "e8012cc0-7746-40bc-b2a9-642ea2afbb11",
   "metadata": {},
   "outputs": [
    {
     "name": "stdout",
     "output_type": "stream",
     "text": [
      "muiraM\n"
     ]
    }
   ],
   "source": [
    "print(b[-1:-7:-1])"
   ]
  },
  {
   "cell_type": "code",
   "execution_count": 85,
   "id": "c6da0fee-80b4-475e-965a-c3345bbdf707",
   "metadata": {},
   "outputs": [
    {
     "name": "stdout",
     "output_type": "stream",
     "text": [
      "muiraM\n"
     ]
    }
   ],
   "source": [
    "print(b[5::-1])"
   ]
  },
  {
   "cell_type": "code",
   "execution_count": 88,
   "id": "c9d7aad7-49c0-4964-98da-d66cdbe32fe9",
   "metadata": {},
   "outputs": [
    {
     "name": "stdout",
     "output_type": "stream",
     "text": [
      "Marium\n"
     ]
    }
   ],
   "source": [
    "print(b[0:6:1])"
   ]
  },
  {
   "cell_type": "code",
   "execution_count": 89,
   "id": "34e53015-2c80-44c4-b2fc-b81e0129c5f3",
   "metadata": {},
   "outputs": [
    {
     "name": "stdout",
     "output_type": "stream",
     "text": [
      "Marium\n"
     ]
    }
   ],
   "source": [
    "print(b[0::1])"
   ]
  },
  {
   "cell_type": "code",
   "execution_count": 90,
   "id": "58032a91-fdbb-4209-90e3-af41288022bf",
   "metadata": {},
   "outputs": [
    {
     "name": "stdout",
     "output_type": "stream",
     "text": [
      "Marium\n"
     ]
    }
   ],
   "source": [
    "print(b[::1])"
   ]
  },
  {
   "cell_type": "code",
   "execution_count": 92,
   "id": "5461e78c-50e6-47af-aa0c-474f6cd3de71",
   "metadata": {},
   "outputs": [
    {
     "name": "stdout",
     "output_type": "stream",
     "text": [
      "Marium\n"
     ]
    }
   ],
   "source": [
    "print(b[::])"
   ]
  },
  {
   "cell_type": "code",
   "execution_count": 93,
   "id": "479f699a-2ac3-48ce-90bc-c4275f1d1033",
   "metadata": {},
   "outputs": [
    {
     "name": "stdout",
     "output_type": "stream",
     "text": [
      "Marium\n"
     ]
    }
   ],
   "source": [
    "print(b[:])"
   ]
  },
  {
   "cell_type": "code",
   "execution_count": 94,
   "id": "11e55b60-2571-426c-bcde-ea6dd0dcc884",
   "metadata": {},
   "outputs": [
    {
     "name": "stdout",
     "output_type": "stream",
     "text": [
      "Marium\n"
     ]
    }
   ],
   "source": [
    "print(b)"
   ]
  },
  {
   "cell_type": "code",
   "execution_count": 95,
   "id": "aeefb3ac-2d5b-4d70-83e6-b63c8b83e61f",
   "metadata": {},
   "outputs": [
    {
     "name": "stdout",
     "output_type": "stream",
     "text": [
      "muiraM\n"
     ]
    }
   ],
   "source": [
    "print(b[-1:-7:-1])"
   ]
  },
  {
   "cell_type": "code",
   "execution_count": 96,
   "id": "fd0353cd-73f9-4de7-9110-f56094208e29",
   "metadata": {},
   "outputs": [
    {
     "name": "stdout",
     "output_type": "stream",
     "text": [
      "muiraM\n"
     ]
    }
   ],
   "source": [
    "print(b[-1::-1])"
   ]
  },
  {
   "cell_type": "code",
   "execution_count": 100,
   "id": "2ac5a6e4-a5a4-4c60-8257-eca9840fadf9",
   "metadata": {},
   "outputs": [
    {
     "name": "stdout",
     "output_type": "stream",
     "text": [
      "muiraM\n"
     ]
    }
   ],
   "source": [
    "print(b[::-1])"
   ]
  },
  {
   "cell_type": "code",
   "execution_count": 102,
   "id": "238db5f8-1e4f-4283-a6af-61b7cb0f8129",
   "metadata": {},
   "outputs": [
    {
     "name": "stdout",
     "output_type": "stream",
     "text": [
      "Marium\n"
     ]
    }
   ],
   "source": [
    "print(b[0:6:1])"
   ]
  },
  {
   "cell_type": "code",
   "execution_count": 103,
   "id": "fed87564-f6e7-411e-a948-fd437a9f9a9c",
   "metadata": {},
   "outputs": [
    {
     "name": "stdout",
     "output_type": "stream",
     "text": [
      "Mru\n"
     ]
    }
   ],
   "source": [
    "print(b[0:6:2])"
   ]
  },
  {
   "cell_type": "markdown",
   "id": "2cddada9-2195-4088-a684-d710939bebdb",
   "metadata": {},
   "source": [
    "# concatination"
   ]
  },
  {
   "cell_type": "code",
   "execution_count": 104,
   "id": "1fe50151-e8ec-485c-9523-c93e0d326d34",
   "metadata": {},
   "outputs": [
    {
     "name": "stdout",
     "output_type": "stream",
     "text": [
      "krishnakumar\n"
     ]
    }
   ],
   "source": [
    "print(\"krishna\"+\"kumar\")  # this is concatination beacuse operend are string and operator is +"
   ]
  },
  {
   "cell_type": "code",
   "execution_count": 106,
   "id": "f2d2de68-c8cb-452d-9425-9085d4e96691",
   "metadata": {},
   "outputs": [
    {
     "name": "stdout",
     "output_type": "stream",
     "text": [
      "Krishnakumar\n"
     ]
    }
   ],
   "source": [
    "print(\"Krishna\"\"kumar\")  # this not concatination process"
   ]
  },
  {
   "cell_type": "code",
   "execution_count": 107,
   "id": "55109621-20c3-42e8-87c2-1ef6b447ede6",
   "metadata": {},
   "outputs": [
    {
     "name": "stdout",
     "output_type": "stream",
     "text": [
      "Krishnakumar\n"
     ]
    }
   ],
   "source": [
    "print(\"Krishna\",\"kumar\",sep=\"\") # this not concatination process"
   ]
  },
  {
   "cell_type": "code",
   "execution_count": null,
   "id": "887fc166-5a75-4b91-8286-56cb9813971a",
   "metadata": {},
   "outputs": [],
   "source": []
  },
  {
   "cell_type": "markdown",
   "id": "fe62832f-da8c-431d-a5cc-083e8b44e9d1",
   "metadata": {},
   "source": [
    "# String methods"
   ]
  },
  {
   "cell_type": "code",
   "execution_count": 110,
   "id": "a180bb3a-52f7-427d-ace1-f07d5d7c34c8",
   "metadata": {},
   "outputs": [],
   "source": [
    "a=\"krishna\""
   ]
  },
  {
   "cell_type": "code",
   "execution_count": 111,
   "id": "714987b2-07c7-4244-ac0a-c55fff8d84fe",
   "metadata": {},
   "outputs": [
    {
     "data": {
      "text/plain": [
       "'Krishna'"
      ]
     },
     "execution_count": 111,
     "metadata": {},
     "output_type": "execute_result"
    }
   ],
   "source": [
    "a.capitalize()"
   ]
  },
  {
   "cell_type": "code",
   "execution_count": 112,
   "id": "7893e900-a7fb-4d67-bf51-9e7e2aa67903",
   "metadata": {},
   "outputs": [
    {
     "name": "stdout",
     "output_type": "stream",
     "text": [
      "krishna\n"
     ]
    }
   ],
   "source": [
    "print(a)"
   ]
  },
  {
   "cell_type": "code",
   "execution_count": 113,
   "id": "ec2c068e-02e3-40f8-a46b-7b72793c4150",
   "metadata": {},
   "outputs": [],
   "source": [
    "b=\"KRISHNA\""
   ]
  },
  {
   "cell_type": "code",
   "execution_count": 114,
   "id": "fa762a03-41b7-4c95-ac21-cb09465903f5",
   "metadata": {},
   "outputs": [
    {
     "data": {
      "text/plain": [
       "'krishna'"
      ]
     },
     "execution_count": 114,
     "metadata": {},
     "output_type": "execute_result"
    }
   ],
   "source": [
    "b.lower()"
   ]
  },
  {
   "cell_type": "code",
   "execution_count": 115,
   "id": "fcf447fc-3c42-4243-adfa-242f61597b96",
   "metadata": {},
   "outputs": [
    {
     "name": "stdout",
     "output_type": "stream",
     "text": [
      "KRISHNA\n"
     ]
    }
   ],
   "source": [
    "print(b)"
   ]
  },
  {
   "cell_type": "code",
   "execution_count": 116,
   "id": "59d3f8ee-06ca-4d66-85fa-181c4ccf13ec",
   "metadata": {},
   "outputs": [],
   "source": [
    "# https://www.w3schools.com/python/python_strings_methods.asp"
   ]
  },
  {
   "cell_type": "code",
   "execution_count": 117,
   "id": "e53153b0-0a71-4505-9960-96dc9f2286b8",
   "metadata": {},
   "outputs": [],
   "source": [
    "a=\"   NnKrishna714@GMail.com   \""
   ]
  },
  {
   "cell_type": "code",
   "execution_count": 118,
   "id": "3ef7e931-10e3-4d86-8d5b-5cedca07a19b",
   "metadata": {},
   "outputs": [
    {
     "data": {
      "text/plain": [
       "'   NnKrishna714@GMail.com   '"
      ]
     },
     "execution_count": 118,
     "metadata": {},
     "output_type": "execute_result"
    }
   ],
   "source": [
    "a"
   ]
  },
  {
   "cell_type": "code",
   "execution_count": 120,
   "id": "73fd73ce-19af-43c3-b176-9be0d345fb1a",
   "metadata": {},
   "outputs": [],
   "source": [
    "b=a.casefold()"
   ]
  },
  {
   "cell_type": "code",
   "execution_count": 121,
   "id": "843e1e04-fb83-409d-917b-b3217f045dba",
   "metadata": {},
   "outputs": [
    {
     "data": {
      "text/plain": [
       "'   nnkrishna714@gmail.com   '"
      ]
     },
     "execution_count": 121,
     "metadata": {},
     "output_type": "execute_result"
    }
   ],
   "source": [
    "b"
   ]
  },
  {
   "cell_type": "code",
   "execution_count": 123,
   "id": "e7f35b88-8814-4553-95be-6ac866b6aaa9",
   "metadata": {},
   "outputs": [],
   "source": [
    "c=b.strip()"
   ]
  },
  {
   "cell_type": "code",
   "execution_count": 124,
   "id": "9f1061e2-4adc-4491-8fe0-13445a67acb6",
   "metadata": {},
   "outputs": [
    {
     "data": {
      "text/plain": [
       "'nnkrishna714@gmail.com'"
      ]
     },
     "execution_count": 124,
     "metadata": {},
     "output_type": "execute_result"
    }
   ],
   "source": [
    "c"
   ]
  },
  {
   "cell_type": "code",
   "execution_count": 127,
   "id": "9b03dd93-52ee-4fb6-b448-a69e29f2a55b",
   "metadata": {},
   "outputs": [
    {
     "data": {
      "text/plain": [
       "'nnkrishna714@gmail.com'"
      ]
     },
     "execution_count": 127,
     "metadata": {},
     "output_type": "execute_result"
    }
   ],
   "source": [
    "\"   NnKrishna714@GMail.com   \".casefold().strip()"
   ]
  },
  {
   "cell_type": "code",
   "execution_count": null,
   "id": "4950fd6f-a02a-49ba-978b-fee380cb0364",
   "metadata": {},
   "outputs": [],
   "source": []
  }
 ],
 "metadata": {
  "kernelspec": {
   "display_name": "Python 3 (ipykernel)",
   "language": "python",
   "name": "python3"
  },
  "language_info": {
   "codemirror_mode": {
    "name": "ipython",
    "version": 3
   },
   "file_extension": ".py",
   "mimetype": "text/x-python",
   "name": "python",
   "nbconvert_exporter": "python",
   "pygments_lexer": "ipython3",
   "version": "3.11.5"
  }
 },
 "nbformat": 4,
 "nbformat_minor": 5
}
