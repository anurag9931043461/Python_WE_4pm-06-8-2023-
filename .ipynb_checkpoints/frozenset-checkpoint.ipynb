{
 "cells": [
  {
   "cell_type": "code",
   "execution_count": null,
   "id": "889f5eb2-901d-4ea6-8c50-eaed88cb41aa",
   "metadata": {},
   "outputs": [],
   "source": [
    "# set \n",
    "\n",
    "> Set constructor is set()\n",
    "\n",
    "> set literal is not available\n",
    "\n",
    "> set is an unordered set of sequence of elements.\n",
    "\n",
    "> set does not allowed duplicate values\n",
    "\n",
    "> set remove duplicay using hashing table.\n",
    "\n",
    "> set does not support indexing \n",
    "\n",
    "> set does not support slicing \n",
    "\n",
    "> set does not support concatination\n",
    "\n",
    "> set does not allowed mutable datatype\n",
    "\n",
    "> set is mutable(unhashable).\n",
    "\n",
    "> set does not support nested set\n",
    "\n",
    "> set methods."
   ]
  }
 ],
 "metadata": {
  "kernelspec": {
   "display_name": "Python 3 (ipykernel)",
   "language": "python",
   "name": "python3"
  },
  "language_info": {
   "codemirror_mode": {
    "name": "ipython",
    "version": 3
   },
   "file_extension": ".py",
   "mimetype": "text/x-python",
   "name": "python",
   "nbconvert_exporter": "python",
   "pygments_lexer": "ipython3",
   "version": "3.11.4"
  }
 },
 "nbformat": 4,
 "nbformat_minor": 5
}
