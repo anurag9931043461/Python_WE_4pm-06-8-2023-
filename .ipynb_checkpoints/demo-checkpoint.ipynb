{
 "cells": [
  {
   "cell_type": "code",
   "execution_count": 1,
   "id": "5cd89a93-2288-4196-8101-23ffe6af3cfd",
   "metadata": {},
   "outputs": [],
   "source": [
    "# comment:"
   ]
  },
  {
   "cell_type": "code",
   "execution_count": 5,
   "id": "4902f588-06ec-42c7-bc88-d81a159aedc0",
   "metadata": {},
   "outputs": [
    {
     "name": "stdout",
     "output_type": "stream",
     "text": [
      "Hello world\n"
     ]
    }
   ],
   "source": [
    "print(\"Hello world\")     #print() is use to echo something"
   ]
  },
  {
   "cell_type": "code",
   "execution_count": 14,
   "id": "3480699b-bb3a-40d8-a411-fcdb79543438",
   "metadata": {},
   "outputs": [
    {
     "name": "stdout",
     "output_type": "stream",
     "text": [
      "hello world\n",
      "hello world\n",
      "hello world\n",
      "hello world\n",
      "hello world\n"
     ]
    }
   ],
   "source": [
    "print(\"hello world\")\n",
    "print(\"hello world\")\n",
    "print(\"hello world\")\n",
    "print(\"hello world\")\n",
    "print(\"hello world\")"
   ]
  },
  {
   "cell_type": "code",
   "execution_count": 17,
   "id": "1831bea0-66be-497f-9f81-76f721cd0cc4",
   "metadata": {},
   "outputs": [
    {
     "name": "stdout",
     "output_type": "stream",
     "text": [
      "\n",
      "hello this is\n",
      "    krishna\n",
      "    I am in MCA final year\n",
      "Hello world\n"
     ]
    }
   ],
   "source": [
    "print(\"\"\"\n",
    "hello this is\n",
    "    krishna\n",
    "    I am in MCA final year\"\"\")\n",
    "print(\"Hello world\")"
   ]
  },
  {
   "cell_type": "code",
   "execution_count": 19,
   "id": "7b43597d-8139-4fe8-8f10-fba97a926eea",
   "metadata": {},
   "outputs": [
    {
     "ename": "SyntaxError",
     "evalue": "incomplete input (1811613913.py, line 1)",
     "output_type": "error",
     "traceback": [
      "\u001b[1;36m  Cell \u001b[1;32mIn[19], line 1\u001b[1;36m\u001b[0m\n\u001b[1;33m    print(#this is krishna)\u001b[0m\n\u001b[1;37m                           ^\u001b[0m\n\u001b[1;31mSyntaxError\u001b[0m\u001b[1;31m:\u001b[0m incomplete input\n"
     ]
    }
   ],
   "source": [
    "print(#this is krishna)"
   ]
  },
  {
   "cell_type": "code",
   "execution_count": null,
   "id": "198cd0b7-c11d-43a1-bd93-09cfbe463fe8",
   "metadata": {},
   "outputs": [],
   "source": []
  }
 ],
 "metadata": {
  "kernelspec": {
   "display_name": "Python 3 (ipykernel)",
   "language": "python",
   "name": "python3"
  },
  "language_info": {
   "codemirror_mode": {
    "name": "ipython",
    "version": 3
   },
   "file_extension": ".py",
   "mimetype": "text/x-python",
   "name": "python",
   "nbconvert_exporter": "python",
   "pygments_lexer": "ipython3",
   "version": "3.10.9"
  }
 },
 "nbformat": 4,
 "nbformat_minor": 5
}
