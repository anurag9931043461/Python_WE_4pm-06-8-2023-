{
 "cells": [
  {
   "cell_type": "markdown",
   "id": "da61dbca-fd1c-411c-9598-63bbb10a1d35",
   "metadata": {},
   "source": [
    "# Tuple\n",
    "\n",
    "Tuple constructor is tuple()\n",
    "\n",
    "Tuple literal is ()\n",
    "\n",
    "Tuple is a set of sequence of elements.\n",
    "\n",
    "Tuple support indexing\n",
    "\n",
    "Tuple support slicing\n",
    "\n",
    "Tuple support concatination\n",
    "\n",
    "Tuple support nested Tuple\n",
    "\n",
    "Tuple is immutable(hashable)\n",
    "\n",
    "Tuple methods."
   ]
  },
  {
   "cell_type": "code",
   "execution_count": 1,
   "id": "0c11e719-6fe9-4076-b7b3-7fc61248c984",
   "metadata": {},
   "outputs": [],
   "source": [
    "a=(10,10.0,'10',[10,3,4,5],(1,2,3,4))"
   ]
  },
  {
   "cell_type": "code",
   "execution_count": 2,
   "id": "2860138a-7e5f-429f-bf8b-c561a6285477",
   "metadata": {},
   "outputs": [
    {
     "name": "stdout",
     "output_type": "stream",
     "text": [
      "(10, 10.0, '10', [10, 3, 4, 5], (1, 2, 3, 4))\n"
     ]
    }
   ],
   "source": [
    "print(a)"
   ]
  },
  {
   "cell_type": "code",
   "execution_count": 3,
   "id": "a213d02b-8bd3-4904-96b5-e4761ce5438a",
   "metadata": {},
   "outputs": [
    {
     "data": {
      "text/plain": [
       "(1, 2, 3, 4)"
      ]
     },
     "execution_count": 3,
     "metadata": {},
     "output_type": "execute_result"
    }
   ],
   "source": [
    "a[4]"
   ]
  },
  {
   "cell_type": "code",
   "execution_count": 4,
   "id": "8b8520d1-66ce-4d43-bd98-be0278739082",
   "metadata": {},
   "outputs": [
    {
     "data": {
      "text/plain": [
       "[10, 3, 4, 5]"
      ]
     },
     "execution_count": 4,
     "metadata": {},
     "output_type": "execute_result"
    }
   ],
   "source": [
    "a[3]"
   ]
  },
  {
   "cell_type": "code",
   "execution_count": 5,
   "id": "eda5ceb1-61af-4563-a587-2bd0d4ed4db7",
   "metadata": {},
   "outputs": [
    {
     "data": {
      "text/plain": [
       "(1, 2, 3, 4)"
      ]
     },
     "execution_count": 5,
     "metadata": {},
     "output_type": "execute_result"
    }
   ],
   "source": [
    "a[-1]"
   ]
  },
  {
   "cell_type": "code",
   "execution_count": 6,
   "id": "d4f96c33-0e0d-44ee-a459-349ec2a589fe",
   "metadata": {},
   "outputs": [
    {
     "data": {
      "text/plain": [
       "[10, 3, 4, 5]"
      ]
     },
     "execution_count": 6,
     "metadata": {},
     "output_type": "execute_result"
    }
   ],
   "source": [
    "a[-2]"
   ]
  },
  {
   "cell_type": "code",
   "execution_count": 7,
   "id": "4f89337c-f87f-44cf-a169-c182a78a0a59",
   "metadata": {},
   "outputs": [
    {
     "data": {
      "text/plain": [
       "(1, 2, 3, 4)"
      ]
     },
     "execution_count": 7,
     "metadata": {},
     "output_type": "execute_result"
    }
   ],
   "source": [
    "a[4]"
   ]
  },
  {
   "cell_type": "code",
   "execution_count": 8,
   "id": "4fb0b27a-0cc1-46a0-a7b0-26d9ff110657",
   "metadata": {},
   "outputs": [
    {
     "data": {
      "text/plain": [
       "2"
      ]
     },
     "execution_count": 8,
     "metadata": {},
     "output_type": "execute_result"
    }
   ],
   "source": [
    "a[4][1]"
   ]
  },
  {
   "cell_type": "code",
   "execution_count": 9,
   "id": "1ffb008d-75bd-4e64-ae91-176a95d40397",
   "metadata": {},
   "outputs": [
    {
     "data": {
      "text/plain": [
       "(2, 3)"
      ]
     },
     "execution_count": 9,
     "metadata": {},
     "output_type": "execute_result"
    }
   ],
   "source": [
    "a[4][1:3:1]"
   ]
  },
  {
   "cell_type": "code",
   "execution_count": 10,
   "id": "fa82438d-614a-46dd-95c2-c136e08c1986",
   "metadata": {},
   "outputs": [
    {
     "data": {
      "text/plain": [
       "[10, 3, 4, 5]"
      ]
     },
     "execution_count": 10,
     "metadata": {},
     "output_type": "execute_result"
    }
   ],
   "source": [
    "a[3]"
   ]
  },
  {
   "cell_type": "code",
   "execution_count": 11,
   "id": "aa8ab0ac-07d4-4b56-9c00-426450b198c7",
   "metadata": {},
   "outputs": [
    {
     "data": {
      "text/plain": [
       "[3, 4]"
      ]
     },
     "execution_count": 11,
     "metadata": {},
     "output_type": "execute_result"
    }
   ],
   "source": [
    "a[3][1:3]"
   ]
  },
  {
   "cell_type": "code",
   "execution_count": 12,
   "id": "0c573f6a-4530-491d-bc7c-ee302c16f0bf",
   "metadata": {},
   "outputs": [
    {
     "name": "stdout",
     "output_type": "stream",
     "text": [
      "1\n",
      "<class 'int'>\n"
     ]
    }
   ],
   "source": [
    "a=(1)\n",
    "print(a)\n",
    "print(type(a))"
   ]
  },
  {
   "cell_type": "code",
   "execution_count": 13,
   "id": "ecd718ac-6906-4ae8-a57f-dba442fa9eb1",
   "metadata": {},
   "outputs": [
    {
     "name": "stdout",
     "output_type": "stream",
     "text": [
      "()\n",
      "<class 'tuple'>\n"
     ]
    }
   ],
   "source": [
    "a=()\n",
    "print(a)\n",
    "print(type(a))"
   ]
  },
  {
   "cell_type": "code",
   "execution_count": 14,
   "id": "016311bf-a206-4811-8635-f2636d7c8d71",
   "metadata": {},
   "outputs": [
    {
     "name": "stdout",
     "output_type": "stream",
     "text": [
      "(1,)\n",
      "<class 'tuple'>\n"
     ]
    }
   ],
   "source": [
    "a=(1,)\n",
    "print(a)\n",
    "print(type(a))"
   ]
  },
  {
   "cell_type": "code",
   "execution_count": 15,
   "id": "3ec47dfe-c32a-446e-ae30-62b9048ed326",
   "metadata": {},
   "outputs": [
    {
     "name": "stdout",
     "output_type": "stream",
     "text": [
      "(1, 1, 2, 3, 4, 5)\n"
     ]
    }
   ],
   "source": [
    "a=(1,1,2)\n",
    "b=(3,4,5)\n",
    "print(a+b)\n"
   ]
  },
  {
   "cell_type": "code",
   "execution_count": 16,
   "id": "dfc96dae-4c4c-4509-b306-732e0e65275c",
   "metadata": {},
   "outputs": [
    {
     "data": {
      "text/plain": [
       "2"
      ]
     },
     "execution_count": 16,
     "metadata": {},
     "output_type": "execute_result"
    }
   ],
   "source": [
    "a.count(1)"
   ]
  },
  {
   "cell_type": "code",
   "execution_count": 17,
   "id": "396adf9a-d90c-4ac0-ba71-51cd4db91bf1",
   "metadata": {},
   "outputs": [
    {
     "data": {
      "text/plain": [
       "0"
      ]
     },
     "execution_count": 17,
     "metadata": {},
     "output_type": "execute_result"
    }
   ],
   "source": [
    "a.index(1)"
   ]
  },
  {
   "cell_type": "code",
   "execution_count": 18,
   "id": "2d83df89-bd3f-4d6e-9851-763fecc66d2a",
   "metadata": {},
   "outputs": [
    {
     "data": {
      "text/plain": [
       "1"
      ]
     },
     "execution_count": 18,
     "metadata": {},
     "output_type": "execute_result"
    }
   ],
   "source": [
    "a.index(1,1,2123123)"
   ]
  },
  {
   "cell_type": "code",
   "execution_count": null,
   "id": "dba7b49e-c041-4c54-aca7-adce0e1a19a5",
   "metadata": {},
   "outputs": [],
   "source": []
  }
 ],
 "metadata": {
  "kernelspec": {
   "display_name": "Python 3 (ipykernel)",
   "language": "python",
   "name": "python3"
  },
  "language_info": {
   "codemirror_mode": {
    "name": "ipython",
    "version": 3
   },
   "file_extension": ".py",
   "mimetype": "text/x-python",
   "name": "python",
   "nbconvert_exporter": "python",
   "pygments_lexer": "ipython3",
   "version": "3.11.3"
  }
 },
 "nbformat": 4,
 "nbformat_minor": 5
}
