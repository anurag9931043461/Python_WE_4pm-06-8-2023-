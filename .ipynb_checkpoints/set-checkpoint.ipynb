{
 "cells": [
  {
   "cell_type": "markdown",
   "id": "e3b4cb96-4bb6-4aab-8983-7951013a004b",
   "metadata": {},
   "source": [
    "# set \n",
    "\n",
    "> Set constructor is set()\n",
    "\n",
    "> set literal is not available\n",
    "\n",
    "> set is an unordered set of sequence of elements.\n",
    "\n",
    "> set does not allowed duplicate values\n",
    "\n",
    "> set remove duplicay using hashing table.\n",
    "\n",
    "> set does not support indexing \n",
    "\n",
    "> set does not support slicing \n",
    "\n",
    "> set does not support concatination\n",
    "\n",
    "> set does not allowed mutable datatype\n",
    "\n",
    "> set is mutable(unhashable).\n",
    "\n",
    "> set does not support nested set\n",
    "\n",
    "> set methods.\n"
   ]
  },
  {
   "cell_type": "code",
   "execution_count": 3,
   "id": "6600ba96-e334-40eb-9ec7-c701489d7fa3",
   "metadata": {
    "tags": []
   },
   "outputs": [],
   "source": [
    "a={1,2,3,4,5,6,1,1,1,2,2,2,2,3,3,3,3,5,6,6,6,7,7,7}"
   ]
  },
  {
   "cell_type": "code",
   "execution_count": 4,
   "id": "ef62d28b-11dc-4e29-8375-efdeaaf78641",
   "metadata": {
    "tags": []
   },
   "outputs": [
    {
     "name": "stdout",
     "output_type": "stream",
     "text": [
      "{1, 2, 3, 4, 5, 6, 7}\n"
     ]
    }
   ],
   "source": [
    "print(a)"
   ]
  },
  {
   "cell_type": "code",
   "execution_count": 5,
   "id": "b2ccfa0e-2f85-4be0-950b-afb8513ca3ec",
   "metadata": {
    "tags": []
   },
   "outputs": [
    {
     "name": "stdout",
     "output_type": "stream",
     "text": [
      "10\n",
      "140734443263048\n"
     ]
    }
   ],
   "source": [
    "a=10\n",
    "print(a)\n",
    "print(id(a))"
   ]
  },
  {
   "cell_type": "code",
   "execution_count": 6,
   "id": "1d8607bd-45d2-4157-9fbb-433292ac5594",
   "metadata": {
    "tags": []
   },
   "outputs": [
    {
     "name": "stdout",
     "output_type": "stream",
     "text": [
      "10\n",
      "140734443263048\n"
     ]
    }
   ],
   "source": [
    "b=10\n",
    "print(b)\n",
    "print(id(b))"
   ]
  },
  {
   "cell_type": "code",
   "execution_count": 7,
   "id": "c1894f29-9a83-47e6-bedb-79e42ebc5ea6",
   "metadata": {
    "tags": []
   },
   "outputs": [
    {
     "name": "stdout",
     "output_type": "stream",
     "text": [
      "set()\n"
     ]
    }
   ],
   "source": [
    "a=set()\n",
    "print(a)"
   ]
  },
  {
   "cell_type": "code",
   "execution_count": 8,
   "id": "53d0a901-0d99-4d80-8170-9edaae9bd28e",
   "metadata": {
    "tags": []
   },
   "outputs": [
    {
     "data": {
      "text/plain": [
       "0"
      ]
     },
     "execution_count": 8,
     "metadata": {},
     "output_type": "execute_result"
    }
   ],
   "source": [
    "len(a)"
   ]
  },
  {
   "cell_type": "code",
   "execution_count": 17,
   "id": "eaa5c93a-7cae-423c-b54a-35d3cf8b3d04",
   "metadata": {
    "tags": []
   },
   "outputs": [
    {
     "name": "stdout",
     "output_type": "stream",
     "text": [
      "{(10.9,)}\n"
     ]
    }
   ],
   "source": [
    "a={(10.9,)}\n",
    "print(a)"
   ]
  },
  {
   "cell_type": "code",
   "execution_count": 20,
   "id": "e7706ec8-ca23-4561-93a7-68526c906c67",
   "metadata": {
    "tags": []
   },
   "outputs": [],
   "source": [
    "a={1,2,3,4,5,6,(1,)}"
   ]
  },
  {
   "cell_type": "code",
   "execution_count": 22,
   "id": "dd09a913-f5e2-42c1-aa43-e73a68e5f514",
   "metadata": {
    "tags": []
   },
   "outputs": [
    {
     "data": {
      "text/plain": [
       "{(1,), 1, 2, 3, 4, 5, 6}"
      ]
     },
     "execution_count": 22,
     "metadata": {},
     "output_type": "execute_result"
    }
   ],
   "source": [
    "a"
   ]
  },
  {
   "cell_type": "code",
   "execution_count": 1,
   "id": "8d2a9103-ea28-4993-8281-e82b6e1a26a7",
   "metadata": {},
   "outputs": [],
   "source": [
    "x={1,2,3}\n",
    "y={3,4,5}"
   ]
  },
  {
   "cell_type": "code",
   "execution_count": 2,
   "id": "1bfee27a-df41-4f80-a553-3406a5b25323",
   "metadata": {
    "tags": []
   },
   "outputs": [
    {
     "ename": "TypeError",
     "evalue": "unsupported operand type(s) for +: 'set' and 'set'",
     "output_type": "error",
     "traceback": [
      "\u001b[1;31m---------------------------------------------------------------------------\u001b[0m",
      "\u001b[1;31mTypeError\u001b[0m                                 Traceback (most recent call last)",
      "Cell \u001b[1;32mIn[2], line 1\u001b[0m\n\u001b[1;32m----> 1\u001b[0m x\u001b[38;5;241m+\u001b[39my\n",
      "\u001b[1;31mTypeError\u001b[0m: unsupported operand type(s) for +: 'set' and 'set'"
     ]
    }
   ],
   "source": [
    "x+y"
   ]
  },
  {
   "cell_type": "code",
   "execution_count": 3,
   "id": "af224027-c155-4dee-b9f2-c004a1a3185a",
   "metadata": {
    "tags": []
   },
   "outputs": [],
   "source": [
    "x={1,2,3}\n",
    "y={3,4,5}"
   ]
  },
  {
   "cell_type": "code",
   "execution_count": 4,
   "id": "fb7ea932-6a60-47a2-ae85-d183825215a0",
   "metadata": {
    "tags": []
   },
   "outputs": [
    {
     "data": {
      "text/plain": [
       "{1, 2}"
      ]
     },
     "execution_count": 4,
     "metadata": {},
     "output_type": "execute_result"
    }
   ],
   "source": [
    "x-y"
   ]
  },
  {
   "cell_type": "code",
   "execution_count": 5,
   "id": "797ca22b-3f9e-4276-a257-be4ae1499b26",
   "metadata": {
    "tags": []
   },
   "outputs": [
    {
     "data": {
      "text/plain": [
       "{1, 2}"
      ]
     },
     "execution_count": 5,
     "metadata": {},
     "output_type": "execute_result"
    }
   ],
   "source": [
    "x.difference(y)"
   ]
  },
  {
   "cell_type": "code",
   "execution_count": 6,
   "id": "866a03ec-d487-4cb7-b43e-4910cc6e3f4a",
   "metadata": {
    "tags": []
   },
   "outputs": [],
   "source": [
    "x={5,6,7}\n",
    "y={5,8,9}"
   ]
  },
  {
   "cell_type": "code",
   "execution_count": 7,
   "id": "f632c328-2359-4b71-950c-b33c0481a5e0",
   "metadata": {
    "tags": []
   },
   "outputs": [
    {
     "data": {
      "text/plain": [
       "{6, 7}"
      ]
     },
     "execution_count": 7,
     "metadata": {},
     "output_type": "execute_result"
    }
   ],
   "source": [
    "x.difference(y)"
   ]
  },
  {
   "cell_type": "code",
   "execution_count": 8,
   "id": "490990ce-202d-4862-af9d-eb9aa67b9408",
   "metadata": {
    "tags": []
   },
   "outputs": [
    {
     "data": {
      "text/plain": [
       "{6, 7}"
      ]
     },
     "execution_count": 8,
     "metadata": {},
     "output_type": "execute_result"
    }
   ],
   "source": [
    "x-y"
   ]
  },
  {
   "cell_type": "code",
   "execution_count": 9,
   "id": "1412716e-5bc6-4769-ae34-3eacf1fea009",
   "metadata": {
    "tags": []
   },
   "outputs": [
    {
     "data": {
      "text/plain": [
       "{8, 9}"
      ]
     },
     "execution_count": 9,
     "metadata": {},
     "output_type": "execute_result"
    }
   ],
   "source": [
    "y-x"
   ]
  },
  {
   "cell_type": "code",
   "execution_count": 10,
   "id": "2f1433aa-51fa-46a7-bb80-99445297842b",
   "metadata": {
    "tags": []
   },
   "outputs": [
    {
     "data": {
      "text/plain": [
       "{6, 7, 8, 9}"
      ]
     },
     "execution_count": 10,
     "metadata": {},
     "output_type": "execute_result"
    }
   ],
   "source": [
    "x.symmetric_difference(y)"
   ]
  },
  {
   "cell_type": "markdown",
   "id": "18dcb4e3-9cac-4fe5-9862-e82527a9d8e0",
   "metadata": {},
   "source": [
    "# methods to add in set"
   ]
  },
  {
   "cell_type": "code",
   "execution_count": 11,
   "id": "8b35aa51-cc24-4512-987d-0f3db53e52f1",
   "metadata": {
    "tags": []
   },
   "outputs": [],
   "source": [
    "a=set()"
   ]
  },
  {
   "cell_type": "code",
   "execution_count": 12,
   "id": "f17216e9-3cd1-4686-8ee7-c7de1f52a326",
   "metadata": {
    "tags": []
   },
   "outputs": [],
   "source": [
    "a.add(10)"
   ]
  },
  {
   "cell_type": "code",
   "execution_count": 13,
   "id": "66a1dc0e-a070-4a8d-9e2f-b2e82c8e03e2",
   "metadata": {
    "tags": []
   },
   "outputs": [
    {
     "name": "stdout",
     "output_type": "stream",
     "text": [
      "{10}\n"
     ]
    }
   ],
   "source": [
    "print(a)"
   ]
  },
  {
   "cell_type": "code",
   "execution_count": 14,
   "id": "747a0627-aca6-4ec1-b139-fed423b98582",
   "metadata": {
    "tags": []
   },
   "outputs": [],
   "source": [
    "a.add(10.88)"
   ]
  },
  {
   "cell_type": "code",
   "execution_count": 15,
   "id": "c0f75c99-5644-48b1-9e5e-a565083d555f",
   "metadata": {
    "tags": []
   },
   "outputs": [
    {
     "name": "stdout",
     "output_type": "stream",
     "text": [
      "{10, 10.88}\n"
     ]
    }
   ],
   "source": [
    "print(a)"
   ]
  },
  {
   "cell_type": "code",
   "execution_count": 16,
   "id": "fa5e7baa-4a38-4a51-b62a-1547fa0659e5",
   "metadata": {
    "tags": []
   },
   "outputs": [],
   "source": [
    "a.add(\"krishna\")"
   ]
  },
  {
   "cell_type": "code",
   "execution_count": 17,
   "id": "e6caee4b-6a04-4d54-9aca-5064fc6498e9",
   "metadata": {
    "tags": []
   },
   "outputs": [
    {
     "name": "stdout",
     "output_type": "stream",
     "text": [
      "{'krishna', 10, 10.88}\n"
     ]
    }
   ],
   "source": [
    "print(a)"
   ]
  },
  {
   "cell_type": "code",
   "execution_count": 18,
   "id": "cad1c06e-9424-4f43-8371-a45efa04e6e4",
   "metadata": {
    "tags": []
   },
   "outputs": [],
   "source": [
    "a.add((1,2,3,4))"
   ]
  },
  {
   "cell_type": "code",
   "execution_count": 19,
   "id": "ed2cf52c-900d-4b6e-bb4f-ad6af9f268f6",
   "metadata": {
    "tags": []
   },
   "outputs": [
    {
     "name": "stdout",
     "output_type": "stream",
     "text": [
      "{'krishna', 10, 10.88, (1, 2, 3, 4)}\n"
     ]
    }
   ],
   "source": [
    "print(a)"
   ]
  },
  {
   "cell_type": "code",
   "execution_count": 20,
   "id": "0fc3d330-246c-46e7-8c8d-5554a7dc0f35",
   "metadata": {
    "tags": []
   },
   "outputs": [
    {
     "ename": "TypeError",
     "evalue": "'int' object is not iterable",
     "output_type": "error",
     "traceback": [
      "\u001b[1;31m---------------------------------------------------------------------------\u001b[0m",
      "\u001b[1;31mTypeError\u001b[0m                                 Traceback (most recent call last)",
      "Cell \u001b[1;32mIn[20], line 1\u001b[0m\n\u001b[1;32m----> 1\u001b[0m a\u001b[38;5;241m.\u001b[39mupdate(\u001b[38;5;241m10\u001b[39m)\n",
      "\u001b[1;31mTypeError\u001b[0m: 'int' object is not iterable"
     ]
    }
   ],
   "source": [
    "a.update(10)"
   ]
  },
  {
   "cell_type": "code",
   "execution_count": 21,
   "id": "d2b6f199-4438-4a12-9991-cfc83fb7dff8",
   "metadata": {
    "tags": []
   },
   "outputs": [
    {
     "ename": "TypeError",
     "evalue": "'float' object is not iterable",
     "output_type": "error",
     "traceback": [
      "\u001b[1;31m---------------------------------------------------------------------------\u001b[0m",
      "\u001b[1;31mTypeError\u001b[0m                                 Traceback (most recent call last)",
      "Cell \u001b[1;32mIn[21], line 1\u001b[0m\n\u001b[1;32m----> 1\u001b[0m a\u001b[38;5;241m.\u001b[39mupdate(\u001b[38;5;241m10.88\u001b[39m)\n",
      "\u001b[1;31mTypeError\u001b[0m: 'float' object is not iterable"
     ]
    }
   ],
   "source": [
    "a.update(10.88)"
   ]
  },
  {
   "cell_type": "code",
   "execution_count": 22,
   "id": "3f3226b6-6788-4683-8261-86f6f76ed330",
   "metadata": {
    "tags": []
   },
   "outputs": [],
   "source": [
    "a.update(\"krishna\")"
   ]
  },
  {
   "cell_type": "code",
   "execution_count": 23,
   "id": "799d5feb-c64a-419f-942b-6a5ea87ab0fc",
   "metadata": {
    "tags": []
   },
   "outputs": [
    {
     "name": "stdout",
     "output_type": "stream",
     "text": [
      "{'k', 'h', 'a', 'krishna', 10, 10.88, 'r', (1, 2, 3, 4), 's', 'n', 'i'}\n"
     ]
    }
   ],
   "source": [
    "print(a)"
   ]
  },
  {
   "cell_type": "code",
   "execution_count": 24,
   "id": "e8c4934a-812c-487c-9cf7-b2b408b58225",
   "metadata": {
    "tags": []
   },
   "outputs": [],
   "source": [
    "a.update((1,2,3,4,5))"
   ]
  },
  {
   "cell_type": "code",
   "execution_count": 25,
   "id": "5d95e5b7-5b8e-4bd8-abef-702ce9cd8d30",
   "metadata": {
    "tags": []
   },
   "outputs": [
    {
     "name": "stdout",
     "output_type": "stream",
     "text": [
      "{1, 2, 3, 4, 'k', 'h', 'a', 'krishna', 5, 10, 10.88, 'r', (1, 2, 3, 4), 's', 'n', 'i'}\n"
     ]
    }
   ],
   "source": [
    "print(a)"
   ]
  },
  {
   "cell_type": "code",
   "execution_count": 26,
   "id": "0e6b64f6-cfe3-4e2c-a4c2-95b404252121",
   "metadata": {
    "tags": []
   },
   "outputs": [],
   "source": [
    "a.update([54,6,7,8,9,0])"
   ]
  },
  {
   "cell_type": "code",
   "execution_count": 27,
   "id": "cdf9f217-fdca-4c3e-ba10-dded4f823238",
   "metadata": {
    "tags": []
   },
   "outputs": [
    {
     "name": "stdout",
     "output_type": "stream",
     "text": [
      "{0, 1, 2, 3, 4, 5, 'h', 6, 'krishna', 7, 10, 10.88, 8, 9, (1, 2, 3, 4), 'n', 'a', 54, 'i', 'k', 'r', 's'}\n"
     ]
    }
   ],
   "source": [
    "print(a)"
   ]
  },
  {
   "cell_type": "code",
   "execution_count": 32,
   "id": "6a0798ea-1f83-4177-8b1b-2656c8f0fe77",
   "metadata": {
    "tags": []
   },
   "outputs": [],
   "source": [
    "a.update(\"Yash\")"
   ]
  },
  {
   "cell_type": "code",
   "execution_count": 33,
   "id": "67204ffc-e59b-4458-9f05-01b0b3a736ca",
   "metadata": {
    "tags": []
   },
   "outputs": [
    {
     "name": "stdout",
     "output_type": "stream",
     "text": [
      "{0, 1, 2, 3, 4, 5, 'h', 6, 'krishna', 7, 10, 10.88, 8, 9, (1, 2, 3, 4), 'n', 'Yash', 'Y', 'a', 54, 'i', 'k', 'r', 's'}\n"
     ]
    }
   ],
   "source": [
    "print(a)"
   ]
  },
  {
   "cell_type": "code",
   "execution_count": 34,
   "id": "16584ade-6147-46bf-afed-d2bd03cf0a26",
   "metadata": {
    "tags": []
   },
   "outputs": [
    {
     "name": "stdout",
     "output_type": "stream",
     "text": [
      "{0, 1, 2, 3, 4, 5, 'h', 6, 'krishna', 7, 10, 10.88, 8, 9, (1, 2, 3, 4), 'n', 'Yash', 'Y', 'a', 54, 'i', 'k', 'r', 's'}\n"
     ]
    }
   ],
   "source": [
    "print(a)"
   ]
  },
  {
   "cell_type": "markdown",
   "id": "81411cf0-d1d3-47e2-9996-57efb69fa691",
   "metadata": {},
   "source": [
    "# delete mothods of set"
   ]
  },
  {
   "cell_type": "code",
   "execution_count": 51,
   "id": "32d57eeb-aeb6-4679-b20f-f65af5ae300f",
   "metadata": {
    "tags": []
   },
   "outputs": [
    {
     "name": "stdout",
     "output_type": "stream",
     "text": [
      "{0, 1, 2, 3, 4, 5, 'h', 6, 'krishna', 7, 10, 10.88, 8, 9, (1, 2, 3, 4), 'n', 'Yash', 'Y', 'a', 54, 'i', 'k', 'r', 's'}\n"
     ]
    }
   ],
   "source": [
    "print(a)"
   ]
  },
  {
   "cell_type": "code",
   "execution_count": 52,
   "id": "ae79a16e-90ce-4364-a9c2-58c6f58ee79a",
   "metadata": {
    "tags": []
   },
   "outputs": [
    {
     "data": {
      "text/plain": [
       "0"
      ]
     },
     "execution_count": 52,
     "metadata": {},
     "output_type": "execute_result"
    }
   ],
   "source": [
    "a.pop()"
   ]
  },
  {
   "cell_type": "code",
   "execution_count": 53,
   "id": "52e99c9d-d446-4d0b-93f9-1a7bbea2d654",
   "metadata": {
    "tags": []
   },
   "outputs": [
    {
     "name": "stdout",
     "output_type": "stream",
     "text": [
      "{1, 2, 3, 4, 5, 'h', 6, 'krishna', 7, 10, 10.88, 8, 9, (1, 2, 3, 4), 'n', 'Yash', 'Y', 'a', 54, 'i', 'k', 'r', 's'}\n"
     ]
    }
   ],
   "source": [
    "print(a)"
   ]
  },
  {
   "cell_type": "code",
   "execution_count": 55,
   "id": "85dbac24-fb90-426e-9f8d-1bc3837e18f7",
   "metadata": {
    "tags": []
   },
   "outputs": [
    {
     "data": {
      "text/plain": [
       "2"
      ]
     },
     "execution_count": 55,
     "metadata": {},
     "output_type": "execute_result"
    }
   ],
   "source": [
    "a.pop()"
   ]
  },
  {
   "cell_type": "code",
   "execution_count": 56,
   "id": "17440228-0ffc-4a0b-a652-a985c37c98bc",
   "metadata": {
    "tags": []
   },
   "outputs": [],
   "source": [
    "a.remove(\"krishna\")"
   ]
  },
  {
   "cell_type": "code",
   "execution_count": 57,
   "id": "a5a53ca8-8ed9-4d88-83bd-05d123c92529",
   "metadata": {
    "tags": []
   },
   "outputs": [
    {
     "name": "stdout",
     "output_type": "stream",
     "text": [
      "{3, 4, 5, 'h', 6, 7, 10, 10.88, 8, 9, (1, 2, 3, 4), 'n', 'Yash', 'Y', 'a', 54, 'i', 'k', 'r', 's'}\n"
     ]
    }
   ],
   "source": [
    "print(a)"
   ]
  },
  {
   "cell_type": "code",
   "execution_count": 58,
   "id": "590a8b19-18ea-4cce-a1b2-d5e34dd797ad",
   "metadata": {
    "tags": []
   },
   "outputs": [],
   "source": [
    "a.remove((1,2,3,4))"
   ]
  },
  {
   "cell_type": "code",
   "execution_count": 59,
   "id": "b72edd0e-3de8-4b85-aa5f-c35445d222a9",
   "metadata": {
    "tags": []
   },
   "outputs": [
    {
     "name": "stdout",
     "output_type": "stream",
     "text": [
      "{3, 4, 5, 'h', 6, 7, 10, 10.88, 8, 9, 'n', 'Yash', 'Y', 'a', 54, 'i', 'k', 'r', 's'}\n"
     ]
    }
   ],
   "source": [
    "print(a)"
   ]
  },
  {
   "cell_type": "code",
   "execution_count": 65,
   "id": "94c803d3-9e0e-4ba2-b895-6b417fca1fdf",
   "metadata": {
    "tags": []
   },
   "outputs": [
    {
     "ename": "KeyError",
     "evalue": "(1, 2, 3, 4)",
     "output_type": "error",
     "traceback": [
      "\u001b[1;31m---------------------------------------------------------------------------\u001b[0m",
      "\u001b[1;31mKeyError\u001b[0m                                  Traceback (most recent call last)",
      "Cell \u001b[1;32mIn[65], line 1\u001b[0m\n\u001b[1;32m----> 1\u001b[0m a\u001b[38;5;241m.\u001b[39mremove((\u001b[38;5;241m1\u001b[39m,\u001b[38;5;241m2\u001b[39m,\u001b[38;5;241m3\u001b[39m,\u001b[38;5;241m4\u001b[39m))\n\u001b[0;32m      2\u001b[0m \u001b[38;5;28mprint\u001b[39m(\u001b[38;5;124m\"\u001b[39m\u001b[38;5;124mhello world\u001b[39m\u001b[38;5;124m\"\u001b[39m)\n",
      "\u001b[1;31mKeyError\u001b[0m: (1, 2, 3, 4)"
     ]
    }
   ],
   "source": [
    "a.remove((1,2,3,4))\n",
    "print(\"hello world\")"
   ]
  },
  {
   "cell_type": "code",
   "execution_count": 61,
   "id": "8de56b27-6494-4ec8-bb7a-2657ec5ae0c9",
   "metadata": {
    "tags": []
   },
   "outputs": [],
   "source": [
    "a.discard((1,2,3,4))"
   ]
  },
  {
   "cell_type": "code",
   "execution_count": 62,
   "id": "c5c3673e-ee41-4d47-ba45-7bee62512265",
   "metadata": {
    "tags": []
   },
   "outputs": [],
   "source": [
    "a.discard('Yash')"
   ]
  },
  {
   "cell_type": "code",
   "execution_count": 63,
   "id": "7ace4270-ce60-428a-b5d3-e701ef6034e7",
   "metadata": {
    "tags": []
   },
   "outputs": [
    {
     "name": "stdout",
     "output_type": "stream",
     "text": [
      "{3, 4, 5, 'h', 6, 7, 10, 10.88, 8, 9, 'n', 'Y', 'a', 54, 'i', 'k', 'r', 's'}\n"
     ]
    }
   ],
   "source": [
    "print(a)"
   ]
  },
  {
   "cell_type": "code",
   "execution_count": 66,
   "id": "fc7d6730-e7fd-487c-8baf-fb3e1fef1f95",
   "metadata": {
    "tags": []
   },
   "outputs": [
    {
     "name": "stdout",
     "output_type": "stream",
     "text": [
      "hello world\n"
     ]
    }
   ],
   "source": [
    "a.discard('Yash')\n",
    "print(\"hello world\")"
   ]
  },
  {
   "cell_type": "code",
   "execution_count": 67,
   "id": "26bb5e3e-d6bc-4555-b677-a076607ff94f",
   "metadata": {
    "tags": []
   },
   "outputs": [],
   "source": [
    "a.clear()"
   ]
  },
  {
   "cell_type": "code",
   "execution_count": 68,
   "id": "1fd46918-3745-447a-b3c3-2552f8f3bd44",
   "metadata": {
    "tags": []
   },
   "outputs": [
    {
     "name": "stdout",
     "output_type": "stream",
     "text": [
      "set()\n"
     ]
    }
   ],
   "source": [
    "print(a)"
   ]
  },
  {
   "cell_type": "markdown",
   "id": "54db8a25-797a-41fc-8068-6eeae68de83c",
   "metadata": {
    "tags": []
   },
   "source": [
    "# set theory class 12 chapter 1 (set, relation and function)"
   ]
  },
  {
   "cell_type": "code",
   "execution_count": 70,
   "id": "d9b3952c-650c-46df-8904-f9947db043f6",
   "metadata": {
    "tags": []
   },
   "outputs": [],
   "source": [
    "a={1,2,3,4,5,6}\n",
    "b={4,5,6,7,8,9}"
   ]
  },
  {
   "cell_type": "code",
   "execution_count": 71,
   "id": "029914b1-50b3-42fd-af73-d2a8ad998791",
   "metadata": {
    "tags": []
   },
   "outputs": [
    {
     "data": {
      "text/plain": [
       "{4, 5, 6}"
      ]
     },
     "execution_count": 71,
     "metadata": {},
     "output_type": "execute_result"
    }
   ],
   "source": [
    "a.intersection(b)"
   ]
  },
  {
   "cell_type": "code",
   "execution_count": 72,
   "id": "91fdcbe7-0e81-4b39-abc0-633288fe26ae",
   "metadata": {
    "tags": []
   },
   "outputs": [
    {
     "name": "stdout",
     "output_type": "stream",
     "text": [
      "{1, 2, 3, 4, 5, 6}\n"
     ]
    }
   ],
   "source": [
    "print(a)"
   ]
  },
  {
   "cell_type": "code",
   "execution_count": 73,
   "id": "b83f15c2-1fb2-4f51-99fd-8401a90a663b",
   "metadata": {
    "tags": []
   },
   "outputs": [
    {
     "name": "stdout",
     "output_type": "stream",
     "text": [
      "{4, 5, 6, 7, 8, 9}\n"
     ]
    }
   ],
   "source": [
    "print(b)"
   ]
  },
  {
   "cell_type": "code",
   "execution_count": 74,
   "id": "1f38611d-be29-4e92-8840-236ca36bd02a",
   "metadata": {
    "tags": []
   },
   "outputs": [],
   "source": [
    "a.intersection_update(b)"
   ]
  },
  {
   "cell_type": "code",
   "execution_count": 75,
   "id": "b04b63ea-2695-40bc-af5b-13c284245113",
   "metadata": {
    "tags": []
   },
   "outputs": [
    {
     "name": "stdout",
     "output_type": "stream",
     "text": [
      "{4, 5, 6}\n"
     ]
    }
   ],
   "source": [
    "print(a)"
   ]
  },
  {
   "cell_type": "code",
   "execution_count": 76,
   "id": "65695d0e-32af-4879-904f-e99c719d6ada",
   "metadata": {
    "tags": []
   },
   "outputs": [
    {
     "name": "stdout",
     "output_type": "stream",
     "text": [
      "{4, 5, 6, 7, 8, 9}\n"
     ]
    }
   ],
   "source": [
    "print(b)"
   ]
  },
  {
   "cell_type": "code",
   "execution_count": 77,
   "id": "0e16e4ba-978b-46b8-a8e9-7bdca06bb1ce",
   "metadata": {
    "tags": []
   },
   "outputs": [],
   "source": [
    "a={1,2,3,4,5,6}"
   ]
  },
  {
   "cell_type": "code",
   "execution_count": 78,
   "id": "63edf303-3249-4da7-aabb-bdc08dea6830",
   "metadata": {
    "tags": []
   },
   "outputs": [
    {
     "name": "stdout",
     "output_type": "stream",
     "text": [
      "{4, 5, 6, 7, 8, 9}\n"
     ]
    }
   ],
   "source": [
    "print(b)"
   ]
  },
  {
   "cell_type": "code",
   "execution_count": 79,
   "id": "39d056f0-afb7-4bde-81df-3e5a670c3cb5",
   "metadata": {
    "tags": []
   },
   "outputs": [
    {
     "data": {
      "text/plain": [
       "{1, 2, 3}"
      ]
     },
     "execution_count": 79,
     "metadata": {},
     "output_type": "execute_result"
    }
   ],
   "source": [
    "a.difference(b)"
   ]
  },
  {
   "cell_type": "code",
   "execution_count": 80,
   "id": "22b4d843-b516-44ad-aaa1-795c9c5cc4a1",
   "metadata": {
    "tags": []
   },
   "outputs": [],
   "source": [
    "a.difference_update(b)"
   ]
  },
  {
   "cell_type": "code",
   "execution_count": 81,
   "id": "064f9d19-db8b-438a-addc-2b328fd64809",
   "metadata": {
    "tags": []
   },
   "outputs": [
    {
     "name": "stdout",
     "output_type": "stream",
     "text": [
      "{1, 2, 3}\n"
     ]
    }
   ],
   "source": [
    "print(a)"
   ]
  },
  {
   "cell_type": "code",
   "execution_count": 82,
   "id": "4a1376a3-7931-4987-aa72-1022178be60b",
   "metadata": {
    "tags": []
   },
   "outputs": [
    {
     "name": "stdout",
     "output_type": "stream",
     "text": [
      "{4, 5, 6, 7, 8, 9}\n"
     ]
    }
   ],
   "source": [
    "print(b)"
   ]
  },
  {
   "cell_type": "code",
   "execution_count": 83,
   "id": "2a58fe5b-87db-4b05-a864-759e73a2f8fc",
   "metadata": {
    "tags": []
   },
   "outputs": [],
   "source": [
    "a={1,2,3,4,5,6}\n",
    "b={1,2}"
   ]
  },
  {
   "cell_type": "code",
   "execution_count": 84,
   "id": "cb8c8c1d-c007-4913-afdc-19e4f11e4341",
   "metadata": {
    "tags": []
   },
   "outputs": [
    {
     "data": {
      "text/plain": [
       "True"
      ]
     },
     "execution_count": 84,
     "metadata": {},
     "output_type": "execute_result"
    }
   ],
   "source": [
    "a.issuperset(b)"
   ]
  },
  {
   "cell_type": "code",
   "execution_count": 85,
   "id": "1fd5d270-6683-41b9-ae44-175f763ad7f7",
   "metadata": {
    "tags": []
   },
   "outputs": [
    {
     "data": {
      "text/plain": [
       "True"
      ]
     },
     "execution_count": 85,
     "metadata": {},
     "output_type": "execute_result"
    }
   ],
   "source": [
    "b.issubset(a)"
   ]
  },
  {
   "cell_type": "code",
   "execution_count": 86,
   "id": "34da3d86-b352-4b3d-8962-31dc1e25c994",
   "metadata": {
    "tags": []
   },
   "outputs": [
    {
     "data": {
      "text/plain": [
       "False"
      ]
     },
     "execution_count": 86,
     "metadata": {},
     "output_type": "execute_result"
    }
   ],
   "source": [
    "a.isdisjoint(b)"
   ]
  },
  {
   "cell_type": "code",
   "execution_count": 87,
   "id": "89314299-8939-4b6f-a049-1ee482cbd30a",
   "metadata": {
    "tags": []
   },
   "outputs": [],
   "source": [
    "c={1,2,3}\n",
    "d={4,5,6}"
   ]
  },
  {
   "cell_type": "code",
   "execution_count": 88,
   "id": "eb41558f-434a-414f-99d4-69014ffd08d4",
   "metadata": {
    "tags": []
   },
   "outputs": [
    {
     "data": {
      "text/plain": [
       "True"
      ]
     },
     "execution_count": 88,
     "metadata": {},
     "output_type": "execute_result"
    }
   ],
   "source": [
    "c.isdisjoint(d)"
   ]
  },
  {
   "cell_type": "code",
   "execution_count": 89,
   "id": "acf6aa11-811c-4ffb-b13d-a6c9535b444b",
   "metadata": {
    "tags": []
   },
   "outputs": [
    {
     "data": {
      "text/plain": [
       "{1, 2, 3, 4, 5, 6}"
      ]
     },
     "execution_count": 89,
     "metadata": {},
     "output_type": "execute_result"
    }
   ],
   "source": [
    "c.union(d)"
   ]
  },
  {
   "cell_type": "code",
   "execution_count": 90,
   "id": "3086c099-6bd3-4f3b-91b6-eb5bf53b8626",
   "metadata": {
    "tags": []
   },
   "outputs": [
    {
     "data": {
      "text/plain": [
       "{1, 2, 3, 4, 5, 6}"
      ]
     },
     "execution_count": 90,
     "metadata": {},
     "output_type": "execute_result"
    }
   ],
   "source": [
    "a"
   ]
  },
  {
   "cell_type": "code",
   "execution_count": 92,
   "id": "9a658044-9d0f-4486-bc33-e6ef462dbc1d",
   "metadata": {
    "tags": []
   },
   "outputs": [],
   "source": [
    "b={4,5,6,7,8,9}"
   ]
  },
  {
   "cell_type": "code",
   "execution_count": 93,
   "id": "79ffa50d-769b-42ff-87a7-106acaecbdd0",
   "metadata": {
    "tags": []
   },
   "outputs": [
    {
     "data": {
      "text/plain": [
       "{1, 2, 3, 4, 5, 6, 7, 8, 9}"
      ]
     },
     "execution_count": 93,
     "metadata": {},
     "output_type": "execute_result"
    }
   ],
   "source": [
    "a.union(b)"
   ]
  },
  {
   "cell_type": "code",
   "execution_count": 94,
   "id": "25949b3e-b86f-41e7-8ba3-a715d953d276",
   "metadata": {
    "tags": []
   },
   "outputs": [
    {
     "data": {
      "text/plain": [
       "{1, 2, 3, 4, 5, 6}"
      ]
     },
     "execution_count": 94,
     "metadata": {},
     "output_type": "execute_result"
    }
   ],
   "source": [
    "a"
   ]
  },
  {
   "cell_type": "code",
   "execution_count": 95,
   "id": "82f4d71c-fb42-41ba-9f70-e66a0de9af35",
   "metadata": {
    "tags": []
   },
   "outputs": [],
   "source": [
    "d=a"
   ]
  },
  {
   "cell_type": "code",
   "execution_count": 96,
   "id": "534c1eaf-4eed-4f97-aed7-c30019c60f72",
   "metadata": {
    "tags": []
   },
   "outputs": [
    {
     "name": "stdout",
     "output_type": "stream",
     "text": [
      "{1, 2, 3, 4, 5, 6}\n"
     ]
    }
   ],
   "source": [
    "print(d)"
   ]
  },
  {
   "cell_type": "code",
   "execution_count": 97,
   "id": "f0574ce8-cef2-4e4e-beac-a241e5e5d537",
   "metadata": {
    "tags": []
   },
   "outputs": [
    {
     "name": "stdout",
     "output_type": "stream",
     "text": [
      "{1, 2, 3, 4, 5, 6}\n"
     ]
    }
   ],
   "source": [
    "print(a)"
   ]
  },
  {
   "cell_type": "code",
   "execution_count": 98,
   "id": "60de4984-918b-43c7-b18f-f92378330fd2",
   "metadata": {
    "tags": []
   },
   "outputs": [],
   "source": [
    "a.add(1000)"
   ]
  },
  {
   "cell_type": "code",
   "execution_count": 99,
   "id": "b965ad3e-32fa-4d6e-b83d-c0dd9178154b",
   "metadata": {
    "tags": []
   },
   "outputs": [
    {
     "name": "stdout",
     "output_type": "stream",
     "text": [
      "{1, 2, 3, 4, 5, 6, 1000}\n"
     ]
    }
   ],
   "source": [
    "print(a)"
   ]
  },
  {
   "cell_type": "code",
   "execution_count": 100,
   "id": "00294503-40cb-4b5f-bc65-2343b79fc9e0",
   "metadata": {
    "tags": []
   },
   "outputs": [
    {
     "name": "stdout",
     "output_type": "stream",
     "text": [
      "{1, 2, 3, 4, 5, 6, 1000}\n"
     ]
    }
   ],
   "source": [
    "print(d)"
   ]
  },
  {
   "cell_type": "code",
   "execution_count": 101,
   "id": "a1b8ec7b-3569-44df-8319-878d99920240",
   "metadata": {
    "tags": []
   },
   "outputs": [
    {
     "name": "stdout",
     "output_type": "stream",
     "text": [
      "1730267933472\n"
     ]
    }
   ],
   "source": [
    "print(id(a))"
   ]
  },
  {
   "cell_type": "code",
   "execution_count": 102,
   "id": "fca59702-810b-43a9-8677-2e1e092ebec1",
   "metadata": {
    "tags": []
   },
   "outputs": [
    {
     "name": "stdout",
     "output_type": "stream",
     "text": [
      "1730267933472\n"
     ]
    }
   ],
   "source": [
    "print(id(d))"
   ]
  },
  {
   "cell_type": "code",
   "execution_count": 103,
   "id": "1aa8d130-209c-4cdc-bdc0-dfc8207ef4d8",
   "metadata": {
    "tags": []
   },
   "outputs": [],
   "source": [
    "e=a.copy()"
   ]
  },
  {
   "cell_type": "code",
   "execution_count": 104,
   "id": "dc8375d8-63ce-4de3-ad36-74537ca429fd",
   "metadata": {
    "tags": []
   },
   "outputs": [
    {
     "name": "stdout",
     "output_type": "stream",
     "text": [
      "{1, 2, 3, 4, 5, 6, 1000}\n"
     ]
    }
   ],
   "source": [
    "print(e)"
   ]
  },
  {
   "cell_type": "code",
   "execution_count": 105,
   "id": "14d97d37-da64-427f-8279-cab82e75963e",
   "metadata": {
    "tags": []
   },
   "outputs": [
    {
     "name": "stdout",
     "output_type": "stream",
     "text": [
      "{1, 2, 3, 4, 5, 6, 1000}\n"
     ]
    }
   ],
   "source": [
    "print(a)"
   ]
  },
  {
   "cell_type": "code",
   "execution_count": 106,
   "id": "75492049-e62f-427f-ae4d-d585cabdcf17",
   "metadata": {
    "tags": []
   },
   "outputs": [],
   "source": [
    "a.add(999)"
   ]
  },
  {
   "cell_type": "code",
   "execution_count": 107,
   "id": "ce1598a5-2ee8-4336-b658-6a9b7b56fe46",
   "metadata": {
    "tags": []
   },
   "outputs": [
    {
     "name": "stdout",
     "output_type": "stream",
     "text": [
      "{1, 2, 3, 4, 5, 6, 999, 1000}\n"
     ]
    }
   ],
   "source": [
    "print(a)"
   ]
  },
  {
   "cell_type": "code",
   "execution_count": 108,
   "id": "6b1bfaf5-a922-4b8b-b324-d9878045f7a9",
   "metadata": {
    "tags": []
   },
   "outputs": [
    {
     "name": "stdout",
     "output_type": "stream",
     "text": [
      "{1, 2, 3, 4, 5, 6, 1000}\n"
     ]
    }
   ],
   "source": [
    "print(e)"
   ]
  },
  {
   "cell_type": "code",
   "execution_count": 109,
   "id": "db093349-c2ee-4449-9018-2ef1931a20bc",
   "metadata": {
    "tags": []
   },
   "outputs": [
    {
     "data": {
      "text/plain": [
       "1730282138624"
      ]
     },
     "execution_count": 109,
     "metadata": {},
     "output_type": "execute_result"
    }
   ],
   "source": [
    "id(e)"
   ]
  },
  {
   "cell_type": "code",
   "execution_count": 110,
   "id": "2666cd15-2c61-4aea-ab09-387208411171",
   "metadata": {
    "tags": []
   },
   "outputs": [
    {
     "data": {
      "text/plain": [
       "1730267933472"
      ]
     },
     "execution_count": 110,
     "metadata": {},
     "output_type": "execute_result"
    }
   ],
   "source": [
    "id(a)"
   ]
  },
  {
   "cell_type": "code",
   "execution_count": 111,
   "id": "063e3f25-daca-49a6-a3c2-baeab9261ad0",
   "metadata": {
    "tags": []
   },
   "outputs": [],
   "source": [
    "a={1,2,3,4,5,6}\n",
    "b={4,5,6,7,8,9}"
   ]
  },
  {
   "cell_type": "code",
   "execution_count": 112,
   "id": "bd1ddd1b-0fb4-4adf-92d8-e124295397cf",
   "metadata": {
    "tags": []
   },
   "outputs": [
    {
     "data": {
      "text/plain": [
       "{1, 2, 3, 7, 8, 9}"
      ]
     },
     "execution_count": 112,
     "metadata": {},
     "output_type": "execute_result"
    }
   ],
   "source": [
    "a.symmetric_difference(b)"
   ]
  },
  {
   "cell_type": "code",
   "execution_count": 113,
   "id": "b7d246ae-0ac6-4947-a6dd-d39c7ef81766",
   "metadata": {
    "tags": []
   },
   "outputs": [],
   "source": [
    "a.symmetric_difference_update(b)"
   ]
  },
  {
   "cell_type": "code",
   "execution_count": 114,
   "id": "285580bc-a1f5-48b6-895d-c6aa5fe68be3",
   "metadata": {
    "tags": []
   },
   "outputs": [
    {
     "name": "stdout",
     "output_type": "stream",
     "text": [
      "{1, 2, 3, 7, 8, 9}\n"
     ]
    }
   ],
   "source": [
    "print(a)"
   ]
  },
  {
   "cell_type": "code",
   "execution_count": null,
   "id": "54cf34fa-4d9e-4611-b901-af6cf25b56e9",
   "metadata": {},
   "outputs": [],
   "source": []
  }
 ],
 "metadata": {
  "kernelspec": {
   "display_name": "Python 3 (ipykernel)",
   "language": "python",
   "name": "python3"
  },
  "language_info": {
   "codemirror_mode": {
    "name": "ipython",
    "version": 3
   },
   "file_extension": ".py",
   "mimetype": "text/x-python",
   "name": "python",
   "nbconvert_exporter": "python",
   "pygments_lexer": "ipython3",
   "version": "3.11.4"
  }
 },
 "nbformat": 4,
 "nbformat_minor": 5
}
