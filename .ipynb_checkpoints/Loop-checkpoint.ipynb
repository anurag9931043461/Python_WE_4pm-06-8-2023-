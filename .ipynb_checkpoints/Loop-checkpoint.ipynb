{
 "cells": [
  {
   "cell_type": "raw",
   "id": "8ecb56b8-85f0-4627-a665-c22e3f22f314",
   "metadata": {},
   "source": [
    "> loop\n",
    "    > for loop \n",
    "        > single for loop \n",
    "        > nest for loop for pattern creation\n",
    "        > list comprehension \n",
    "        > dictionary comprehension\n",
    "        > set comprehension\n",
    "        > tuple comprehension(generator object)\n",
    "        > forzenset comprehension\n",
    "        > continue\n",
    "        > break\n",
    "        > pass \n",
    "    > while loop\n",
    "        > single while loop\n",
    "        > nested while loop\n",
    "        > pattern using single loop\n",
    "        > pattern using nested loop\n",
    "        > continue\n",
    "        > break \n",
    "        > pass"
   ]
  },
  {
   "cell_type": "code",
   "execution_count": 1,
   "id": "f8e1b0fc-7520-411f-946a-d7b502494dd6",
   "metadata": {},
   "outputs": [
    {
     "name": "stdout",
     "output_type": "stream",
     "text": [
      "hello world\n",
      "hello world\n",
      "hello world\n",
      "hello world\n",
      "hello world\n"
     ]
    }
   ],
   "source": [
    "print(\"hello world\")\n",
    "print(\"hello world\")\n",
    "print(\"hello world\")\n",
    "print(\"hello world\")\n",
    "print(\"hello world\")"
   ]
  },
  {
   "cell_type": "raw",
   "id": "47e2c83a-ea44-4300-aeab-687d9c2ea451",
   "metadata": {},
   "source": [
    "# iterable: iterable datatype are those which contain a magic methods/ dunder methods (def __iter__()), called iterable. \n",
    "\n",
    "# range()\n",
    "\n",
    "# why we use for loop?\n",
    "\n",
    "# why we use while loop?"
   ]
  },
  {
   "cell_type": "raw",
   "id": "0f811538-7c7c-481c-b56d-d1ac1ebb8dd2",
   "metadata": {},
   "source": [
    "int \n",
    "float \n",
    "str #iterable\n",
    "list #iterable\n",
    "tuple #iterable\n",
    "set #iterable\n",
    "frozenset #iterable\n",
    "dict # iterable\n",
    "complex\n",
    "bool"
   ]
  },
  {
   "cell_type": "code",
   "execution_count": 11,
   "id": "b347ac79-e82d-4c21-bcdb-58abe4560139",
   "metadata": {},
   "outputs": [],
   "source": [
    "a=int()"
   ]
  },
  {
   "cell_type": "code",
   "execution_count": 12,
   "id": "b21ed5c9-151e-4aa1-b2e5-95564f53e86f",
   "metadata": {},
   "outputs": [
    {
     "data": {
      "text/plain": [
       "['__abs__',\n",
       " '__add__',\n",
       " '__and__',\n",
       " '__bool__',\n",
       " '__ceil__',\n",
       " '__class__',\n",
       " '__delattr__',\n",
       " '__dir__',\n",
       " '__divmod__',\n",
       " '__doc__',\n",
       " '__eq__',\n",
       " '__float__',\n",
       " '__floor__',\n",
       " '__floordiv__',\n",
       " '__format__',\n",
       " '__ge__',\n",
       " '__getattribute__',\n",
       " '__getnewargs__',\n",
       " '__getstate__',\n",
       " '__gt__',\n",
       " '__hash__',\n",
       " '__index__',\n",
       " '__init__',\n",
       " '__init_subclass__',\n",
       " '__int__',\n",
       " '__invert__',\n",
       " '__le__',\n",
       " '__lshift__',\n",
       " '__lt__',\n",
       " '__mod__',\n",
       " '__mul__',\n",
       " '__ne__',\n",
       " '__neg__',\n",
       " '__new__',\n",
       " '__or__',\n",
       " '__pos__',\n",
       " '__pow__',\n",
       " '__radd__',\n",
       " '__rand__',\n",
       " '__rdivmod__',\n",
       " '__reduce__',\n",
       " '__reduce_ex__',\n",
       " '__repr__',\n",
       " '__rfloordiv__',\n",
       " '__rlshift__',\n",
       " '__rmod__',\n",
       " '__rmul__',\n",
       " '__ror__',\n",
       " '__round__',\n",
       " '__rpow__',\n",
       " '__rrshift__',\n",
       " '__rshift__',\n",
       " '__rsub__',\n",
       " '__rtruediv__',\n",
       " '__rxor__',\n",
       " '__setattr__',\n",
       " '__sizeof__',\n",
       " '__str__',\n",
       " '__sub__',\n",
       " '__subclasshook__',\n",
       " '__truediv__',\n",
       " '__trunc__',\n",
       " '__xor__',\n",
       " 'as_integer_ratio',\n",
       " 'bit_count',\n",
       " 'bit_length',\n",
       " 'conjugate',\n",
       " 'denominator',\n",
       " 'from_bytes',\n",
       " 'imag',\n",
       " 'numerator',\n",
       " 'real',\n",
       " 'to_bytes']"
      ]
     },
     "execution_count": 12,
     "metadata": {},
     "output_type": "execute_result"
    }
   ],
   "source": [
    "dir(a)"
   ]
  },
  {
   "cell_type": "code",
   "execution_count": 13,
   "id": "b5ccfd84-5f57-4bfe-a229-66137a8771f1",
   "metadata": {},
   "outputs": [
    {
     "data": {
      "text/plain": [
       "True"
      ]
     },
     "execution_count": 13,
     "metadata": {},
     "output_type": "execute_result"
    }
   ],
   "source": [
    "1 in [1,2,3,4,5,6,7,8,9]"
   ]
  },
  {
   "cell_type": "code",
   "execution_count": 14,
   "id": "1b0bdb46-440e-4097-b906-7600e93a69dc",
   "metadata": {},
   "outputs": [
    {
     "name": "stdout",
     "output_type": "stream",
     "text": [
      "1\n",
      "2\n",
      "3\n",
      "4\n",
      "5\n",
      "6\n",
      "7\n",
      "8\n",
      "9\n"
     ]
    }
   ],
   "source": [
    "for i in [1,2,3,4,5,6,7,8,9]:\n",
    "    print(i)"
   ]
  },
  {
   "cell_type": "code",
   "execution_count": 22,
   "id": "9f590744-631b-4ddf-b1be-5bfc3c0a8e1e",
   "metadata": {},
   "outputs": [
    {
     "data": {
      "text/plain": [
       "range(1, 10, 2)"
      ]
     },
     "execution_count": 22,
     "metadata": {},
     "output_type": "execute_result"
    }
   ],
   "source": [
    "range(1,10,2)"
   ]
  },
  {
   "cell_type": "code",
   "execution_count": 23,
   "id": "4230b508-cec5-43fe-a7aa-2a6456ff5fc2",
   "metadata": {},
   "outputs": [
    {
     "name": "stdout",
     "output_type": "stream",
     "text": [
      "1\n",
      "3\n",
      "5\n",
      "7\n",
      "9\n"
     ]
    }
   ],
   "source": [
    "for i in range(1,10,2):\n",
    "    print(i)"
   ]
  },
  {
   "cell_type": "code",
   "execution_count": 25,
   "id": "bc2e6f99-c530-4143-9946-e82132c82698",
   "metadata": {},
   "outputs": [
    {
     "name": "stdout",
     "output_type": "stream",
     "text": [
      "1 Hello world\n",
      "2 Hello world\n",
      "3 Hello world\n",
      "4 Hello world\n",
      "5 Hello world\n",
      "6 Hello world\n",
      "7 Hello world\n",
      "8 Hello world\n",
      "9 Hello world\n"
     ]
    }
   ],
   "source": [
    "for i in range(1,10):\n",
    "    print(i,\"Hello world\")"
   ]
  },
  {
   "cell_type": "code",
   "execution_count": 34,
   "id": "22f89aed-1fea-49be-a992-8cb4860d4cca",
   "metadata": {},
   "outputs": [
    {
     "name": "stdout",
     "output_type": "stream",
     "text": [
      "9 Hello world *\n",
      "8 Hello world **\n",
      "7 Hello world ***\n",
      "6 Hello world ****\n",
      "5 Hello world *****\n",
      "4 Hello world ******\n",
      "3 Hello world *******\n",
      "2 Hello world ********\n",
      "1 Hello world *********\n"
     ]
    }
   ],
   "source": [
    "for i in range(9,0,-1):\n",
    "    print(i,\"Hello world\",\"*\"*(10-i))"
   ]
  },
  {
   "cell_type": "code",
   "execution_count": 47,
   "id": "d0579168-6c8c-4097-9f66-b1e851984593",
   "metadata": {},
   "outputs": [
    {
     "name": "stdin",
     "output_type": "stream",
     "text": [
      "Choose a number: 2\n"
     ]
    },
    {
     "name": "stdout",
     "output_type": "stream",
     "text": [
      "2*1=2\n",
      "2*2=4\n",
      "2*3=6\n",
      "2*4=8\n",
      "2*5=10\n",
      "2*6=12\n",
      "2*7=14\n",
      "2*8=16\n",
      "2*9=18\n",
      "2*10=20\n"
     ]
    }
   ],
   "source": [
    "num1=int(input(\"Choose a number:\"))\n",
    "for i in range(1,11):\n",
    "    print(\"{0}*{2}={1}\".format(num1,num1*i,i))"
   ]
  },
  {
   "cell_type": "code",
   "execution_count": 36,
   "id": "43f3ab88-b4ab-45b5-b18d-caff4da34556",
   "metadata": {},
   "outputs": [
    {
     "name": "stdin",
     "output_type": "stream",
     "text": [
      "Choose a number: 2\n"
     ]
    },
    {
     "name": "stdout",
     "output_type": "stream",
     "text": [
      "2\n",
      "4\n",
      "6\n",
      "8\n",
      "10\n",
      "12\n",
      "14\n",
      "16\n",
      "18\n",
      "20\n"
     ]
    }
   ],
   "source": [
    "num1=int(input(\"Choose a number:\"))\n",
    "for i in range(1,11):\n",
    "    print(num1*i)"
   ]
  },
  {
   "cell_type": "code",
   "execution_count": 41,
   "id": "dfb21a90-1c91-4f56-bb0b-fbfda70f4e7c",
   "metadata": {},
   "outputs": [
    {
     "name": "stdout",
     "output_type": "stream",
     "text": [
      "I am Arjun and 27\n"
     ]
    }
   ],
   "source": [
    "name=\"Arjun\"\n",
    "age=27\n",
    "print(\"I am {} and {}\".format(name,age))"
   ]
  },
  {
   "cell_type": "code",
   "execution_count": 43,
   "id": "7de744b7-98b2-47f6-814c-6518aa6691ee",
   "metadata": {},
   "outputs": [
    {
     "name": "stdout",
     "output_type": "stream",
     "text": [
      "I am Radha and 27\n"
     ]
    }
   ],
   "source": [
    "name=\"Radha\"\n",
    "age=27\n",
    "print(f\"I am {name} and {age}\")"
   ]
  },
  {
   "cell_type": "code",
   "execution_count": 44,
   "id": "9f18b7c4-baa1-4cd1-848d-861ffd1e684c",
   "metadata": {},
   "outputs": [
    {
     "name": "stdout",
     "output_type": "stream",
     "text": [
      "I am Sita and 21\n"
     ]
    }
   ],
   "source": [
    "name=\"Sita\"\n",
    "age=21\n",
    "print(F\"I am {name} and {age}\")"
   ]
  },
  {
   "cell_type": "code",
   "execution_count": 48,
   "id": "d2ed0994-a4e9-45d9-9df7-c9a6e7c6e9e0",
   "metadata": {},
   "outputs": [
    {
     "name": "stdout",
     "output_type": "stream",
     "text": [
      "*\n",
      "**\n",
      "***\n",
      "****\n",
      "*****\n"
     ]
    }
   ],
   "source": [
    "print(\"*\")\n",
    "print(\"**\")\n",
    "print(\"***\")\n",
    "print(\"****\")\n",
    "print(\"*****\")"
   ]
  },
  {
   "cell_type": "code",
   "execution_count": 55,
   "id": "cbcf4295-2193-4c3c-ab93-29474bfa5a28",
   "metadata": {},
   "outputs": [
    {
     "name": "stdout",
     "output_type": "stream",
     "text": [
      "*\n",
      "**\n",
      "***\n",
      "****\n",
      "*****\n"
     ]
    }
   ],
   "source": [
    "print(\"*\"*1)\n",
    "print(\"*\"*2)\n",
    "print(\"*\"*3)\n",
    "print(\"*\"*4)\n",
    "print(\"*\"*5)"
   ]
  },
  {
   "cell_type": "code",
   "execution_count": 56,
   "id": "077a783d-4d8a-4fca-9ea7-a78061344ae8",
   "metadata": {},
   "outputs": [
    {
     "name": "stdout",
     "output_type": "stream",
     "text": [
      "*\n",
      "**\n",
      "***\n",
      "****\n",
      "*****\n"
     ]
    }
   ],
   "source": [
    "for i in range(1,6):\n",
    "    print(\"*\"*i)"
   ]
  },
  {
   "cell_type": "code",
   "execution_count": 61,
   "id": "1f87f5de-e943-440a-8ad4-bd2b82e61ff2",
   "metadata": {},
   "outputs": [
    {
     "name": "stdin",
     "output_type": "stream",
     "text": [
      "Enter a number: 10\n"
     ]
    },
    {
     "name": "stdout",
     "output_type": "stream",
     "text": [
      "*\n",
      "**\n",
      "***\n",
      "****\n",
      "*****\n",
      "******\n",
      "*******\n",
      "********\n",
      "*********\n",
      "**********\n"
     ]
    }
   ],
   "source": [
    "num10=int(input(\"Enter a number:\"))\n",
    "for i in range(1,num10+1):\n",
    "    print(\"*\"*i)"
   ]
  },
  {
   "cell_type": "code",
   "execution_count": 62,
   "id": "6bd4b531-18e4-4506-a261-da25e5357185",
   "metadata": {},
   "outputs": [
    {
     "name": "stdin",
     "output_type": "stream",
     "text": [
      "Enter a number: 5\n"
     ]
    },
    {
     "name": "stdout",
     "output_type": "stream",
     "text": [
      "*\n",
      "**\n",
      "***\n",
      "****\n",
      "*****\n"
     ]
    }
   ],
   "source": [
    "num10=int(input(\"Enter a number:\"))\n",
    "for i in range(1,num10+1):\n",
    "    print(\"*\"*i)"
   ]
  },
  {
   "cell_type": "code",
   "execution_count": 66,
   "id": "cc3f1b0a-be28-4c62-92b7-f83bbfff64cc",
   "metadata": {},
   "outputs": [
    {
     "name": "stdout",
     "output_type": "stream",
     "text": [
      "    *\n",
      "   **\n",
      "  ***\n",
      " ****\n",
      "*****\n"
     ]
    }
   ],
   "source": [
    "print(\" \"*4+\"*\"*1)\n",
    "print(\" \"*3+\"*\"*2)\n",
    "print(\" \"*2+\"*\"*3)\n",
    "print(\" \"*1+\"*\"*4)\n",
    "print(\" \"*0+\"*\"*5)"
   ]
  },
  {
   "cell_type": "code",
   "execution_count": 72,
   "id": "c4cf4ed6-d6ee-4a05-8254-e114d39f0f50",
   "metadata": {},
   "outputs": [
    {
     "name": "stdout",
     "output_type": "stream",
     "text": [
      "    * \n",
      "   * * \n",
      "  * * * \n",
      " * * * * \n",
      "* * * * * \n"
     ]
    }
   ],
   "source": [
    "for i in range(5):\n",
    "    print(\" \"*(4-i)+\"* \"*(i+1))"
   ]
  },
  {
   "cell_type": "code",
   "execution_count": 74,
   "id": "4d81865c-6c4d-4bee-9b67-b979effcfdec",
   "metadata": {},
   "outputs": [
    {
     "name": "stdout",
     "output_type": "stream",
     "text": [
      "    * \n",
      "   * * \n",
      "  * * * \n",
      " * * * * \n",
      "* * * * * \n",
      " * * * * \n",
      "  * * * \n",
      "   * * \n",
      "    * \n"
     ]
    }
   ],
   "source": [
    "for i in range(9):\n",
    "    if i<=4:\n",
    "        print(\" \"*(4-i)+\"* \"*(i+1))\n",
    "    else:\n",
    "        print(\" \"*(i-4)+\"* \"*(9-i))"
   ]
  },
  {
   "cell_type": "code",
   "execution_count": 75,
   "id": "1987aca6-57ae-4367-8544-e6806d93bf59",
   "metadata": {},
   "outputs": [
    {
     "name": "stdout",
     "output_type": "stream",
     "text": [
      " * * * *\n",
      "*   *   *\n",
      " *     *\n",
      "  *   *\n",
      "   * *\n",
      "    *\n"
     ]
    }
   ],
   "source": [
    "print(\" * * * *\")\n",
    "print(\"*   *   *\")\n",
    "print(\" *     *\")\n",
    "print(\"  *   *\")\n",
    "print(\"   * *\")\n",
    "print(\"    *\")"
   ]
  },
  {
   "cell_type": "code",
   "execution_count": 76,
   "id": "f0e5717c-6e97-4393-b37c-5f27d13978ee",
   "metadata": {},
   "outputs": [],
   "source": [
    "def new(arg):\n",
    "    print(arg)\n",
    "    "
   ]
  },
  {
   "cell_type": "code",
   "execution_count": 77,
   "id": "35627c0c-62ba-41e8-901c-e171a033f447",
   "metadata": {},
   "outputs": [
    {
     "name": "stdout",
     "output_type": "stream",
     "text": [
      "krishna\n"
     ]
    }
   ],
   "source": [
    "new(\"krishna\")"
   ]
  },
  {
   "cell_type": "markdown",
   "id": "8ea2ad62-e4e6-46b6-9f8a-f20bc399ef96",
   "metadata": {},
   "source": [
    "# nest for loop for pattern creation"
   ]
  },
  {
   "cell_type": "code",
   "execution_count": 2,
   "id": "859c3931-203b-469f-bf2e-aa6c65f48035",
   "metadata": {},
   "outputs": [
    {
     "name": "stdout",
     "output_type": "stream",
     "text": [
      "*\n",
      "**\n",
      "***\n",
      "****\n",
      "*****\n"
     ]
    }
   ],
   "source": [
    "for i in range(5):\n",
    "    for j in range(i+1):\n",
    "        print(\"*\",end=\"\")\n",
    "    print()\n",
    "    "
   ]
  },
  {
   "cell_type": "code",
   "execution_count": 9,
   "id": "37cc61a0-4673-4d29-a63c-5b6f5ccb99b9",
   "metadata": {},
   "outputs": [
    {
     "name": "stdout",
     "output_type": "stream",
     "text": [
      "*\n",
      "**\n",
      "***\n",
      "****\n",
      "*****\n"
     ]
    }
   ],
   "source": [
    "for j in range(1):\n",
    "    print(\"*\",end=\"\")\n",
    "print()\n",
    "for j in range(2):\n",
    "    print(\"*\",end=\"\")\n",
    "print()\n",
    "for j in range(3):\n",
    "    print(\"*\",end=\"\")\n",
    "print()\n",
    "for j in range(4):\n",
    "    print(\"*\",end=\"\")\n",
    "print()\n",
    "for j in range(5):\n",
    "    print(\"*\",end=\"\")\n",
    "print()"
   ]
  },
  {
   "cell_type": "code",
   "execution_count": 13,
   "id": "eafab074-be49-47f2-bc4e-cd0d096ab71d",
   "metadata": {},
   "outputs": [
    {
     "name": "stdout",
     "output_type": "stream",
     "text": [
      "*\n",
      "**\n",
      "***\n",
      "****\n",
      "*****\n"
     ]
    }
   ],
   "source": [
    "for i in range(5):\n",
    "    for j in range(i+1):\n",
    "        print(\"*\",end=\"\")\n",
    "    print()"
   ]
  },
  {
   "cell_type": "markdown",
   "id": "d0ce05f8-29a1-4fc9-a88e-b65b2ad77a55",
   "metadata": {},
   "source": [
    "> list comprehension \n",
    "    \n",
    "> dictionary comprehension\n",
    "\n",
    "> set comprehension\n",
    "\n",
    "> tuple comprehension(generator object)"
   ]
  },
  {
   "cell_type": "markdown",
   "id": "3b08a271-a574-4538-9ba2-f6b201917f61",
   "metadata": {},
   "source": [
    "# list comprehension "
   ]
  },
  {
   "cell_type": "code",
   "execution_count": 15,
   "id": "304d1860-0fd3-4560-a471-0505f2c3101c",
   "metadata": {},
   "outputs": [],
   "source": [
    "a=[]\n",
    "for i in range(10):\n",
    "    a.append(i)"
   ]
  },
  {
   "cell_type": "code",
   "execution_count": 16,
   "id": "bd7aa1bd-18d3-4dcf-af9a-e03391304adb",
   "metadata": {},
   "outputs": [
    {
     "name": "stdout",
     "output_type": "stream",
     "text": [
      "[0, 1, 2, 3, 4, 5, 6, 7, 8, 9]\n"
     ]
    }
   ],
   "source": [
    "print(a)"
   ]
  },
  {
   "cell_type": "code",
   "execution_count": 17,
   "id": "e2f41aa9-1acd-492b-acfe-77125221eb52",
   "metadata": {},
   "outputs": [
    {
     "name": "stdout",
     "output_type": "stream",
     "text": [
      "[0, 1, 2, 3, 4, 5, 6, 7, 8, 9]\n"
     ]
    }
   ],
   "source": [
    "b=[i for i in range(10)]\n",
    "print(b)"
   ]
  },
  {
   "cell_type": "markdown",
   "id": "6e2e4def-ee8f-4839-81f9-2cf6d70d770f",
   "metadata": {},
   "source": [
    "# set comprehension"
   ]
  },
  {
   "cell_type": "code",
   "execution_count": 18,
   "id": "f5ce3eda-f208-4ef5-904b-9b5e06c414eb",
   "metadata": {},
   "outputs": [],
   "source": [
    "a=set()\n",
    "for i in range(10):\n",
    "    a.add(i)"
   ]
  },
  {
   "cell_type": "code",
   "execution_count": 19,
   "id": "e0ed9fc2-3f07-4ac7-a775-786275664fc3",
   "metadata": {},
   "outputs": [
    {
     "name": "stdout",
     "output_type": "stream",
     "text": [
      "{0, 1, 2, 3, 4, 5, 6, 7, 8, 9}\n"
     ]
    }
   ],
   "source": [
    "print(a)"
   ]
  },
  {
   "cell_type": "code",
   "execution_count": 21,
   "id": "3c4df7ef-b417-4e8b-9c1e-d26167d7c455",
   "metadata": {},
   "outputs": [
    {
     "name": "stdout",
     "output_type": "stream",
     "text": [
      "{0, 1, 2, 3, 4, 5, 6, 7, 8, 9}\n"
     ]
    }
   ],
   "source": [
    "b=set(i for i in range(10))\n",
    "print(b)"
   ]
  },
  {
   "cell_type": "markdown",
   "id": "041924fc-6075-4a02-85a7-a187136acb4f",
   "metadata": {},
   "source": [
    "# dictionary comprehension"
   ]
  },
  {
   "cell_type": "code",
   "execution_count": 26,
   "id": "2f15495d-936d-493e-b081-261684665a3a",
   "metadata": {},
   "outputs": [
    {
     "name": "stdout",
     "output_type": "stream",
     "text": [
      "1 krishna\n",
      "2 Mohan\n",
      "3 Sohan\n",
      "4 Moni\n",
      "5 Rahul\n"
     ]
    }
   ],
   "source": [
    "a=[1,2,3,4,5]\n",
    "b=[\"krishna\",\"Mohan\",\"Sohan\",\"Moni\",\"Rahul\"]\n",
    "c={}\n",
    "for i,j in zip(a,b):\n",
    "    print(i,j)"
   ]
  },
  {
   "cell_type": "code",
   "execution_count": 29,
   "id": "a53b5805-394f-461a-84da-5b2c068e0b5e",
   "metadata": {},
   "outputs": [],
   "source": [
    "a=[1,2,3,4,5]\n",
    "b=[\"krishna\",\"Mohan\",\"Sohan\",\"Moni\",\"Rahul\"]\n",
    "c={}\n",
    "for i,j in zip(a,b):\n",
    "    c.update({i:j})"
   ]
  },
  {
   "cell_type": "code",
   "execution_count": 30,
   "id": "5e6b3af9-a455-485f-99b4-c695c8933d98",
   "metadata": {},
   "outputs": [
    {
     "name": "stdout",
     "output_type": "stream",
     "text": [
      "{1: 'krishna', 2: 'Mohan', 3: 'Sohan', 4: 'Moni', 5: 'Rahul'}\n"
     ]
    }
   ],
   "source": [
    "print(c)"
   ]
  },
  {
   "cell_type": "code",
   "execution_count": 33,
   "id": "f4af6896-5820-4eda-8f65-926990efdee8",
   "metadata": {},
   "outputs": [
    {
     "name": "stdout",
     "output_type": "stream",
     "text": [
      "{1: 'krishna', 2: 'Mohan', 3: 'Sohan', 4: 'Moni', 5: 'Rahul'}\n"
     ]
    }
   ],
   "source": [
    "a=[1,2,3,4,5]\n",
    "b=[\"krishna\",\"Mohan\",\"Sohan\",\"Moni\",\"Rahul\"]\n",
    "d={i:j for i,j in zip(a,b)}\n",
    "print(d)"
   ]
  },
  {
   "cell_type": "markdown",
   "id": "829166f5-186d-4721-b78d-c9d0fa6ad3ae",
   "metadata": {},
   "source": [
    "# tuple comprehension which will return a generator object"
   ]
  },
  {
   "cell_type": "code",
   "execution_count": 9,
   "id": "d42cb23a-f877-437a-ac67-5cd4f3f74945",
   "metadata": {},
   "outputs": [
    {
     "name": "stdout",
     "output_type": "stream",
     "text": [
      "(0, 1, 2, 3, 4, 5, 6, 7, 8, 9)\n"
     ]
    }
   ],
   "source": [
    "a=()\n",
    "for i in range(10):\n",
    "    a=a+(i,)\n",
    "print(a)"
   ]
  },
  {
   "cell_type": "code",
   "execution_count": 39,
   "id": "a1019769-2429-4554-8ac6-8e9a83bdea50",
   "metadata": {},
   "outputs": [],
   "source": [
    "b=(i for i in range(10))"
   ]
  },
  {
   "cell_type": "code",
   "execution_count": 40,
   "id": "77156494-6e72-445a-b8d4-6181c1a431ad",
   "metadata": {},
   "outputs": [
    {
     "name": "stdout",
     "output_type": "stream",
     "text": [
      "<generator object <genexpr> at 0x000002608525A740>\n"
     ]
    }
   ],
   "source": [
    "print(b)"
   ]
  },
  {
   "cell_type": "markdown",
   "id": "95ab6276-7afc-4177-9b47-c6648316a8a5",
   "metadata": {},
   "source": [
    "# while loop\n",
    "        \n",
    "        > nested while loop\n",
    "       \n",
    "        > pattern using single loop\n",
    "        \n",
    "        > pattern using nested loop"
   ]
  },
  {
   "cell_type": "raw",
   "id": "7e67602a-6006-4802-b8f4-f24a288922f0",
   "metadata": {},
   "source": [
    "initializer\n",
    "while condition:\n",
    "    statement(s)\n",
    "    increment/decrement"
   ]
  },
  {
   "cell_type": "code",
   "execution_count": 12,
   "id": "49253f0b-1697-44e3-983b-179fd4ca6a12",
   "metadata": {},
   "outputs": [
    {
     "name": "stdout",
     "output_type": "stream",
     "text": [
      "5 hello world\n",
      "4 hello world\n",
      "3 hello world\n",
      "2 hello world\n",
      "1 hello world\n"
     ]
    }
   ],
   "source": [
    "i=1\n",
    "while i<=5:\n",
    "    print(6-i,\"hello world\")\n",
    "    i=i+1    # i+=1\n"
   ]
  },
  {
   "cell_type": "code",
   "execution_count": 13,
   "id": "b43eabe0-7e7c-4eb1-87cd-d6093a7ffd8e",
   "metadata": {},
   "outputs": [
    {
     "name": "stdin",
     "output_type": "stream",
     "text": [
      "Enter you mobile number: 8700103696\n",
      "Enter you mobile number: 9068094705\n",
      "Enter you mobile number: 9807318836\n",
      "Enter you mobile number: 7339864321\n",
      "Enter you mobile number: 8881345100\n"
     ]
    }
   ],
   "source": [
    "a=[]\n",
    "i=1\n",
    "while i<=5:\n",
    "    user=input(\"Enter you mobile number:\")\n",
    "    a.append(user)\n",
    "    i=i+1 "
   ]
  },
  {
   "cell_type": "code",
   "execution_count": 14,
   "id": "b65176b9-0112-4b8d-8e88-840ff50e7ef6",
   "metadata": {},
   "outputs": [
    {
     "name": "stdout",
     "output_type": "stream",
     "text": [
      "['8700103696', '9068094705', '9807318836', '7339864321', '8881345100']\n"
     ]
    }
   ],
   "source": [
    "print(a)"
   ]
  },
  {
   "cell_type": "code",
   "execution_count": 16,
   "id": "7f94000b-f39a-41c8-b498-63405996fa08",
   "metadata": {},
   "outputs": [
    {
     "name": "stdout",
     "output_type": "stream",
     "text": [
      "1\n",
      "2\n",
      "3\n",
      "4\n",
      "5\n",
      "3\n",
      "4\n",
      "5\n",
      "6\n",
      "7\n",
      "78\n"
     ]
    }
   ],
   "source": [
    "a=[1,2,3,4,5,3,4,5,6,7,78]\n",
    "for i in a:\n",
    "    print(i)"
   ]
  },
  {
   "cell_type": "markdown",
   "id": "47123ba8-66eb-4e49-afe5-6c94a6afbb30",
   "metadata": {},
   "source": [
    "> frozenset comprehension\n",
    " \n",
    "> continue\n",
    "\n",
    "> break\n",
    "\n",
    "> pass"
   ]
  },
  {
   "cell_type": "code",
   "execution_count": 1,
   "id": "ef656c5c-3c05-4b20-aeea-7fd53f64e96a",
   "metadata": {},
   "outputs": [],
   "source": [
    "a=set()  # mutable set"
   ]
  },
  {
   "cell_type": "code",
   "execution_count": 2,
   "id": "e316eccb-72fc-4219-9c7d-6fe6ba75fdac",
   "metadata": {},
   "outputs": [],
   "source": [
    "a.add(1)"
   ]
  },
  {
   "cell_type": "code",
   "execution_count": 3,
   "id": "7ef2b273-e719-4f99-a8cf-1246c012efb7",
   "metadata": {},
   "outputs": [
    {
     "name": "stdout",
     "output_type": "stream",
     "text": [
      "{1}\n"
     ]
    }
   ],
   "source": [
    "print(a)"
   ]
  },
  {
   "cell_type": "code",
   "execution_count": 5,
   "id": "4bae9f77-4c24-4408-bc5d-47e6ca45a36f",
   "metadata": {},
   "outputs": [],
   "source": [
    "b=frozenset()   #immutable frozenset"
   ]
  },
  {
   "cell_type": "code",
   "execution_count": 7,
   "id": "3ba5e28c-fe1e-408c-bcac-de0842af012a",
   "metadata": {},
   "outputs": [
    {
     "ename": "TypeError",
     "evalue": "unsupported operand type(s) for +: 'frozenset' and 'frozenset'",
     "output_type": "error",
     "traceback": [
      "\u001b[1;31m---------------------------------------------------------------------------\u001b[0m",
      "\u001b[1;31mTypeError\u001b[0m                                 Traceback (most recent call last)",
      "Cell \u001b[1;32mIn[7], line 1\u001b[0m\n\u001b[1;32m----> 1\u001b[0m \u001b[43mb\u001b[49m\u001b[38;5;241;43m+\u001b[39;49m\u001b[38;5;28;43mfrozenset\u001b[39;49m\u001b[43m(\u001b[49m\u001b[43m{\u001b[49m\u001b[38;5;241;43m1\u001b[39;49m\u001b[43m}\u001b[49m\u001b[43m)\u001b[49m\n",
      "\u001b[1;31mTypeError\u001b[0m: unsupported operand type(s) for +: 'frozenset' and 'frozenset'"
     ]
    }
   ],
   "source": [
    "b+frozenset({1})"
   ]
  },
  {
   "cell_type": "code",
   "execution_count": 10,
   "id": "78b7dc0d-2c1c-4086-8650-5e4e3df12ac4",
   "metadata": {},
   "outputs": [],
   "source": [
    "b=b.union(frozenset({1}))"
   ]
  },
  {
   "cell_type": "code",
   "execution_count": 11,
   "id": "e383f281-f147-4a2e-b540-1d1ded04f785",
   "metadata": {},
   "outputs": [
    {
     "name": "stdout",
     "output_type": "stream",
     "text": [
      "frozenset({1})\n"
     ]
    }
   ],
   "source": [
    "print(b)"
   ]
  },
  {
   "cell_type": "code",
   "execution_count": 14,
   "id": "8d44ffd2-71ef-40ee-9d14-9f6434b7da1c",
   "metadata": {},
   "outputs": [
    {
     "name": "stdout",
     "output_type": "stream",
     "text": [
      "frozenset({0, 1, 2, 3, 4, 5, 6, 7, 8, 9})\n"
     ]
    }
   ],
   "source": [
    "b=frozenset()\n",
    "for i in range(10):\n",
    "    b=b.union(frozenset({i}))\n",
    "print(b)"
   ]
  },
  {
   "cell_type": "code",
   "execution_count": 15,
   "id": "5f40a2b1-acf5-4837-90cc-7396f584efef",
   "metadata": {},
   "outputs": [
    {
     "name": "stdout",
     "output_type": "stream",
     "text": [
      "frozenset({0, 1, 2, 3, 4, 5, 6, 7, 8, 9})\n"
     ]
    }
   ],
   "source": [
    "c=frozenset({i for i in range(10)})\n",
    "print(c)"
   ]
  },
  {
   "cell_type": "markdown",
   "id": "85b9068b-8f4d-48ee-accd-549b908e2833",
   "metadata": {},
   "source": [
    "> continue and break always use inside a loop(for loop and while loop)"
   ]
  },
  {
   "cell_type": "code",
   "execution_count": 16,
   "id": "6d8557b9-963b-40f8-9292-7be2d69c2315",
   "metadata": {},
   "outputs": [
    {
     "name": "stdout",
     "output_type": "stream",
     "text": [
      "0 hello world\n",
      "1 hello world\n",
      "2 hello world\n",
      "3 hello world\n",
      "4 hello world\n"
     ]
    }
   ],
   "source": [
    "for i in range(5):\n",
    "    print(i,\"hello world\")"
   ]
  },
  {
   "cell_type": "code",
   "execution_count": 17,
   "id": "cc39e650-69b2-472d-a223-a43c7f507615",
   "metadata": {},
   "outputs": [
    {
     "name": "stdout",
     "output_type": "stream",
     "text": [
      "0 hello world\n",
      "1 hello world\n",
      "2 hello world\n",
      "4 hello world\n"
     ]
    }
   ],
   "source": [
    "for i in range(5):\n",
    "    if i==3:\n",
    "        continue\n",
    "    print(i,\"hello world\")"
   ]
  },
  {
   "cell_type": "code",
   "execution_count": 18,
   "id": "9081bf05-23dc-4fcf-87a7-adab97b28b18",
   "metadata": {},
   "outputs": [
    {
     "name": "stdout",
     "output_type": "stream",
     "text": [
      "0 hello world\n",
      "1 hello world\n",
      "2 hello world\n",
      "3 hello world\n",
      "4 hello world\n"
     ]
    }
   ],
   "source": [
    "for i in range(5):\n",
    "    print(i,\"hello world\")\n",
    "    if i==3:\n",
    "        continue\n",
    "    "
   ]
  },
  {
   "cell_type": "code",
   "execution_count": 19,
   "id": "104208b3-7cb2-4cd1-9818-c2e0cd28e8ed",
   "metadata": {},
   "outputs": [
    {
     "name": "stdout",
     "output_type": "stream",
     "text": [
      "0 hello world\n",
      "1 hello world\n",
      "2 hello world\n"
     ]
    }
   ],
   "source": [
    "for i in range(5):\n",
    "    if i==3:\n",
    "        break\n",
    "    print(i,\"hello world\")"
   ]
  },
  {
   "cell_type": "code",
   "execution_count": 20,
   "id": "a49029d0-e790-43ef-aa82-4b0c38fa2651",
   "metadata": {},
   "outputs": [
    {
     "name": "stdout",
     "output_type": "stream",
     "text": [
      "0 hello world\n",
      "2 hello world\n",
      "4 hello world\n"
     ]
    }
   ],
   "source": [
    "for i in range(5):\n",
    "    if i==3 or i==1:\n",
    "        continue\n",
    "    print(i,\"hello world\")"
   ]
  },
  {
   "cell_type": "code",
   "execution_count": 26,
   "id": "61f7628e-3ae8-4bd3-92d4-6a68f88d2637",
   "metadata": {},
   "outputs": [
    {
     "name": "stdout",
     "output_type": "stream",
     "text": [
      "Hello world\n"
     ]
    }
   ],
   "source": [
    "for i in range(5):\n",
    "    pass\n",
    "print(\"Hello world\")"
   ]
  },
  {
   "cell_type": "code",
   "execution_count": 34,
   "id": "49a4f1cd-92fd-44ce-8978-d8518dac7b8a",
   "metadata": {},
   "outputs": [
    {
     "name": "stdout",
     "output_type": "stream",
     "text": [
      "I am Rohan\n",
      "I am krishna\n"
     ]
    }
   ],
   "source": [
    "if \"Ramu\"!=\"Ramu\":\n",
    "    pass\n",
    "else:\n",
    "    print(\"I am Rohan\")\n",
    "\n",
    "\n",
    "print(\"I am krishna\")"
   ]
  },
  {
   "cell_type": "markdown",
   "id": "034908c6-4d8b-4e9e-bc61-f75a4619ce71",
   "metadata": {},
   "source": [
    "# while loop  \n",
    "\n",
    "> single while loop\n",
    "\n",
    "    > pattern\n",
    "\n",
    "> continue\n",
    "\n",
    "> break \n",
    "\n",
    "> pass \n",
    "\n",
    "> nested while loop\n",
    "\n",
    "    >pattern"
   ]
  },
  {
   "cell_type": "code",
   "execution_count": 36,
   "id": "1d05e1e7-552c-4ef9-8a60-cec866a06687",
   "metadata": {},
   "outputs": [
    {
     "name": "stdout",
     "output_type": "stream",
     "text": [
      "1 hello world\n",
      "2 hello world\n",
      "3 hello world\n",
      "4 hello world\n"
     ]
    }
   ],
   "source": [
    "i=1\n",
    "while i<5:\n",
    "    print(i,\"hello world\")\n",
    "    i=i+1"
   ]
  },
  {
   "cell_type": "code",
   "execution_count": 38,
   "id": "8146ed43-312a-4c3d-92f5-c3c57261e35d",
   "metadata": {},
   "outputs": [
    {
     "name": "stdout",
     "output_type": "stream",
     "text": [
      "1 hello world\n",
      "2 hello world\n",
      "4 hello world\n"
     ]
    }
   ],
   "source": [
    "i=1\n",
    "while i<5:\n",
    "    if i==3:\n",
    "        i=i+1\n",
    "        continue\n",
    "    print(i,\"hello world\")\n",
    "    i+=1"
   ]
  },
  {
   "cell_type": "code",
   "execution_count": 41,
   "id": "7c749425-5430-4b07-b16d-b49f4444ee5a",
   "metadata": {},
   "outputs": [
    {
     "name": "stdout",
     "output_type": "stream",
     "text": [
      "1 hello world\n",
      "2 hello world\n",
      "4 hello world\n"
     ]
    }
   ],
   "source": [
    "i=1\n",
    "while i<5:\n",
    "    if i==3:\n",
    "        i=i+1\n",
    "        continue\n",
    "    print(i,\"hello world\")\n",
    "    i = i + 1"
   ]
  },
  {
   "cell_type": "code",
   "execution_count": 42,
   "id": "13b944cc-bee6-48ce-912c-3c7ad68d61f4",
   "metadata": {},
   "outputs": [
    {
     "name": "stdout",
     "output_type": "stream",
     "text": [
      "1 hello world\n",
      "2 hello world\n"
     ]
    }
   ],
   "source": [
    "i=1\n",
    "while i<5:\n",
    "    if i==3:\n",
    "        break\n",
    "    print(i,\"hello world\")\n",
    "    i = i + 1"
   ]
  },
  {
   "cell_type": "code",
   "execution_count": 45,
   "id": "5c2d16de-684b-4761-b2b8-8e882d251773",
   "metadata": {},
   "outputs": [
    {
     "ename": "SyntaxError",
     "evalue": "incomplete input (2431695946.py, line 2)",
     "output_type": "error",
     "traceback": [
      "\u001b[1;36m  Cell \u001b[1;32mIn[45], line 2\u001b[1;36m\u001b[0m\n\u001b[1;33m    while i<5:\u001b[0m\n\u001b[1;37m              ^\u001b[0m\n\u001b[1;31mSyntaxError\u001b[0m\u001b[1;31m:\u001b[0m incomplete input\n"
     ]
    }
   ],
   "source": [
    "i=1\n",
    "while i<5:\n"
   ]
  },
  {
   "cell_type": "code",
   "execution_count": 52,
   "id": "4b4b61e3-dcd6-4785-ad1b-d2bb929ce7fa",
   "metadata": {},
   "outputs": [
    {
     "name": "stdout",
     "output_type": "stream",
     "text": [
      "hello\n"
     ]
    }
   ],
   "source": [
    "i=5\n",
    "while i<5:\n",
    "    print(\"I am blocked statment\")\n",
    "print(\"hello\")"
   ]
  },
  {
   "cell_type": "code",
   "execution_count": 53,
   "id": "14ba7d06-5140-4b80-98fc-f34a1d4547c9",
   "metadata": {},
   "outputs": [
    {
     "name": "stdout",
     "output_type": "stream",
     "text": [
      "hello\n"
     ]
    }
   ],
   "source": [
    "i=5\n",
    "while i<5:\n",
    "    pass\n",
    "print(\"hello\")"
   ]
  },
  {
   "cell_type": "code",
   "execution_count": null,
   "id": "51ba335a-a952-449b-b6c5-67a91f3ba2d8",
   "metadata": {},
   "outputs": [],
   "source": []
  }
 ],
 "metadata": {
  "kernelspec": {
   "display_name": "Python 3 (ipykernel)",
   "language": "python",
   "name": "python3"
  },
  "language_info": {
   "codemirror_mode": {
    "name": "ipython",
    "version": 3
   },
   "file_extension": ".py",
   "mimetype": "text/x-python",
   "name": "python",
   "nbconvert_exporter": "python",
   "pygments_lexer": "ipython3",
   "version": "3.11.4"
  }
 },
 "nbformat": 4,
 "nbformat_minor": 5
}
