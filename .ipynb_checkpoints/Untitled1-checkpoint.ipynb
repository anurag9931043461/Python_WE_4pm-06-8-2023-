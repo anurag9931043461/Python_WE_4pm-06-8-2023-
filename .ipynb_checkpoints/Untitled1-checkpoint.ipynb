{
 "cells": [
  {
   "cell_type": "markdown",
   "id": "d0cd900e-89f5-4c89-940c-92b92209e9db",
   "metadata": {},
   "source": [
    "# operator:\n",
    "\n",
    "> Arithmetic operator +,-,*,/,//, * *, %\n",
    "\n",
    "> Assignment operator =,+=,-=,*=,/=,//=,**=,%=\n",
    "\n",
    "> Comparision operator >,<,>=,<=,==,!=\n",
    "\n",
    "> Identity operator:  is , is not\n",
    "\n",
    "> Membership operator: in , not in\n",
    "\n",
    "> Logical operator : and, or, not\n",
    "\n",
    "> Bitwise operator : ~,&,|,>>,<<"
   ]
  },
  {
   "cell_type": "markdown",
   "id": "d8599a03-a1f1-49f0-8ae6-385a9052e721",
   "metadata": {},
   "source": [
    "# Arithmetic operator"
   ]
  },
  {
   "cell_type": "code",
   "execution_count": 13,
   "id": "9b025ab8-4d33-4d77-a927-f4c2ec334058",
   "metadata": {},
   "outputs": [],
   "source": [
    "a=10\n",
    "b=20"
   ]
  },
  {
   "cell_type": "code",
   "execution_count": 14,
   "id": "63f382f6-19bd-491e-abda-fd8daaed0cf0",
   "metadata": {},
   "outputs": [
    {
     "name": "stdout",
     "output_type": "stream",
     "text": [
      "30\n"
     ]
    }
   ],
   "source": [
    "print(a+b)"
   ]
  },
  {
   "cell_type": "code",
   "execution_count": 15,
   "id": "93474dd1-b0a6-4d1a-899d-8e0544d833fb",
   "metadata": {},
   "outputs": [
    {
     "name": "stdout",
     "output_type": "stream",
     "text": [
      "-10\n"
     ]
    }
   ],
   "source": [
    "print(a-b)"
   ]
  },
  {
   "cell_type": "code",
   "execution_count": 16,
   "id": "308fe560-cdf1-4555-90e0-62b3dbe129a9",
   "metadata": {},
   "outputs": [
    {
     "name": "stdout",
     "output_type": "stream",
     "text": [
      "200\n"
     ]
    }
   ],
   "source": [
    "print(a*b)"
   ]
  },
  {
   "cell_type": "code",
   "execution_count": 17,
   "id": "f691f8bb-d3fb-439d-8bd2-4ba94fc795cf",
   "metadata": {},
   "outputs": [
    {
     "name": "stdout",
     "output_type": "stream",
     "text": [
      "0.5\n"
     ]
    }
   ],
   "source": [
    "print(a/b)"
   ]
  },
  {
   "cell_type": "code",
   "execution_count": 18,
   "id": "61d5fa5b-fb54-4bf0-885d-feb67811b2ea",
   "metadata": {},
   "outputs": [
    {
     "name": "stdout",
     "output_type": "stream",
     "text": [
      "2.0\n"
     ]
    }
   ],
   "source": [
    "print(b/a)"
   ]
  },
  {
   "cell_type": "code",
   "execution_count": 19,
   "id": "54d00316-2727-4f25-a9cc-8c92c9f84738",
   "metadata": {},
   "outputs": [
    {
     "data": {
      "text/plain": [
       "3"
      ]
     },
     "execution_count": 19,
     "metadata": {},
     "output_type": "execute_result"
    }
   ],
   "source": [
    "10//3"
   ]
  },
  {
   "cell_type": "code",
   "execution_count": 20,
   "id": "e74b872b-31e5-4dee-91ae-e5fecdbe8d15",
   "metadata": {},
   "outputs": [
    {
     "data": {
      "text/plain": [
       "3.3333333333333335"
      ]
     },
     "execution_count": 20,
     "metadata": {},
     "output_type": "execute_result"
    }
   ],
   "source": [
    "10/3"
   ]
  },
  {
   "cell_type": "code",
   "execution_count": 22,
   "id": "d5b3f122-c722-4b26-98e2-007808673d87",
   "metadata": {},
   "outputs": [
    {
     "data": {
      "text/plain": [
       "3.0"
      ]
     },
     "execution_count": 22,
     "metadata": {},
     "output_type": "execute_result"
    }
   ],
   "source": [
    "10.0//3"
   ]
  },
  {
   "cell_type": "code",
   "execution_count": 23,
   "id": "f0a7786e-7e3e-4d2d-913b-7eafa79ab1a4",
   "metadata": {},
   "outputs": [
    {
     "data": {
      "text/plain": [
       "1000"
      ]
     },
     "execution_count": 23,
     "metadata": {},
     "output_type": "execute_result"
    }
   ],
   "source": [
    "10**3"
   ]
  },
  {
   "cell_type": "code",
   "execution_count": 24,
   "id": "744e6fcc-b30a-4bb6-ba07-f712b6809611",
   "metadata": {},
   "outputs": [
    {
     "data": {
      "text/plain": [
       "10000000000"
      ]
     },
     "execution_count": 24,
     "metadata": {},
     "output_type": "execute_result"
    }
   ],
   "source": [
    "10**10"
   ]
  },
  {
   "cell_type": "code",
   "execution_count": 27,
   "id": "19127876-8b79-4de2-a9e2-848d4e445d91",
   "metadata": {},
   "outputs": [
    {
     "data": {
      "text/plain": [
       "1"
      ]
     },
     "execution_count": 27,
     "metadata": {},
     "output_type": "execute_result"
    }
   ],
   "source": [
    "10%3"
   ]
  },
  {
   "cell_type": "code",
   "execution_count": 30,
   "id": "8b399799-b574-4919-ba6a-e29d47c15b2b",
   "metadata": {},
   "outputs": [
    {
     "name": "stdin",
     "output_type": "stream",
     "text": [
      "enter a number:  10\n"
     ]
    }
   ],
   "source": [
    "a=int(input(\"enter a number: \"))"
   ]
  },
  {
   "cell_type": "markdown",
   "id": "46be329f-fe19-4f74-8dce-332dd16247ef",
   "metadata": {},
   "source": [
    "> Assignment operator =,+=,-=,*=,/=,//=,**=,%="
   ]
  },
  {
   "cell_type": "code",
   "execution_count": 36,
   "id": "47a43f03-73e6-4483-b36f-e8f9d985de62",
   "metadata": {},
   "outputs": [],
   "source": [
    "ss=10"
   ]
  },
  {
   "cell_type": "code",
   "execution_count": 37,
   "id": "c209f3db-3ff1-4111-9845-bbd24459c95f",
   "metadata": {},
   "outputs": [
    {
     "name": "stdout",
     "output_type": "stream",
     "text": [
      "10\n"
     ]
    }
   ],
   "source": [
    "print(ss)"
   ]
  },
  {
   "cell_type": "code",
   "execution_count": 39,
   "id": "43f1747b-98d8-4c32-8128-10dc7695c1da",
   "metadata": {},
   "outputs": [],
   "source": [
    "ss=ss+1"
   ]
  },
  {
   "cell_type": "code",
   "execution_count": 40,
   "id": "bc836261-32f7-4b7b-97da-8de8f254a8ce",
   "metadata": {},
   "outputs": [
    {
     "data": {
      "text/plain": [
       "11"
      ]
     },
     "execution_count": 40,
     "metadata": {},
     "output_type": "execute_result"
    }
   ],
   "source": [
    "ss"
   ]
  },
  {
   "cell_type": "code",
   "execution_count": 45,
   "id": "8f0b2fb3-c488-48b3-adcc-259f5cc8fd88",
   "metadata": {},
   "outputs": [],
   "source": [
    "ss+=10         #ss=ss+10"
   ]
  },
  {
   "cell_type": "code",
   "execution_count": 46,
   "id": "066a7eb3-5f4a-401c-93f2-b8ab81d89075",
   "metadata": {},
   "outputs": [
    {
     "data": {
      "text/plain": [
       "41"
      ]
     },
     "execution_count": 46,
     "metadata": {},
     "output_type": "execute_result"
    }
   ],
   "source": [
    "ss"
   ]
  },
  {
   "cell_type": "code",
   "execution_count": 51,
   "id": "fb028ce8-4421-4390-87e4-ca25d6714230",
   "metadata": {},
   "outputs": [],
   "source": [
    "ss-=10      #ss=ss-10"
   ]
  },
  {
   "cell_type": "code",
   "execution_count": 52,
   "id": "e84e1782-338f-4b13-af94-77c4d70092b6",
   "metadata": {},
   "outputs": [
    {
     "data": {
      "text/plain": [
       "21"
      ]
     },
     "execution_count": 52,
     "metadata": {},
     "output_type": "execute_result"
    }
   ],
   "source": [
    "ss"
   ]
  },
  {
   "cell_type": "code",
   "execution_count": 53,
   "id": "ef7141ae-e99f-47b9-a9f6-c2a2b54a8c8b",
   "metadata": {},
   "outputs": [],
   "source": [
    "ss*=2           #ss=ss*2"
   ]
  },
  {
   "cell_type": "code",
   "execution_count": 54,
   "id": "19bfe977-cf78-4784-97d0-bd37f4f62c16",
   "metadata": {},
   "outputs": [
    {
     "data": {
      "text/plain": [
       "42"
      ]
     },
     "execution_count": 54,
     "metadata": {},
     "output_type": "execute_result"
    }
   ],
   "source": [
    "ss"
   ]
  },
  {
   "cell_type": "code",
   "execution_count": 56,
   "id": "573692d5-bf0d-4ba8-8c9b-b9e0d182cd78",
   "metadata": {},
   "outputs": [],
   "source": [
    "ss/=3            #ss=ss/3"
   ]
  },
  {
   "cell_type": "code",
   "execution_count": 58,
   "id": "05d073c8-145e-4b87-b8a2-d987bb33f3b9",
   "metadata": {},
   "outputs": [],
   "source": [
    "ss=int(ss)"
   ]
  },
  {
   "cell_type": "code",
   "execution_count": 59,
   "id": "879495d8-e835-4dd8-af7e-c813c541e80f",
   "metadata": {},
   "outputs": [
    {
     "data": {
      "text/plain": [
       "14"
      ]
     },
     "execution_count": 59,
     "metadata": {},
     "output_type": "execute_result"
    }
   ],
   "source": [
    "ss"
   ]
  },
  {
   "cell_type": "code",
   "execution_count": 61,
   "id": "ef20358f-7d52-4305-a08d-3bcf041e6346",
   "metadata": {},
   "outputs": [],
   "source": [
    "ss=ss**2"
   ]
  },
  {
   "cell_type": "code",
   "execution_count": 62,
   "id": "60ed075c-774e-4f4e-8e50-cd2a35b314bd",
   "metadata": {},
   "outputs": [
    {
     "data": {
      "text/plain": [
       "196"
      ]
     },
     "execution_count": 62,
     "metadata": {},
     "output_type": "execute_result"
    }
   ],
   "source": [
    "ss"
   ]
  },
  {
   "cell_type": "code",
   "execution_count": 63,
   "id": "6d4a0351-1a5d-4b10-b2ed-d21eacf26aa1",
   "metadata": {},
   "outputs": [],
   "source": [
    "ss-=96"
   ]
  },
  {
   "cell_type": "code",
   "execution_count": 64,
   "id": "00511ca5-3b0a-4936-bf2b-623b857f949b",
   "metadata": {},
   "outputs": [
    {
     "data": {
      "text/plain": [
       "100"
      ]
     },
     "execution_count": 64,
     "metadata": {},
     "output_type": "execute_result"
    }
   ],
   "source": [
    "ss"
   ]
  },
  {
   "cell_type": "code",
   "execution_count": 65,
   "id": "e71713ce-5d79-41b9-ae74-163af1fbe879",
   "metadata": {},
   "outputs": [],
   "source": [
    "ss=ss**2"
   ]
  },
  {
   "cell_type": "code",
   "execution_count": 66,
   "id": "edd7fbfb-07af-4188-9449-cff33b9d944b",
   "metadata": {},
   "outputs": [
    {
     "data": {
      "text/plain": [
       "10000"
      ]
     },
     "execution_count": 66,
     "metadata": {},
     "output_type": "execute_result"
    }
   ],
   "source": [
    "ss"
   ]
  },
  {
   "cell_type": "code",
   "execution_count": 67,
   "id": "545c148e-c0fa-4536-8a76-ff63526f34c8",
   "metadata": {},
   "outputs": [],
   "source": [
    "ss%=2"
   ]
  },
  {
   "cell_type": "code",
   "execution_count": 68,
   "id": "2022065e-2a5d-40cb-b673-46584a67de2f",
   "metadata": {},
   "outputs": [
    {
     "name": "stdout",
     "output_type": "stream",
     "text": [
      "0\n"
     ]
    }
   ],
   "source": [
    "print(ss)"
   ]
  },
  {
   "cell_type": "markdown",
   "id": "0b0d0022-9ad3-42b8-8b1f-5eb7d90c31ec",
   "metadata": {},
   "source": [
    "# > Comparision operator >,<,>=,<=,==,!="
   ]
  },
  {
   "cell_type": "code",
   "execution_count": 69,
   "id": "ed729a01-8c01-48e7-8c40-7626a7714551",
   "metadata": {},
   "outputs": [
    {
     "data": {
      "text/plain": [
       "False"
      ]
     },
     "execution_count": 69,
     "metadata": {},
     "output_type": "execute_result"
    }
   ],
   "source": [
    "10>10"
   ]
  },
  {
   "cell_type": "code",
   "execution_count": 70,
   "id": "50a2f890-2dbd-4f2f-8a1c-603657ef9c4e",
   "metadata": {},
   "outputs": [
    {
     "data": {
      "text/plain": [
       "False"
      ]
     },
     "execution_count": 70,
     "metadata": {},
     "output_type": "execute_result"
    }
   ],
   "source": [
    "10<10"
   ]
  },
  {
   "cell_type": "code",
   "execution_count": 71,
   "id": "258596c6-f4da-4038-a80d-be1f88098216",
   "metadata": {},
   "outputs": [
    {
     "data": {
      "text/plain": [
       "True"
      ]
     },
     "execution_count": 71,
     "metadata": {},
     "output_type": "execute_result"
    }
   ],
   "source": [
    "10>=10"
   ]
  },
  {
   "cell_type": "code",
   "execution_count": 72,
   "id": "c8d4570b-6520-4840-87f2-0d7ca994b1c3",
   "metadata": {},
   "outputs": [
    {
     "data": {
      "text/plain": [
       "True"
      ]
     },
     "execution_count": 72,
     "metadata": {},
     "output_type": "execute_result"
    }
   ],
   "source": [
    "10<=10"
   ]
  },
  {
   "cell_type": "code",
   "execution_count": 73,
   "id": "21174046-f6c3-4c9d-b55d-0e98be4da37b",
   "metadata": {},
   "outputs": [
    {
     "data": {
      "text/plain": [
       "False"
      ]
     },
     "execution_count": 73,
     "metadata": {},
     "output_type": "execute_result"
    }
   ],
   "source": [
    "10!=10"
   ]
  },
  {
   "cell_type": "code",
   "execution_count": 74,
   "id": "286106af-da79-438c-9cb9-bc947fb66c7d",
   "metadata": {},
   "outputs": [
    {
     "data": {
      "text/plain": [
       "True"
      ]
     },
     "execution_count": 74,
     "metadata": {},
     "output_type": "execute_result"
    }
   ],
   "source": [
    "10==10"
   ]
  },
  {
   "cell_type": "markdown",
   "id": "3229d9d1-7dd9-4cab-84bb-923d16d9f7b7",
   "metadata": {},
   "source": [
    "# > Identity operator:  is , is not"
   ]
  },
  {
   "cell_type": "code",
   "execution_count": 75,
   "id": "37d3ffce-1d44-4421-99aa-62944b999e14",
   "metadata": {},
   "outputs": [
    {
     "name": "stderr",
     "output_type": "stream",
     "text": [
      "<>:1: SyntaxWarning: \"is\" with a literal. Did you mean \"==\"?\n",
      "<>:1: SyntaxWarning: \"is\" with a literal. Did you mean \"==\"?\n",
      "C:\\Users\\Ducat\\AppData\\Local\\Temp\\ipykernel_1420\\3585426024.py:1: SyntaxWarning: \"is\" with a literal. Did you mean \"==\"?\n",
      "  \"python\" is \"python\"\n"
     ]
    },
    {
     "data": {
      "text/plain": [
       "True"
      ]
     },
     "execution_count": 75,
     "metadata": {},
     "output_type": "execute_result"
    }
   ],
   "source": [
    "\"python\" is \"python\""
   ]
  },
  {
   "cell_type": "code",
   "execution_count": 76,
   "id": "7dd5498e-f59b-4170-8ffb-2e39abc1f137",
   "metadata": {},
   "outputs": [
    {
     "data": {
      "text/plain": [
       "True"
      ]
     },
     "execution_count": 76,
     "metadata": {},
     "output_type": "execute_result"
    }
   ],
   "source": [
    "\"python\" ==\"python\""
   ]
  },
  {
   "cell_type": "code",
   "execution_count": 77,
   "id": "26ca301e-5190-4ffc-98fe-f0e1e6737fb4",
   "metadata": {},
   "outputs": [
    {
     "name": "stderr",
     "output_type": "stream",
     "text": [
      "<>:1: SyntaxWarning: \"is\" with a literal. Did you mean \"==\"?\n",
      "<>:1: SyntaxWarning: \"is\" with a literal. Did you mean \"==\"?\n",
      "C:\\Users\\Ducat\\AppData\\Local\\Temp\\ipykernel_1420\\3938569512.py:1: SyntaxWarning: \"is\" with a literal. Did you mean \"==\"?\n",
      "  10 is 10\n"
     ]
    },
    {
     "data": {
      "text/plain": [
       "True"
      ]
     },
     "execution_count": 77,
     "metadata": {},
     "output_type": "execute_result"
    }
   ],
   "source": [
    "10 is 10"
   ]
  },
  {
   "cell_type": "code",
   "execution_count": 78,
   "id": "ddb18825-1a4e-4d27-9583-4731bdded94b",
   "metadata": {},
   "outputs": [
    {
     "name": "stderr",
     "output_type": "stream",
     "text": [
      "<>:1: SyntaxWarning: \"is not\" with a literal. Did you mean \"!=\"?\n",
      "<>:1: SyntaxWarning: \"is not\" with a literal. Did you mean \"!=\"?\n",
      "C:\\Users\\Ducat\\AppData\\Local\\Temp\\ipykernel_1420\\3919734364.py:1: SyntaxWarning: \"is not\" with a literal. Did you mean \"!=\"?\n",
      "  10 is not 10\n"
     ]
    },
    {
     "data": {
      "text/plain": [
       "False"
      ]
     },
     "execution_count": 78,
     "metadata": {},
     "output_type": "execute_result"
    }
   ],
   "source": [
    "10 is not 10"
   ]
  },
  {
   "cell_type": "code",
   "execution_count": 79,
   "id": "eded9c4b-e0a1-480a-8b6a-1c8b6cf33569",
   "metadata": {},
   "outputs": [
    {
     "data": {
      "text/plain": [
       "False"
      ]
     },
     "execution_count": 79,
     "metadata": {},
     "output_type": "execute_result"
    }
   ],
   "source": [
    "10!=10"
   ]
  },
  {
   "cell_type": "markdown",
   "id": "7e5d6eae-3c76-46dd-8c53-010837fc5b1c",
   "metadata": {},
   "source": [
    "# > Membership operator: in , not in"
   ]
  },
  {
   "cell_type": "code",
   "execution_count": 82,
   "id": "c2b66e64-b693-41fa-afe5-544f36f3c683",
   "metadata": {},
   "outputs": [
    {
     "name": "stderr",
     "output_type": "stream",
     "text": [
      "<>:1: SyntaxWarning: \"is\" with a literal. Did you mean \"==\"?\n",
      "<>:1: SyntaxWarning: \"is\" with a literal. Did you mean \"==\"?\n",
      "C:\\Users\\Ducat\\AppData\\Local\\Temp\\ipykernel_1420\\1248704369.py:1: SyntaxWarning: \"is\" with a literal. Did you mean \"==\"?\n",
      "  \"python\" is \"python is funny language\"\n"
     ]
    },
    {
     "data": {
      "text/plain": [
       "False"
      ]
     },
     "execution_count": 82,
     "metadata": {},
     "output_type": "execute_result"
    }
   ],
   "source": [
    "\"python\" is \"python is funny language\""
   ]
  },
  {
   "cell_type": "code",
   "execution_count": 83,
   "id": "77933c4c-d5fc-4cf7-a68d-826da58f25ac",
   "metadata": {},
   "outputs": [
    {
     "data": {
      "text/plain": [
       "True"
      ]
     },
     "execution_count": 83,
     "metadata": {},
     "output_type": "execute_result"
    }
   ],
   "source": [
    "\"python\" in \"python is funny language\""
   ]
  },
  {
   "cell_type": "code",
   "execution_count": 84,
   "id": "ddf59bb7-8a32-4b6e-befe-268a7e0ef2d1",
   "metadata": {},
   "outputs": [
    {
     "data": {
      "text/plain": [
       "False"
      ]
     },
     "execution_count": 84,
     "metadata": {},
     "output_type": "execute_result"
    }
   ],
   "source": [
    "\"Python\" in \"python is funny language\""
   ]
  },
  {
   "cell_type": "code",
   "execution_count": 85,
   "id": "ff06f7e0-a419-4461-8199-ce981a841575",
   "metadata": {},
   "outputs": [
    {
     "data": {
      "text/plain": [
       "True"
      ]
     },
     "execution_count": 85,
     "metadata": {},
     "output_type": "execute_result"
    }
   ],
   "source": [
    "\"Python\" not in \"python is funny language\""
   ]
  },
  {
   "cell_type": "code",
   "execution_count": 86,
   "id": "83d5ef21-f42e-4c1c-b786-aa74882a9ebd",
   "metadata": {},
   "outputs": [
    {
     "data": {
      "text/plain": [
       "True"
      ]
     },
     "execution_count": 86,
     "metadata": {},
     "output_type": "execute_result"
    }
   ],
   "source": [
    "2 in (1,2,3,4,56)"
   ]
  },
  {
   "cell_type": "code",
   "execution_count": 87,
   "id": "a87e0e73-56b5-4455-901e-0980165b4126",
   "metadata": {},
   "outputs": [
    {
     "data": {
      "text/plain": [
       "False"
      ]
     },
     "execution_count": 87,
     "metadata": {},
     "output_type": "execute_result"
    }
   ],
   "source": [
    "2 in (1,\"2\",3,4,56)"
   ]
  },
  {
   "cell_type": "code",
   "execution_count": 88,
   "id": "b60ddd1a-e36b-40ac-943c-1c80bdcacdbf",
   "metadata": {},
   "outputs": [
    {
     "data": {
      "text/plain": [
       "True"
      ]
     },
     "execution_count": 88,
     "metadata": {},
     "output_type": "execute_result"
    }
   ],
   "source": [
    "str(2) in (1,\"2\",3,4,56)"
   ]
  },
  {
   "cell_type": "code",
   "execution_count": 89,
   "id": "e1d3b6dd-6edd-4487-aea1-b4e93ae24074",
   "metadata": {},
   "outputs": [
    {
     "data": {
      "text/plain": [
       "True"
      ]
     },
     "execution_count": 89,
     "metadata": {},
     "output_type": "execute_result"
    }
   ],
   "source": [
    "\"2\" in (1,\"2\",3,4,56)"
   ]
  },
  {
   "cell_type": "code",
   "execution_count": 90,
   "id": "dcb2dc24-52b8-4745-a754-09142728601a",
   "metadata": {},
   "outputs": [
    {
     "data": {
      "text/plain": [
       "True"
      ]
     },
     "execution_count": 90,
     "metadata": {},
     "output_type": "execute_result"
    }
   ],
   "source": [
    "\"P\" in \"Python is funny language\""
   ]
  },
  {
   "cell_type": "code",
   "execution_count": 92,
   "id": "fa6bd74b-fc08-4d45-927d-3f0ab89faea2",
   "metadata": {},
   "outputs": [
    {
     "data": {
      "text/plain": [
       "True"
      ]
     },
     "execution_count": 92,
     "metadata": {},
     "output_type": "execute_result"
    }
   ],
   "source": [
    "\"krishna\" in [\"Krishna\".casefold(),\"Mohan\",\"shyam\",\"Radhey\"]"
   ]
  },
  {
   "cell_type": "markdown",
   "id": "9ee74770-b362-4a29-bf6c-243c099fd566",
   "metadata": {},
   "source": [
    "# > Logical operator : and, or, not"
   ]
  },
  {
   "cell_type": "code",
   "execution_count": 93,
   "id": "595e959a-24c9-4712-8d9f-874c3d80e278",
   "metadata": {},
   "outputs": [
    {
     "data": {
      "text/plain": [
       "True"
      ]
     },
     "execution_count": 93,
     "metadata": {},
     "output_type": "execute_result"
    }
   ],
   "source": [
    "10==10"
   ]
  },
  {
   "cell_type": "code",
   "execution_count": 94,
   "id": "5a1d7aec-53ac-431c-8f2f-ec257960d427",
   "metadata": {},
   "outputs": [
    {
     "data": {
      "text/plain": [
       "False"
      ]
     },
     "execution_count": 94,
     "metadata": {},
     "output_type": "execute_result"
    }
   ],
   "source": [
    "20==19"
   ]
  },
  {
   "cell_type": "code",
   "execution_count": 95,
   "id": "5aeedbe1-21a4-425b-afc1-b6d622caf7ba",
   "metadata": {},
   "outputs": [
    {
     "data": {
      "text/plain": [
       "False"
      ]
     },
     "execution_count": 95,
     "metadata": {},
     "output_type": "execute_result"
    }
   ],
   "source": [
    "10==10 and 20==19"
   ]
  },
  {
   "cell_type": "code",
   "execution_count": 96,
   "id": "9aee969d-ab58-4e57-bd8c-19bae2f8b059",
   "metadata": {},
   "outputs": [
    {
     "data": {
      "text/plain": [
       "True"
      ]
     },
     "execution_count": 96,
     "metadata": {},
     "output_type": "execute_result"
    }
   ],
   "source": [
    "10==10 or 20==19"
   ]
  },
  {
   "cell_type": "code",
   "execution_count": 98,
   "id": "9985ea2c-1665-4108-8349-685e132c8146",
   "metadata": {},
   "outputs": [
    {
     "data": {
      "text/plain": [
       "False"
      ]
     },
     "execution_count": 98,
     "metadata": {},
     "output_type": "execute_result"
    }
   ],
   "source": [
    "10==10 and 20==19 or 21==21 and 19!=19"
   ]
  },
  {
   "cell_type": "code",
   "execution_count": 99,
   "id": "9e3d8678-9823-41f9-8925-90a78848c31f",
   "metadata": {},
   "outputs": [
    {
     "data": {
      "text/plain": [
       "False"
      ]
     },
     "execution_count": 99,
     "metadata": {},
     "output_type": "execute_result"
    }
   ],
   "source": [
    "10==10 and 20==19 and 21==21 and 19!=19"
   ]
  },
  {
   "cell_type": "code",
   "execution_count": 101,
   "id": "8cbe7e12-2301-42cf-bc20-02148b0bea13",
   "metadata": {},
   "outputs": [
    {
     "data": {
      "text/plain": [
       "True"
      ]
     },
     "execution_count": 101,
     "metadata": {},
     "output_type": "execute_result"
    }
   ],
   "source": [
    "10==10 and 20==20 and 21==21 and 19==19"
   ]
  },
  {
   "cell_type": "code",
   "execution_count": 102,
   "id": "f7e95e5d-360c-482b-9ad0-99827b360ffa",
   "metadata": {},
   "outputs": [
    {
     "data": {
      "text/plain": [
       "True"
      ]
     },
     "execution_count": 102,
     "metadata": {},
     "output_type": "execute_result"
    }
   ],
   "source": [
    "10==10 or 20==20 or 21==21 or 19==19"
   ]
  },
  {
   "cell_type": "code",
   "execution_count": 103,
   "id": "da76ac0a-63ce-4210-86e7-52721af5f5ce",
   "metadata": {},
   "outputs": [
    {
     "data": {
      "text/plain": [
       "True"
      ]
     },
     "execution_count": 103,
     "metadata": {},
     "output_type": "execute_result"
    }
   ],
   "source": [
    "10==10 or 20==20 or 21==21 or 19!=19"
   ]
  },
  {
   "cell_type": "code",
   "execution_count": 104,
   "id": "afbb3cd4-05a5-4ed2-8904-6af1be6e5c3a",
   "metadata": {},
   "outputs": [
    {
     "data": {
      "text/plain": [
       "True"
      ]
     },
     "execution_count": 104,
     "metadata": {},
     "output_type": "execute_result"
    }
   ],
   "source": [
    "10==10 or 20==20 or 21!=21 or 19!=19"
   ]
  },
  {
   "cell_type": "code",
   "execution_count": 105,
   "id": "0ee8c01d-81ea-4c5a-b487-60d1746f49e9",
   "metadata": {},
   "outputs": [
    {
     "data": {
      "text/plain": [
       "True"
      ]
     },
     "execution_count": 105,
     "metadata": {},
     "output_type": "execute_result"
    }
   ],
   "source": [
    "10==10 or 20!=20 or 21!=21 or 19!=19"
   ]
  },
  {
   "cell_type": "code",
   "execution_count": 106,
   "id": "4c4d4bf3-518c-46f1-b60e-74951bdc8178",
   "metadata": {},
   "outputs": [
    {
     "data": {
      "text/plain": [
       "False"
      ]
     },
     "execution_count": 106,
     "metadata": {},
     "output_type": "execute_result"
    }
   ],
   "source": [
    "10!=10 or 20!=20 or 21!=21 or 19!=19"
   ]
  },
  {
   "cell_type": "code",
   "execution_count": 109,
   "id": "826050d0-765c-417f-8453-de64de1e5ecd",
   "metadata": {},
   "outputs": [
    {
     "data": {
      "text/plain": [
       "True"
      ]
     },
     "execution_count": 109,
     "metadata": {},
     "output_type": "execute_result"
    }
   ],
   "source": [
    "10==10 and not 20==19 or 21==21 and 19!=19"
   ]
  },
  {
   "cell_type": "code",
   "execution_count": 108,
   "id": "de0daa55-935a-4ba4-8852-96fdbfe11182",
   "metadata": {},
   "outputs": [
    {
     "data": {
      "text/plain": [
       "True"
      ]
     },
     "execution_count": 108,
     "metadata": {},
     "output_type": "execute_result"
    }
   ],
   "source": [
    "not 20==19"
   ]
  },
  {
   "cell_type": "markdown",
   "id": "917d60e0-3cde-4709-86c5-29e12f5e682e",
   "metadata": {},
   "source": [
    "# > Bitwise operator : ~,&,|,>>,<<"
   ]
  },
  {
   "cell_type": "code",
   "execution_count": 110,
   "id": "769757cb-9564-4c2d-ba19-7eb4b34e449e",
   "metadata": {},
   "outputs": [
    {
     "data": {
      "text/plain": [
       "'0b1010'"
      ]
     },
     "execution_count": 110,
     "metadata": {},
     "output_type": "execute_result"
    }
   ],
   "source": [
    "bin(10)"
   ]
  },
  {
   "cell_type": "code",
   "execution_count": 111,
   "id": "6c195fe4-6a4f-4ef1-b7da-3c940b7955b0",
   "metadata": {},
   "outputs": [
    {
     "data": {
      "text/plain": [
       "-11"
      ]
     },
     "execution_count": 111,
     "metadata": {},
     "output_type": "execute_result"
    }
   ],
   "source": [
    "~10"
   ]
  },
  {
   "cell_type": "code",
   "execution_count": 112,
   "id": "1522e7a0-d17a-430c-b8bb-bf74a9ab00b9",
   "metadata": {},
   "outputs": [
    {
     "data": {
      "text/plain": [
       "'0b1011'"
      ]
     },
     "execution_count": 112,
     "metadata": {},
     "output_type": "execute_result"
    }
   ],
   "source": [
    "bin(11)"
   ]
  },
  {
   "cell_type": "code",
   "execution_count": 113,
   "id": "6f9527f2-dddd-4023-a2e9-8895da8bfcdc",
   "metadata": {},
   "outputs": [
    {
     "data": {
      "text/plain": [
       "10"
      ]
     },
     "execution_count": 113,
     "metadata": {},
     "output_type": "execute_result"
    }
   ],
   "source": [
    "10&11"
   ]
  },
  {
   "cell_type": "code",
   "execution_count": 114,
   "id": "a8f2c4f0-ca79-4c0b-b27e-8537bfd5037e",
   "metadata": {},
   "outputs": [
    {
     "data": {
      "text/plain": [
       "11"
      ]
     },
     "execution_count": 114,
     "metadata": {},
     "output_type": "execute_result"
    }
   ],
   "source": [
    "10|11"
   ]
  },
  {
   "cell_type": "code",
   "execution_count": 115,
   "id": "deaac062-8e81-416a-a0c4-03fd9fa5b403",
   "metadata": {},
   "outputs": [
    {
     "data": {
      "text/plain": [
       "2"
      ]
     },
     "execution_count": 115,
     "metadata": {},
     "output_type": "execute_result"
    }
   ],
   "source": [
    "10>>2"
   ]
  },
  {
   "cell_type": "code",
   "execution_count": 116,
   "id": "ba8e3fab-6d7e-42e2-bd41-05b26a09e42a",
   "metadata": {},
   "outputs": [
    {
     "data": {
      "text/plain": [
       "40"
      ]
     },
     "execution_count": 116,
     "metadata": {},
     "output_type": "execute_result"
    }
   ],
   "source": [
    "10<<2"
   ]
  },
  {
   "cell_type": "code",
   "execution_count": null,
   "id": "78b94394-046c-4360-8aab-60ff57d7ae96",
   "metadata": {},
   "outputs": [],
   "source": []
  }
 ],
 "metadata": {
  "kernelspec": {
   "display_name": "Python 3 (ipykernel)",
   "language": "python",
   "name": "python3"
  },
  "language_info": {
   "codemirror_mode": {
    "name": "ipython",
    "version": 3
   },
   "file_extension": ".py",
   "mimetype": "text/x-python",
   "name": "python",
   "nbconvert_exporter": "python",
   "pygments_lexer": "ipython3",
   "version": "3.11.4"
  }
 },
 "nbformat": 4,
 "nbformat_minor": 5
}
