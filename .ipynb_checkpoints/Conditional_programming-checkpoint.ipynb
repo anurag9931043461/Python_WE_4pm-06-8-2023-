{
 "cells": [
  {
   "cell_type": "markdown",
   "id": "d420bb1a-4c8f-436a-ab27-8f2b529890aa",
   "metadata": {},
   "source": [
    "# conditional programming \n",
    "\n",
    "> if else\n",
    "\n",
    "> nested if else\n",
    "    \n",
    "> if elif else\n",
    "\n",
    "> nested if elif else\n",
    "    \n",
    "> ternary operator\n"
   ]
  },
  {
   "cell_type": "code",
   "execution_count": 4,
   "id": "a15b7420-3daa-4b9b-acf0-396008127732",
   "metadata": {},
   "outputs": [
    {
     "name": "stdin",
     "output_type": "stream",
     "text": [
      "Choose a path : goa\n"
     ]
    }
   ],
   "source": [
    "user=input(\"Choose a path :\")"
   ]
  },
  {
   "cell_type": "code",
   "execution_count": 5,
   "id": "03c6a1f5-a7e3-4f30-8601-18b85d6b8da1",
   "metadata": {},
   "outputs": [
    {
     "name": "stdout",
     "output_type": "stream",
     "text": [
      "goa\n"
     ]
    }
   ],
   "source": [
    "print(user)"
   ]
  },
  {
   "cell_type": "code",
   "execution_count": 10,
   "id": "fd74205f-f5ac-4add-9bb5-ca34a4bb37ae",
   "metadata": {},
   "outputs": [
    {
     "name": "stdout",
     "output_type": "stream",
     "text": [
      "I am going to goa\n",
      "I need water bottle\n"
     ]
    }
   ],
   "source": [
    "if user==\"goa\":\n",
    "    print(\"I am going to goa\")\n",
    "    print(\"I need water bottle\")\n"
   ]
  },
  {
   "cell_type": "code",
   "execution_count": 12,
   "id": "2f5c1980-4273-4e4b-b220-6d6c08e2e3ef",
   "metadata": {},
   "outputs": [
    {
     "name": "stdin",
     "output_type": "stream",
     "text": [
      "Choose a path : goa\n"
     ]
    },
    {
     "name": "stdout",
     "output_type": "stream",
     "text": [
      "I am going to goa\n",
      "I need water bottle\n"
     ]
    }
   ],
   "source": [
    "user=input(\"Choose a path :\")\n",
    "if user==\"goa\":\n",
    "    print(\"I am going to goa\")\n",
    "    print(\"I need water bottle\")\n",
    "else:\n",
    "    print(\"I am going back home\")"
   ]
  },
  {
   "cell_type": "code",
   "execution_count": 15,
   "id": "607b03ba-f0f1-4a1c-b538-42f6f9586105",
   "metadata": {},
   "outputs": [
    {
     "name": "stdin",
     "output_type": "stream",
     "text": [
      "Choose a path : goa\n"
     ]
    },
    {
     "name": "stdout",
     "output_type": "stream",
     "text": [
      "I am going to goa\n",
      "I need water bottle\n"
     ]
    }
   ],
   "source": [
    "user=input(\"Choose a path :\")\n",
    "if user==\"goa\":\n",
    "    print(\"I am going to goa\")\n",
    "    print(\"I need water bottle\")\n",
    "else:\n",
    "    print(\"I am going back home\")"
   ]
  },
  {
   "cell_type": "code",
   "execution_count": 16,
   "id": "ed179598-ec9e-41fe-b19f-00e6c15371f6",
   "metadata": {},
   "outputs": [
    {
     "name": "stdin",
     "output_type": "stream",
     "text": [
      "Choose a path : goa\n"
     ]
    },
    {
     "name": "stdout",
     "output_type": "stream",
     "text": [
      "I am going to goa\n",
      "I need water bottle\n",
      "Hello world\n"
     ]
    }
   ],
   "source": [
    "user=input(\"Choose a path :\")\n",
    "if user==\"goa\":\n",
    "    print(\"I am going to goa\")\n",
    "    print(\"I need water bottle\")\n",
    "else:\n",
    "    print(\"I am going back home\")\n",
    "print(\"Hello world\")"
   ]
  },
  {
   "cell_type": "code",
   "execution_count": 17,
   "id": "b85c324d-b2a8-4f37-b2c1-023c7719d532",
   "metadata": {},
   "outputs": [
    {
     "name": "stdin",
     "output_type": "stream",
     "text": [
      "Choose a path : kjdfkjsdkljdf\n"
     ]
    },
    {
     "name": "stdout",
     "output_type": "stream",
     "text": [
      "I am going back home\n",
      "Hello world\n"
     ]
    }
   ],
   "source": [
    "user=input(\"Choose a path :\")\n",
    "if user==\"goa\":\n",
    "    print(\"I am going to goa\")\n",
    "    print(\"I need water bottle\")\n",
    "else:\n",
    "    print(\"I am going back home\")\n",
    "print(\"Hello world\")"
   ]
  },
  {
   "cell_type": "code",
   "execution_count": 18,
   "id": "9f063a3a-6f3c-41fb-9408-3cbb159f7e8f",
   "metadata": {},
   "outputs": [
    {
     "name": "stdin",
     "output_type": "stream",
     "text": [
      "Choose a path : goa\n"
     ]
    },
    {
     "name": "stdout",
     "output_type": "stream",
     "text": [
      "I am going to goa\n",
      "I need water bottle\n"
     ]
    }
   ],
   "source": [
    "user=input(\"Choose a path :\")\n",
    "if user==\"goa\":\n",
    "    print(\"I am going to goa\")\n",
    "    print(\"I need water bottle\")\n",
    "else:\n",
    "    print(\"I am going back home\")\n",
    "    print(\"Hello world\")"
   ]
  },
  {
   "cell_type": "code",
   "execution_count": 28,
   "id": "4ec79205-89ec-4b9e-8d4c-c4da57751d0e",
   "metadata": {},
   "outputs": [
    {
     "name": "stdin",
     "output_type": "stream",
     "text": [
      "Choose a path : goa\n"
     ]
    },
    {
     "name": "stdout",
     "output_type": "stream",
     "text": [
      "I am going to goa\n",
      "I need water bottle\n"
     ]
    }
   ],
   "source": [
    "user=input(\"Choose a path :\")\n",
    "if user==\"goa\":\n",
    "    print(\"I am going to goa\")\n",
    "    print(\"I need water bottle\")\n",
    "else:\n",
    "    print(\"I am going back home\")\n",
    "    print(\"Hello world\")"
   ]
  },
  {
   "cell_type": "markdown",
   "id": "5b9c8186-6e6a-449f-8572-c2f021090ad4",
   "metadata": {},
   "source": [
    "# nested if else"
   ]
  },
  {
   "cell_type": "code",
   "execution_count": 29,
   "id": "9a1d7dd8-45a2-458d-a072-c3fc9cbdae0d",
   "metadata": {},
   "outputs": [
    {
     "name": "stdin",
     "output_type": "stream",
     "text": [
      "Enter a number: 10\n"
     ]
    },
    {
     "data": {
      "text/plain": [
       "'10'"
      ]
     },
     "execution_count": 29,
     "metadata": {},
     "output_type": "execute_result"
    }
   ],
   "source": [
    "input(\"Enter a number:\")"
   ]
  },
  {
   "cell_type": "code",
   "execution_count": 31,
   "id": "bacd05c3-01ee-4eae-9d46-8e87a3a5a487",
   "metadata": {},
   "outputs": [
    {
     "name": "stdin",
     "output_type": "stream",
     "text": [
      "Enter a number: 10\n"
     ]
    }
   ],
   "source": [
    "num1=int(input(\"Enter a number:\"))"
   ]
  },
  {
   "cell_type": "code",
   "execution_count": 36,
   "id": "8767f066-1a00-4afd-9b34-434bd6f8f2cc",
   "metadata": {},
   "outputs": [
    {
     "name": "stdout",
     "output_type": "stream",
     "text": [
      "Even number\n"
     ]
    }
   ],
   "source": [
    "if num1%2==0:\n",
    "    print(\"Even number\")\n",
    "else:\n",
    "    print(\"odd number\")"
   ]
  },
  {
   "cell_type": "code",
   "execution_count": 38,
   "id": "8056bfd7-ba29-4740-bca3-9ef6b549a828",
   "metadata": {},
   "outputs": [
    {
     "name": "stdin",
     "output_type": "stream",
     "text": [
      "Enter a number: 11\n"
     ]
    },
    {
     "name": "stdout",
     "output_type": "stream",
     "text": [
      "odd number\n"
     ]
    }
   ],
   "source": [
    "num1=int(input(\"Enter a number:\"))\n",
    "if num1%2==0:\n",
    "    print(\"Even number\")\n",
    "else:\n",
    "    print(\"odd number\")"
   ]
  },
  {
   "cell_type": "code",
   "execution_count": 39,
   "id": "975bc9f8-ef59-4537-8a10-b300f73c27a2",
   "metadata": {},
   "outputs": [
    {
     "name": "stdin",
     "output_type": "stream",
     "text": [
      "Enter a number: 10\n"
     ]
    },
    {
     "name": "stdout",
     "output_type": "stream",
     "text": [
      "Even number\n",
      "Number is positive\n"
     ]
    }
   ],
   "source": [
    "num1=int(input(\"Enter a number:\"))\n",
    "if num1%2==0:\n",
    "    print(\"Even number\")\n",
    "    if num1>=0:\n",
    "        print(\"Number is positive\")\n",
    "    else:\n",
    "        print(\"Number is negative\")\n",
    "else:\n",
    "    print(\"odd number\")"
   ]
  },
  {
   "cell_type": "code",
   "execution_count": 40,
   "id": "8cbcd28f-df7a-439d-9a51-a2269087bf5a",
   "metadata": {},
   "outputs": [
    {
     "name": "stdin",
     "output_type": "stream",
     "text": [
      "Enter a number: -10\n"
     ]
    },
    {
     "name": "stdout",
     "output_type": "stream",
     "text": [
      "Even number\n",
      "Number is negative\n"
     ]
    }
   ],
   "source": [
    "num1=int(input(\"Enter a number:\"))\n",
    "if num1%2==0:\n",
    "    print(\"Even number\")\n",
    "    if num1>=0:\n",
    "        print(\"Number is positive\")\n",
    "    else:\n",
    "        print(\"Number is negative\")\n",
    "else:\n",
    "    print(\"odd number\")"
   ]
  },
  {
   "cell_type": "code",
   "execution_count": 43,
   "id": "0ca9ce26-3857-4eca-a380-eba76a8a0ddb",
   "metadata": {},
   "outputs": [
    {
     "name": "stdin",
     "output_type": "stream",
     "text": [
      "Enter a number: -11\n"
     ]
    },
    {
     "name": "stdout",
     "output_type": "stream",
     "text": [
      "odd number\n",
      "it is a negative number\n"
     ]
    }
   ],
   "source": [
    "num1=int(input(\"Enter a number:\"))\n",
    "if num1%2==0:\n",
    "    print(\"Even number\")\n",
    "    if num1>=0:\n",
    "        print(\"Number is positive\")\n",
    "    else:\n",
    "        print(\"Number is negative\")\n",
    "else:\n",
    "    print(\"odd number\")\n",
    "    if num1>=0:\n",
    "        print(\"it is a positive number\")\n",
    "    else:\n",
    "        print(\"it is a negative number\")"
   ]
  },
  {
   "cell_type": "markdown",
   "id": "2c87ae5f-a8cf-43aa-9602-7d522f2dd47b",
   "metadata": {},
   "source": [
    "# if elif else"
   ]
  },
  {
   "cell_type": "code",
   "execution_count": 44,
   "id": "fb542486-1231-4cd7-a466-097a7d75ed67",
   "metadata": {},
   "outputs": [
    {
     "name": "stdin",
     "output_type": "stream",
     "text": [
      "Choose one option:  A\n"
     ]
    }
   ],
   "source": [
    "option=input(\"Choose one option:\")"
   ]
  },
  {
   "cell_type": "code",
   "execution_count": 49,
   "id": "c3951c68-3e76-4088-9fef-1b68d92c1ca7",
   "metadata": {},
   "outputs": [
    {
     "name": "stdout",
     "output_type": "stream",
     "text": [
      "option A\n"
     ]
    }
   ],
   "source": [
    "if option==\"A\":\n",
    "    print(\"option A\")\n",
    "elif option==\"A\":\n",
    "    print(\"option B\")\n",
    "elif option==\"C\":\n",
    "    print(\"option C\")\n",
    "elif option==\"D\":\n",
    "    print(\"option D\")\n",
    "else:\n",
    "    print(\"go to hell\")"
   ]
  },
  {
   "cell_type": "code",
   "execution_count": 50,
   "id": "2de3fd61-33a5-4e4e-8eb5-ea15384880e8",
   "metadata": {},
   "outputs": [
    {
     "name": "stdin",
     "output_type": "stream",
     "text": [
      "Enter 1st option: A\n",
      "Enter 2nd option: C\n"
     ]
    },
    {
     "name": "stdout",
     "output_type": "stream",
     "text": [
      "option A\n"
     ]
    }
   ],
   "source": [
    "option=input(\"Enter 1st option:\")\n",
    "if option==\"A\":\n",
    "    print(\"option A\")\n",
    "elif option==\"A\":\n",
    "    print(\"option B\")\n",
    "elif option==\"C\":\n",
    "    print(\"option C\")\n",
    "elif option==\"D\":\n",
    "    print(\"option D\")\n",
    "else:\n",
    "    print(\"go to hell\")"
   ]
  },
  {
   "cell_type": "code",
   "execution_count": 51,
   "id": "8c65a171-a81c-406b-8b65-a22c9cb31e68",
   "metadata": {},
   "outputs": [
    {
     "name": "stdin",
     "output_type": "stream",
     "text": [
      "Enter your age:  27\n"
     ]
    },
    {
     "name": "stdout",
     "output_type": "stream",
     "text": [
      "I will give you car\n"
     ]
    }
   ],
   "source": [
    "age=int(input(\"Enter your age: \"))\n",
    "if age>0 and age<=18:\n",
    "    print(\"I will give you chocolate\")\n",
    "elif age>18 and age<=35:\n",
    "    print(\"I will give you car\")\n",
    "elif age>35 and age<=60:\n",
    "    print(\"I will give you money\")\n",
    "else:\n",
    "    print(\"I will give you poison\")"
   ]
  },
  {
   "cell_type": "code",
   "execution_count": 54,
   "id": "9a09fa96-2573-4292-b305-9c09ce83b42f",
   "metadata": {},
   "outputs": [
    {
     "name": "stdin",
     "output_type": "stream",
     "text": [
      "Enter your age:  21\n"
     ]
    },
    {
     "name": "stdout",
     "output_type": "stream",
     "text": [
      "I will give you health insurance\n"
     ]
    }
   ],
   "source": [
    "age=int(input(\"Enter your age: \"))\n",
    "if age>0 and age<=18:\n",
    "    if age>0 and age<=5:\n",
    "        print(\"I will give you chocolate\")\n",
    "    elif age>5 and age<=10:\n",
    "        print(\"I will give you cycle\")\n",
    "    elif age>10 and age<=15:\n",
    "        print(\"I will give you watch\")\n",
    "    else:\n",
    "        print(\"I will give you KTM\")\n",
    "elif age>18 and age<=35:\n",
    "    if age>27 and age<=35:\n",
    "        print(\"I will give you car\")\n",
    "    else:\n",
    "        print(\"I will give you health insurance\")\n",
    "elif age>35 and age<=60:\n",
    "    print(\"I will give you money\")\n",
    "else:\n",
    "    print(\"I will give you poison\")"
   ]
  },
  {
   "cell_type": "markdown",
   "id": "03badfea-0f49-4ccd-93cc-806bf5761e0b",
   "metadata": {},
   "source": [
    "# ternary operator"
   ]
  },
  {
   "cell_type": "code",
   "execution_count": 55,
   "id": "de13f76c-3aaa-4eb5-83f4-4ae73160e1b3",
   "metadata": {},
   "outputs": [
    {
     "name": "stdin",
     "output_type": "stream",
     "text": [
      "Choose a path : goa\n"
     ]
    },
    {
     "name": "stdout",
     "output_type": "stream",
     "text": [
      "I am going to goa\n"
     ]
    }
   ],
   "source": [
    "user=input(\"Choose a path :\")\n",
    "if user==\"goa\":\n",
    "    print(\"I am going to goa\")\n",
    "else:\n",
    "    print(\"I am going back home\")"
   ]
  },
  {
   "cell_type": "code",
   "execution_count": 59,
   "id": "998951f3-e59c-46f6-8409-45bba31e67de",
   "metadata": {},
   "outputs": [
    {
     "name": "stdin",
     "output_type": "stream",
     "text": [
      "Choose a path : africa\n"
     ]
    },
    {
     "name": "stdout",
     "output_type": "stream",
     "text": [
      "I am going back home\n"
     ]
    }
   ],
   "source": [
    "user=input(\"Choose a path :\")\n",
    "print(\"I am going to goa\") if user==\"goa\" else print(\"I am going back home\")"
   ]
  },
  {
   "cell_type": "code",
   "execution_count": 60,
   "id": "3a5c7644-8b91-4d56-af27-342550f9a251",
   "metadata": {},
   "outputs": [
    {
     "name": "stdin",
     "output_type": "stream",
     "text": [
      "Enter a number: 11\n"
     ]
    },
    {
     "name": "stdout",
     "output_type": "stream",
     "text": [
      "it is a positive number\n"
     ]
    }
   ],
   "source": [
    "num1=int(input(\"Enter a number:\"))\n",
    "if num1%2==0:\n",
    "    if num1>=0:\n",
    "        print(\"Number is positive\")\n",
    "    else:\n",
    "        print(\"Number is negative\")\n",
    "else:\n",
    "    if num1>=0:\n",
    "        print(\"it is a positive number\")\n",
    "    else:\n",
    "        print(\"it is a negative number\")"
   ]
  },
  {
   "cell_type": "code",
   "execution_count": 61,
   "id": "944ed570-a3b6-4e21-a0ab-52a315b0e8fd",
   "metadata": {},
   "outputs": [
    {
     "name": "stdout",
     "output_type": "stream",
     "text": [
      "it is a positive number\n"
     ]
    }
   ],
   "source": [
    "(print(\"Number is positive\") if num1>=0 else print(\"Number is negative\")) if num1%2==0 else (print(\"it is a positive number\") if num1>=0 else print(\"it is a negative number\"))"
   ]
  },
  {
   "cell_type": "code",
   "execution_count": null,
   "id": "0baa916a-d6a7-4a32-9b7a-5ad2325d4252",
   "metadata": {},
   "outputs": [],
   "source": []
  }
 ],
 "metadata": {
  "kernelspec": {
   "display_name": "Python 3 (ipykernel)",
   "language": "python",
   "name": "python3"
  },
  "language_info": {
   "codemirror_mode": {
    "name": "ipython",
    "version": 3
   },
   "file_extension": ".py",
   "mimetype": "text/x-python",
   "name": "python",
   "nbconvert_exporter": "python",
   "pygments_lexer": "ipython3",
   "version": "3.11.4"
  }
 },
 "nbformat": 4,
 "nbformat_minor": 5
}
