{
 "cells": [
  {
   "cell_type": "markdown",
   "id": "7d77a061-025e-4329-9450-7d12781094d4",
   "metadata": {},
   "source": [
    "# casting\n",
    "\n",
    "> conversion of one datatype into another datatype called casting "
   ]
  },
  {
   "cell_type": "code",
   "execution_count": 1,
   "id": "1b4902a3-904b-4aa6-9e40-9ba7a148b50f",
   "metadata": {},
   "outputs": [],
   "source": [
    "# int cast to float and string"
   ]
  },
  {
   "cell_type": "code",
   "execution_count": 2,
   "id": "e7579c89-8f72-47c5-802c-a1beac069443",
   "metadata": {},
   "outputs": [
    {
     "name": "stdout",
     "output_type": "stream",
     "text": [
      "<class 'int'> 10\n"
     ]
    }
   ],
   "source": [
    "a=10\n",
    "print(type(a),a)"
   ]
  },
  {
   "cell_type": "code",
   "execution_count": 3,
   "id": "29cb7b7d-0f81-46b3-8458-8603be3e78cc",
   "metadata": {},
   "outputs": [],
   "source": [
    "# int(), float(), str(),list(),tuple(),set(),frozenset(),dict(),complex(),bool()"
   ]
  },
  {
   "cell_type": "code",
   "execution_count": 4,
   "id": "73c5bd17-66e5-4d5a-a400-64c19e5b3e78",
   "metadata": {},
   "outputs": [],
   "source": [
    "b=float(a)"
   ]
  },
  {
   "cell_type": "code",
   "execution_count": 5,
   "id": "6afb6067-3b9d-43c9-a341-fdcf083aaeaa",
   "metadata": {},
   "outputs": [
    {
     "data": {
      "text/plain": [
       "10.0"
      ]
     },
     "execution_count": 5,
     "metadata": {},
     "output_type": "execute_result"
    }
   ],
   "source": [
    "b"
   ]
  },
  {
   "cell_type": "code",
   "execution_count": 6,
   "id": "7247dd77-915d-437b-9cf5-0b13791fcc37",
   "metadata": {},
   "outputs": [],
   "source": [
    "c=str(a)"
   ]
  },
  {
   "cell_type": "code",
   "execution_count": 7,
   "id": "83b63834-43f6-40a1-b162-59e78fb74a59",
   "metadata": {},
   "outputs": [
    {
     "data": {
      "text/plain": [
       "'10'"
      ]
     },
     "execution_count": 7,
     "metadata": {},
     "output_type": "execute_result"
    }
   ],
   "source": [
    "c"
   ]
  },
  {
   "cell_type": "code",
   "execution_count": 8,
   "id": "ce0a7f99-9c00-42ce-9047-1e32d4de9144",
   "metadata": {},
   "outputs": [
    {
     "ename": "TypeError",
     "evalue": "'int' object is not iterable",
     "output_type": "error",
     "traceback": [
      "\u001b[1;31m---------------------------------------------------------------------------\u001b[0m",
      "\u001b[1;31mTypeError\u001b[0m                                 Traceback (most recent call last)",
      "Cell \u001b[1;32mIn[8], line 1\u001b[0m\n\u001b[1;32m----> 1\u001b[0m \u001b[38;5;28;43mlist\u001b[39;49m\u001b[43m(\u001b[49m\u001b[43ma\u001b[49m\u001b[43m)\u001b[49m\n",
      "\u001b[1;31mTypeError\u001b[0m: 'int' object is not iterable"
     ]
    }
   ],
   "source": [
    "list(a)"
   ]
  },
  {
   "cell_type": "code",
   "execution_count": 9,
   "id": "6aa7d065-e4ee-4938-8521-0e439af1fe16",
   "metadata": {},
   "outputs": [],
   "source": [
    "# float cast to int and string"
   ]
  },
  {
   "cell_type": "code",
   "execution_count": 10,
   "id": "f5fb3182-ae6b-4ba4-b5d5-b21568e9243e",
   "metadata": {},
   "outputs": [],
   "source": [
    "a=10.99"
   ]
  },
  {
   "cell_type": "code",
   "execution_count": 11,
   "id": "14656923-1f4a-4089-b5de-ce1eb80a9237",
   "metadata": {},
   "outputs": [
    {
     "data": {
      "text/plain": [
       "10"
      ]
     },
     "execution_count": 11,
     "metadata": {},
     "output_type": "execute_result"
    }
   ],
   "source": [
    "int(a)"
   ]
  },
  {
   "cell_type": "code",
   "execution_count": 12,
   "id": "a6fac8c4-c9c7-41da-a22b-20137757f38e",
   "metadata": {},
   "outputs": [
    {
     "name": "stdout",
     "output_type": "stream",
     "text": [
      "10.99\n"
     ]
    }
   ],
   "source": [
    "print(a)"
   ]
  },
  {
   "cell_type": "code",
   "execution_count": 13,
   "id": "6fb9d7bc-2c48-40c9-811b-9905085f23c6",
   "metadata": {},
   "outputs": [],
   "source": [
    "c=str(a)"
   ]
  },
  {
   "cell_type": "code",
   "execution_count": 14,
   "id": "69ec999d-4fa6-478b-8f1e-53e914511e77",
   "metadata": {},
   "outputs": [
    {
     "data": {
      "text/plain": [
       "'10.99'"
      ]
     },
     "execution_count": 14,
     "metadata": {},
     "output_type": "execute_result"
    }
   ],
   "source": [
    "c"
   ]
  },
  {
   "cell_type": "code",
   "execution_count": 15,
   "id": "ae14becf-4eff-4134-beec-f55617ff0ec4",
   "metadata": {},
   "outputs": [],
   "source": [
    "# string cast to float and int"
   ]
  },
  {
   "cell_type": "code",
   "execution_count": 16,
   "id": "7e4362b9-ca47-4ca9-9b22-e371dc294a14",
   "metadata": {},
   "outputs": [],
   "source": [
    "a=\"10\""
   ]
  },
  {
   "cell_type": "code",
   "execution_count": 17,
   "id": "014a8371-6231-406a-9c28-915451ed60d4",
   "metadata": {},
   "outputs": [
    {
     "data": {
      "text/plain": [
       "10"
      ]
     },
     "execution_count": 17,
     "metadata": {},
     "output_type": "execute_result"
    }
   ],
   "source": [
    "int(a)"
   ]
  },
  {
   "cell_type": "code",
   "execution_count": 18,
   "id": "7c9dfcb4-a18d-403f-a67d-2ced44fcdb52",
   "metadata": {},
   "outputs": [
    {
     "data": {
      "text/plain": [
       "10.0"
      ]
     },
     "execution_count": 18,
     "metadata": {},
     "output_type": "execute_result"
    }
   ],
   "source": [
    "float(a)"
   ]
  },
  {
   "cell_type": "code",
   "execution_count": 19,
   "id": "6fe4f8df-f1a1-433f-8d4f-4366e8cdb674",
   "metadata": {},
   "outputs": [],
   "source": [
    "a='10.09'"
   ]
  },
  {
   "cell_type": "code",
   "execution_count": 20,
   "id": "593b9673-bf49-4057-a3f5-aa5f8ccb6ab1",
   "metadata": {},
   "outputs": [
    {
     "ename": "ValueError",
     "evalue": "invalid literal for int() with base 10: '10.09'",
     "output_type": "error",
     "traceback": [
      "\u001b[1;31m---------------------------------------------------------------------------\u001b[0m",
      "\u001b[1;31mValueError\u001b[0m                                Traceback (most recent call last)",
      "Cell \u001b[1;32mIn[20], line 1\u001b[0m\n\u001b[1;32m----> 1\u001b[0m \u001b[38;5;28;43mint\u001b[39;49m\u001b[43m(\u001b[49m\u001b[43ma\u001b[49m\u001b[43m)\u001b[49m\n",
      "\u001b[1;31mValueError\u001b[0m: invalid literal for int() with base 10: '10.09'"
     ]
    }
   ],
   "source": [
    "int(a)"
   ]
  },
  {
   "cell_type": "code",
   "execution_count": 21,
   "id": "e8a99273-f4f3-4efe-a3bd-73069a4f9021",
   "metadata": {},
   "outputs": [
    {
     "data": {
      "text/plain": [
       "10.09"
      ]
     },
     "execution_count": 21,
     "metadata": {},
     "output_type": "execute_result"
    }
   ],
   "source": [
    "float(a)"
   ]
  },
  {
   "cell_type": "code",
   "execution_count": 22,
   "id": "d4855a8f-1cc1-49e4-a74c-3544c9b3618a",
   "metadata": {},
   "outputs": [
    {
     "data": {
      "text/plain": [
       "'1111111111'"
      ]
     },
     "execution_count": 22,
     "metadata": {},
     "output_type": "execute_result"
    }
   ],
   "source": [
    "k=1\n",
    "int(\"10\")*(f\"{k}\")"
   ]
  },
  {
   "cell_type": "code",
   "execution_count": 23,
   "id": "91bf05bd-3651-48bb-9b7b-d73b36ab89b6",
   "metadata": {},
   "outputs": [
    {
     "data": {
      "text/plain": [
       "'1111111111'"
      ]
     },
     "execution_count": 23,
     "metadata": {},
     "output_type": "execute_result"
    }
   ],
   "source": [
    "10*'1'"
   ]
  },
  {
   "cell_type": "code",
   "execution_count": 24,
   "id": "5f9a4b58-3fa4-4f31-9979-ce56a1e480f6",
   "metadata": {},
   "outputs": [
    {
     "name": "stdout",
     "output_type": "stream",
     "text": [
      "I am krishna and I am 27\n"
     ]
    }
   ],
   "source": [
    "age=27\n",
    "name=\"Vicky\"\n",
    "a=\"I am krishna and I am 27\"\n",
    "print(a)"
   ]
  },
  {
   "cell_type": "code",
   "execution_count": 25,
   "id": "b619ed54-abc5-4474-9427-e30fd2a1798b",
   "metadata": {},
   "outputs": [],
   "source": [
    "b=f\"I am {name} and I am {age}\"\n"
   ]
  },
  {
   "cell_type": "code",
   "execution_count": 26,
   "id": "73af8301-39f9-475c-a05a-da053aef16d2",
   "metadata": {},
   "outputs": [
    {
     "name": "stdout",
     "output_type": "stream",
     "text": [
      "I am Vicky and I am 27\n"
     ]
    }
   ],
   "source": [
    "print(b)"
   ]
  },
  {
   "cell_type": "code",
   "execution_count": 27,
   "id": "d6a898d5-be70-432d-8a61-75037270c7b9",
   "metadata": {},
   "outputs": [],
   "source": [
    "b=F\"I am {name} and I am {age}\""
   ]
  },
  {
   "cell_type": "code",
   "execution_count": 28,
   "id": "ec5feba7-d0c8-4e1e-b21c-0d0308def848",
   "metadata": {},
   "outputs": [
    {
     "name": "stdout",
     "output_type": "stream",
     "text": [
      "I am Vicky and I am 27\n"
     ]
    }
   ],
   "source": [
    "print(b)"
   ]
  },
  {
   "cell_type": "code",
   "execution_count": 29,
   "id": "443d2acf-a66a-47a6-b6fa-9bf1c35a04d0",
   "metadata": {},
   "outputs": [
    {
     "data": {
      "text/plain": [
       "'I am Vicky and I am 27'"
      ]
     },
     "execution_count": 29,
     "metadata": {},
     "output_type": "execute_result"
    }
   ],
   "source": [
    "\"I am {} and I am {}\".format(name,age)"
   ]
  },
  {
   "cell_type": "code",
   "execution_count": 30,
   "id": "d4397876-f912-4261-9f3f-ad33e2a5bfb9",
   "metadata": {},
   "outputs": [
    {
     "data": {
      "text/plain": [
       "'I am Vicky and I am 27'"
      ]
     },
     "execution_count": 30,
     "metadata": {},
     "output_type": "execute_result"
    }
   ],
   "source": [
    "\"I am {0} and I am {1}\".format(name,age)"
   ]
  },
  {
   "cell_type": "code",
   "execution_count": 31,
   "id": "88d29cfa-f1d8-44b8-a036-b656f41e5b24",
   "metadata": {},
   "outputs": [
    {
     "data": {
      "text/plain": [
       "'I am 27 and I am Vicky'"
      ]
     },
     "execution_count": 31,
     "metadata": {},
     "output_type": "execute_result"
    }
   ],
   "source": [
    "\"I am {1} and I am {0}\".format(name,age)"
   ]
  },
  {
   "cell_type": "code",
   "execution_count": 32,
   "id": "ec6a9f44-5981-430e-8c99-254e042e21a9",
   "metadata": {},
   "outputs": [
    {
     "data": {
      "text/plain": [
       "'I am Vicky and I am 27'"
      ]
     },
     "execution_count": 32,
     "metadata": {},
     "output_type": "execute_result"
    }
   ],
   "source": [
    "\"I am {1} and I am {0}\".format(age,name)"
   ]
  },
  {
   "cell_type": "code",
   "execution_count": 47,
   "id": "7deca51e-5e90-41ac-a264-3bf3d3d692d6",
   "metadata": {},
   "outputs": [],
   "source": [
    "a=\"10\""
   ]
  },
  {
   "cell_type": "code",
   "execution_count": 42,
   "id": "05ff5f06-5b5d-4380-b558-fb7339f348df",
   "metadata": {},
   "outputs": [
    {
     "data": {
      "text/plain": [
       "10.0"
      ]
     },
     "execution_count": 42,
     "metadata": {},
     "output_type": "execute_result"
    }
   ],
   "source": [
    "b=float(a)\n",
    "b"
   ]
  },
  {
   "cell_type": "code",
   "execution_count": 43,
   "id": "e067c49d-e826-4839-bfcc-a824d02aacdc",
   "metadata": {},
   "outputs": [
    {
     "data": {
      "text/plain": [
       "10"
      ]
     },
     "execution_count": 43,
     "metadata": {},
     "output_type": "execute_result"
    }
   ],
   "source": [
    "int(float(a))"
   ]
  },
  {
   "cell_type": "code",
   "execution_count": 48,
   "id": "d1d350d3-c4ba-4219-91fb-6f0c6cc0aae2",
   "metadata": {},
   "outputs": [
    {
     "name": "stdout",
     "output_type": "stream",
     "text": [
      "10 <class 'int'>\n"
     ]
    }
   ],
   "source": [
    "b=eval(a)\n",
    "print(b,type(b))"
   ]
  },
  {
   "cell_type": "code",
   "execution_count": 49,
   "id": "0b43ee62-aecb-41c3-927b-fb091fb809da",
   "metadata": {},
   "outputs": [],
   "source": [
    "# list, tuple, set , frozenset"
   ]
  },
  {
   "cell_type": "code",
   "execution_count": 50,
   "id": "911aed78-f146-4f1c-af2f-8d8ed0d50af3",
   "metadata": {},
   "outputs": [],
   "source": [
    "a=[1,2,3,4,5]"
   ]
  },
  {
   "cell_type": "code",
   "execution_count": 51,
   "id": "f8c80e82-c7c6-484a-8026-a5a1e68866f5",
   "metadata": {},
   "outputs": [
    {
     "data": {
      "text/plain": [
       "(1, 2, 3, 4, 5)"
      ]
     },
     "execution_count": 51,
     "metadata": {},
     "output_type": "execute_result"
    }
   ],
   "source": [
    "tuple(a)"
   ]
  },
  {
   "cell_type": "code",
   "execution_count": 52,
   "id": "530b04c2-c11a-4b81-b2d8-f9326b88d08b",
   "metadata": {},
   "outputs": [
    {
     "data": {
      "text/plain": [
       "{1, 2, 3, 4, 5}"
      ]
     },
     "execution_count": 52,
     "metadata": {},
     "output_type": "execute_result"
    }
   ],
   "source": [
    "set(a)"
   ]
  },
  {
   "cell_type": "code",
   "execution_count": 53,
   "id": "31c5fd11-ec37-4b69-9498-b7c032814940",
   "metadata": {},
   "outputs": [
    {
     "data": {
      "text/plain": [
       "frozenset({1, 2, 3, 4, 5})"
      ]
     },
     "execution_count": 53,
     "metadata": {},
     "output_type": "execute_result"
    }
   ],
   "source": [
    "frozenset(a)"
   ]
  },
  {
   "cell_type": "code",
   "execution_count": 63,
   "id": "808bd21e-9cb8-4516-926e-527bb3133498",
   "metadata": {},
   "outputs": [
    {
     "data": {
      "text/plain": [
       "['krishna']"
      ]
     },
     "execution_count": 63,
     "metadata": {},
     "output_type": "execute_result"
    }
   ],
   "source": [
    "a=\"krishna\"\n",
    "[a]"
   ]
  },
  {
   "cell_type": "code",
   "execution_count": 55,
   "id": "8c07b07e-04c1-41cb-98d0-37e544e5b42a",
   "metadata": {},
   "outputs": [],
   "source": [
    "a=(1,2,3,4,5,6)"
   ]
  },
  {
   "cell_type": "code",
   "execution_count": 57,
   "id": "4894ac7d-7cfc-4ba4-b763-e9a33e3f156e",
   "metadata": {},
   "outputs": [],
   "source": [
    "b=list(a)"
   ]
  },
  {
   "cell_type": "code",
   "execution_count": 59,
   "id": "94ae59c8-39cc-467a-9df4-a30910d1c980",
   "metadata": {},
   "outputs": [],
   "source": [
    "b.append(8)"
   ]
  },
  {
   "cell_type": "code",
   "execution_count": 60,
   "id": "6c93a087-df93-43ea-b11e-fb10b971e2d4",
   "metadata": {},
   "outputs": [
    {
     "name": "stdout",
     "output_type": "stream",
     "text": [
      "[1, 2, 3, 4, 5, 6, 8]\n"
     ]
    }
   ],
   "source": [
    "print(b)"
   ]
  },
  {
   "cell_type": "code",
   "execution_count": 61,
   "id": "0840d645-f06c-4519-950b-66cc46ebf4fa",
   "metadata": {},
   "outputs": [],
   "source": [
    "a=tuple(b)"
   ]
  },
  {
   "cell_type": "code",
   "execution_count": 62,
   "id": "1d8053b2-aa0e-4efb-a2ab-a7a2d55a4268",
   "metadata": {},
   "outputs": [
    {
     "name": "stdout",
     "output_type": "stream",
     "text": [
      "(1, 2, 3, 4, 5, 6, 8)\n"
     ]
    }
   ],
   "source": [
    "print(a)"
   ]
  },
  {
   "cell_type": "code",
   "execution_count": 64,
   "id": "178699e1-f319-4596-9cbc-62b16ee28f80",
   "metadata": {},
   "outputs": [],
   "source": [
    "a={1:\"krishna\",2:\"Mohan\"}"
   ]
  },
  {
   "cell_type": "code",
   "execution_count": 65,
   "id": "ca54a627-8c6f-467f-80b8-584748afdb16",
   "metadata": {},
   "outputs": [
    {
     "data": {
      "text/plain": [
       "{1: 'krishna', 2: 'Mohan'}"
      ]
     },
     "execution_count": 65,
     "metadata": {},
     "output_type": "execute_result"
    }
   ],
   "source": [
    "a"
   ]
  },
  {
   "cell_type": "code",
   "execution_count": 66,
   "id": "dac69792-1973-4a8d-8509-d7f80a247074",
   "metadata": {},
   "outputs": [
    {
     "data": {
      "text/plain": [
       "[1, 2]"
      ]
     },
     "execution_count": 66,
     "metadata": {},
     "output_type": "execute_result"
    }
   ],
   "source": [
    "list(a)"
   ]
  }
 ],
 "metadata": {
  "kernelspec": {
   "display_name": "Python 3 (ipykernel)",
   "language": "python",
   "name": "python3"
  },
  "language_info": {
   "codemirror_mode": {
    "name": "ipython",
    "version": 3
   },
   "file_extension": ".py",
   "mimetype": "text/x-python",
   "name": "python",
   "nbconvert_exporter": "python",
   "pygments_lexer": "ipython3",
   "version": "3.11.4"
  }
 },
 "nbformat": 4,
 "nbformat_minor": 5
}
