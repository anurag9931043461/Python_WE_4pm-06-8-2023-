{
 "cells": [
  {
   "cell_type": "markdown",
   "id": "6babfd4d-38b8-4a44-80be-9eae5e9f549a",
   "metadata": {},
   "source": [
    "# frozenset \n",
    "\n",
    "> frozenset constructor is frozenset()\n",
    "\n",
    "> frozenset literal is not available\n",
    "\n",
    "> frozenset is an unordered set of sequence of elements.\n",
    "\n",
    "> frozenset does not allowed duplicate values\n",
    "\n",
    "> frozenset remove duplicay using hashing table.\n",
    "\n",
    "> frozenset does not support indexing \n",
    "\n",
    "> frozenset does not support slicing \n",
    "\n",
    "> frozenset does not support concatination\n",
    "\n",
    "> frozenset does not allowed mutable datatype\n",
    "\n",
    "> frozenset is immutable(hashable).\n",
    "\n",
    "> frozenset support nested frozenset\n",
    "\n",
    "> frozenset methods."
   ]
  },
  {
   "cell_type": "code",
   "execution_count": 2,
   "id": "f85ae115-d710-4daa-b29e-5871fd7e76be",
   "metadata": {},
   "outputs": [],
   "source": [
    "a=frozenset({1,1,1,2,2,2,3,3,4,4,4,5,5,6,6})"
   ]
  },
  {
   "cell_type": "code",
   "execution_count": 3,
   "id": "7dc0c488-4401-4a9d-ba66-6baa822c282d",
   "metadata": {},
   "outputs": [
    {
     "name": "stdout",
     "output_type": "stream",
     "text": [
      "frozenset({1, 2, 3, 4, 5, 6})\n"
     ]
    }
   ],
   "source": [
    "print(a)"
   ]
  },
  {
   "cell_type": "code",
   "execution_count": 4,
   "id": "63f3c78b-5c6e-48fd-8b77-f548686e53b5",
   "metadata": {},
   "outputs": [],
   "source": [
    "b=frozenset([1,1,1,1,2,22,3,3,3,4,4,5,5,5])"
   ]
  },
  {
   "cell_type": "code",
   "execution_count": 5,
   "id": "26885029-d4b4-4f59-90e6-c1b6287e5879",
   "metadata": {},
   "outputs": [
    {
     "name": "stdout",
     "output_type": "stream",
     "text": [
      "frozenset({1, 2, 3, 4, 5, 22})\n"
     ]
    }
   ],
   "source": [
    "print(b)"
   ]
  },
  {
   "cell_type": "code",
   "execution_count": 8,
   "id": "4e6b25db-f51c-42d6-aa80-e2a20655b270",
   "metadata": {},
   "outputs": [],
   "source": [
    "c=frozenset(\"krishna\")"
   ]
  },
  {
   "cell_type": "code",
   "execution_count": 9,
   "id": "807c7cf1-f1cd-4ee0-93e4-d4a75c991f9a",
   "metadata": {},
   "outputs": [
    {
     "name": "stdout",
     "output_type": "stream",
     "text": [
      "frozenset({'h', 's', 'k', 'i', 'n', 'r', 'a'})\n"
     ]
    }
   ],
   "source": [
    "print(c)"
   ]
  },
  {
   "cell_type": "code",
   "execution_count": 10,
   "id": "5b44c5fb-d010-4f72-911b-d5ef949f617d",
   "metadata": {},
   "outputs": [],
   "source": [
    "c=frozenset((1,1,1,2,2,3,3,4,4,5,5,6))"
   ]
  },
  {
   "cell_type": "code",
   "execution_count": 11,
   "id": "d4c20b39-5dba-4e35-815c-05f36c80300f",
   "metadata": {},
   "outputs": [
    {
     "name": "stdout",
     "output_type": "stream",
     "text": [
      "frozenset({1, 2, 3, 4, 5, 6})\n"
     ]
    }
   ],
   "source": [
    "print(c)"
   ]
  },
  {
   "cell_type": "code",
   "execution_count": 12,
   "id": "284448f2-3ba8-4006-8036-3afc9778fe9d",
   "metadata": {},
   "outputs": [
    {
     "data": {
      "text/plain": [
       "6"
      ]
     },
     "execution_count": 12,
     "metadata": {},
     "output_type": "execute_result"
    }
   ],
   "source": [
    "len(c)"
   ]
  },
  {
   "cell_type": "code",
   "execution_count": 13,
   "id": "f0107717-d99b-4495-a0b8-58f24ed2a24f",
   "metadata": {},
   "outputs": [],
   "source": [
    "d=frozenset()"
   ]
  },
  {
   "cell_type": "code",
   "execution_count": 14,
   "id": "04cff8ac-aff5-447d-96d6-a779e7108f4b",
   "metadata": {},
   "outputs": [
    {
     "name": "stdout",
     "output_type": "stream",
     "text": [
      "frozenset()\n"
     ]
    }
   ],
   "source": [
    "print(d)"
   ]
  },
  {
   "cell_type": "code",
   "execution_count": 15,
   "id": "f3f61fa5-50bd-408c-bbb4-75bce2e831d7",
   "metadata": {},
   "outputs": [
    {
     "data": {
      "text/plain": [
       "0"
      ]
     },
     "execution_count": 15,
     "metadata": {},
     "output_type": "execute_result"
    }
   ],
   "source": [
    "len(d)"
   ]
  },
  {
   "cell_type": "code",
   "execution_count": 16,
   "id": "5a078415-e940-4a98-b52f-a8cceff88f2a",
   "metadata": {},
   "outputs": [],
   "source": [
    "d=frozenset({1,2,3,4,5,6})\n",
    "e=frozenset({4,5,6,7,8,9})"
   ]
  },
  {
   "cell_type": "code",
   "execution_count": 17,
   "id": "d7f09192-7f06-49f6-b824-50d008edd66c",
   "metadata": {},
   "outputs": [
    {
     "data": {
      "text/plain": [
       "frozenset({1, 2, 3})"
      ]
     },
     "execution_count": 17,
     "metadata": {},
     "output_type": "execute_result"
    }
   ],
   "source": [
    "d-e"
   ]
  },
  {
   "cell_type": "code",
   "execution_count": 18,
   "id": "dae40428-da16-4045-b497-677a892b26b7",
   "metadata": {},
   "outputs": [
    {
     "data": {
      "text/plain": [
       "frozenset({1, 2, 3})"
      ]
     },
     "execution_count": 18,
     "metadata": {},
     "output_type": "execute_result"
    }
   ],
   "source": [
    "d.difference(e)"
   ]
  },
  {
   "cell_type": "code",
   "execution_count": 19,
   "id": "9ba28c31-1e4d-4245-a319-36d3176e776b",
   "metadata": {},
   "outputs": [
    {
     "data": {
      "text/plain": [
       "frozenset({4, 5, 6})"
      ]
     },
     "execution_count": 19,
     "metadata": {},
     "output_type": "execute_result"
    }
   ],
   "source": [
    "d.intersection(e)"
   ]
  },
  {
   "cell_type": "code",
   "execution_count": 20,
   "id": "21de2888-0d13-4fe4-8413-46d82225ecb3",
   "metadata": {},
   "outputs": [
    {
     "data": {
      "text/plain": [
       "False"
      ]
     },
     "execution_count": 20,
     "metadata": {},
     "output_type": "execute_result"
    }
   ],
   "source": [
    "d.isdisjoint(e)"
   ]
  },
  {
   "cell_type": "code",
   "execution_count": 21,
   "id": "33ca8294-431a-41c1-aa94-e5c4af0445e7",
   "metadata": {},
   "outputs": [
    {
     "data": {
      "text/plain": [
       "False"
      ]
     },
     "execution_count": 21,
     "metadata": {},
     "output_type": "execute_result"
    }
   ],
   "source": [
    "d.issubset(e)"
   ]
  },
  {
   "cell_type": "code",
   "execution_count": 22,
   "id": "f48cb7c3-93f6-47d7-adcb-c4d794d49847",
   "metadata": {},
   "outputs": [
    {
     "data": {
      "text/plain": [
       "False"
      ]
     },
     "execution_count": 22,
     "metadata": {},
     "output_type": "execute_result"
    }
   ],
   "source": [
    "d.issuperset(e)"
   ]
  },
  {
   "cell_type": "code",
   "execution_count": 23,
   "id": "793e8d5d-b5e6-4852-826f-16873f511e68",
   "metadata": {},
   "outputs": [
    {
     "data": {
      "text/plain": [
       "frozenset({1, 2, 3, 7, 8, 9})"
      ]
     },
     "execution_count": 23,
     "metadata": {},
     "output_type": "execute_result"
    }
   ],
   "source": [
    "d.symmetric_difference(e)"
   ]
  },
  {
   "cell_type": "code",
   "execution_count": 24,
   "id": "ed09ee71-325a-4269-94d8-ed9bde5e7578",
   "metadata": {},
   "outputs": [
    {
     "data": {
      "text/plain": [
       "frozenset({1, 2, 3, 4, 5, 6, 7, 8, 9})"
      ]
     },
     "execution_count": 24,
     "metadata": {},
     "output_type": "execute_result"
    }
   ],
   "source": [
    "d.union(e)"
   ]
  },
  {
   "cell_type": "code",
   "execution_count": null,
   "id": "2dddeb97-13c3-42e9-9798-a15fffab22be",
   "metadata": {},
   "outputs": [],
   "source": []
  }
 ],
 "metadata": {
  "kernelspec": {
   "display_name": "Python 3 (ipykernel)",
   "language": "python",
   "name": "python3"
  },
  "language_info": {
   "codemirror_mode": {
    "name": "ipython",
    "version": 3
   },
   "file_extension": ".py",
   "mimetype": "text/x-python",
   "name": "python",
   "nbconvert_exporter": "python",
   "pygments_lexer": "ipython3",
   "version": "3.11.4"
  }
 },
 "nbformat": 4,
 "nbformat_minor": 5
}
