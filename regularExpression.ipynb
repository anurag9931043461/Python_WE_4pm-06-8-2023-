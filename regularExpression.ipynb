{
 "cells": [
  {
   "cell_type": "markdown",
   "id": "b8d7bdfa-a44a-4522-91a7-0625cbb81897",
   "metadata": {},
   "source": [
    "# RegEx, continuous expression, re(Module), sub, split, search, find\n",
    "\n",
    "https://www.w3schools.com/python/python_regex.asp"
   ]
  },
  {
   "cell_type": "code",
   "execution_count": 1,
   "id": "00341bb3-20d7-4838-8eab-176951dc05da",
   "metadata": {},
   "outputs": [],
   "source": [
    "import re"
   ]
  },
  {
   "cell_type": "code",
   "execution_count": 2,
   "id": "dd06abe3-4178-430a-b68a-92430efac48c",
   "metadata": {},
   "outputs": [],
   "source": [
    "a=\"The432$@#@ fo##$@32432od 423is n534ot 3442good.\""
   ]
  },
  {
   "cell_type": "code",
   "execution_count": 6,
   "id": "191cf4b5-903a-4477-ae84-e9c9556c5dec",
   "metadata": {},
   "outputs": [
    {
     "data": {
      "text/plain": [
       "'The food is not good'"
      ]
     },
     "execution_count": 6,
     "metadata": {},
     "output_type": "execute_result"
    }
   ],
   "source": [
    "re.sub(\"[^A-z ]\",\"\",a)"
   ]
  },
  {
   "cell_type": "code",
   "execution_count": 25,
   "id": "c5ab602c-21f1-494a-a15f-ebed3a9446ed",
   "metadata": {},
   "outputs": [
    {
     "name": "stdout",
     "output_type": "stream",
     "text": [
      "khfodkasjiruujkjuujpkjyhpoiuu\n"
     ]
    }
   ],
   "source": [
    "sub1(\"1234567890!@#$%^&*()[\",\"\",\"khfodkasj[iru320892039u4jkj2309u09uj23pk4j0239702483yh4p23oiu49302u\")"
   ]
  },
  {
   "cell_type": "code",
   "execution_count": 26,
   "id": "d6c6c5eb-203f-4496-a680-da2c10a888bb",
   "metadata": {},
   "outputs": [
    {
     "data": {
      "text/plain": [
       "['Suraj', 'set', 'in', 'the', 'Rohini', 'west']"
      ]
     },
     "execution_count": 26,
     "metadata": {},
     "output_type": "execute_result"
    }
   ],
   "source": [
    "a=\"Suraj set in the Rohini west\"\n",
    "re.split(\" \",a)"
   ]
  },
  {
   "cell_type": "code",
   "execution_count": 27,
   "id": "04c26a38-7680-47dd-a571-8cbf0b33a982",
   "metadata": {},
   "outputs": [
    {
     "data": {
      "text/plain": [
       "['Suraj ', 'et in the Rohini we', 't']"
      ]
     },
     "execution_count": 27,
     "metadata": {},
     "output_type": "execute_result"
    }
   ],
   "source": [
    "a=\"Suraj set in the Rohini west\"\n",
    "re.split(\"s\",a)"
   ]
  },
  {
   "cell_type": "code",
   "execution_count": 28,
   "id": "3a0ed646-9197-4ff6-9189-f1da26fd40a9",
   "metadata": {},
   "outputs": [
    {
     "data": {
      "text/plain": [
       "['Suraj ', ' in the Rohini west']"
      ]
     },
     "execution_count": 28,
     "metadata": {},
     "output_type": "execute_result"
    }
   ],
   "source": [
    "a=\"Suraj set in the Rohini west\"\n",
    "re.split(\"set\",a)"
   ]
  },
  {
   "cell_type": "code",
   "execution_count": 40,
   "id": "98eda963-02c9-4c23-9d54-05157950b483",
   "metadata": {},
   "outputs": [
    {
     "name": "stdout",
     "output_type": "stream",
     "text": [
      "['Suraj s', 't in th', ' Rohini w']\n"
     ]
    }
   ],
   "source": [
    "a=\"Suraj set in the Rohini west\"\n",
    "cont=[]\n",
    "string=\"\"\n",
    "for i in a:\n",
    "    if i ==\"e\":\n",
    "        cont.append(string)\n",
    "        string=\"\"\n",
    "        continue\n",
    "    else:\n",
    "        string=string+i\n",
    "print(cont)    "
   ]
  },
  {
   "cell_type": "code",
   "execution_count": 36,
   "id": "011c0844-4ce6-4a28-a0ab-0723cdb929ef",
   "metadata": {},
   "outputs": [
    {
     "data": {
      "text/plain": [
       "['Suraj ', ' in the Rohini west']"
      ]
     },
     "execution_count": 36,
     "metadata": {},
     "output_type": "execute_result"
    }
   ],
   "source": [
    "a.split(\"set\")"
   ]
  },
  {
   "cell_type": "code",
   "execution_count": null,
   "id": "06419600-d69f-453e-ab88-edd6ecd2038a",
   "metadata": {},
   "outputs": [],
   "source": [
    "a=\"Suraj set in the Rohini west\"\n",
    "cont=[]\n",
    "string=\"\"\n",
    "split_char=\"set\"\n",
    "if len(split_char)>1:\n",
    "    \n",
    "else:\n",
    "    for i in a:\n",
    "        if i ==\"e\":\n",
    "            cont.append(string)\n",
    "            string=\"\"\n",
    "            continue\n",
    "        else:\n",
    "            string=string+i\n",
    "print(cont)    "
   ]
  },
  {
   "cell_type": "code",
   "execution_count": 45,
   "id": "65fd3ab6-5d0c-4054-996f-568b813fbf89",
   "metadata": {},
   "outputs": [
    {
     "name": "stdout",
     "output_type": "stream",
     "text": [
      "[]\n"
     ]
    }
   ],
   "source": [
    "a=\"Suraj set in the Rohini west\"\n",
    "cont=[]\n",
    "cont_demo=[]\n",
    "string=\"\"\n",
    "split_char=\"set\"\n",
    "lenth=len(split_char)\n",
    "for i in a:\n",
    "    for j in a:\n",
    "        if string==len(split_char):\n",
    "            cont_demo.append(string)\n",
    "            string=\"\"\n",
    "            a=a[len(split_char)-(len(split_char)-1):]\n",
    "            break\n",
    "        else:\n",
    "            string=string+i\n",
    "print(cont_demo)"
   ]
  },
  {
   "cell_type": "code",
   "execution_count": 48,
   "id": "ad1c3b61-4446-4e29-9b02-6a1fc216b23e",
   "metadata": {},
   "outputs": [],
   "source": []
  },
  {
   "cell_type": "code",
   "execution_count": 49,
   "id": "74d4850c-f9d0-4d6e-b46c-49d4ed4d070b",
   "metadata": {},
   "outputs": [
    {
     "name": "stdout",
     "output_type": "stream",
     "text": [
      "['Python ', 's funny languag']\n"
     ]
    }
   ],
   "source": [
    "split(\"is\",\"Python is funny language\")"
   ]
  },
  {
   "cell_type": "code",
   "execution_count": null,
   "id": "40f1d448-faf3-40cf-a63b-0d2421858d2b",
   "metadata": {},
   "outputs": [],
   "source": []
  }
 ],
 "metadata": {
  "kernelspec": {
   "display_name": "Python 3 (ipykernel)",
   "language": "python",
   "name": "python3"
  },
  "language_info": {
   "codemirror_mode": {
    "name": "ipython",
    "version": 3
   },
   "file_extension": ".py",
   "mimetype": "text/x-python",
   "name": "python",
   "nbconvert_exporter": "python",
   "pygments_lexer": "ipython3",
   "version": "3.11.5"
  }
 },
 "nbformat": 4,
 "nbformat_minor": 5
}
