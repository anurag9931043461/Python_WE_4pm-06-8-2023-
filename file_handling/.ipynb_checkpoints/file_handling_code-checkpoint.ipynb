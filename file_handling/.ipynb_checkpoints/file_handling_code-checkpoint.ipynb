{
 "cells": [
  {
   "cell_type": "raw",
   "id": "d24ec0da-feda-479f-89f8-4dbad55cb641",
   "metadata": {},
   "source": [
    "> x: is used to create a file.\n",
    "\n",
    "> r: is used to read a file.\n",
    "\n",
    "> w: is used to write something on a file.\n",
    "\n",
    "> a: is used to append something on a file.\n",
    "\n",
    "> rb: is used to read image into hexa decimal values."
   ]
  },
  {
   "cell_type": "code",
   "execution_count": 4,
   "id": "527062a6-86b4-4eee-8e69-a9f6ca9909e1",
   "metadata": {},
   "outputs": [],
   "source": [
    "f1=open(\"klm.txt\",\"x\")  # open(file_name,mode)"
   ]
  },
  {
   "cell_type": "code",
   "execution_count": 5,
   "id": "7f9cda88-7d13-4c1e-afad-dc2a24fc77f6",
   "metadata": {},
   "outputs": [],
   "source": [
    "f1.close()"
   ]
  },
  {
   "cell_type": "code",
   "execution_count": 6,
   "id": "d7e995d2-f679-4ca1-a59d-bbe67018a08d",
   "metadata": {},
   "outputs": [],
   "source": [
    "f2=open(\"klm.txt\",\"r\")"
   ]
  },
  {
   "cell_type": "code",
   "execution_count": 9,
   "id": "4d043f2d-2460-43b1-9962-bfa79d24463b",
   "metadata": {},
   "outputs": [
    {
     "data": {
      "text/plain": [
       "''"
      ]
     },
     "execution_count": 9,
     "metadata": {},
     "output_type": "execute_result"
    }
   ],
   "source": [
    "f2.read()"
   ]
  },
  {
   "cell_type": "code",
   "execution_count": 13,
   "id": "16b566eb-e923-47b7-a3ce-00c7a0eb68fb",
   "metadata": {},
   "outputs": [
    {
     "data": {
      "text/plain": [
       "1"
      ]
     },
     "execution_count": 13,
     "metadata": {},
     "output_type": "execute_result"
    }
   ],
   "source": [
    "f2.seek(1)"
   ]
  },
  {
   "cell_type": "code",
   "execution_count": 14,
   "id": "4979971d-dd0f-4356-b0eb-37e67b375593",
   "metadata": {},
   "outputs": [
    {
     "data": {
      "text/plain": [
       "' am k'"
      ]
     },
     "execution_count": 14,
     "metadata": {},
     "output_type": "execute_result"
    }
   ],
   "source": [
    "f2.read(5)"
   ]
  },
  {
   "cell_type": "code",
   "execution_count": 15,
   "id": "c81c7169-b4b7-425e-8b6a-4d72e417a213",
   "metadata": {},
   "outputs": [
    {
     "data": {
      "text/plain": [
       "'rishna\\nI am doing my MCA \\nI am python AI trainer'"
      ]
     },
     "execution_count": 15,
     "metadata": {},
     "output_type": "execute_result"
    }
   ],
   "source": [
    "f2.read(1100)"
   ]
  },
  {
   "cell_type": "code",
   "execution_count": 21,
   "id": "6dbff35b-59cf-45ae-8d6d-7a36981e8c9f",
   "metadata": {},
   "outputs": [
    {
     "data": {
      "text/plain": [
       "0"
      ]
     },
     "execution_count": 21,
     "metadata": {},
     "output_type": "execute_result"
    }
   ],
   "source": [
    "f2.seek(0)"
   ]
  },
  {
   "cell_type": "code",
   "execution_count": 20,
   "id": "ab7571a1-ea77-4d9a-b4e3-24f2b0d1ba96",
   "metadata": {},
   "outputs": [
    {
     "data": {
      "text/plain": [
       "'I am krishna\\nI am doing my MCA \\nI am python AI trainer'"
      ]
     },
     "execution_count": 20,
     "metadata": {},
     "output_type": "execute_result"
    }
   ],
   "source": [
    "f2.read()"
   ]
  },
  {
   "cell_type": "code",
   "execution_count": 22,
   "id": "d7c88d75-98fc-458f-830d-0c06e35db038",
   "metadata": {},
   "outputs": [
    {
     "data": {
      "text/plain": [
       "0"
      ]
     },
     "execution_count": 22,
     "metadata": {},
     "output_type": "execute_result"
    }
   ],
   "source": [
    "f2.seek(0)"
   ]
  },
  {
   "cell_type": "code",
   "execution_count": 23,
   "id": "d8351003-2ee4-4fcd-a150-fdb11423ff5d",
   "metadata": {},
   "outputs": [
    {
     "data": {
      "text/plain": [
       "'I am krishna\\n'"
      ]
     },
     "execution_count": 23,
     "metadata": {},
     "output_type": "execute_result"
    }
   ],
   "source": [
    "f2.readline()"
   ]
  },
  {
   "cell_type": "code",
   "execution_count": 24,
   "id": "0074f3bb-d7bc-4bb7-9401-cb7d123f7442",
   "metadata": {},
   "outputs": [
    {
     "name": "stdout",
     "output_type": "stream",
     "text": [
      "I am doing my MCA \n",
      "\n"
     ]
    }
   ],
   "source": [
    "print(f2.readline())"
   ]
  },
  {
   "cell_type": "code",
   "execution_count": 25,
   "id": "f153af47-28be-49a2-b331-4400b77be7f4",
   "metadata": {},
   "outputs": [
    {
     "name": "stdout",
     "output_type": "stream",
     "text": [
      "I am python AI trainer\n"
     ]
    }
   ],
   "source": [
    "print(f2.readline())"
   ]
  },
  {
   "cell_type": "code",
   "execution_count": 26,
   "id": "cee3a9dc-0a43-40f8-b170-037393948bee",
   "metadata": {},
   "outputs": [],
   "source": [
    "f2.close()"
   ]
  },
  {
   "cell_type": "code",
   "execution_count": 28,
   "id": "ff66be44-f47e-46b0-b1ae-f7db022bd284",
   "metadata": {},
   "outputs": [],
   "source": [
    "f3=open(\"xyz.txt\",'w')"
   ]
  },
  {
   "cell_type": "code",
   "execution_count": 29,
   "id": "0a898962-d01f-45b1-8696-36994f258c03",
   "metadata": {},
   "outputs": [
    {
     "data": {
      "text/plain": [
       "15"
      ]
     },
     "execution_count": 29,
     "metadata": {},
     "output_type": "execute_result"
    }
   ],
   "source": [
    "f3.write(\"This is krishna\")"
   ]
  },
  {
   "cell_type": "code",
   "execution_count": 30,
   "id": "92e06574-54f7-4e39-873a-fc61a27b95ec",
   "metadata": {},
   "outputs": [],
   "source": [
    "f3.close()"
   ]
  },
  {
   "cell_type": "code",
   "execution_count": 31,
   "id": "75f285fb-5c6d-4fb0-b581-d1eed998b600",
   "metadata": {},
   "outputs": [],
   "source": [
    "f4=open(\"xyz.txt\",\"w\")"
   ]
  },
  {
   "cell_type": "code",
   "execution_count": 32,
   "id": "cc39c7e3-065f-4b7c-b3b1-98d503c6c530",
   "metadata": {},
   "outputs": [
    {
     "data": {
      "text/plain": [
       "15"
      ]
     },
     "execution_count": 32,
     "metadata": {},
     "output_type": "execute_result"
    }
   ],
   "source": [
    "f4.write(\"This is krishna\")"
   ]
  },
  {
   "cell_type": "code",
   "execution_count": 33,
   "id": "93c75e4a-13a4-4438-96e1-18fbbef33300",
   "metadata": {},
   "outputs": [
    {
     "data": {
      "text/plain": [
       "15"
      ]
     },
     "execution_count": 33,
     "metadata": {},
     "output_type": "execute_result"
    }
   ],
   "source": [
    "f4.write(\"\\n this is kumar\")"
   ]
  },
  {
   "cell_type": "code",
   "execution_count": 34,
   "id": "bd8a2a05-2414-4488-a501-086455fd368e",
   "metadata": {},
   "outputs": [],
   "source": [
    "f4.close()"
   ]
  },
  {
   "cell_type": "code",
   "execution_count": 35,
   "id": "0b1fc1e5-6bae-49ab-9c0c-14b11edbabed",
   "metadata": {},
   "outputs": [],
   "source": [
    "f5=open(\"xyz.txt\",\"w\")"
   ]
  },
  {
   "cell_type": "code",
   "execution_count": 36,
   "id": "d43b7d7c-396a-47a1-823c-5a20f889e34d",
   "metadata": {},
   "outputs": [],
   "source": [
    "f5.writelines(\"I am krishna kumar\")"
   ]
  },
  {
   "cell_type": "code",
   "execution_count": 37,
   "id": "bda8d859-b940-4937-b83b-ec75da4573cf",
   "metadata": {},
   "outputs": [],
   "source": [
    "f5.writelines(\"I am krishna kumar\")"
   ]
  },
  {
   "cell_type": "code",
   "execution_count": 38,
   "id": "88fd3f25-2bcb-4ae5-a1c4-7a1f0b3fce13",
   "metadata": {},
   "outputs": [],
   "source": [
    "f5.close()"
   ]
  },
  {
   "cell_type": "code",
   "execution_count": 39,
   "id": "45fad9b6-92ab-472f-93d9-9cd650264709",
   "metadata": {},
   "outputs": [],
   "source": [
    "f6=open(\"abc.txt\",\"a\")"
   ]
  },
  {
   "cell_type": "code",
   "execution_count": 40,
   "id": "bfc51b4c-46ca-4340-bd62-4ff884c643f9",
   "metadata": {},
   "outputs": [
    {
     "data": {
      "text/plain": [
       "20"
      ]
     },
     "execution_count": 40,
     "metadata": {},
     "output_type": "execute_result"
    }
   ],
   "source": [
    "f6.write(\"I am Nahi sudhurunga\")"
   ]
  },
  {
   "cell_type": "code",
   "execution_count": 41,
   "id": "60679dcb-33eb-4bfd-b553-361c9c3e5d37",
   "metadata": {},
   "outputs": [],
   "source": [
    "f6.close()"
   ]
  },
  {
   "cell_type": "code",
   "execution_count": 42,
   "id": "f468566d-aafd-44c0-8d08-07c2d825c57e",
   "metadata": {},
   "outputs": [],
   "source": [
    "f7=open(\"abc.txt\",\"a\")"
   ]
  },
  {
   "cell_type": "code",
   "execution_count": 43,
   "id": "e06ef6c0-6ff1-45d6-bf6a-89b9883e98f5",
   "metadata": {},
   "outputs": [
    {
     "data": {
      "text/plain": [
       "24"
      ]
     },
     "execution_count": 43,
     "metadata": {},
     "output_type": "execute_result"
    }
   ],
   "source": [
    "f7.write(\"\\nMai bhi nahi sudhurunga\")"
   ]
  },
  {
   "cell_type": "code",
   "execution_count": 44,
   "id": "e4993118-1ae4-42d8-b5ed-d6be22be8759",
   "metadata": {},
   "outputs": [],
   "source": [
    "f7.close()"
   ]
  },
  {
   "cell_type": "code",
   "execution_count": 45,
   "id": "01238df0-92d2-4b93-8a31-15cca8f65643",
   "metadata": {},
   "outputs": [],
   "source": [
    "f8=open(\"abc.txt\",\"a\")\n",
    "for i in range(10):\n",
    "    f8.write(\"\\nHello world\")\n",
    "f8.close()"
   ]
  },
  {
   "cell_type": "code",
   "execution_count": 53,
   "id": "75a40107-9af9-4afd-a4cb-a28a9ab28f1d",
   "metadata": {},
   "outputs": [],
   "source": [
    "f9=open(\"bahubali.jfif\",'rb')\n"
   ]
  },
  {
   "cell_type": "code",
   "execution_count": 55,
   "id": "0bb3d899-51e0-4ab0-8d67-df6db015b965",
   "metadata": {},
   "outputs": [],
   "source": [
    "a=f9.read()"
   ]
  },
  {
   "cell_type": "code",
   "execution_count": 57,
   "id": "e1aaeadf-0403-4551-bc00-b853ef0bc71a",
   "metadata": {},
   "outputs": [],
   "source": [
    "f10=open('bahubali2.txt','a')"
   ]
  },
  {
   "cell_type": "code",
   "execution_count": 60,
   "id": "be2af39a-bd2a-4469-8d62-9892ae9cc9d5",
   "metadata": {},
   "outputs": [
    {
     "data": {
      "text/plain": [
       "146959"
      ]
     },
     "execution_count": 60,
     "metadata": {},
     "output_type": "execute_result"
    }
   ],
   "source": [
    "f10.write(f\"{a}\")"
   ]
  },
  {
   "cell_type": "code",
   "execution_count": 61,
   "id": "021445e0-df45-4ab8-8c09-6398c6f13784",
   "metadata": {},
   "outputs": [],
   "source": [
    "f10.close()"
   ]
  },
  {
   "cell_type": "code",
   "execution_count": null,
   "id": "5ae3f9b5-9e5b-449a-8ec1-894355884106",
   "metadata": {},
   "outputs": [],
   "source": []
  }
 ],
 "metadata": {
  "kernelspec": {
   "display_name": "Python 3 (ipykernel)",
   "language": "python",
   "name": "python3"
  },
  "language_info": {
   "codemirror_mode": {
    "name": "ipython",
    "version": 3
   },
   "file_extension": ".py",
   "mimetype": "text/x-python",
   "name": "python",
   "nbconvert_exporter": "python",
   "pygments_lexer": "ipython3",
   "version": "3.11.5"
  }
 },
 "nbformat": 4,
 "nbformat_minor": 5
}
