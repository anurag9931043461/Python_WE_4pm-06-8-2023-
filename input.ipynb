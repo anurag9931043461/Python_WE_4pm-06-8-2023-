{
 "cells": [
  {
   "cell_type": "markdown",
   "id": "25d3ff65-4c2b-481c-87f1-3656cb0a122c",
   "metadata": {},
   "source": [
    "# input()\n",
    "\n",
    "> input function is use to interact with a machine."
   ]
  },
  {
   "cell_type": "code",
   "execution_count": 2,
   "id": "0713f2c5-dead-4cb7-a6c6-46ae5839fade",
   "metadata": {},
   "outputs": [
    {
     "name": "stdin",
     "output_type": "stream",
     "text": [
      "Enter your 4 digit atm pin: 9807\n"
     ]
    }
   ],
   "source": [
    "a=input(\"Enter your 4 digit atm pin:\")"
   ]
  },
  {
   "cell_type": "code",
   "execution_count": 3,
   "id": "d31dfcdf-3487-4325-9182-d90a35ecbba5",
   "metadata": {},
   "outputs": [
    {
     "name": "stdout",
     "output_type": "stream",
     "text": [
      "9807\n"
     ]
    }
   ],
   "source": [
    "print(a)"
   ]
  },
  {
   "cell_type": "code",
   "execution_count": 4,
   "id": "1368d0ac-53f7-4f6f-a374-840d2492f7a2",
   "metadata": {},
   "outputs": [
    {
     "name": "stdin",
     "output_type": "stream",
     "text": [
      "Enter your 1st number: 10\n",
      "Enter your 2nd number: 20\n"
     ]
    },
    {
     "name": "stdout",
     "output_type": "stream",
     "text": [
      "1020\n"
     ]
    }
   ],
   "source": [
    "num1=input(\"Enter your 1st number:\")\n",
    "num2=input(\"Enter your 2nd number:\")\n",
    "print(num1+num2)"
   ]
  },
  {
   "cell_type": "code",
   "execution_count": null,
   "id": "b761badd-a395-444b-bdbf-59549eb94586",
   "metadata": {},
   "outputs": [],
   "source": [
    "num1=input(\"Enter your 1st number:\")\n",
    "num2=input(\"Enter your 2nd number:\")\n",
    "print(num1+num2)"
   ]
  },
  {
   "cell_type": "code",
   "execution_count": 6,
   "id": "2f209d49-112a-4158-aa2f-9f8ad4ec376b",
   "metadata": {},
   "outputs": [
    {
     "name": "stdout",
     "output_type": "stream",
     "text": [
      "♞\n"
     ]
    }
   ],
   "source": [
    "print(\"\\u265E\")"
   ]
  },
  {
   "cell_type": "code",
   "execution_count": 7,
   "id": "218d8851-8a83-49b8-a751-288feb6bafba",
   "metadata": {},
   "outputs": [
    {
     "name": "stdin",
     "output_type": "stream",
     "text": [
      "Enter your 1st number: 10\n",
      "Enter your 2nd number: 20\n"
     ]
    },
    {
     "name": "stdout",
     "output_type": "stream",
     "text": [
      "30\n"
     ]
    }
   ],
   "source": [
    "num1=input(\"Enter your 1st number:\")\n",
    "num1_int=int(num1)\n",
    "num2=input(\"Enter your 2nd number:\")\n",
    "num2_int=int(num2)\n",
    "print(num1_int+num2_int)"
   ]
  },
  {
   "cell_type": "code",
   "execution_count": 8,
   "id": "d16fe64f-c735-4db2-b018-ba355e5343c2",
   "metadata": {},
   "outputs": [
    {
     "name": "stdin",
     "output_type": "stream",
     "text": [
      "Enter your 1st number: 10\n",
      "Enter your 2nd number: 20\n"
     ]
    },
    {
     "name": "stdout",
     "output_type": "stream",
     "text": [
      "30\n"
     ]
    }
   ],
   "source": [
    "num1_int=int(input(\"Enter your 1st number:\"))\n",
    "num2_int=int(input(\"Enter your 2nd number:\"))\n",
    "print(num1_int+num2_int)"
   ]
  },
  {
   "cell_type": "code",
   "execution_count": 11,
   "id": "509d30d9-a06e-4045-b8f6-743609894db8",
   "metadata": {},
   "outputs": [
    {
     "name": "stdin",
     "output_type": "stream",
     "text": [
      "Enter your 1st number: 10.20\n",
      "Enter your 2nd number: 10\n"
     ]
    },
    {
     "name": "stdout",
     "output_type": "stream",
     "text": [
      "20.2\n"
     ]
    }
   ],
   "source": [
    "\n",
    "print(eval(input(\"Enter your 1st number:\"))+eval(input(\"Enter your 2nd number:\")))"
   ]
  },
  {
   "cell_type": "code",
   "execution_count": null,
   "id": "05ec248d-cf7c-459f-b310-c93b046d52ec",
   "metadata": {},
   "outputs": [],
   "source": []
  }
 ],
 "metadata": {
  "kernelspec": {
   "display_name": "Python 3 (ipykernel)",
   "language": "python",
   "name": "python3"
  },
  "language_info": {
   "codemirror_mode": {
    "name": "ipython",
    "version": 3
   },
   "file_extension": ".py",
   "mimetype": "text/x-python",
   "name": "python",
   "nbconvert_exporter": "python",
   "pygments_lexer": "ipython3",
   "version": "3.11.4"
  }
 },
 "nbformat": 4,
 "nbformat_minor": 5
}
