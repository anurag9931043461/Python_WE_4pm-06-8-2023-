{
 "cells": [
  {
   "cell_type": "markdown",
   "id": "bb619c3a-4fdd-463b-acc8-32e35a7194f6",
   "metadata": {},
   "source": [
    "> Function: def name(arg(s))\n",
    "\n",
    "> lambda ==> anonymous"
   ]
  },
  {
   "cell_type": "code",
   "execution_count": 1,
   "id": "0029182b-7616-475e-8e94-1fefc238a3b4",
   "metadata": {},
   "outputs": [],
   "source": [
    "a=10\n",
    "b=20"
   ]
  },
  {
   "cell_type": "code",
   "execution_count": 2,
   "id": "3b9d1ab6-6be3-4ee1-85e7-49d1d9c09099",
   "metadata": {},
   "outputs": [],
   "source": [
    "def intro():\n",
    "    for i in range(5):\n",
    "        print(i,\"hello world\")"
   ]
  },
  {
   "cell_type": "code",
   "execution_count": 3,
   "id": "f98c174a-5745-47e9-bac6-b5523d6d49b4",
   "metadata": {},
   "outputs": [
    {
     "name": "stdout",
     "output_type": "stream",
     "text": [
      "0 hello world\n",
      "1 hello world\n",
      "2 hello world\n",
      "3 hello world\n",
      "4 hello world\n"
     ]
    }
   ],
   "source": [
    "for i in range(5):\n",
    "    print(i,\"hello world\")"
   ]
  },
  {
   "cell_type": "code",
   "execution_count": 4,
   "id": "a347a8a3-133b-4b3d-87ce-8a5bf1219596",
   "metadata": {},
   "outputs": [
    {
     "name": "stdout",
     "output_type": "stream",
     "text": [
      "I am krishna\n"
     ]
    }
   ],
   "source": [
    "print(\"I am krishna\")"
   ]
  },
  {
   "cell_type": "code",
   "execution_count": 5,
   "id": "d7594082-b556-4de9-92d3-5cd5f34d8e0e",
   "metadata": {},
   "outputs": [
    {
     "name": "stdout",
     "output_type": "stream",
     "text": [
      "0 hello world\n",
      "1 hello world\n",
      "2 hello world\n",
      "3 hello world\n",
      "4 hello world\n"
     ]
    }
   ],
   "source": [
    "for i in range(5):\n",
    "    print(i,\"hello world\")"
   ]
  },
  {
   "cell_type": "code",
   "execution_count": 6,
   "id": "e4ad85fb-bacb-4935-9c19-fc267d5f5267",
   "metadata": {},
   "outputs": [
    {
     "name": "stdout",
     "output_type": "stream",
     "text": [
      "0 hello world\n",
      "1 hello world\n",
      "2 hello world\n",
      "3 hello world\n",
      "4 hello world\n"
     ]
    }
   ],
   "source": [
    "intro()"
   ]
  },
  {
   "cell_type": "code",
   "execution_count": 7,
   "id": "1aa564f0-96a1-4815-9610-aecb46b87800",
   "metadata": {},
   "outputs": [
    {
     "name": "stdout",
     "output_type": "stream",
     "text": [
      "I am krishna\n"
     ]
    }
   ],
   "source": [
    "print(\"I am krishna\")"
   ]
  },
  {
   "cell_type": "code",
   "execution_count": 8,
   "id": "50a3b147-8864-476e-a921-798595b90572",
   "metadata": {},
   "outputs": [
    {
     "name": "stdout",
     "output_type": "stream",
     "text": [
      "0 hello world\n",
      "1 hello world\n",
      "2 hello world\n",
      "3 hello world\n",
      "4 hello world\n"
     ]
    }
   ],
   "source": [
    "intro()"
   ]
  },
  {
   "cell_type": "code",
   "execution_count": 12,
   "id": "ed0510ac-5463-4afa-b903-14e650467f2e",
   "metadata": {},
   "outputs": [],
   "source": [
    "def intro():\n",
    "    a=int(input(\"Enter number of iteration you required:\"))\n",
    "    for i in range(a):\n",
    "        print(i,\"hello world\")"
   ]
  },
  {
   "cell_type": "code",
   "execution_count": 13,
   "id": "064dea1d-fb98-45d5-a676-51b87e85aa5a",
   "metadata": {},
   "outputs": [
    {
     "name": "stdout",
     "output_type": "stream",
     "text": [
      "Enter number of iteration you required: 10\n"
     ]
    },
    {
     "name": "stdout",
     "output_type": "stream",
     "text": [
      "0 hello world\n",
      "1 hello world\n",
      "2 hello world\n",
      "3 hello world\n",
      "4 hello world\n",
      "5 hello world\n",
      "6 hello world\n",
      "7 hello world\n",
      "8 hello world\n",
      "9 hello world\n"
     ]
    }
   ],
   "source": [
    "intro()"
   ]
  },
  {
   "cell_type": "code",
   "execution_count": 14,
   "id": "8d17b7cb-42b8-4f35-bb0a-f8c1792fc443",
   "metadata": {},
   "outputs": [
    {
     "name": "stdout",
     "output_type": "stream",
     "text": [
      "Enter number of iteration you required: 5\n"
     ]
    },
    {
     "name": "stdout",
     "output_type": "stream",
     "text": [
      "0 hello world\n",
      "1 hello world\n",
      "2 hello world\n",
      "3 hello world\n",
      "4 hello world\n"
     ]
    }
   ],
   "source": [
    "intro()"
   ]
  },
  {
   "cell_type": "markdown",
   "id": "4946290c-3487-4e2c-aeac-139d3aa2c03f",
   "metadata": {},
   "source": [
    "# variable,identifier,argument, object"
   ]
  },
  {
   "cell_type": "code",
   "execution_count": 15,
   "id": "5bf9b054-3fcc-42b7-8bd6-14aa9c4ce803",
   "metadata": {},
   "outputs": [],
   "source": [
    "def intro(a):\n",
    "    for i in range(a):\n",
    "        print(i,\"hello world\")"
   ]
  },
  {
   "cell_type": "code",
   "execution_count": 16,
   "id": "31cf0ef9-9128-4a24-98f9-25cbabbb06d5",
   "metadata": {},
   "outputs": [
    {
     "ename": "TypeError",
     "evalue": "intro() missing 1 required positional argument: 'a'",
     "output_type": "error",
     "traceback": [
      "\u001b[1;31m---------------------------------------------------------------------------\u001b[0m",
      "\u001b[1;31mTypeError\u001b[0m                                 Traceback (most recent call last)",
      "Cell \u001b[1;32mIn[16], line 1\u001b[0m\n\u001b[1;32m----> 1\u001b[0m \u001b[43mintro\u001b[49m\u001b[43m(\u001b[49m\u001b[43m)\u001b[49m\n",
      "\u001b[1;31mTypeError\u001b[0m: intro() missing 1 required positional argument: 'a'"
     ]
    }
   ],
   "source": [
    "intro()"
   ]
  },
  {
   "cell_type": "code",
   "execution_count": 17,
   "id": "1e82aab8-eec4-4892-aa32-ae8885052b14",
   "metadata": {},
   "outputs": [
    {
     "name": "stdout",
     "output_type": "stream",
     "text": [
      "0 hello world\n",
      "1 hello world\n",
      "2 hello world\n",
      "3 hello world\n",
      "4 hello world\n",
      "5 hello world\n",
      "6 hello world\n",
      "7 hello world\n",
      "8 hello world\n",
      "9 hello world\n"
     ]
    }
   ],
   "source": [
    "intro(10)"
   ]
  },
  {
   "cell_type": "code",
   "execution_count": 20,
   "id": "79e808c5-1558-44ea-94b5-108fd85d6a4e",
   "metadata": {},
   "outputs": [],
   "source": [
    "e=10\n",
    "def intro(a):\n",
    "    for i in range(a):\n",
    "        print(i,\"hello world\")"
   ]
  },
  {
   "cell_type": "code",
   "execution_count": 21,
   "id": "73ce482b-eb71-4e70-b031-40a7fe1ec4e1",
   "metadata": {},
   "outputs": [
    {
     "name": "stdout",
     "output_type": "stream",
     "text": [
      "0 hello world\n",
      "1 hello world\n",
      "2 hello world\n",
      "3 hello world\n",
      "4 hello world\n",
      "5 hello world\n",
      "6 hello world\n",
      "7 hello world\n",
      "8 hello world\n",
      "9 hello world\n"
     ]
    }
   ],
   "source": [
    "intro(e)"
   ]
  },
  {
   "cell_type": "code",
   "execution_count": 24,
   "id": "3dcc4322-e8cf-4dc0-8535-8eadfd733b4b",
   "metadata": {},
   "outputs": [],
   "source": [
    "def intro(a,b):\n",
    "    for i in range(a,b):\n",
    "        print(i,\"hello world\")"
   ]
  },
  {
   "cell_type": "code",
   "execution_count": 25,
   "id": "43fc8ef5-8216-4b59-98c6-ab5d7aeff464",
   "metadata": {},
   "outputs": [
    {
     "name": "stdout",
     "output_type": "stream",
     "text": [
      "2 hello world\n",
      "3 hello world\n",
      "4 hello world\n"
     ]
    }
   ],
   "source": [
    "intro(2,5)"
   ]
  },
  {
   "cell_type": "code",
   "execution_count": 31,
   "id": "1ee80fa0-95e7-48f6-847f-9eb04a2addf5",
   "metadata": {},
   "outputs": [],
   "source": [
    "def intro(a,b,c=2):\n",
    "    for i in range(a,b,c):\n",
    "        print(i,\"hello world\")"
   ]
  },
  {
   "cell_type": "code",
   "execution_count": 33,
   "id": "1ba5801c-b83f-40f7-9c06-4e2ce2103339",
   "metadata": {},
   "outputs": [
    {
     "name": "stdout",
     "output_type": "stream",
     "text": [
      "2 hello world\n",
      "4 hello world\n",
      "6 hello world\n",
      "8 hello world\n"
     ]
    }
   ],
   "source": [
    "intro(2,10)"
   ]
  },
  {
   "cell_type": "code",
   "execution_count": 35,
   "id": "313560b3-870d-4eae-b5b6-5c12bc230e25",
   "metadata": {},
   "outputs": [
    {
     "name": "stdout",
     "output_type": "stream",
     "text": [
      "2 hello world\n",
      "3 hello world\n",
      "4 hello world\n",
      "5 hello world\n",
      "6 hello world\n",
      "7 hello world\n",
      "8 hello world\n",
      "9 hello world\n"
     ]
    }
   ],
   "source": [
    "intro(2,10,1)"
   ]
  },
  {
   "cell_type": "code",
   "execution_count": 36,
   "id": "aa982c34-c59c-4e0a-b6ff-45045db6d552",
   "metadata": {},
   "outputs": [
    {
     "ename": "SyntaxError",
     "evalue": "non-default argument follows default argument (3334862653.py, line 1)",
     "output_type": "error",
     "traceback": [
      "\u001b[1;36m  Cell \u001b[1;32mIn[36], line 1\u001b[1;36m\u001b[0m\n\u001b[1;33m    def intro(c=2,a,b):\u001b[0m\n\u001b[1;37m                  ^\u001b[0m\n\u001b[1;31mSyntaxError\u001b[0m\u001b[1;31m:\u001b[0m non-default argument follows default argument\n"
     ]
    }
   ],
   "source": [
    "def intro(c=2,a,b):\n",
    "    for i in range(a,b,c):\n",
    "        print(i,\"hello world\")"
   ]
  },
  {
   "cell_type": "code",
   "execution_count": 37,
   "id": "931e41ec-6ff5-46dd-9843-f8920dd8c7b4",
   "metadata": {},
   "outputs": [
    {
     "name": "stdout",
     "output_type": "stream",
     "text": [
      "hello, this is krishna\n"
     ]
    }
   ],
   "source": [
    "print(\"hello, this is krishna\")"
   ]
  },
  {
   "cell_type": "code",
   "execution_count": 41,
   "id": "f9d07715-7b16-4035-8e5f-bd57a35cb99e",
   "metadata": {},
   "outputs": [],
   "source": [
    "def name():\n",
    "    print(\"hello, this is krishna\")    "
   ]
  },
  {
   "cell_type": "code",
   "execution_count": 42,
   "id": "c47145fe-b78c-421c-92af-59b52b5cf00d",
   "metadata": {},
   "outputs": [
    {
     "name": "stdout",
     "output_type": "stream",
     "text": [
      "hello, this is krishna\n"
     ]
    }
   ],
   "source": [
    "name()"
   ]
  },
  {
   "cell_type": "raw",
   "id": "91bf0cab-fe91-43d5-972a-53e9d6d613e8",
   "metadata": {},
   "source": [
    "function:\n",
    "\n",
    "def function\n",
    "    > local variable \n",
    "    > local scope\n",
    "    > global variable\n",
    "    > global scope\n",
    "    > return keyword\n",
    "    > arguments:\n",
    "        > default argument\n",
    "        > positional argument\n",
    "        > keyword argument\n",
    "        > arbitrary positional argument\n",
    "        > arbitrary keyword argument\n",
    "    > decorator \n",
    "    > generator(,yield)\n",
    "    > nested function \n",
    "lambda function(anonymous function)"
   ]
  },
  {
   "cell_type": "code",
   "execution_count": 1,
   "id": "22cb6de7-9f68-4bab-8871-dbc218834b86",
   "metadata": {},
   "outputs": [],
   "source": [
    "def add(a,b):\n",
    "    print(a+b)"
   ]
  },
  {
   "cell_type": "code",
   "execution_count": 2,
   "id": "9d49cc16-8264-44c0-819a-bde411af8d46",
   "metadata": {},
   "outputs": [
    {
     "name": "stdout",
     "output_type": "stream",
     "text": [
      "30\n"
     ]
    }
   ],
   "source": [
    "add(10,20)"
   ]
  },
  {
   "cell_type": "code",
   "execution_count": 3,
   "id": "a4a8b898-18d6-4418-9572-125d88af5eee",
   "metadata": {},
   "outputs": [],
   "source": [
    "def add1():\n",
    "    a=10\n",
    "    b=20\n",
    "    print(a+b)"
   ]
  },
  {
   "cell_type": "code",
   "execution_count": 4,
   "id": "acef321c-6550-4814-a5d6-74e1e56eed96",
   "metadata": {},
   "outputs": [
    {
     "name": "stdout",
     "output_type": "stream",
     "text": [
      "30\n"
     ]
    }
   ],
   "source": [
    "add1()"
   ]
  },
  {
   "cell_type": "code",
   "execution_count": 5,
   "id": "3731eb35-f0a1-4f92-ac59-185c7fe37be9",
   "metadata": {},
   "outputs": [
    {
     "ename": "NameError",
     "evalue": "name 'a' is not defined",
     "output_type": "error",
     "traceback": [
      "\u001b[1;31m---------------------------------------------------------------------------\u001b[0m",
      "\u001b[1;31mNameError\u001b[0m                                 Traceback (most recent call last)",
      "Cell \u001b[1;32mIn[5], line 1\u001b[0m\n\u001b[1;32m----> 1\u001b[0m \u001b[38;5;28mprint\u001b[39m(\u001b[43ma\u001b[49m)\n",
      "\u001b[1;31mNameError\u001b[0m: name 'a' is not defined"
     ]
    }
   ],
   "source": [
    "print(a)"
   ]
  },
  {
   "cell_type": "code",
   "execution_count": 6,
   "id": "953c4d02-5d9a-413e-a24c-7a045b4d8a45",
   "metadata": {},
   "outputs": [
    {
     "ename": "NameError",
     "evalue": "name 'b' is not defined",
     "output_type": "error",
     "traceback": [
      "\u001b[1;31m---------------------------------------------------------------------------\u001b[0m",
      "\u001b[1;31mNameError\u001b[0m                                 Traceback (most recent call last)",
      "Cell \u001b[1;32mIn[6], line 1\u001b[0m\n\u001b[1;32m----> 1\u001b[0m \u001b[38;5;28mprint\u001b[39m(\u001b[43mb\u001b[49m)\n",
      "\u001b[1;31mNameError\u001b[0m: name 'b' is not defined"
     ]
    }
   ],
   "source": [
    "print(b)"
   ]
  },
  {
   "cell_type": "code",
   "execution_count": 7,
   "id": "edba8f89-fc14-44cd-950c-eaad9d413c46",
   "metadata": {},
   "outputs": [],
   "source": [
    "def add2():\n",
    "    global a,b\n",
    "    a=10\n",
    "    b=20\n",
    "    print(a+b)"
   ]
  },
  {
   "cell_type": "code",
   "execution_count": 8,
   "id": "d9a690a2-a944-418c-aeee-066ce29a1f73",
   "metadata": {},
   "outputs": [
    {
     "name": "stdout",
     "output_type": "stream",
     "text": [
      "30\n"
     ]
    }
   ],
   "source": [
    "add2()"
   ]
  },
  {
   "cell_type": "code",
   "execution_count": 9,
   "id": "0331397f-e3d9-4ffa-8e9e-7b08ff49d576",
   "metadata": {},
   "outputs": [
    {
     "name": "stdout",
     "output_type": "stream",
     "text": [
      "10\n"
     ]
    }
   ],
   "source": [
    "print(a)"
   ]
  },
  {
   "cell_type": "code",
   "execution_count": 10,
   "id": "07b26911-7a8a-48ba-afba-fec00b1edc9d",
   "metadata": {},
   "outputs": [
    {
     "name": "stdout",
     "output_type": "stream",
     "text": [
      "20\n"
     ]
    }
   ],
   "source": [
    "print(b)"
   ]
  },
  {
   "cell_type": "code",
   "execution_count": 11,
   "id": "71b3a411-f3e3-47b8-98f8-bdcdc3d463f8",
   "metadata": {},
   "outputs": [],
   "source": [
    "x=10"
   ]
  },
  {
   "cell_type": "code",
   "execution_count": 12,
   "id": "8cde1d2d-cae5-4ff4-8d24-b42487673e7f",
   "metadata": {},
   "outputs": [],
   "source": [
    "y=20"
   ]
  },
  {
   "cell_type": "code",
   "execution_count": 15,
   "id": "e5fdab5b-dba9-4f53-9d97-6bd29c8d4275",
   "metadata": {},
   "outputs": [],
   "source": [
    "def add3():\n",
    "    print(x+y)"
   ]
  },
  {
   "cell_type": "code",
   "execution_count": 17,
   "id": "2cd07a0d-2430-45df-829c-ca14dc96d5d7",
   "metadata": {},
   "outputs": [
    {
     "name": "stdout",
     "output_type": "stream",
     "text": [
      "30\n"
     ]
    }
   ],
   "source": [
    "k=add3()"
   ]
  },
  {
   "cell_type": "code",
   "execution_count": 21,
   "id": "6bb615ef-1a05-4896-acc3-e2c39d449adf",
   "metadata": {},
   "outputs": [],
   "source": [
    "k"
   ]
  },
  {
   "cell_type": "code",
   "execution_count": 20,
   "id": "44e2ade8-d3ea-4eb5-bd82-b5e9bd085258",
   "metadata": {},
   "outputs": [
    {
     "name": "stdout",
     "output_type": "stream",
     "text": [
      "hello world\n",
      "None\n"
     ]
    }
   ],
   "source": [
    "print(print(\"hello world\"))"
   ]
  },
  {
   "cell_type": "code",
   "execution_count": 22,
   "id": "9f6e0399-6004-40e4-87dc-95b81380a636",
   "metadata": {},
   "outputs": [],
   "source": [
    "def add3():\n",
    "    return (x+y)"
   ]
  },
  {
   "cell_type": "code",
   "execution_count": 24,
   "id": "f447e66e-bf56-4a1d-ac21-e6635e1481a0",
   "metadata": {},
   "outputs": [],
   "source": [
    "a=add3()"
   ]
  },
  {
   "cell_type": "code",
   "execution_count": 25,
   "id": "823a0980-9ac7-47e8-9d46-d398b3f8ad23",
   "metadata": {},
   "outputs": [
    {
     "name": "stdout",
     "output_type": "stream",
     "text": [
      "30\n"
     ]
    }
   ],
   "source": [
    "print(a)"
   ]
  },
  {
   "cell_type": "code",
   "execution_count": 26,
   "id": "3ee09958-386a-41cb-a07e-3d570c734a62",
   "metadata": {},
   "outputs": [
    {
     "data": {
      "text/plain": [
       "60"
      ]
     },
     "execution_count": 26,
     "metadata": {},
     "output_type": "execute_result"
    }
   ],
   "source": [
    "a*2"
   ]
  },
  {
   "cell_type": "code",
   "execution_count": 27,
   "id": "148d5f07-634e-491d-87ea-6aba21d85f43",
   "metadata": {},
   "outputs": [],
   "source": [
    "def add4():\n",
    "    return(x+y)\n",
    "    return(x-y)"
   ]
  },
  {
   "cell_type": "code",
   "execution_count": 28,
   "id": "50bd4719-37d0-42a4-8dd7-1e2412ac78b7",
   "metadata": {},
   "outputs": [
    {
     "data": {
      "text/plain": [
       "30"
      ]
     },
     "execution_count": 28,
     "metadata": {},
     "output_type": "execute_result"
    }
   ],
   "source": [
    "add4()"
   ]
  },
  {
   "cell_type": "code",
   "execution_count": 30,
   "id": "d1d78f85-87be-4007-953c-67a49835e573",
   "metadata": {},
   "outputs": [
    {
     "name": "stdout",
     "output_type": "stream",
     "text": [
      "Enter a number: 10.25\n",
      "Enter second number: 235\n",
      "Enter an operator +,-,/,*: /\n"
     ]
    },
    {
     "name": "stdout",
     "output_type": "stream",
     "text": [
      "0.043617021276595745\n"
     ]
    }
   ],
   "source": [
    "num1=eval(input(\"Enter a number:\"))\n",
    "num2=eval(input(\"Enter second number:\"))\n",
    "option=input(\"Enter an operator +,-,/,*:\")\n",
    "if option==\"+\":\n",
    "    print(num1+num2)\n",
    "elif option ==\"-\":\n",
    "    print(num1-num2)\n",
    "elif option==\"/\":\n",
    "    print(num1/num2)\n",
    "elif option==\"*\":\n",
    "    print(num1*num2)\n",
    "else:\n",
    "    print(\"Kindly choose a valid option\")\n",
    "    "
   ]
  },
  {
   "cell_type": "code",
   "execution_count": 35,
   "id": "1604f3f4-155b-45b1-9963-14b426dd0399",
   "metadata": {},
   "outputs": [],
   "source": [
    "def calculator():\n",
    "    num1=eval(input(\"Enter a number:\"))\n",
    "    num2=eval(input(\"Enter second number:\"))\n",
    "    option=input(\"Enter an operator +,-,/,*:\")\n",
    "    if option==\"+\":\n",
    "        result=(num1+num2)\n",
    "    elif option ==\"-\":\n",
    "        result=(num1-num2)\n",
    "    elif option==\"/\":\n",
    "        result=(num1/num2)\n",
    "    elif option==\"*\":\n",
    "        result=(num1*num2)\n",
    "    else:\n",
    "        result=(\"Kindly choose a valid option\")\n",
    "    return result"
   ]
  },
  {
   "cell_type": "code",
   "execution_count": 36,
   "id": "5b767544-3727-438d-af26-80af9e447c8d",
   "metadata": {},
   "outputs": [
    {
     "name": "stdout",
     "output_type": "stream",
     "text": [
      "Enter a number: 10\n",
      "Enter second number: 2\n",
      "Enter an operator +,-,/,*: +\n"
     ]
    }
   ],
   "source": [
    "a=calculator()"
   ]
  },
  {
   "cell_type": "code",
   "execution_count": 37,
   "id": "7409fc7b-af53-4c26-a889-4558f7c996f3",
   "metadata": {},
   "outputs": [
    {
     "data": {
      "text/plain": [
       "12"
      ]
     },
     "execution_count": 37,
     "metadata": {},
     "output_type": "execute_result"
    }
   ],
   "source": [
    "a"
   ]
  },
  {
   "cell_type": "code",
   "execution_count": 38,
   "id": "60da63ab-d1ba-41b7-88c5-97dd004f1b75",
   "metadata": {},
   "outputs": [
    {
     "name": "stdout",
     "output_type": "stream",
     "text": [
      "Enter a number: 10\n",
      "Enter second number: 20\n",
      "Enter an operator +,-,/,*: +\n",
      "Enter a number: 10\n",
      "Enter second number: 20\n",
      "Enter an operator +,-,/,*: *\n"
     ]
    },
    {
     "data": {
      "text/plain": [
       "-170"
      ]
     },
     "execution_count": 38,
     "metadata": {},
     "output_type": "execute_result"
    }
   ],
   "source": [
    "calculator()-calculator()"
   ]
  },
  {
   "cell_type": "markdown",
   "id": "c18cc1e4-bebd-4037-9d01-c4a8b0b6f182",
   "metadata": {},
   "source": [
    "# argument:"
   ]
  },
  {
   "cell_type": "code",
   "execution_count": 39,
   "id": "371ce734-927f-490e-8770-cde6bb5b92e6",
   "metadata": {},
   "outputs": [],
   "source": [
    "def add7(a=10,b=20):     # default argument.\n",
    "    print(a+b)\n",
    "    "
   ]
  },
  {
   "cell_type": "code",
   "execution_count": 40,
   "id": "09207a4b-887d-476f-a97a-76ae526b1414",
   "metadata": {},
   "outputs": [
    {
     "name": "stdout",
     "output_type": "stream",
     "text": [
      "30\n"
     ]
    }
   ],
   "source": [
    "add7()"
   ]
  },
  {
   "cell_type": "code",
   "execution_count": 43,
   "id": "28324fb9-0a28-44e5-a84b-964ec4cbd581",
   "metadata": {},
   "outputs": [
    {
     "name": "stdout",
     "output_type": "stream",
     "text": [
      "120\n"
     ]
    }
   ],
   "source": [
    "add7(100)"
   ]
  },
  {
   "cell_type": "code",
   "execution_count": 41,
   "id": "0b081826-dc89-4427-9e11-11453897f8a5",
   "metadata": {},
   "outputs": [
    {
     "name": "stdout",
     "output_type": "stream",
     "text": [
      "3000\n"
     ]
    }
   ],
   "source": [
    "add7(1000,2000)"
   ]
  },
  {
   "cell_type": "code",
   "execution_count": 42,
   "id": "ca97d226-8640-445f-b7e7-c31b44e931ee",
   "metadata": {},
   "outputs": [
    {
     "name": "stdout",
     "output_type": "stream",
     "text": [
      "30\n"
     ]
    }
   ],
   "source": [
    "add7()"
   ]
  },
  {
   "cell_type": "markdown",
   "id": "54b251d6-f127-43cc-ba6d-d7b59d70d23e",
   "metadata": {},
   "source": [
    "# positional argument"
   ]
  },
  {
   "cell_type": "code",
   "execution_count": 45,
   "id": "b55ac792-2fff-4d46-977a-00840d612ce9",
   "metadata": {},
   "outputs": [],
   "source": [
    "def add8(a,b):\n",
    "    print(a-b)"
   ]
  },
  {
   "cell_type": "code",
   "execution_count": 46,
   "id": "dce3ef70-6cca-45e3-aef7-909672ac4457",
   "metadata": {},
   "outputs": [
    {
     "name": "stdout",
     "output_type": "stream",
     "text": [
      "-10\n"
     ]
    }
   ],
   "source": [
    "add8(10,20)"
   ]
  },
  {
   "cell_type": "markdown",
   "id": "32b21d4c-59a6-4ebd-828b-822cc9aa1e33",
   "metadata": {},
   "source": [
    "# keyword argument"
   ]
  },
  {
   "cell_type": "code",
   "execution_count": 50,
   "id": "36ac3305-32f6-47a8-b93f-3ec8dd61df88",
   "metadata": {},
   "outputs": [],
   "source": [
    "def add9(a,b):\n",
    "    print(\"a:\",a)\n",
    "    print(\"b:\",b)\n",
    "    print(a-b)"
   ]
  },
  {
   "cell_type": "code",
   "execution_count": 51,
   "id": "fc36efbc-7a5a-43c3-95a7-dbf156d3248c",
   "metadata": {},
   "outputs": [
    {
     "name": "stdout",
     "output_type": "stream",
     "text": [
      "a: 20\n",
      "b: 10\n",
      "10\n"
     ]
    }
   ],
   "source": [
    "add9(b=10,a=20)"
   ]
  },
  {
   "cell_type": "code",
   "execution_count": 52,
   "id": "de0df49b-3ea1-407a-96ac-933687810dcd",
   "metadata": {},
   "outputs": [
    {
     "name": "stdout",
     "output_type": "stream",
     "text": [
      "a: 10\n",
      "b: 20\n",
      "-10\n"
     ]
    }
   ],
   "source": [
    "add9(10,20)"
   ]
  },
  {
   "cell_type": "code",
   "execution_count": null,
   "id": "fb8cefcc-b6a5-4901-8634-3e15d016f06f",
   "metadata": {},
   "outputs": [],
   "source": []
  },
  {
   "cell_type": "markdown",
   "id": "46d6acda-6cef-4afb-8652-eea82d5c015b",
   "metadata": {},
   "source": [
    "# arbitrary positional argument"
   ]
  },
  {
   "cell_type": "code",
   "execution_count": 56,
   "id": "f9d27b54-1e0c-48aa-91f6-a7e81a665f8d",
   "metadata": {},
   "outputs": [],
   "source": [
    "def add10(*n):\n",
    "    print(n)"
   ]
  },
  {
   "cell_type": "code",
   "execution_count": 57,
   "id": "fe6b780e-ecac-4708-a194-a3b2078ee4e6",
   "metadata": {},
   "outputs": [],
   "source": [
    "a=1,2,3,4,5,6,7"
   ]
  },
  {
   "cell_type": "code",
   "execution_count": 55,
   "id": "b1cbf92e-8996-498b-9249-06ba0b294a6c",
   "metadata": {},
   "outputs": [
    {
     "name": "stdout",
     "output_type": "stream",
     "text": [
      "(1, 2, 3, 4, 5, 6, 7)\n"
     ]
    }
   ],
   "source": [
    "print(a)"
   ]
  },
  {
   "cell_type": "code",
   "execution_count": 58,
   "id": "5705ed93-7b6b-407d-a48f-4879d37b9640",
   "metadata": {},
   "outputs": [
    {
     "name": "stdout",
     "output_type": "stream",
     "text": [
      "(2, 3, 4, 5, 34, 32, 43, 54, 65, 76)\n"
     ]
    }
   ],
   "source": [
    "add10(2,3,4,5,34,32,43,54,65,76,)"
   ]
  },
  {
   "cell_type": "code",
   "execution_count": 63,
   "id": "092032f8-d8df-4ec6-9e08-7ca40d7da0d7",
   "metadata": {},
   "outputs": [],
   "source": [
    "def add11(*n):\n",
    "    k=0\n",
    "    for i in n:\n",
    "        k=k+i\n",
    "    print(k)"
   ]
  },
  {
   "cell_type": "code",
   "execution_count": 64,
   "id": "6f65c9b5-c28f-4d3e-bfb6-4cdfe0ced583",
   "metadata": {},
   "outputs": [
    {
     "name": "stdout",
     "output_type": "stream",
     "text": [
      "11637\n"
     ]
    }
   ],
   "source": [
    "add11(2,3,45,32,32,4534,5234,234,23,432,42,34,234,234,23,423,42,34)"
   ]
  },
  {
   "cell_type": "code",
   "execution_count": 65,
   "id": "61caba6e-f3c2-46f2-85d5-0b16450c9c46",
   "metadata": {},
   "outputs": [],
   "source": [
    "def add12(**n):\n",
    "    print(n)"
   ]
  },
  {
   "cell_type": "code",
   "execution_count": 66,
   "id": "864f7128-685d-435f-bbb2-3770b7cf3392",
   "metadata": {},
   "outputs": [
    {
     "name": "stdout",
     "output_type": "stream",
     "text": [
      "{'name': 'krishna', 'age': 27, 'weight': 72}\n"
     ]
    }
   ],
   "source": [
    "add12(name=\"krishna\",age=27,weight=72)"
   ]
  },
  {
   "cell_type": "code",
   "execution_count": 67,
   "id": "1be34bd7-2bcd-4baa-96b5-143d25dae5ba",
   "metadata": {},
   "outputs": [],
   "source": [
    "def add13(**n):\n",
    "    for i in n.items():\n",
    "        print(i)"
   ]
  },
  {
   "cell_type": "code",
   "execution_count": 68,
   "id": "f7fbe4c3-7532-48b7-b837-4b1b7551b243",
   "metadata": {},
   "outputs": [
    {
     "name": "stdout",
     "output_type": "stream",
     "text": [
      "('name', 'krishna')\n",
      "('age', 27)\n",
      "('weight', 72)\n"
     ]
    }
   ],
   "source": [
    "add13(name=\"krishna\",age=27,weight=72)"
   ]
  },
  {
   "cell_type": "markdown",
   "id": "ce337b3a-8d43-4f50-8f63-1491368ce7d0",
   "metadata": {},
   "source": [
    "> decorator \n",
    "\n",
    "> generator(,yield)\n",
    "\n",
    "> nested function \n",
    "\n",
    "> lambda function(anonymous function)"
   ]
  },
  {
   "cell_type": "code",
   "execution_count": 21,
   "id": "cecaec30-0195-4859-be66-7ebfd7e77355",
   "metadata": {},
   "outputs": [],
   "source": [
    "def intro():\n",
    "    print(\"I am krishna\")"
   ]
  },
  {
   "cell_type": "code",
   "execution_count": 22,
   "id": "a9aea78f-e892-4432-9af8-21fb1ffccc03",
   "metadata": {},
   "outputs": [
    {
     "name": "stdout",
     "output_type": "stream",
     "text": [
      "I am krishna\n"
     ]
    }
   ],
   "source": [
    "intro()"
   ]
  },
  {
   "cell_type": "code",
   "execution_count": 29,
   "id": "a9b1d95d-1e6a-442d-9bd5-b07d0ea83a28",
   "metadata": {},
   "outputs": [],
   "source": [
    "def super(arg):\n",
    "    def inner():\n",
    "        arg()\n",
    "        print(\"I am an AI trainer\")\n",
    "    return inner"
   ]
  },
  {
   "cell_type": "code",
   "execution_count": 31,
   "id": "868251b3-1c39-4ed7-a95f-f382408b5510",
   "metadata": {},
   "outputs": [],
   "source": [
    "val=super(intro)"
   ]
  },
  {
   "cell_type": "code",
   "execution_count": 33,
   "id": "3a2c2386-42a5-45eb-b2dc-cbcafc25954f",
   "metadata": {},
   "outputs": [
    {
     "name": "stdout",
     "output_type": "stream",
     "text": [
      "I am krishna\n",
      "I am an AI trainer\n"
     ]
    }
   ],
   "source": [
    "val()"
   ]
  },
  {
   "cell_type": "markdown",
   "id": "af1d228a-db14-4a84-83af-5c37d7bcbc34",
   "metadata": {},
   "source": [
    "# decorator"
   ]
  },
  {
   "cell_type": "code",
   "execution_count": 35,
   "id": "67287292-f271-42bc-b054-4398a6eccaaf",
   "metadata": {},
   "outputs": [],
   "source": [
    "def super(arg):\n",
    "    def inner():\n",
    "        arg()\n",
    "        print(\"I am an AI trainer\")\n",
    "    return inner\n",
    "# val=super(intro)\n",
    "# val()\n",
    "@super\n",
    "def intro():\n",
    "    print(\"i am krishna\")"
   ]
  },
  {
   "cell_type": "code",
   "execution_count": 36,
   "id": "86dff2fd-6c64-4f5b-8b74-8304ca2a3c7d",
   "metadata": {},
   "outputs": [
    {
     "name": "stdout",
     "output_type": "stream",
     "text": [
      "i am krishna\n",
      "I am an AI trainer\n"
     ]
    }
   ],
   "source": [
    "intro()"
   ]
  },
  {
   "cell_type": "markdown",
   "id": "24dfa88c-4336-4d2b-a3a7-17513d1e52af",
   "metadata": {},
   "source": [
    "# generator--> yield"
   ]
  },
  {
   "cell_type": "code",
   "execution_count": 38,
   "id": "21baf8d3-b12f-4e7d-99f3-09c63327f554",
   "metadata": {},
   "outputs": [],
   "source": [
    "def krishna():\n",
    "    yield 1\n",
    "    yield 2\n",
    "    yield 3"
   ]
  },
  {
   "cell_type": "code",
   "execution_count": 47,
   "id": "a71f57ef-e2c1-4ee1-9e48-0d656dc762ba",
   "metadata": {},
   "outputs": [],
   "source": [
    "x=krishna()"
   ]
  },
  {
   "cell_type": "code",
   "execution_count": 42,
   "id": "f20e1f55-6bc3-436d-b157-7efd57f44870",
   "metadata": {},
   "outputs": [],
   "source": [
    "#next(), x.__next__()"
   ]
  },
  {
   "cell_type": "code",
   "execution_count": 43,
   "id": "8f42bb61-9ac8-4215-8825-c4ffaac0ad9c",
   "metadata": {},
   "outputs": [
    {
     "data": {
      "text/plain": [
       "1"
      ]
     },
     "execution_count": 43,
     "metadata": {},
     "output_type": "execute_result"
    }
   ],
   "source": [
    "next(x)"
   ]
  },
  {
   "cell_type": "code",
   "execution_count": 46,
   "id": "e6b16f98-de87-4ed2-8c60-5b7da206fdbd",
   "metadata": {},
   "outputs": [
    {
     "ename": "StopIteration",
     "evalue": "",
     "output_type": "error",
     "traceback": [
      "\u001b[1;31m---------------------------------------------------------------------------\u001b[0m",
      "\u001b[1;31mStopIteration\u001b[0m                             Traceback (most recent call last)",
      "Cell \u001b[1;32mIn[46], line 1\u001b[0m\n\u001b[1;32m----> 1\u001b[0m \u001b[38;5;28;43mnext\u001b[39;49m\u001b[43m(\u001b[49m\u001b[43mx\u001b[49m\u001b[43m)\u001b[49m\n",
      "\u001b[1;31mStopIteration\u001b[0m: "
     ]
    }
   ],
   "source": [
    "next(x)"
   ]
  },
  {
   "cell_type": "code",
   "execution_count": 48,
   "id": "d6071f00-d22c-4501-b3e4-c0c1a22b3e2f",
   "metadata": {},
   "outputs": [
    {
     "data": {
      "text/plain": [
       "1"
      ]
     },
     "execution_count": 48,
     "metadata": {},
     "output_type": "execute_result"
    }
   ],
   "source": [
    "x.__next__()"
   ]
  },
  {
   "cell_type": "code",
   "execution_count": 51,
   "id": "a58d3a76-e9b6-4452-918a-48a6ce608513",
   "metadata": {},
   "outputs": [
    {
     "ename": "StopIteration",
     "evalue": "",
     "output_type": "error",
     "traceback": [
      "\u001b[1;31m---------------------------------------------------------------------------\u001b[0m",
      "\u001b[1;31mStopIteration\u001b[0m                             Traceback (most recent call last)",
      "Cell \u001b[1;32mIn[51], line 1\u001b[0m\n\u001b[1;32m----> 1\u001b[0m \u001b[43mx\u001b[49m\u001b[38;5;241;43m.\u001b[39;49m\u001b[38;5;21;43m__next__\u001b[39;49m\u001b[43m(\u001b[49m\u001b[43m)\u001b[49m\n",
      "\u001b[1;31mStopIteration\u001b[0m: "
     ]
    }
   ],
   "source": [
    "x.__next__()"
   ]
  },
  {
   "cell_type": "markdown",
   "id": "5f7942c5-0de0-46f1-ac22-4b7692a81356",
   "metadata": {},
   "source": [
    "# lambda function"
   ]
  },
  {
   "cell_type": "code",
   "execution_count": 52,
   "id": "94a91b11-d6ed-47c7-bb1d-89645c3512a9",
   "metadata": {},
   "outputs": [],
   "source": [
    "def add(a,b):\n",
    "    print(a+b)"
   ]
  },
  {
   "cell_type": "code",
   "execution_count": 54,
   "id": "a3763c90-6f24-4252-9736-df1a5756d6d3",
   "metadata": {},
   "outputs": [
    {
     "name": "stdout",
     "output_type": "stream",
     "text": [
      "30\n"
     ]
    }
   ],
   "source": [
    "add(10,20)"
   ]
  },
  {
   "cell_type": "raw",
   "id": "dd78fdb3-11b6-47ff-a112-a9e94656bf42",
   "metadata": {},
   "source": [
    "> lambda function doesnot have any name like def function\n",
    "\n",
    "> lambda function contain only single statement/expression"
   ]
  },
  {
   "cell_type": "code",
   "execution_count": 56,
   "id": "c2f85920-0392-469b-bb8d-d44c0e36e8dd",
   "metadata": {},
   "outputs": [],
   "source": [
    "x=lambda a,b:print(a+b)"
   ]
  },
  {
   "cell_type": "code",
   "execution_count": 57,
   "id": "ff20a33f-b19e-4518-a7ed-3bcb4df259d9",
   "metadata": {},
   "outputs": [
    {
     "name": "stdout",
     "output_type": "stream",
     "text": [
      "30\n"
     ]
    }
   ],
   "source": [
    "x(10,20)"
   ]
  },
  {
   "cell_type": "code",
   "execution_count": 58,
   "id": "76d58264-e63f-46bf-a2a9-44a7bd401cfe",
   "metadata": {},
   "outputs": [],
   "source": [
    "def intro():\n",
    "    print(\"I am krishna\")"
   ]
  },
  {
   "cell_type": "code",
   "execution_count": 59,
   "id": "165b170f-2dac-4345-8b2a-c5647c4c28b4",
   "metadata": {},
   "outputs": [],
   "source": [
    "y=lambda : print(\"I am krishna\")"
   ]
  },
  {
   "cell_type": "code",
   "execution_count": 60,
   "id": "279c4c7e-7c30-4f94-8a88-5cfea361ae10",
   "metadata": {},
   "outputs": [
    {
     "name": "stdout",
     "output_type": "stream",
     "text": [
      "I am krishna\n"
     ]
    }
   ],
   "source": [
    "y()"
   ]
  },
  {
   "cell_type": "code",
   "execution_count": null,
   "id": "830cd8d7-0214-4e45-87d9-0bfeecddae3c",
   "metadata": {},
   "outputs": [],
   "source": []
  }
 ],
 "metadata": {
  "kernelspec": {
   "display_name": "Python 3 (ipykernel)",
   "language": "python",
   "name": "python3"
  },
  "language_info": {
   "codemirror_mode": {
    "name": "ipython",
    "version": 3
   },
   "file_extension": ".py",
   "mimetype": "text/x-python",
   "name": "python",
   "nbconvert_exporter": "python",
   "pygments_lexer": "ipython3",
   "version": "3.11.5"
  }
 },
 "nbformat": 4,
 "nbformat_minor": 5
}
