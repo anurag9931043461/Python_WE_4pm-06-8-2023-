{
 "cells": [
  {
   "cell_type": "markdown",
   "id": "f64e49b5-0319-47b7-b6dd-d769414fdf03",
   "metadata": {},
   "source": [
    "# compile time error \n",
    "# run time error"
   ]
  },
  {
   "cell_type": "code",
   "execution_count": 2,
   "id": "d8170904-2114-47bb-9e69-b0a8d7e93773",
   "metadata": {},
   "outputs": [
    {
     "ename": "SyntaxError",
     "evalue": "unterminated string literal (detected at line 1) (3985571796.py, line 1)",
     "output_type": "error",
     "traceback": [
      "\u001b[1;36m  Cell \u001b[1;32mIn[2], line 1\u001b[1;36m\u001b[0m\n\u001b[1;33m    print(\"this is my egoistic life, I am author of my life, I ... :))\u001b[0m\n\u001b[1;37m          ^\u001b[0m\n\u001b[1;31mSyntaxError\u001b[0m\u001b[1;31m:\u001b[0m unterminated string literal (detected at line 1)\n"
     ]
    }
   ],
   "source": [
    "print(\"this is my egoistic life, I am author of my life, I ... :))"
   ]
  },
  {
   "cell_type": "markdown",
   "id": "a4b3ae75-4032-43d8-a33e-fa6656d6e537",
   "metadata": {},
   "source": [
    "# run time error"
   ]
  },
  {
   "cell_type": "code",
   "execution_count": 3,
   "id": "ef52df2c-66d7-4028-b9d4-c6018d776d9e",
   "metadata": {},
   "outputs": [
    {
     "name": "stdin",
     "output_type": "stream",
     "text": [
      "Enter a number: 10\n"
     ]
    },
    {
     "name": "stdout",
     "output_type": "stream",
     "text": [
      "10\n"
     ]
    }
   ],
   "source": [
    "a=input(\"Enter a number:\")\n",
    "print(int(a))"
   ]
  },
  {
   "cell_type": "code",
   "execution_count": 6,
   "id": "6b6a7aef-838b-45fe-8758-f40b88259efd",
   "metadata": {},
   "outputs": [
    {
     "name": "stdin",
     "output_type": "stream",
     "text": [
      "Enter a number: krishna\n"
     ]
    },
    {
     "ename": "ValueError",
     "evalue": "invalid literal for int() with base 10: 'krishna'",
     "output_type": "error",
     "traceback": [
      "\u001b[1;31m---------------------------------------------------------------------------\u001b[0m",
      "\u001b[1;31mValueError\u001b[0m                                Traceback (most recent call last)",
      "Cell \u001b[1;32mIn[6], line 2\u001b[0m\n\u001b[0;32m      1\u001b[0m a\u001b[38;5;241m=\u001b[39m\u001b[38;5;28minput\u001b[39m(\u001b[38;5;124m\"\u001b[39m\u001b[38;5;124mEnter a number:\u001b[39m\u001b[38;5;124m\"\u001b[39m)\n\u001b[1;32m----> 2\u001b[0m \u001b[38;5;28mprint\u001b[39m(\u001b[38;5;28;43mint\u001b[39;49m\u001b[43m(\u001b[49m\u001b[43ma\u001b[49m\u001b[43m)\u001b[49m)\n\u001b[0;32m      4\u001b[0m \u001b[38;5;28mprint\u001b[39m(\u001b[38;5;124m\"\u001b[39m\u001b[38;5;124mI love chupa chups\u001b[39m\u001b[38;5;124m\"\u001b[39m)\n",
      "\u001b[1;31mValueError\u001b[0m: invalid literal for int() with base 10: 'krishna'"
     ]
    }
   ],
   "source": [
    "a=input(\"Enter a number:\")\n",
    "print(int(a))\n",
    "\n",
    "print(\"I love chupa chups\")"
   ]
  },
  {
   "cell_type": "markdown",
   "id": "b6d6bc9a-e224-4850-a4a3-2ea126269cd7",
   "metadata": {},
   "source": [
    "# After applying exception handling"
   ]
  },
  {
   "cell_type": "code",
   "execution_count": 7,
   "id": "1b18efa6-0bf9-45b5-bc66-ff6bfa759fff",
   "metadata": {},
   "outputs": [],
   "source": [
    "# try, except,finally,else, Exception"
   ]
  },
  {
   "cell_type": "code",
   "execution_count": 9,
   "id": "7056e861-6584-44b7-ac60-66a8b1c8040d",
   "metadata": {},
   "outputs": [
    {
     "name": "stdin",
     "output_type": "stream",
     "text": [
      "Enter a number: 10\n"
     ]
    },
    {
     "name": "stdout",
     "output_type": "stream",
     "text": [
      "10\n",
      "I love chupa chups\n"
     ]
    }
   ],
   "source": [
    "try:\n",
    "    a=input(\"Enter a number:\")\n",
    "    print(int(a))\n",
    "\n",
    "    print(\"I love chupa chups\")\n",
    "except:\n",
    "    print(\"Not in service\")"
   ]
  },
  {
   "cell_type": "code",
   "execution_count": 11,
   "id": "ea646060-3063-44d9-b700-180d34b37e5b",
   "metadata": {},
   "outputs": [
    {
     "name": "stdin",
     "output_type": "stream",
     "text": [
      "Enter a number: krishna\n"
     ]
    },
    {
     "name": "stdout",
     "output_type": "stream",
     "text": [
      "Not in service\n",
      "Thak gaya hu\n"
     ]
    }
   ],
   "source": [
    "try:\n",
    "    a=input(\"Enter a number:\")\n",
    "    print(int(a))\n",
    "\n",
    "    print(\"I love chupa chups\")\n",
    "except:\n",
    "    print(\"Not in service\")\n",
    "\n",
    "print(\"Thak gaya hu\")"
   ]
  },
  {
   "cell_type": "code",
   "execution_count": 13,
   "id": "f07dd33a-4087-49c7-8039-5c8cbfa43be0",
   "metadata": {},
   "outputs": [
    {
     "name": "stdin",
     "output_type": "stream",
     "text": [
      "Enter a number: 10\n"
     ]
    },
    {
     "name": "stdout",
     "output_type": "stream",
     "text": [
      "10\n",
      "I love chupa chups\n",
      "Thak gaya hu\n"
     ]
    }
   ],
   "source": [
    "try:\n",
    "    a=input(\"Enter a number:\")\n",
    "    print(int(a))\n",
    "\n",
    "    print(\"I love chupa chups\")\n",
    "except:\n",
    "    print(\"Not in service\")\n",
    "finally:\n",
    "    print(\"Thak gaya hu\")"
   ]
  },
  {
   "cell_type": "code",
   "execution_count": 14,
   "id": "7a8e874d-0de7-447f-a030-89f94edce674",
   "metadata": {},
   "outputs": [
    {
     "name": "stdin",
     "output_type": "stream",
     "text": [
      "Enter a number: krishna\n"
     ]
    },
    {
     "name": "stdout",
     "output_type": "stream",
     "text": [
      "Not in service\n",
      "Thak gaya hu\n"
     ]
    }
   ],
   "source": [
    "try:\n",
    "    a=input(\"Enter a number:\")\n",
    "    print(int(a))\n",
    "\n",
    "    print(\"I love chupa chups\")\n",
    "except:\n",
    "    print(\"Not in service\")\n",
    "finally:\n",
    "    print(\"Thak gaya hu\")"
   ]
  },
  {
   "cell_type": "code",
   "execution_count": 15,
   "id": "ca1f7adf-1b01-4180-b57d-f724613e4dab",
   "metadata": {},
   "outputs": [
    {
     "name": "stdin",
     "output_type": "stream",
     "text": [
      "Enter a number: \n"
     ]
    },
    {
     "name": "stdout",
     "output_type": "stream",
     "text": [
      "Not in service\n",
      "Thak gaya hu\n"
     ]
    }
   ],
   "source": [
    "try:\n",
    "    a=input(\"Enter a number:\")\n",
    "    print(int(a))\n",
    "\n",
    "    print(\"I love chupa chups\")\n",
    "except:\n",
    "    print(\"Not in service\")\n",
    "finally:\n",
    "    print(\"Thak gaya hu\")"
   ]
  },
  {
   "cell_type": "code",
   "execution_count": 20,
   "id": "3976b485-52c8-4d45-8d7a-8e1f8c3dc435",
   "metadata": {},
   "outputs": [
    {
     "name": "stdin",
     "output_type": "stream",
     "text": [
      "Enter a number: 10\n"
     ]
    },
    {
     "name": "stdout",
     "output_type": "stream",
     "text": [
      "Thak gaya hu\n"
     ]
    },
    {
     "ename": "ZeroDivisionError",
     "evalue": "division by zero",
     "output_type": "error",
     "traceback": [
      "\u001b[1;31m---------------------------------------------------------------------------\u001b[0m",
      "\u001b[1;31mZeroDivisionError\u001b[0m                         Traceback (most recent call last)",
      "Cell \u001b[1;32mIn[20], line 3\u001b[0m\n\u001b[0;32m      1\u001b[0m \u001b[38;5;28;01mtry\u001b[39;00m:\n\u001b[0;32m      2\u001b[0m     a\u001b[38;5;241m=\u001b[39m\u001b[38;5;28minput\u001b[39m(\u001b[38;5;124m\"\u001b[39m\u001b[38;5;124mEnter a number:\u001b[39m\u001b[38;5;124m\"\u001b[39m)\n\u001b[1;32m----> 3\u001b[0m     \u001b[38;5;28mprint\u001b[39m(\u001b[38;5;28;43mint\u001b[39;49m\u001b[43m(\u001b[49m\u001b[43ma\u001b[49m\u001b[43m)\u001b[49m\u001b[38;5;241;43m/\u001b[39;49m\u001b[38;5;241;43m0\u001b[39;49m)\n\u001b[0;32m      5\u001b[0m     \u001b[38;5;28mprint\u001b[39m(\u001b[38;5;124m\"\u001b[39m\u001b[38;5;124mI love chupa chups\u001b[39m\u001b[38;5;124m\"\u001b[39m)\n\u001b[0;32m      6\u001b[0m \u001b[38;5;28;01mexcept\u001b[39;00m \u001b[38;5;167;01mValueError\u001b[39;00m \u001b[38;5;28;01mas\u001b[39;00m e:\n",
      "\u001b[1;31mZeroDivisionError\u001b[0m: division by zero"
     ]
    }
   ],
   "source": [
    "try:\n",
    "    a=input(\"Enter a number:\")\n",
    "    print(int(a)/0)\n",
    "\n",
    "    print(\"I love chupa chups\")\n",
    "except ValueError as e:\n",
    "    print(e)\n",
    "# except ZeroDivisionError as e:\n",
    "#     print(e)\n",
    "finally:\n",
    "    print(\"Thak gaya hu\")"
   ]
  },
  {
   "cell_type": "code",
   "execution_count": 22,
   "id": "48da09f6-b4f3-4a66-89fd-d43072eaca71",
   "metadata": {},
   "outputs": [
    {
     "name": "stdin",
     "output_type": "stream",
     "text": [
      "Enter a number: 10\n"
     ]
    },
    {
     "name": "stdout",
     "output_type": "stream",
     "text": [
      "division by zero\n",
      "Thak gaya hu\n"
     ]
    }
   ],
   "source": [
    "try:\n",
    "    a=input(\"Enter a number:\")\n",
    "    print(int(a)/0)\n",
    "\n",
    "    print(\"I love chupa chups\")\n",
    "except ValueError as e:\n",
    "    print(e)\n",
    "except ZeroDivisionError as e:\n",
    "    print(e)\n",
    "finally:\n",
    "    print(\"Thak gaya hu\")"
   ]
  },
  {
   "cell_type": "code",
   "execution_count": 26,
   "id": "9e0c50ba-020a-4120-ba15-5994fe9ac399",
   "metadata": {},
   "outputs": [
    {
     "name": "stdin",
     "output_type": "stream",
     "text": [
      "Enter a number: 10\n"
     ]
    },
    {
     "name": "stdout",
     "output_type": "stream",
     "text": [
      "division by zero\n",
      "Thak gaya hu\n"
     ]
    }
   ],
   "source": [
    "try:\n",
    "    a=input(\"Enter a number:\")\n",
    "    print(int(a)/0)\n",
    "\n",
    "    print(\"I love chupa chups\")\n",
    "# except ValueError as e:\n",
    "#     print(e)\n",
    "# except ZeroDivisionError as e:\n",
    "#     print(e)\n",
    "except Exception as e:\n",
    "    print(e)\n",
    "finally:\n",
    "    print(\"Thak gaya hu\")"
   ]
  },
  {
   "cell_type": "code",
   "execution_count": 28,
   "id": "3c5446cf-a922-45ee-b13d-23624cadd1d5",
   "metadata": {},
   "outputs": [
    {
     "name": "stdin",
     "output_type": "stream",
     "text": [
      "Enter a number: 10\n"
     ]
    },
    {
     "name": "stdout",
     "output_type": "stream",
     "text": [
      "10\n",
      "I love chupa chups\n",
      "Sab thik hai \n",
      "Thak gaya hu\n"
     ]
    }
   ],
   "source": [
    "try:\n",
    "    a=input(\"Enter a number:\")\n",
    "    print(int(a))\n",
    "\n",
    "    print(\"I love chupa chups\")\n",
    "# except ValueError as e:\n",
    "#     print(e)\n",
    "# except ZeroDivisionError as e:\n",
    "#     print(e)\n",
    "except Exception as e:\n",
    "    print(e)\n",
    "else:\n",
    "    print(\"Sab thik hai \")\n",
    "finally:\n",
    "    print(\"Thak gaya hu\")"
   ]
  },
  {
   "cell_type": "code",
   "execution_count": 31,
   "id": "1d9e1ce8-c98a-4cd9-912e-52ac423816b8",
   "metadata": {},
   "outputs": [
    {
     "name": "stdin",
     "output_type": "stream",
     "text": [
      "Enter a number: 10\n"
     ]
    },
    {
     "name": "stdout",
     "output_type": "stream",
     "text": [
      "bhak\n",
      "Thak gaya hu\n"
     ]
    }
   ],
   "source": [
    "try:\n",
    "    a=input(\"Enter a number:\")\n",
    "    b=int(a)\n",
    "    if b==10:\n",
    "        raise Exception(\"bhak\")\n",
    "    \n",
    "\n",
    "    print(\"I love chupa chups\")\n",
    "    \n",
    "# except ValueError as e:\n",
    "#     print(e)\n",
    "# except ZeroDivisionError as e:\n",
    "#     print(e)\n",
    "except Exception as e:\n",
    "    print(e)\n",
    "else:\n",
    "    print(\"Sab thik hai \")\n",
    "finally:\n",
    "    print(\"Thak gaya hu\")"
   ]
  },
  {
   "cell_type": "code",
   "execution_count": null,
   "id": "56bf45d9-c3a4-4e9a-b3cb-e4d6d8e21ea3",
   "metadata": {},
   "outputs": [],
   "source": []
  }
 ],
 "metadata": {
  "kernelspec": {
   "display_name": "Python 3 (ipykernel)",
   "language": "python",
   "name": "python3"
  },
  "language_info": {
   "codemirror_mode": {
    "name": "ipython",
    "version": 3
   },
   "file_extension": ".py",
   "mimetype": "text/x-python",
   "name": "python",
   "nbconvert_exporter": "python",
   "pygments_lexer": "ipython3",
   "version": "3.11.5"
  }
 },
 "nbformat": 4,
 "nbformat_minor": 5
}
