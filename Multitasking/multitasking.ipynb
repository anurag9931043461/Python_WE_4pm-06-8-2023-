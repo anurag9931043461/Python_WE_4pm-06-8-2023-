{
 "cells": [
  {
   "cell_type": "code",
   "execution_count": 1,
   "metadata": {},
   "outputs": [
    {
     "name": "stdout",
     "output_type": "stream",
     "text": [
      "Hello world\n",
      "this is krishna\n"
     ]
    }
   ],
   "source": [
    "print(\"Hello world\")\n",
    "print(\"this is krishna\")"
   ]
  },
  {
   "cell_type": "code",
   "execution_count": 2,
   "metadata": {},
   "outputs": [],
   "source": [
    "def age():\n",
    "    print(\"i am 27\")\n",
    "\n",
    "def calc():\n",
    "    print(\"2\"/0)\n",
    "\n",
    "def hi():\n",
    "    print(\"Hello \")"
   ]
  },
  {
   "cell_type": "code",
   "execution_count": 3,
   "metadata": {},
   "outputs": [
    {
     "name": "stdout",
     "output_type": "stream",
     "text": [
      "i am 27\n"
     ]
    },
    {
     "ename": "TypeError",
     "evalue": "unsupported operand type(s) for /: 'str' and 'int'",
     "output_type": "error",
     "traceback": [
      "\u001b[1;31m---------------------------------------------------------------------------\u001b[0m",
      "\u001b[1;31mTypeError\u001b[0m                                 Traceback (most recent call last)",
      "\u001b[1;32mc:\\Users\\nnkri\\Desktop\\class on git part 2\\Python_WE_4pm-06-8-2023-\\Multitasking\\multitasking.ipynb Cell 3\u001b[0m line \u001b[0;36m2\n\u001b[0;32m      <a href='vscode-notebook-cell:/c%3A/Users/nnkri/Desktop/class%20on%20git%20part%202/Python_WE_4pm-06-8-2023-/Multitasking/multitasking.ipynb#W2sZmlsZQ%3D%3D?line=0'>1</a>\u001b[0m age()\n\u001b[1;32m----> <a href='vscode-notebook-cell:/c%3A/Users/nnkri/Desktop/class%20on%20git%20part%202/Python_WE_4pm-06-8-2023-/Multitasking/multitasking.ipynb#W2sZmlsZQ%3D%3D?line=1'>2</a>\u001b[0m calc()\n\u001b[0;32m      <a href='vscode-notebook-cell:/c%3A/Users/nnkri/Desktop/class%20on%20git%20part%202/Python_WE_4pm-06-8-2023-/Multitasking/multitasking.ipynb#W2sZmlsZQ%3D%3D?line=2'>3</a>\u001b[0m hi()\n",
      "\u001b[1;32mc:\\Users\\nnkri\\Desktop\\class on git part 2\\Python_WE_4pm-06-8-2023-\\Multitasking\\multitasking.ipynb Cell 3\u001b[0m line \u001b[0;36m5\n\u001b[0;32m      <a href='vscode-notebook-cell:/c%3A/Users/nnkri/Desktop/class%20on%20git%20part%202/Python_WE_4pm-06-8-2023-/Multitasking/multitasking.ipynb#W2sZmlsZQ%3D%3D?line=3'>4</a>\u001b[0m \u001b[39mdef\u001b[39;00m \u001b[39mcalc\u001b[39m():\n\u001b[1;32m----> <a href='vscode-notebook-cell:/c%3A/Users/nnkri/Desktop/class%20on%20git%20part%202/Python_WE_4pm-06-8-2023-/Multitasking/multitasking.ipynb#W2sZmlsZQ%3D%3D?line=4'>5</a>\u001b[0m     \u001b[39mprint\u001b[39m(\u001b[39m\"\u001b[39;49m\u001b[39m2\u001b[39;49m\u001b[39m\"\u001b[39;49m\u001b[39m/\u001b[39;49m\u001b[39m0\u001b[39;49m)\n",
      "\u001b[1;31mTypeError\u001b[0m: unsupported operand type(s) for /: 'str' and 'int'"
     ]
    }
   ],
   "source": [
    "age()\n",
    "calc()\n",
    "hi()"
   ]
  },
  {
   "cell_type": "code",
   "execution_count": 4,
   "metadata": {},
   "outputs": [],
   "source": [
    "from threading import Thread"
   ]
  },
  {
   "cell_type": "code",
   "execution_count": 7,
   "metadata": {},
   "outputs": [],
   "source": [
    "t1=Thread(target=age,name=\"age\")\n",
    "t2=Thread(target=calc,name=\"calc\")\n",
    "t3=Thread(target=hi,name=\"hi\")"
   ]
  },
  {
   "cell_type": "code",
   "execution_count": 8,
   "metadata": {},
   "outputs": [
    {
     "name": "stdout",
     "output_type": "stream",
     "text": [
      "i am 27\n",
      "Hello \n"
     ]
    },
    {
     "name": "stderr",
     "output_type": "stream",
     "text": [
      "Exception in thread calc:\n",
      "Traceback (most recent call last):\n",
      "  File \"c:\\Users\\nnkri\\AppData\\Local\\Programs\\Python\\Python311\\Lib\\threading.py\", line 1038, in _bootstrap_inner\n",
      "    self.run()\n",
      "  File \"c:\\Users\\nnkri\\AppData\\Local\\Programs\\Python\\Python311\\Lib\\threading.py\", line 975, in run\n",
      "    self._target(*self._args, **self._kwargs)\n",
      "  File \"C:\\Users\\nnkri\\AppData\\Local\\Temp\\ipykernel_10384\\3028305245.py\", line 5, in calc\n",
      "TypeError: unsupported operand type(s) for /: 'str' and 'int'\n"
     ]
    }
   ],
   "source": [
    "t1.start()\n",
    "t2.start()\n",
    "t3.start()"
   ]
  },
  {
   "cell_type": "code",
   "execution_count": null,
   "metadata": {},
   "outputs": [],
   "source": []
  },
  {
   "cell_type": "code",
   "execution_count": null,
   "metadata": {},
   "outputs": [],
   "source": []
  }
 ],
 "metadata": {
  "kernelspec": {
   "display_name": "Python 3",
   "language": "python",
   "name": "python3"
  },
  "language_info": {
   "codemirror_mode": {
    "name": "ipython",
    "version": 3
   },
   "file_extension": ".py",
   "mimetype": "text/x-python",
   "name": "python",
   "nbconvert_exporter": "python",
   "pygments_lexer": "ipython3",
   "version": "3.11.5"
  },
  "orig_nbformat": 4
 },
 "nbformat": 4,
 "nbformat_minor": 2
}
