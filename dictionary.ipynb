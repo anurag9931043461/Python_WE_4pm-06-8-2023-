{
 "cells": [
  {
   "cell_type": "markdown",
   "id": "6499c821-c192-41dd-a756-8a0745c01479",
   "metadata": {},
   "source": [
    "# dictionary \n",
    "\n",
    "> dictionary constructor is dict()\n",
    "\n",
    "> dictionary literal is {}\n",
    "\n",
    "> dictionary is a set of sequence of key and value pair called item\n",
    "\n",
    "> dictionary support indexing\n",
    "\n",
    "> dictionary doesnot support slicing \n",
    "\n",
    "> dictionary doesnot support concatination\n",
    "\n",
    "> dictionary allowed immutable datatype for key \n",
    "\n",
    "> dictionary is mutable.\n",
    "\n",
    "> dictionary support nested dictionary\n",
    "\n",
    "> dictionary methods."
   ]
  },
  {
   "cell_type": "code",
   "execution_count": 2,
   "id": "fe233e7b-66c0-4867-abea-17eafe4ae539",
   "metadata": {},
   "outputs": [],
   "source": [
    "a={1:\"krishna\",2:\"Mohan\",3:\"Sohan\",5:\"Riya\"}"
   ]
  },
  {
   "cell_type": "code",
   "execution_count": 3,
   "id": "7753ba25-b41d-410e-a404-c99045d4a197",
   "metadata": {},
   "outputs": [
    {
     "name": "stdout",
     "output_type": "stream",
     "text": [
      "{1: 'krishna', 2: 'Mohan', 3: 'Sohan', 5: 'Riya'}\n"
     ]
    }
   ],
   "source": [
    "print(a)"
   ]
  },
  {
   "cell_type": "code",
   "execution_count": 4,
   "id": "47e339e7-45e8-4f9b-b8da-357a309c05af",
   "metadata": {},
   "outputs": [
    {
     "name": "stdout",
     "output_type": "stream",
     "text": [
      "<class 'dict'>\n"
     ]
    }
   ],
   "source": [
    "print(type(a))"
   ]
  },
  {
   "cell_type": "code",
   "execution_count": 5,
   "id": "6ada0488-c304-470e-87a1-b11eb1deb3e3",
   "metadata": {},
   "outputs": [
    {
     "data": {
      "text/plain": [
       "{1, 2, 3, 4, 5}"
      ]
     },
     "execution_count": 5,
     "metadata": {},
     "output_type": "execute_result"
    }
   ],
   "source": [
    "{1,2,3,4,5}"
   ]
  },
  {
   "cell_type": "code",
   "execution_count": 15,
   "id": "a2c82d50-8636-424e-820b-5a36633a57e6",
   "metadata": {},
   "outputs": [
    {
     "data": {
      "text/plain": [
       "dict_keys([1, 2, 3, 5])"
      ]
     },
     "execution_count": 15,
     "metadata": {},
     "output_type": "execute_result"
    }
   ],
   "source": [
    "a.keys()"
   ]
  },
  {
   "cell_type": "code",
   "execution_count": 16,
   "id": "ea9ad0c8-c7c8-4e3e-93dd-d2feccfbf765",
   "metadata": {},
   "outputs": [
    {
     "data": {
      "text/plain": [
       "dict_values(['krishna', 'Mohan', 'Sohan', 'Riya'])"
      ]
     },
     "execution_count": 16,
     "metadata": {},
     "output_type": "execute_result"
    }
   ],
   "source": [
    "a.values()"
   ]
  },
  {
   "cell_type": "code",
   "execution_count": 17,
   "id": "178b49e3-9fa9-4e25-bbd2-f980ee655255",
   "metadata": {},
   "outputs": [
    {
     "data": {
      "text/plain": [
       "'krishna'"
      ]
     },
     "execution_count": 17,
     "metadata": {},
     "output_type": "execute_result"
    }
   ],
   "source": [
    "a.pop(1)"
   ]
  },
  {
   "cell_type": "code",
   "execution_count": 18,
   "id": "23f3e368-f4e5-40bc-9be1-05f128f5a29d",
   "metadata": {},
   "outputs": [
    {
     "name": "stdout",
     "output_type": "stream",
     "text": [
      "{2: 'Mohan', 3: 'Sohan', 5: 'Riya'}\n"
     ]
    }
   ],
   "source": [
    "print(a)"
   ]
  },
  {
   "cell_type": "code",
   "execution_count": 19,
   "id": "b0ca190f-14d0-469d-8eed-dbb572a8f3b5",
   "metadata": {},
   "outputs": [
    {
     "data": {
      "text/plain": [
       "dict_items([(2, 'Mohan'), (3, 'Sohan'), (5, 'Riya')])"
      ]
     },
     "execution_count": 19,
     "metadata": {},
     "output_type": "execute_result"
    }
   ],
   "source": [
    "a.items()"
   ]
  },
  {
   "cell_type": "code",
   "execution_count": 20,
   "id": "f72ad0e8-192d-4501-9372-ba61058fde72",
   "metadata": {},
   "outputs": [
    {
     "data": {
      "text/plain": [
       "(5, 'Riya')"
      ]
     },
     "execution_count": 20,
     "metadata": {},
     "output_type": "execute_result"
    }
   ],
   "source": [
    "a.popitem()"
   ]
  },
  {
   "cell_type": "code",
   "execution_count": 21,
   "id": "8892349a-b158-4eef-9fac-19584eb02494",
   "metadata": {},
   "outputs": [
    {
     "data": {
      "text/plain": [
       "{2: 'Mohan', 3: 'Sohan'}"
      ]
     },
     "execution_count": 21,
     "metadata": {},
     "output_type": "execute_result"
    }
   ],
   "source": [
    "a"
   ]
  },
  {
   "cell_type": "code",
   "execution_count": 22,
   "id": "4cd4535c-3016-41b7-9f05-78d7417166d9",
   "metadata": {},
   "outputs": [],
   "source": [
    "a.update({1:\"krishna\"})"
   ]
  },
  {
   "cell_type": "code",
   "execution_count": 23,
   "id": "2e3bccad-5b4c-4b87-8a30-b88105d7d19a",
   "metadata": {},
   "outputs": [
    {
     "name": "stdout",
     "output_type": "stream",
     "text": [
      "{2: 'Mohan', 3: 'Sohan', 1: 'krishna'}\n"
     ]
    }
   ],
   "source": [
    "print(a)"
   ]
  },
  {
   "cell_type": "code",
   "execution_count": 24,
   "id": "2013f915-0fb2-4876-bd06-b29e5e286122",
   "metadata": {},
   "outputs": [],
   "source": [
    "a.update({2:\"Sohan\",6:\"Ronny\"})"
   ]
  },
  {
   "cell_type": "code",
   "execution_count": 25,
   "id": "b0d73cb6-3957-4095-9379-d8c01b8397f9",
   "metadata": {},
   "outputs": [
    {
     "name": "stdout",
     "output_type": "stream",
     "text": [
      "{2: 'Sohan', 3: 'Sohan', 1: 'krishna', 6: 'Ronny'}\n"
     ]
    }
   ],
   "source": [
    "print(a)"
   ]
  },
  {
   "cell_type": "code",
   "execution_count": 26,
   "id": "8b581f54-36ae-4cb2-be73-942d31037391",
   "metadata": {},
   "outputs": [
    {
     "data": {
      "text/plain": [
       "'Sohan'"
      ]
     },
     "execution_count": 26,
     "metadata": {},
     "output_type": "execute_result"
    }
   ],
   "source": [
    "a[2]"
   ]
  },
  {
   "cell_type": "code",
   "execution_count": 27,
   "id": "65ea6299-39e8-484e-87eb-e8138e351451",
   "metadata": {},
   "outputs": [
    {
     "data": {
      "text/plain": [
       "'Sohan'"
      ]
     },
     "execution_count": 27,
     "metadata": {},
     "output_type": "execute_result"
    }
   ],
   "source": [
    "a[3]"
   ]
  },
  {
   "cell_type": "code",
   "execution_count": 29,
   "id": "4abdc8de-7ee8-4d0d-acfd-0d3580ffb6c8",
   "metadata": {},
   "outputs": [
    {
     "ename": "KeyError",
     "evalue": "10",
     "output_type": "error",
     "traceback": [
      "\u001b[1;31m---------------------------------------------------------------------------\u001b[0m",
      "\u001b[1;31mKeyError\u001b[0m                                  Traceback (most recent call last)",
      "Cell \u001b[1;32mIn[29], line 1\u001b[0m\n\u001b[1;32m----> 1\u001b[0m \u001b[43ma\u001b[49m\u001b[43m[\u001b[49m\u001b[38;5;241;43m10\u001b[39;49m\u001b[43m]\u001b[49m\n\u001b[0;32m      2\u001b[0m \u001b[38;5;28mprint\u001b[39m(\u001b[38;5;124m\"\u001b[39m\u001b[38;5;124mhello world\u001b[39m\u001b[38;5;124m\"\u001b[39m)\n",
      "\u001b[1;31mKeyError\u001b[0m: 10"
     ]
    }
   ],
   "source": [
    "a[10]\n",
    "print(\"hello world\")"
   ]
  },
  {
   "cell_type": "code",
   "execution_count": 30,
   "id": "765778dd-29cd-4170-a046-7d3f69fbdd3d",
   "metadata": {},
   "outputs": [
    {
     "data": {
      "text/plain": [
       "'Sohan'"
      ]
     },
     "execution_count": 30,
     "metadata": {},
     "output_type": "execute_result"
    }
   ],
   "source": [
    "a.get(2)"
   ]
  },
  {
   "cell_type": "code",
   "execution_count": 32,
   "id": "75484834-656b-4cb4-8687-dafb91abce22",
   "metadata": {},
   "outputs": [
    {
     "name": "stdout",
     "output_type": "stream",
     "text": [
      "hello world\n"
     ]
    }
   ],
   "source": [
    "a.get(10)\n",
    "print(\"hello world\")"
   ]
  },
  {
   "cell_type": "code",
   "execution_count": 33,
   "id": "7f18bceb-0676-40e9-9d73-20056c0ac2c9",
   "metadata": {},
   "outputs": [
    {
     "name": "stdout",
     "output_type": "stream",
     "text": [
      "10 is not available\n",
      "hello world\n"
     ]
    }
   ],
   "source": [
    "print(a.get(10,\"10 is not available\"))\n",
    "print(\"hello world\")"
   ]
  },
  {
   "cell_type": "code",
   "execution_count": 34,
   "id": "6d419c2c-f166-4634-a5fe-f7a012ac0348",
   "metadata": {},
   "outputs": [
    {
     "name": "stdout",
     "output_type": "stream",
     "text": [
      "Sohan\n",
      "hello world\n"
     ]
    }
   ],
   "source": [
    "print(a.get(3,\"10 is not available\"))\n",
    "print(\"hello world\")"
   ]
  },
  {
   "cell_type": "code",
   "execution_count": 35,
   "id": "5a597f98-51f1-494a-bdc2-04d9d284ed95",
   "metadata": {},
   "outputs": [
    {
     "data": {
      "text/plain": [
       "{2: 'Sohan', 3: 'Sohan', 1: 'krishna', 6: 'Ronny'}"
      ]
     },
     "execution_count": 35,
     "metadata": {},
     "output_type": "execute_result"
    }
   ],
   "source": [
    "a"
   ]
  },
  {
   "cell_type": "code",
   "execution_count": 37,
   "id": "9bfb68f6-d6f6-4b95-9ebe-50d31fc1cef3",
   "metadata": {},
   "outputs": [],
   "source": [
    "b=a.copy()"
   ]
  },
  {
   "cell_type": "code",
   "execution_count": 40,
   "id": "e0f40b55-659f-45bd-a912-8a0f22d5f2a9",
   "metadata": {},
   "outputs": [
    {
     "name": "stdout",
     "output_type": "stream",
     "text": [
      "{2: 'Sohan', 3: 'Sohan', 1: 'krishna', 6: 'Ronny'} 1963747210624\n"
     ]
    }
   ],
   "source": [
    "print(b,id(b))"
   ]
  },
  {
   "cell_type": "code",
   "execution_count": 41,
   "id": "c542d1bf-cca4-4c81-8f8d-334ef5f13927",
   "metadata": {},
   "outputs": [
    {
     "name": "stdout",
     "output_type": "stream",
     "text": [
      "{2: 'Sohan', 3: 'Sohan', 1: 'krishna', 6: 'Ronny'} 1963732670080\n"
     ]
    }
   ],
   "source": [
    "print(a,id(a))"
   ]
  },
  {
   "cell_type": "code",
   "execution_count": 42,
   "id": "7374abb7-5d16-4bc4-8191-6f110bbf0ed2",
   "metadata": {},
   "outputs": [],
   "source": [
    "a.update({11:\"krishna\"})"
   ]
  },
  {
   "cell_type": "code",
   "execution_count": 43,
   "id": "cb5534c7-5098-4436-9dc4-ec967194cab9",
   "metadata": {},
   "outputs": [
    {
     "name": "stdout",
     "output_type": "stream",
     "text": [
      "{2: 'Sohan', 3: 'Sohan', 1: 'krishna', 6: 'Ronny', 11: 'krishna'}\n"
     ]
    }
   ],
   "source": [
    "print(a)"
   ]
  },
  {
   "cell_type": "code",
   "execution_count": 44,
   "id": "8bb004f7-0b68-4078-9e8d-31fbea967a62",
   "metadata": {},
   "outputs": [
    {
     "name": "stdout",
     "output_type": "stream",
     "text": [
      "{2: 'Sohan', 3: 'Sohan', 1: 'krishna', 6: 'Ronny'}\n"
     ]
    }
   ],
   "source": [
    "print(b)"
   ]
  },
  {
   "cell_type": "code",
   "execution_count": 45,
   "id": "2ec0516a-c37d-4af6-b44d-6703ce806d30",
   "metadata": {},
   "outputs": [],
   "source": [
    "a.clear()"
   ]
  },
  {
   "cell_type": "code",
   "execution_count": 46,
   "id": "50ef0588-8d79-461b-b5b5-ce6c631bc968",
   "metadata": {},
   "outputs": [
    {
     "name": "stdout",
     "output_type": "stream",
     "text": [
      "{}\n"
     ]
    }
   ],
   "source": [
    "print(a)"
   ]
  },
  {
   "cell_type": "code",
   "execution_count": 47,
   "id": "3ebad05a-78c1-4d1d-8805-b4ce0c34b80f",
   "metadata": {},
   "outputs": [],
   "source": [
    "d={}"
   ]
  },
  {
   "cell_type": "code",
   "execution_count": 48,
   "id": "9e541d20-206b-40ac-b2c1-33b5400d659e",
   "metadata": {},
   "outputs": [
    {
     "name": "stdout",
     "output_type": "stream",
     "text": [
      "{}\n"
     ]
    }
   ],
   "source": [
    "print(d)"
   ]
  },
  {
   "cell_type": "code",
   "execution_count": 49,
   "id": "d9468290-557f-4add-8e02-b10d91eaf32a",
   "metadata": {},
   "outputs": [],
   "source": [
    "e=dict()"
   ]
  },
  {
   "cell_type": "code",
   "execution_count": 50,
   "id": "c8e7a47d-c048-4e53-b2ed-68a19cf3f1db",
   "metadata": {},
   "outputs": [
    {
     "name": "stdout",
     "output_type": "stream",
     "text": [
      "{}\n"
     ]
    }
   ],
   "source": [
    "print(e)"
   ]
  },
  {
   "cell_type": "code",
   "execution_count": 51,
   "id": "c70abc48-2892-4e73-8bd8-dde9b59e3f49",
   "metadata": {},
   "outputs": [],
   "source": [
    "a.setdefault(1)"
   ]
  },
  {
   "cell_type": "code",
   "execution_count": 52,
   "id": "310b4c35-0262-4f6f-8e32-794ad8c3eeb0",
   "metadata": {},
   "outputs": [
    {
     "name": "stdout",
     "output_type": "stream",
     "text": [
      "{1: None}\n"
     ]
    }
   ],
   "source": [
    "print(a)"
   ]
  },
  {
   "cell_type": "code",
   "execution_count": 53,
   "id": "c31a6886-e03b-4dd9-a626-e6a959854322",
   "metadata": {},
   "outputs": [],
   "source": [
    "b={}"
   ]
  },
  {
   "cell_type": "code",
   "execution_count": 56,
   "id": "03dfd5b6-1e4e-4a3c-bfb6-a18cb8d84009",
   "metadata": {},
   "outputs": [],
   "source": [
    "e=b.fromkeys([1,2,3,4,5,6,7,8,9],\"available\")"
   ]
  },
  {
   "cell_type": "code",
   "execution_count": 57,
   "id": "53223547-85cb-4310-bf4a-88205a62362c",
   "metadata": {},
   "outputs": [
    {
     "data": {
      "text/plain": [
       "{1: 'available',\n",
       " 2: 'available',\n",
       " 3: 'available',\n",
       " 4: 'available',\n",
       " 5: 'available',\n",
       " 6: 'available',\n",
       " 7: 'available',\n",
       " 8: 'available',\n",
       " 9: 'available'}"
      ]
     },
     "execution_count": 57,
     "metadata": {},
     "output_type": "execute_result"
    }
   ],
   "source": [
    "e"
   ]
  },
  {
   "cell_type": "code",
   "execution_count": 59,
   "id": "1e01ff42-b21e-4e2e-a0f4-0f7b5ca247f6",
   "metadata": {},
   "outputs": [],
   "source": [
    "e[1]=\"krishna\""
   ]
  },
  {
   "cell_type": "code",
   "execution_count": 60,
   "id": "26d73d8a-981e-4158-83f2-64522d906c76",
   "metadata": {},
   "outputs": [
    {
     "data": {
      "text/plain": [
       "{1: 'krishna',\n",
       " 2: 'available',\n",
       " 3: 'available',\n",
       " 4: 'available',\n",
       " 5: 'available',\n",
       " 6: 'available',\n",
       " 7: 'available',\n",
       " 8: 'available',\n",
       " 9: 'available'}"
      ]
     },
     "execution_count": 60,
     "metadata": {},
     "output_type": "execute_result"
    }
   ],
   "source": [
    "e"
   ]
  },
  {
   "cell_type": "code",
   "execution_count": 61,
   "id": "ff11689d-a3e2-4567-ad7c-392eb05f4654",
   "metadata": {},
   "outputs": [],
   "source": [
    "e.update({4:\"Sohan\"})"
   ]
  },
  {
   "cell_type": "code",
   "execution_count": 62,
   "id": "4d4eb4c6-02d3-4c5b-9209-2cff6da1ccad",
   "metadata": {},
   "outputs": [
    {
     "name": "stdout",
     "output_type": "stream",
     "text": [
      "{1: 'krishna', 2: 'available', 3: 'available', 4: 'Sohan', 5: 'available', 6: 'available', 7: 'available', 8: 'available', 9: 'available'}\n"
     ]
    }
   ],
   "source": [
    "print(e)"
   ]
  },
  {
   "cell_type": "code",
   "execution_count": 64,
   "id": "643fd837-970e-48ae-9d5a-b83a01c98fe1",
   "metadata": {},
   "outputs": [],
   "source": [
    "e.update({11:\"Mohan\"})"
   ]
  },
  {
   "cell_type": "code",
   "execution_count": 65,
   "id": "8612b857-7a17-41d4-b416-aa58f3129769",
   "metadata": {},
   "outputs": [
    {
     "data": {
      "text/plain": [
       "{1: 'krishna',\n",
       " 2: 'available',\n",
       " 3: 'available',\n",
       " 4: 'Sohan',\n",
       " 5: 'available',\n",
       " 6: 'available',\n",
       " 7: 'available',\n",
       " 8: 'available',\n",
       " 9: 'available',\n",
       " 11: 'Mohan'}"
      ]
     },
     "execution_count": 65,
     "metadata": {},
     "output_type": "execute_result"
    }
   ],
   "source": [
    "e"
   ]
  },
  {
   "cell_type": "code",
   "execution_count": 66,
   "id": "da76262c-f1cf-412c-8efc-8526ae6985ab",
   "metadata": {},
   "outputs": [],
   "source": [
    "b={1:\"krishna\",2:\"Mohan\",1:\"Sohan\"}"
   ]
  },
  {
   "cell_type": "code",
   "execution_count": 67,
   "id": "435c8007-8e4d-4403-a949-35f8fa0d004b",
   "metadata": {},
   "outputs": [
    {
     "name": "stdout",
     "output_type": "stream",
     "text": [
      "{1: 'Sohan', 2: 'Mohan'}\n"
     ]
    }
   ],
   "source": [
    "print(b)"
   ]
  },
  {
   "cell_type": "code",
   "execution_count": 75,
   "id": "0eb30126-f936-4820-b16a-0e1b551dcc02",
   "metadata": {},
   "outputs": [],
   "source": [
    "c={10.44:\"abc\",\"10\":\"xyz\",(10,):\"cyz\",10:\"dgfd\"}"
   ]
  },
  {
   "cell_type": "code",
   "execution_count": 76,
   "id": "34659c97-9ad5-4a7d-9ba1-c26f166e8d1a",
   "metadata": {},
   "outputs": [
    {
     "name": "stdout",
     "output_type": "stream",
     "text": [
      "{10.44: 'abc', '10': 'xyz', (10,): 'cyz', 10: 'dgfd'}\n"
     ]
    }
   ],
   "source": [
    "print(c)"
   ]
  },
  {
   "cell_type": "code",
   "execution_count": 77,
   "id": "549561d2-6f8d-4246-9fd5-e99389a051bc",
   "metadata": {},
   "outputs": [],
   "source": [
    "d={1:10,2:10.44,3:\"10\",4:[10],5:(10,),6:{1,2,3},7:{1:\"Krishna\",2:\"kumar\"}}"
   ]
  },
  {
   "cell_type": "code",
   "execution_count": 79,
   "id": "e7edc584-2d00-4a70-b062-d1db090926cd",
   "metadata": {},
   "outputs": [
    {
     "data": {
      "text/plain": [
       "{1: 10,\n",
       " 2: 10.44,\n",
       " 3: '10',\n",
       " 4: [10],\n",
       " 5: (10,),\n",
       " 6: {1, 2, 3},\n",
       " 7: {1: 'Krishna', 2: 'kumar'}}"
      ]
     },
     "execution_count": 79,
     "metadata": {},
     "output_type": "execute_result"
    }
   ],
   "source": [
    "d"
   ]
  },
  {
   "cell_type": "code",
   "execution_count": null,
   "id": "2931214e-39b5-4288-953b-266d9508ee44",
   "metadata": {},
   "outputs": [],
   "source": []
  }
 ],
 "metadata": {
  "kernelspec": {
   "display_name": "Python 3 (ipykernel)",
   "language": "python",
   "name": "python3"
  },
  "language_info": {
   "codemirror_mode": {
    "name": "ipython",
    "version": 3
   },
   "file_extension": ".py",
   "mimetype": "text/x-python",
   "name": "python",
   "nbconvert_exporter": "python",
   "pygments_lexer": "ipython3",
   "version": "3.11.4"
  }
 },
 "nbformat": 4,
 "nbformat_minor": 5
}
