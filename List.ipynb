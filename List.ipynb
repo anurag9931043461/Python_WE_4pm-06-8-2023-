{
 "cells": [
  {
   "cell_type": "markdown",
   "id": "1706bacf-66e4-400d-ac3e-79d34ac73858",
   "metadata": {},
   "source": [
    "# List\n",
    "\n",
    "> List constructor is list()\n",
    "\n",
    "> List literal is []\n",
    "\n",
    "> List is a set of sequence of elements.\n",
    "\n",
    "> List support indexing \n",
    "\n",
    "> List support slicing \n",
    "\n",
    "> List support concatination\n",
    "\n",
    "> List support nested list \n",
    "\n",
    "> List is mutable(unhashable)\n",
    "\n",
    "> List methods."
   ]
  },
  {
   "cell_type": "code",
   "execution_count": 15,
   "id": "7484c053-8d5a-484f-b356-100238579a3a",
   "metadata": {},
   "outputs": [
    {
     "data": {
      "text/plain": [
       "3"
      ]
     },
     "execution_count": 15,
     "metadata": {},
     "output_type": "execute_result"
    }
   ],
   "source": [
    "a=[\"Krishna\",\"Ved\",\"Yash\"]\n",
    "len(a)"
   ]
  },
  {
   "cell_type": "code",
   "execution_count": 2,
   "id": "e84aff3a-35ed-4728-b2e4-5bb339ea8b05",
   "metadata": {},
   "outputs": [
    {
     "name": "stdout",
     "output_type": "stream",
     "text": [
      "['Krishna', 'Ved', 'Yash']\n"
     ]
    }
   ],
   "source": [
    "print(a)"
   ]
  },
  {
   "cell_type": "code",
   "execution_count": 3,
   "id": "395e4474-71ce-469c-a717-27eb7482ab21",
   "metadata": {},
   "outputs": [
    {
     "data": {
      "text/plain": [
       "'Krishna'"
      ]
     },
     "execution_count": 3,
     "metadata": {},
     "output_type": "execute_result"
    }
   ],
   "source": [
    "a[0]"
   ]
  },
  {
   "cell_type": "code",
   "execution_count": 4,
   "id": "10cc9d24-1c48-4903-9da1-1c2782adfd95",
   "metadata": {},
   "outputs": [
    {
     "data": {
      "text/plain": [
       "'Ved'"
      ]
     },
     "execution_count": 4,
     "metadata": {},
     "output_type": "execute_result"
    }
   ],
   "source": [
    "a[1]"
   ]
  },
  {
   "cell_type": "code",
   "execution_count": 5,
   "id": "2321f55a-8c4a-4c7b-99dc-ae8248fcc41a",
   "metadata": {},
   "outputs": [
    {
     "data": {
      "text/plain": [
       "'Yash'"
      ]
     },
     "execution_count": 5,
     "metadata": {},
     "output_type": "execute_result"
    }
   ],
   "source": [
    "a[2]"
   ]
  },
  {
   "cell_type": "code",
   "execution_count": 6,
   "id": "68af9c71-fe22-46ec-9bf3-5c571e2b53ff",
   "metadata": {},
   "outputs": [
    {
     "data": {
      "text/plain": [
       "'Krishna'"
      ]
     },
     "execution_count": 6,
     "metadata": {},
     "output_type": "execute_result"
    }
   ],
   "source": [
    "a[-3]"
   ]
  },
  {
   "cell_type": "code",
   "execution_count": 7,
   "id": "ba0df788-bb90-4a46-8bca-2a03a505484c",
   "metadata": {},
   "outputs": [
    {
     "name": "stdout",
     "output_type": "stream",
     "text": [
      "['Krishna', 'Ved', 'Yash']\n"
     ]
    }
   ],
   "source": [
    "print(a)"
   ]
  },
  {
   "cell_type": "code",
   "execution_count": 8,
   "id": "4dca4012-b311-4eed-a8c3-0ec125d738af",
   "metadata": {},
   "outputs": [
    {
     "data": {
      "text/plain": [
       "['Krishna', 'Ved']"
      ]
     },
     "execution_count": 8,
     "metadata": {},
     "output_type": "execute_result"
    }
   ],
   "source": [
    "a[0:2:1]"
   ]
  },
  {
   "cell_type": "code",
   "execution_count": 10,
   "id": "62b6ec01-7709-4e17-ac34-d504447a2ea7",
   "metadata": {},
   "outputs": [
    {
     "data": {
      "text/plain": [
       "['Yash', 'Ved', 'Krishna']"
      ]
     },
     "execution_count": 10,
     "metadata": {},
     "output_type": "execute_result"
    }
   ],
   "source": [
    "a[-1:-4:-1]"
   ]
  },
  {
   "cell_type": "code",
   "execution_count": 11,
   "id": "8c3d5610-32d9-4d59-a4ec-6fd9863576b7",
   "metadata": {},
   "outputs": [
    {
     "data": {
      "text/plain": [
       "['Yash', 'Ved', 'Krishna']"
      ]
     },
     "execution_count": 11,
     "metadata": {},
     "output_type": "execute_result"
    }
   ],
   "source": [
    "a[-1::-1]"
   ]
  },
  {
   "cell_type": "code",
   "execution_count": 12,
   "id": "39ef5240-fada-47f6-b008-55c6e3519fa1",
   "metadata": {},
   "outputs": [
    {
     "data": {
      "text/plain": [
       "['Yash', 'Ved', 'Krishna']"
      ]
     },
     "execution_count": 12,
     "metadata": {},
     "output_type": "execute_result"
    }
   ],
   "source": [
    "a[::-1]"
   ]
  },
  {
   "cell_type": "code",
   "execution_count": 21,
   "id": "92cc6113-5723-4e1b-98ea-9da542c07eeb",
   "metadata": {},
   "outputs": [
    {
     "name": "stdout",
     "output_type": "stream",
     "text": [
      "[]\n",
      "<class 'list'>\n"
     ]
    },
    {
     "data": {
      "text/plain": [
       "0"
      ]
     },
     "execution_count": 21,
     "metadata": {},
     "output_type": "execute_result"
    }
   ],
   "source": [
    "a=list()\n",
    "print(a)\n",
    "print(type(a))\n",
    "len(a)"
   ]
  },
  {
   "cell_type": "code",
   "execution_count": 23,
   "id": "aa2233fb-2b94-400a-9ef8-252d4d56ecfa",
   "metadata": {},
   "outputs": [
    {
     "name": "stdout",
     "output_type": "stream",
     "text": [
      "<class 'str'>\n",
      "[]\n"
     ]
    }
   ],
   "source": [
    "d='[]'\n",
    "print(type(d))\n",
    "print(d)"
   ]
  },
  {
   "cell_type": "code",
   "execution_count": 17,
   "id": "4af453c9-10ca-4bcd-83d1-91b8ded5214e",
   "metadata": {},
   "outputs": [],
   "source": [
    "c=[1,2,3,4,5,[4,543,32,43],1,2,3]"
   ]
  },
  {
   "cell_type": "code",
   "execution_count": 18,
   "id": "55fbf3d3-db5d-4046-9455-424f762928ee",
   "metadata": {},
   "outputs": [
    {
     "data": {
      "text/plain": [
       "9"
      ]
     },
     "execution_count": 18,
     "metadata": {},
     "output_type": "execute_result"
    }
   ],
   "source": [
    "len(c)"
   ]
  },
  {
   "cell_type": "code",
   "execution_count": 24,
   "id": "fad90116-aaf8-427c-a83e-bdc9be902474",
   "metadata": {},
   "outputs": [],
   "source": [
    "c=[1,2,3,4,5,[4,543,32,43],1,2,3]"
   ]
  },
  {
   "cell_type": "code",
   "execution_count": 25,
   "id": "9844d589-e43d-45df-a1d7-2ae7a6ded71e",
   "metadata": {},
   "outputs": [
    {
     "data": {
      "text/plain": [
       "[1, 2, 3, 4, 5, [4, 543, 32, 43], 1, 2, 3]"
      ]
     },
     "execution_count": 25,
     "metadata": {},
     "output_type": "execute_result"
    }
   ],
   "source": [
    "c"
   ]
  },
  {
   "cell_type": "code",
   "execution_count": 30,
   "id": "1eded20c-be65-4df0-9fed-f58c07e10201",
   "metadata": {},
   "outputs": [
    {
     "data": {
      "text/plain": [
       "543"
      ]
     },
     "execution_count": 30,
     "metadata": {},
     "output_type": "execute_result"
    }
   ],
   "source": [
    "c[5][1]"
   ]
  },
  {
   "cell_type": "code",
   "execution_count": 27,
   "id": "d7f87b24-3805-4c1b-a501-ea609d92665c",
   "metadata": {},
   "outputs": [],
   "source": [
    "h=c[5]"
   ]
  },
  {
   "cell_type": "code",
   "execution_count": 29,
   "id": "7faa6a81-fdc5-44e5-b9b7-387834d4eb14",
   "metadata": {},
   "outputs": [
    {
     "data": {
      "text/plain": [
       "543"
      ]
     },
     "execution_count": 29,
     "metadata": {},
     "output_type": "execute_result"
    }
   ],
   "source": [
    "h[1]"
   ]
  },
  {
   "cell_type": "code",
   "execution_count": 31,
   "id": "9724df65-ce81-426a-b7b3-a6b740ebceae",
   "metadata": {},
   "outputs": [],
   "source": [
    "d=[1,2,3,4,5,[4,543,[3,4,53,2],32,43],1,2,3]"
   ]
  },
  {
   "cell_type": "code",
   "execution_count": 32,
   "id": "e135eca6-09a7-4f85-b5b2-381c1b0e329a",
   "metadata": {},
   "outputs": [
    {
     "data": {
      "text/plain": [
       "[4, 543, [3, 4, 53, 2], 32, 43]"
      ]
     },
     "execution_count": 32,
     "metadata": {},
     "output_type": "execute_result"
    }
   ],
   "source": [
    "d[5]"
   ]
  },
  {
   "cell_type": "code",
   "execution_count": 33,
   "id": "336ce853-587a-4955-aacf-43de0528d6ca",
   "metadata": {},
   "outputs": [
    {
     "data": {
      "text/plain": [
       "[3, 4, 53, 2]"
      ]
     },
     "execution_count": 33,
     "metadata": {},
     "output_type": "execute_result"
    }
   ],
   "source": [
    "d[5][2]"
   ]
  },
  {
   "cell_type": "code",
   "execution_count": 34,
   "id": "3a16892f-1ffd-421f-bfc5-491d7fcbc586",
   "metadata": {},
   "outputs": [
    {
     "data": {
      "text/plain": [
       "53"
      ]
     },
     "execution_count": 34,
     "metadata": {},
     "output_type": "execute_result"
    }
   ],
   "source": [
    "d[5][2][2]"
   ]
  },
  {
   "cell_type": "code",
   "execution_count": 35,
   "id": "f7e02e72-46a5-4ed0-beed-1c8db5cb98f1",
   "metadata": {},
   "outputs": [
    {
     "data": {
      "text/plain": [
       "[4, 543, [3, 4, 53, 2], 32, 43]"
      ]
     },
     "execution_count": 35,
     "metadata": {},
     "output_type": "execute_result"
    }
   ],
   "source": [
    "d[5]"
   ]
  },
  {
   "cell_type": "code",
   "execution_count": 36,
   "id": "31bdf663-0430-4a77-bdd3-96a03e61d9e3",
   "metadata": {},
   "outputs": [
    {
     "data": {
      "text/plain": [
       "[3, 4, 53, 2]"
      ]
     },
     "execution_count": 36,
     "metadata": {},
     "output_type": "execute_result"
    }
   ],
   "source": [
    "d[5][2]"
   ]
  },
  {
   "cell_type": "code",
   "execution_count": 37,
   "id": "9dd29bd4-c851-4422-87a4-fb293a5b53d9",
   "metadata": {},
   "outputs": [
    {
     "data": {
      "text/plain": [
       "[4, 53]"
      ]
     },
     "execution_count": 37,
     "metadata": {},
     "output_type": "execute_result"
    }
   ],
   "source": [
    "d[5][2][1:3:1]"
   ]
  },
  {
   "cell_type": "code",
   "execution_count": 39,
   "id": "8cd8b8ff-ad63-4b94-a3f7-6a4f2dc28320",
   "metadata": {},
   "outputs": [
    {
     "data": {
      "text/plain": [
       "[2, 53, 4, 3]"
      ]
     },
     "execution_count": 39,
     "metadata": {},
     "output_type": "execute_result"
    }
   ],
   "source": [
    "d[5][2][::-1]"
   ]
  },
  {
   "cell_type": "markdown",
   "id": "d8f67f13-6cb1-42dd-bd7e-bb0effaec314",
   "metadata": {},
   "source": [
    "# concatination"
   ]
  },
  {
   "cell_type": "code",
   "execution_count": 83,
   "id": "19b957cd-8cf0-43ba-b0f8-b17c7c4ab18a",
   "metadata": {},
   "outputs": [],
   "source": [
    "a=[1,2,3,4]\n",
    "b=[3,4,5,6]"
   ]
  },
  {
   "cell_type": "code",
   "execution_count": 84,
   "id": "eeeb7ead-2425-4faf-8100-e7c408cbe08e",
   "metadata": {},
   "outputs": [
    {
     "name": "stdout",
     "output_type": "stream",
     "text": [
      "[1, 2, 3, 4, 3, 4, 5, 6]\n"
     ]
    }
   ],
   "source": [
    "print(a+b)"
   ]
  },
  {
   "cell_type": "markdown",
   "id": "733c5139-75a2-4cd6-85e2-e17201635705",
   "metadata": {},
   "source": [
    "# List methods"
   ]
  },
  {
   "cell_type": "code",
   "execution_count": 85,
   "id": "7d43817e-b815-49ad-9e6d-ce758c725664",
   "metadata": {},
   "outputs": [
    {
     "name": "stdout",
     "output_type": "stream",
     "text": [
      "[1, 2, 3, 4]\n"
     ]
    },
    {
     "data": {
      "text/plain": [
       "1903496627072"
      ]
     },
     "execution_count": 85,
     "metadata": {},
     "output_type": "execute_result"
    }
   ],
   "source": [
    "print(a)\n",
    "id(a)"
   ]
  },
  {
   "cell_type": "code",
   "execution_count": 86,
   "id": "f244d1f4-0151-423c-92ef-7749a63f1a29",
   "metadata": {},
   "outputs": [
    {
     "data": {
      "text/plain": [
       "4"
      ]
     },
     "execution_count": 86,
     "metadata": {},
     "output_type": "execute_result"
    }
   ],
   "source": [
    "len(a)"
   ]
  },
  {
   "cell_type": "markdown",
   "id": "1dfde2b2-0995-4aeb-83fa-8992ecff523d",
   "metadata": {},
   "source": [
    "# add methods in list"
   ]
  },
  {
   "cell_type": "code",
   "execution_count": 87,
   "id": "a05c389f-bd22-4688-a504-61dacd065299",
   "metadata": {},
   "outputs": [],
   "source": [
    "a.append(10)"
   ]
  },
  {
   "cell_type": "code",
   "execution_count": 88,
   "id": "020fbcb7-8531-4105-b4cb-ceff7171b595",
   "metadata": {},
   "outputs": [
    {
     "name": "stdout",
     "output_type": "stream",
     "text": [
      "[1, 2, 3, 4, 10]\n"
     ]
    }
   ],
   "source": [
    "print(a)"
   ]
  },
  {
   "cell_type": "code",
   "execution_count": 89,
   "id": "00d04bcd-2ebf-4013-9844-14f369a672e2",
   "metadata": {},
   "outputs": [
    {
     "data": {
      "text/plain": [
       "1903496627072"
      ]
     },
     "execution_count": 89,
     "metadata": {},
     "output_type": "execute_result"
    }
   ],
   "source": [
    "id(a)"
   ]
  },
  {
   "cell_type": "code",
   "execution_count": 90,
   "id": "4cdf0306-42a4-4fdf-b3c1-ae932a910338",
   "metadata": {},
   "outputs": [
    {
     "data": {
      "text/plain": [
       "[1, 2, 3, 4, 10]"
      ]
     },
     "execution_count": 90,
     "metadata": {},
     "output_type": "execute_result"
    }
   ],
   "source": [
    "a"
   ]
  },
  {
   "cell_type": "code",
   "execution_count": 91,
   "id": "9879c3a9-e556-4236-bda2-7784c6fb5904",
   "metadata": {},
   "outputs": [],
   "source": [
    "a.append(10.09)"
   ]
  },
  {
   "cell_type": "code",
   "execution_count": 92,
   "id": "164b3100-635e-4db3-b40e-1758e3e43183",
   "metadata": {},
   "outputs": [
    {
     "name": "stdout",
     "output_type": "stream",
     "text": [
      "[1, 2, 3, 4, 10, 10.09]\n"
     ]
    }
   ],
   "source": [
    "print(a)"
   ]
  },
  {
   "cell_type": "code",
   "execution_count": 93,
   "id": "7fa75796-8101-4947-970e-da9c6bd82feb",
   "metadata": {},
   "outputs": [],
   "source": [
    "a.append('10')"
   ]
  },
  {
   "cell_type": "code",
   "execution_count": 94,
   "id": "b7e39f9b-b1ce-4fee-9089-68849b074876",
   "metadata": {},
   "outputs": [
    {
     "name": "stdout",
     "output_type": "stream",
     "text": [
      "[1, 2, 3, 4, 10, 10.09, '10']\n"
     ]
    }
   ],
   "source": [
    "print(a)"
   ]
  },
  {
   "cell_type": "code",
   "execution_count": 95,
   "id": "2e22536c-3532-46fd-aa19-2e8eaf1eabd0",
   "metadata": {},
   "outputs": [],
   "source": [
    "a.append([1,2,3,4])"
   ]
  },
  {
   "cell_type": "code",
   "execution_count": 96,
   "id": "19d1a922-4b4a-4272-a870-583f67730323",
   "metadata": {},
   "outputs": [
    {
     "name": "stdout",
     "output_type": "stream",
     "text": [
      "[1, 2, 3, 4, 10, 10.09, '10', [1, 2, 3, 4]]\n"
     ]
    }
   ],
   "source": [
    "print(a)"
   ]
  },
  {
   "cell_type": "code",
   "execution_count": 97,
   "id": "41b15975-ab3b-4a53-85c9-fba2a880014e",
   "metadata": {},
   "outputs": [
    {
     "data": {
      "text/plain": [
       "8"
      ]
     },
     "execution_count": 97,
     "metadata": {},
     "output_type": "execute_result"
    }
   ],
   "source": [
    "len(a)"
   ]
  },
  {
   "cell_type": "code",
   "execution_count": 98,
   "id": "81e122d0-6d0d-4fce-b56a-f462d0e422dc",
   "metadata": {},
   "outputs": [],
   "source": [
    "a.extend(\"krishna\")"
   ]
  },
  {
   "cell_type": "code",
   "execution_count": 99,
   "id": "8c00c70e-4112-493a-b775-47a9c09e46b7",
   "metadata": {},
   "outputs": [
    {
     "name": "stdout",
     "output_type": "stream",
     "text": [
      "[1, 2, 3, 4, 10, 10.09, '10', [1, 2, 3, 4], 'k', 'r', 'i', 's', 'h', 'n', 'a']\n"
     ]
    }
   ],
   "source": [
    "print(a)"
   ]
  },
  {
   "cell_type": "code",
   "execution_count": 100,
   "id": "a1747c4e-8e1e-4b4a-8138-456636a3f5e3",
   "metadata": {},
   "outputs": [],
   "source": [
    "a.extend([1,2,3,4,5])"
   ]
  },
  {
   "cell_type": "code",
   "execution_count": 101,
   "id": "58c91942-2b60-4bdd-8ad2-ba6616f82141",
   "metadata": {},
   "outputs": [
    {
     "name": "stdout",
     "output_type": "stream",
     "text": [
      "[1, 2, 3, 4, 10, 10.09, '10', [1, 2, 3, 4], 'k', 'r', 'i', 's', 'h', 'n', 'a', 1, 2, 3, 4, 5]\n"
     ]
    }
   ],
   "source": [
    "print(a)"
   ]
  },
  {
   "cell_type": "code",
   "execution_count": 102,
   "id": "2daa4325-6502-4920-a9fb-6aa4a17e087c",
   "metadata": {},
   "outputs": [
    {
     "ename": "TypeError",
     "evalue": "'int' object is not iterable",
     "output_type": "error",
     "traceback": [
      "\u001b[1;31m---------------------------------------------------------------------------\u001b[0m",
      "\u001b[1;31mTypeError\u001b[0m                                 Traceback (most recent call last)",
      "Cell \u001b[1;32mIn[102], line 1\u001b[0m\n\u001b[1;32m----> 1\u001b[0m \u001b[43ma\u001b[49m\u001b[38;5;241;43m.\u001b[39;49m\u001b[43mextend\u001b[49m\u001b[43m(\u001b[49m\u001b[38;5;241;43m10\u001b[39;49m\u001b[43m)\u001b[49m\n",
      "\u001b[1;31mTypeError\u001b[0m: 'int' object is not iterable"
     ]
    }
   ],
   "source": [
    "a.extend(10)"
   ]
  },
  {
   "cell_type": "code",
   "execution_count": 103,
   "id": "f11ae464-3355-45aa-8cc9-60359b358e01",
   "metadata": {},
   "outputs": [
    {
     "ename": "TypeError",
     "evalue": "'float' object is not iterable",
     "output_type": "error",
     "traceback": [
      "\u001b[1;31m---------------------------------------------------------------------------\u001b[0m",
      "\u001b[1;31mTypeError\u001b[0m                                 Traceback (most recent call last)",
      "Cell \u001b[1;32mIn[103], line 1\u001b[0m\n\u001b[1;32m----> 1\u001b[0m \u001b[43ma\u001b[49m\u001b[38;5;241;43m.\u001b[39;49m\u001b[43mextend\u001b[49m\u001b[43m(\u001b[49m\u001b[38;5;241;43m10.99\u001b[39;49m\u001b[43m)\u001b[49m\n",
      "\u001b[1;31mTypeError\u001b[0m: 'float' object is not iterable"
     ]
    }
   ],
   "source": [
    "a.extend(10.99)"
   ]
  },
  {
   "cell_type": "code",
   "execution_count": 104,
   "id": "a72cc27a-bf6f-467c-bfab-bf6ab7a8d159",
   "metadata": {},
   "outputs": [
    {
     "name": "stdout",
     "output_type": "stream",
     "text": [
      "[1, 2, 3, 4, 10, 10.09, '10', [1, 2, 3, 4], 'k', 'r', 'i', 's', 'h', 'n', 'a', 1, 2, 3, 4, 5]\n"
     ]
    }
   ],
   "source": [
    "print(a)"
   ]
  },
  {
   "cell_type": "code",
   "execution_count": 107,
   "id": "ec1f1cbe-cf53-4dbc-b89c-25dbf6ae750d",
   "metadata": {},
   "outputs": [],
   "source": [
    "a.insert(5,1000)"
   ]
  },
  {
   "cell_type": "code",
   "execution_count": 108,
   "id": "262e7eb4-253d-4c10-82cb-2947daa0afc4",
   "metadata": {},
   "outputs": [
    {
     "name": "stdout",
     "output_type": "stream",
     "text": [
      "[1, 2, 1000, 3, 4, 1000, 10, 10.09, '10', [1, 2, 3, 4], 'k', 'r', 'i', 's', 'h', 'n', 'a', 1, 2, 3, 4, 5]\n"
     ]
    }
   ],
   "source": [
    "print(a)"
   ]
  },
  {
   "cell_type": "code",
   "execution_count": 109,
   "id": "07f4927f-ac8f-42c2-b1c2-533b0fbdbed2",
   "metadata": {},
   "outputs": [
    {
     "data": {
      "text/plain": [
       "22"
      ]
     },
     "execution_count": 109,
     "metadata": {},
     "output_type": "execute_result"
    }
   ],
   "source": [
    "len(a)"
   ]
  },
  {
   "cell_type": "markdown",
   "id": "aa1e9ff3-2dea-4d76-abbe-42c88f9f6726",
   "metadata": {},
   "source": [
    "# delete methods"
   ]
  },
  {
   "cell_type": "code",
   "execution_count": 111,
   "id": "393c291f-8ee5-440f-b568-0206b8a7a972",
   "metadata": {},
   "outputs": [
    {
     "name": "stdout",
     "output_type": "stream",
     "text": [
      "[1, 2, 1000, 3, 4, 1000, 10, 10.09, '10', [1, 2, 3, 4], 'k', 'r', 'i', 's', 'h', 'n', 'a', 1, 2, 3, 4, 5]\n"
     ]
    }
   ],
   "source": [
    "print(a)"
   ]
  },
  {
   "cell_type": "code",
   "execution_count": 112,
   "id": "f5734046-918c-4631-83cd-69b0db395780",
   "metadata": {},
   "outputs": [
    {
     "data": {
      "text/plain": [
       "5"
      ]
     },
     "execution_count": 112,
     "metadata": {},
     "output_type": "execute_result"
    }
   ],
   "source": [
    "a.pop()"
   ]
  },
  {
   "cell_type": "code",
   "execution_count": 113,
   "id": "795b3241-3f2d-4ec9-b440-c02850252e2d",
   "metadata": {},
   "outputs": [
    {
     "name": "stdout",
     "output_type": "stream",
     "text": [
      "[1, 2, 1000, 3, 4, 1000, 10, 10.09, '10', [1, 2, 3, 4], 'k', 'r', 'i', 's', 'h', 'n', 'a', 1, 2, 3, 4]\n"
     ]
    }
   ],
   "source": [
    "print(a)"
   ]
  },
  {
   "cell_type": "code",
   "execution_count": 114,
   "id": "a9605b48-2c64-42a1-ad34-76630a7ac356",
   "metadata": {},
   "outputs": [
    {
     "data": {
      "text/plain": [
       "1000"
      ]
     },
     "execution_count": 114,
     "metadata": {},
     "output_type": "execute_result"
    }
   ],
   "source": [
    "a.pop(5)"
   ]
  },
  {
   "cell_type": "code",
   "execution_count": 115,
   "id": "b3a0b433-a13d-40e3-86ec-af0f9f97e098",
   "metadata": {},
   "outputs": [
    {
     "name": "stdout",
     "output_type": "stream",
     "text": [
      "[1, 2, 1000, 3, 4, 10, 10.09, '10', [1, 2, 3, 4], 'k', 'r', 'i', 's', 'h', 'n', 'a', 1, 2, 3, 4]\n"
     ]
    }
   ],
   "source": [
    "print(a)"
   ]
  },
  {
   "cell_type": "code",
   "execution_count": 116,
   "id": "91d8fdc4-0c71-4303-8d9d-01b69a2efaed",
   "metadata": {},
   "outputs": [],
   "source": [
    "a.remove(1)"
   ]
  },
  {
   "cell_type": "code",
   "execution_count": 117,
   "id": "b7e228cd-4971-4e97-b8bd-121053d6c495",
   "metadata": {},
   "outputs": [
    {
     "name": "stdout",
     "output_type": "stream",
     "text": [
      "[2, 1000, 3, 4, 10, 10.09, '10', [1, 2, 3, 4], 'k', 'r', 'i', 's', 'h', 'n', 'a', 1, 2, 3, 4]\n"
     ]
    }
   ],
   "source": [
    "print(a)"
   ]
  },
  {
   "cell_type": "code",
   "execution_count": 118,
   "id": "4f2fdfb7-9fb7-4520-9eae-f554503f9f2b",
   "metadata": {},
   "outputs": [],
   "source": [
    "a.remove([1,2,3,4])"
   ]
  },
  {
   "cell_type": "code",
   "execution_count": 119,
   "id": "4c77a9da-5b53-48eb-aca9-6c5d09f73483",
   "metadata": {},
   "outputs": [
    {
     "name": "stdout",
     "output_type": "stream",
     "text": [
      "[2, 1000, 3, 4, 10, 10.09, '10', 'k', 'r', 'i', 's', 'h', 'n', 'a', 1, 2, 3, 4]\n"
     ]
    }
   ],
   "source": [
    "print(a)"
   ]
  },
  {
   "cell_type": "code",
   "execution_count": 120,
   "id": "c2472866-5744-4027-ae96-466dd3013d9a",
   "metadata": {},
   "outputs": [],
   "source": [
    "a.clear()"
   ]
  },
  {
   "cell_type": "code",
   "execution_count": 121,
   "id": "b389bee4-f155-4a91-adeb-a43588643176",
   "metadata": {},
   "outputs": [
    {
     "name": "stdout",
     "output_type": "stream",
     "text": [
      "[]\n"
     ]
    }
   ],
   "source": [
    "print(a)"
   ]
  },
  {
   "cell_type": "code",
   "execution_count": 122,
   "id": "42c76eda-568d-4ee2-968b-156dfc03405d",
   "metadata": {},
   "outputs": [],
   "source": [
    "a.extend([3,232,1,122,32,323,434,545])"
   ]
  },
  {
   "cell_type": "code",
   "execution_count": 124,
   "id": "9367d475-47c2-4a44-ac5e-ebf5716c31ac",
   "metadata": {},
   "outputs": [
    {
     "name": "stdout",
     "output_type": "stream",
     "text": [
      "[3, 232, 1, 122, 32, 323, 434, 545]\n"
     ]
    }
   ],
   "source": [
    "print(a)"
   ]
  },
  {
   "cell_type": "code",
   "execution_count": 125,
   "id": "b822701a-cbc9-4438-ab34-c57b1077d87f",
   "metadata": {},
   "outputs": [],
   "source": [
    "a.reverse()"
   ]
  },
  {
   "cell_type": "code",
   "execution_count": 126,
   "id": "8988288e-836c-4412-85f1-d108a4d0a536",
   "metadata": {},
   "outputs": [
    {
     "name": "stdout",
     "output_type": "stream",
     "text": [
      "[545, 434, 323, 32, 122, 1, 232, 3]\n"
     ]
    }
   ],
   "source": [
    "print(a)"
   ]
  },
  {
   "cell_type": "code",
   "execution_count": 127,
   "id": "e0b37e84-13bb-4cd1-b289-6ba044818a4f",
   "metadata": {},
   "outputs": [],
   "source": [
    "a.sort()"
   ]
  },
  {
   "cell_type": "code",
   "execution_count": 128,
   "id": "9029b4ff-3c34-4dc7-b81e-3b756655845a",
   "metadata": {},
   "outputs": [
    {
     "name": "stdout",
     "output_type": "stream",
     "text": [
      "[1, 3, 32, 122, 232, 323, 434, 545]\n"
     ]
    }
   ],
   "source": [
    "print(a)"
   ]
  },
  {
   "cell_type": "code",
   "execution_count": 129,
   "id": "84bbbedc-b3d7-4db1-a42c-0a43e2fedb77",
   "metadata": {},
   "outputs": [],
   "source": [
    "a.reverse()"
   ]
  },
  {
   "cell_type": "code",
   "execution_count": 130,
   "id": "2212e221-5c43-4e55-8969-d6d742ad300e",
   "metadata": {},
   "outputs": [
    {
     "name": "stdout",
     "output_type": "stream",
     "text": [
      "[545, 434, 323, 232, 122, 32, 3, 1]\n"
     ]
    }
   ],
   "source": [
    "print(a)"
   ]
  },
  {
   "cell_type": "code",
   "execution_count": 133,
   "id": "2cb79d2e-b9a4-46d5-a7cb-771659ef810b",
   "metadata": {},
   "outputs": [],
   "source": [
    "a.sort(reverse=True)"
   ]
  },
  {
   "cell_type": "code",
   "execution_count": 134,
   "id": "7b977023-bb22-4858-85bb-1be34d4e04a4",
   "metadata": {},
   "outputs": [
    {
     "name": "stdout",
     "output_type": "stream",
     "text": [
      "[545, 434, 323, 232, 122, 32, 3, 1]\n"
     ]
    }
   ],
   "source": [
    "print(a)"
   ]
  },
  {
   "cell_type": "code",
   "execution_count": 135,
   "id": "85e2c268-c71b-4ece-bebd-50deda12af38",
   "metadata": {},
   "outputs": [
    {
     "data": {
      "text/plain": [
       "0"
      ]
     },
     "execution_count": 135,
     "metadata": {},
     "output_type": "execute_result"
    }
   ],
   "source": [
    "a.index(545)"
   ]
  },
  {
   "cell_type": "code",
   "execution_count": 136,
   "id": "a70a476d-431a-4b7c-ae9a-530811301470",
   "metadata": {},
   "outputs": [],
   "source": [
    "a.append(545)"
   ]
  },
  {
   "cell_type": "code",
   "execution_count": 137,
   "id": "a0d56fe9-b75c-43c1-a2ec-ff9b6fa87cf9",
   "metadata": {},
   "outputs": [
    {
     "name": "stdout",
     "output_type": "stream",
     "text": [
      "[545, 434, 323, 232, 122, 32, 3, 1, 545]\n"
     ]
    }
   ],
   "source": [
    "print(a)"
   ]
  },
  {
   "cell_type": "code",
   "execution_count": 138,
   "id": "9a01637a-d555-4361-85a4-d8bd83a808f0",
   "metadata": {},
   "outputs": [
    {
     "data": {
      "text/plain": [
       "0"
      ]
     },
     "execution_count": 138,
     "metadata": {},
     "output_type": "execute_result"
    }
   ],
   "source": [
    "a.index(545)"
   ]
  },
  {
   "cell_type": "code",
   "execution_count": 139,
   "id": "57233686-533e-4ad6-b900-ccb948947f09",
   "metadata": {},
   "outputs": [
    {
     "data": {
      "text/plain": [
       "8"
      ]
     },
     "execution_count": 139,
     "metadata": {},
     "output_type": "execute_result"
    }
   ],
   "source": [
    "a.index(545,1,123123123)"
   ]
  },
  {
   "cell_type": "code",
   "execution_count": 140,
   "id": "d709af40-af17-4e7f-9bbc-557bf2629f82",
   "metadata": {},
   "outputs": [
    {
     "data": {
      "text/plain": [
       "2"
      ]
     },
     "execution_count": 140,
     "metadata": {},
     "output_type": "execute_result"
    }
   ],
   "source": [
    "a.count(545)"
   ]
  },
  {
   "cell_type": "code",
   "execution_count": null,
   "id": "869b144a-22e0-464a-b3a4-ea61334f1c8c",
   "metadata": {},
   "outputs": [],
   "source": []
  }
 ],
 "metadata": {
  "kernelspec": {
   "display_name": "Python 3 (ipykernel)",
   "language": "python",
   "name": "python3"
  },
  "language_info": {
   "codemirror_mode": {
    "name": "ipython",
    "version": 3
   },
   "file_extension": ".py",
   "mimetype": "text/x-python",
   "name": "python",
   "nbconvert_exporter": "python",
   "pygments_lexer": "ipython3",
   "version": "3.11.4"
  }
 },
 "nbformat": 4,
 "nbformat_minor": 5
}
