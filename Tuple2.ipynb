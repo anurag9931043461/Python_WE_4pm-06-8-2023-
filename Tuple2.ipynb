{
 "cells": [
  {
   "cell_type": "code",
   "execution_count": null,
   "id": "5827182e-bb3e-4edb-bf75-fbf11a9f6226",
   "metadata": {},
   "outputs": [],
   "source": [
    "# List\n",
    "\n",
    "> List constructor is list()\n",
    "\n",
    "> List literal is []\n",
    "\n",
    "> List is a set of sequence of elements.\n",
    "\n",
    "> List support indexing \n",
    "\n",
    "> List support slicing \n",
    "\n",
    "> List support concatination\n",
    "\n",
    "> List support nested list \n",
    "\n",
    "> List is mutable(unhashable)\n",
    "\n",
    "> List methods."
   ]
  }
 ],
 "metadata": {
  "kernelspec": {
   "display_name": "Python 3 (ipykernel)",
   "language": "python",
   "name": "python3"
  },
  "language_info": {
   "codemirror_mode": {
    "name": "ipython",
    "version": 3
   },
   "file_extension": ".py",
   "mimetype": "text/x-python",
   "name": "python",
   "nbconvert_exporter": "python",
   "pygments_lexer": "ipython3",
   "version": "3.11.4"
  }
 },
 "nbformat": 4,
 "nbformat_minor": 5
}
