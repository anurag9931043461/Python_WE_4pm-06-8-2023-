{
 "cells": [
  {
   "cell_type": "markdown",
   "id": "6fe134a8-e455-479a-bdfc-62990c761044",
   "metadata": {},
   "source": [
    "# float\n",
    "\n",
    "> float constructor is float()\n",
    "\n",
    "> float literal is 0.0"
   ]
  },
  {
   "cell_type": "code",
   "execution_count": 8,
   "id": "8c769b3d-2a1f-4542-9065-5675070d4020",
   "metadata": {},
   "outputs": [],
   "source": [
    "a=10.7743243223543245345345334653456345"
   ]
  },
  {
   "cell_type": "code",
   "execution_count": 2,
   "id": "b7f3773e-c67c-4e95-8fb2-176c9c2c1d2e",
   "metadata": {},
   "outputs": [],
   "source": [
    "krishna=20.34"
   ]
  },
  {
   "cell_type": "code",
   "execution_count": 3,
   "id": "4371645c-9f58-4478-8917-1c1cac9f9503",
   "metadata": {},
   "outputs": [
    {
     "ename": "SyntaxError",
     "evalue": "invalid decimal literal (13607479.py, line 1)",
     "output_type": "error",
     "traceback": [
      "\u001b[1;36m  Cell \u001b[1;32mIn[3], line 1\u001b[1;36m\u001b[0m\n\u001b[1;33m    1krishna=20.324\u001b[0m\n\u001b[1;37m    ^\u001b[0m\n\u001b[1;31mSyntaxError\u001b[0m\u001b[1;31m:\u001b[0m invalid decimal literal\n"
     ]
    }
   ],
   "source": [
    "1krishna=20.324"
   ]
  },
  {
   "cell_type": "code",
   "execution_count": 5,
   "id": "3bf0bd0e-cee8-4f64-9dd8-e9f25a75bee7",
   "metadata": {},
   "outputs": [],
   "source": [
    "kris1hna=20.324"
   ]
  },
  {
   "cell_type": "code",
   "execution_count": 6,
   "id": "3e3a7362-f64c-4f6e-9a48-0ae2e351ce2f",
   "metadata": {},
   "outputs": [],
   "source": [
    "krishna1=20.3232"
   ]
  },
  {
   "cell_type": "code",
   "execution_count": 9,
   "id": "84ad1393-9619-4441-bb10-e01fcf640dc8",
   "metadata": {},
   "outputs": [
    {
     "name": "stdout",
     "output_type": "stream",
     "text": [
      "10.774324322354325\n"
     ]
    }
   ],
   "source": [
    "print(a)"
   ]
  },
  {
   "cell_type": "code",
   "execution_count": 32,
   "id": "4ab7a1d5-dd38-4b0c-a930-4e0fa6c48d7e",
   "metadata": {},
   "outputs": [],
   "source": [
    "b=23."
   ]
  },
  {
   "cell_type": "code",
   "execution_count": 33,
   "id": "b5770663-d1c4-4aa8-b669-831ce929907d",
   "metadata": {},
   "outputs": [
    {
     "name": "stdout",
     "output_type": "stream",
     "text": [
      "23.0\n"
     ]
    }
   ],
   "source": [
    "print(b)"
   ]
  },
  {
   "cell_type": "code",
   "execution_count": 34,
   "id": "5ecaa51a-85b0-4d82-b6ce-0ec8e9a0f1cd",
   "metadata": {},
   "outputs": [
    {
     "name": "stdout",
     "output_type": "stream",
     "text": [
      "<class 'float'>\n"
     ]
    }
   ],
   "source": [
    "print(type(b))"
   ]
  },
  {
   "cell_type": "code",
   "execution_count": 35,
   "id": "c09337f0-1e9f-4af5-bd6e-825a553142b9",
   "metadata": {},
   "outputs": [
    {
     "name": "stdout",
     "output_type": "stream",
     "text": [
      "2429137662320\n"
     ]
    }
   ],
   "source": [
    "print(id(b))"
   ]
  },
  {
   "cell_type": "code",
   "execution_count": 36,
   "id": "25ac369c-1570-4449-8d4c-67569690cc71",
   "metadata": {},
   "outputs": [],
   "source": [
    "c=b"
   ]
  },
  {
   "cell_type": "code",
   "execution_count": 37,
   "id": "481a721a-7d31-4f0b-8738-e60f5aee0255",
   "metadata": {},
   "outputs": [
    {
     "name": "stdout",
     "output_type": "stream",
     "text": [
      "23.0\n"
     ]
    }
   ],
   "source": [
    "print(c)"
   ]
  },
  {
   "cell_type": "code",
   "execution_count": 38,
   "id": "06989e6b-13df-4874-8075-2dbce94c5775",
   "metadata": {},
   "outputs": [
    {
     "name": "stdout",
     "output_type": "stream",
     "text": [
      "2429137662320\n"
     ]
    }
   ],
   "source": [
    "print(id(c))"
   ]
  },
  {
   "cell_type": "code",
   "execution_count": 27,
   "id": "b73047a9-bc55-46cc-a7de-78e98aba9948",
   "metadata": {},
   "outputs": [
    {
     "name": "stdout",
     "output_type": "stream",
     "text": [
      "2429140719504\n"
     ]
    }
   ],
   "source": [
    "d=39.99\n"
   ]
  },
  {
   "cell_type": "code",
   "execution_count": 31,
   "id": "09a32469-97e3-4ed5-abb8-3bb49abe9cb8",
   "metadata": {},
   "outputs": [
    {
     "name": "stdout",
     "output_type": "stream",
     "text": [
      "2429140719504\n"
     ]
    }
   ],
   "source": [
    "print(id(d))"
   ]
  },
  {
   "cell_type": "code",
   "execution_count": 39,
   "id": "bac647e3-be57-4005-8b33-416c134efcab",
   "metadata": {},
   "outputs": [],
   "source": [
    "a=10.03"
   ]
  },
  {
   "cell_type": "code",
   "execution_count": 40,
   "id": "66f4e00a-4b82-4d55-a50d-b086780715f4",
   "metadata": {},
   "outputs": [],
   "source": [
    "b=10.03"
   ]
  },
  {
   "cell_type": "code",
   "execution_count": 41,
   "id": "ebbd19cc-3b47-4c9b-8a88-764c8fef3d36",
   "metadata": {},
   "outputs": [],
   "source": [
    "c=float()"
   ]
  },
  {
   "cell_type": "code",
   "execution_count": 44,
   "id": "64aec4c2-f472-4cae-bcec-aa09f1eee977",
   "metadata": {},
   "outputs": [
    {
     "name": "stdout",
     "output_type": "stream",
     "text": [
      "0.0\n",
      "<class 'float'>\n"
     ]
    }
   ],
   "source": [
    "print(c)\n",
    "print(type(c))"
   ]
  },
  {
   "cell_type": "code",
   "execution_count": 45,
   "id": "add2a101-c8e4-4f94-9ab0-f9a92cc16bd8",
   "metadata": {},
   "outputs": [
    {
     "name": "stdout",
     "output_type": "stream",
     "text": [
      "0.0\n",
      "<class 'float'>\n"
     ]
    }
   ],
   "source": [
    "d=0.0\n",
    "print(d)\n",
    "print(type(d))"
   ]
  },
  {
   "cell_type": "code",
   "execution_count": 46,
   "id": "e773367a-98e3-4992-98c4-dca43c669272",
   "metadata": {},
   "outputs": [],
   "source": [
    "f=0.000000002"
   ]
  },
  {
   "cell_type": "code",
   "execution_count": 47,
   "id": "9286fb97-1378-4395-8ec0-e91b7e1c0d26",
   "metadata": {},
   "outputs": [
    {
     "name": "stdout",
     "output_type": "stream",
     "text": [
      "2e-09\n"
     ]
    }
   ],
   "source": [
    "print(f)"
   ]
  },
  {
   "cell_type": "code",
   "execution_count": 48,
   "id": "72da29cd-ade0-4de4-8122-fe43dffd55ec",
   "metadata": {},
   "outputs": [],
   "source": [
    "g=2e10"
   ]
  },
  {
   "cell_type": "code",
   "execution_count": 50,
   "id": "c06593c5-48fb-4b90-b9ce-3c3fd8c0a380",
   "metadata": {},
   "outputs": [
    {
     "name": "stdout",
     "output_type": "stream",
     "text": [
      "20000000000.0\n"
     ]
    }
   ],
   "source": [
    "print(g)"
   ]
  },
  {
   "cell_type": "code",
   "execution_count": 52,
   "id": "5d61ff4b-a07f-4b08-80ac-c7a6a1b1141f",
   "metadata": {},
   "outputs": [
    {
     "data": {
      "text/plain": [
       "20000000000.0"
      ]
     },
     "execution_count": 52,
     "metadata": {},
     "output_type": "execute_result"
    }
   ],
   "source": [
    "2*10.0**10"
   ]
  },
  {
   "cell_type": "code",
   "execution_count": null,
   "id": "9e8c02e0-a22a-44cd-aa4b-707e8cb6d01a",
   "metadata": {},
   "outputs": [],
   "source": []
  }
 ],
 "metadata": {
  "kernelspec": {
   "display_name": "Python 3 (ipykernel)",
   "language": "python",
   "name": "python3"
  },
  "language_info": {
   "codemirror_mode": {
    "name": "ipython",
    "version": 3
   },
   "file_extension": ".py",
   "mimetype": "text/x-python",
   "name": "python",
   "nbconvert_exporter": "python",
   "pygments_lexer": "ipython3",
   "version": "3.10.9"
  }
 },
 "nbformat": 4,
 "nbformat_minor": 5
}
