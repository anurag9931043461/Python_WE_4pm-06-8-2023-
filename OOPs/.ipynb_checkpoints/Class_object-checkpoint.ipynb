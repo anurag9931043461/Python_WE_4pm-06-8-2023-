{
 "cells": [
  {
   "cell_type": "code",
   "execution_count": 20,
   "id": "3b9ebd75-2885-48d4-9de9-2ac455a51455",
   "metadata": {},
   "outputs": [],
   "source": [
    "class Mobile:\n",
    "    def __init__(self):\n",
    "        self.ram=4\n",
    "        self.rom=128\n",
    "        self.color=\"black\"\n",
    "        print(\"id of self\",id(self))\n",
    "    def calling(self):\n",
    "        print(\"I can call\")\n",
    "\n",
    "    def texting(self):\n",
    "        print(\"I can text\")\n",
    "\n",
    "    def browsing(self):\n",
    "        print(\"I can browse\")"
   ]
  },
  {
   "cell_type": "code",
   "execution_count": 22,
   "id": "6a75cae3-ffaf-48cf-aa7e-767c390067bc",
   "metadata": {},
   "outputs": [
    {
     "name": "stdout",
     "output_type": "stream",
     "text": [
      "id of self 2967989341904\n"
     ]
    },
    {
     "data": {
      "text/plain": [
       "2967989341904"
      ]
     },
     "execution_count": 22,
     "metadata": {},
     "output_type": "execute_result"
    }
   ],
   "source": [
    "nokia=Mobile()\n",
    "id(nokia)"
   ]
  },
  {
   "cell_type": "code",
   "execution_count": 4,
   "id": "0ce57dbc-0be2-4f2f-a898-d10c0638cdb7",
   "metadata": {},
   "outputs": [
    {
     "data": {
      "text/plain": [
       "4"
      ]
     },
     "execution_count": 4,
     "metadata": {},
     "output_type": "execute_result"
    }
   ],
   "source": [
    "nokia.ram"
   ]
  },
  {
   "cell_type": "code",
   "execution_count": 5,
   "id": "adc8e8fc-f14e-45e4-ae9f-83eef321ee6f",
   "metadata": {},
   "outputs": [
    {
     "data": {
      "text/plain": [
       "128"
      ]
     },
     "execution_count": 5,
     "metadata": {},
     "output_type": "execute_result"
    }
   ],
   "source": [
    "nokia.rom"
   ]
  },
  {
   "cell_type": "code",
   "execution_count": 6,
   "id": "6945ce99-e022-44f8-a3f2-027e50237e6a",
   "metadata": {},
   "outputs": [
    {
     "data": {
      "text/plain": [
       "'black'"
      ]
     },
     "execution_count": 6,
     "metadata": {},
     "output_type": "execute_result"
    }
   ],
   "source": [
    "nokia.color"
   ]
  },
  {
   "cell_type": "code",
   "execution_count": 7,
   "id": "9127e104-f391-4ca5-be51-ad475a90908e",
   "metadata": {},
   "outputs": [
    {
     "name": "stdout",
     "output_type": "stream",
     "text": [
      "I can browse\n"
     ]
    }
   ],
   "source": [
    "nokia.browsing()"
   ]
  },
  {
   "cell_type": "code",
   "execution_count": 8,
   "id": "cb0d4062-42c8-43ae-bf78-f9987de03e9c",
   "metadata": {},
   "outputs": [
    {
     "name": "stdout",
     "output_type": "stream",
     "text": [
      "I can call\n"
     ]
    }
   ],
   "source": [
    "nokia.calling()"
   ]
  },
  {
   "cell_type": "code",
   "execution_count": 9,
   "id": "682776e6-c557-4cc8-8cbc-bb867f3aedf5",
   "metadata": {},
   "outputs": [
    {
     "name": "stdout",
     "output_type": "stream",
     "text": [
      "I can text\n"
     ]
    }
   ],
   "source": [
    "nokia.texting()"
   ]
  },
  {
   "cell_type": "code",
   "execution_count": 10,
   "id": "32ba8ae4-683c-44cb-9f98-ffb3481d630b",
   "metadata": {},
   "outputs": [],
   "source": [
    "samsung=Mobile()"
   ]
  },
  {
   "cell_type": "code",
   "execution_count": 11,
   "id": "5b98b3a3-7f7f-4cf7-8ed7-0faf0af88387",
   "metadata": {},
   "outputs": [
    {
     "name": "stdout",
     "output_type": "stream",
     "text": [
      "I can browse\n"
     ]
    }
   ],
   "source": [
    "samsung.browsing()"
   ]
  },
  {
   "cell_type": "code",
   "execution_count": 12,
   "id": "ea93ab6c-4b7d-48eb-a72e-59c905107511",
   "metadata": {},
   "outputs": [
    {
     "name": "stdout",
     "output_type": "stream",
     "text": [
      "I can call\n"
     ]
    }
   ],
   "source": [
    "samsung.calling()"
   ]
  },
  {
   "cell_type": "code",
   "execution_count": 13,
   "id": "fb9dc177-54f5-40ba-a0f2-4aad784a0ce1",
   "metadata": {},
   "outputs": [
    {
     "name": "stdout",
     "output_type": "stream",
     "text": [
      "I can text\n"
     ]
    }
   ],
   "source": [
    "samsung.texting()"
   ]
  },
  {
   "cell_type": "code",
   "execution_count": 17,
   "id": "d7c19f43-51f0-4da9-83a0-4bb32ce24dfe",
   "metadata": {},
   "outputs": [],
   "source": [
    "samsung.ram=8"
   ]
  },
  {
   "cell_type": "code",
   "execution_count": 15,
   "id": "0e663d0a-f88d-4b04-8fce-4eef192446b1",
   "metadata": {},
   "outputs": [
    {
     "data": {
      "text/plain": [
       "128"
      ]
     },
     "execution_count": 15,
     "metadata": {},
     "output_type": "execute_result"
    }
   ],
   "source": [
    "samsung.rom"
   ]
  },
  {
   "cell_type": "code",
   "execution_count": 16,
   "id": "9fe5d998-7159-4380-b1b3-77cf77861872",
   "metadata": {},
   "outputs": [
    {
     "data": {
      "text/plain": [
       "'black'"
      ]
     },
     "execution_count": 16,
     "metadata": {},
     "output_type": "execute_result"
    }
   ],
   "source": [
    "samsung.color"
   ]
  },
  {
   "cell_type": "code",
   "execution_count": 18,
   "id": "dc120cab-f5f3-4cfd-b3d4-91a478811344",
   "metadata": {},
   "outputs": [
    {
     "data": {
      "text/plain": [
       "8"
      ]
     },
     "execution_count": 18,
     "metadata": {},
     "output_type": "execute_result"
    }
   ],
   "source": [
    "samsung.ram"
   ]
  },
  {
   "cell_type": "code",
   "execution_count": 19,
   "id": "9b276a3f-26af-4246-8d0d-338658ecf99c",
   "metadata": {},
   "outputs": [
    {
     "data": {
      "text/plain": [
       "4"
      ]
     },
     "execution_count": 19,
     "metadata": {},
     "output_type": "execute_result"
    }
   ],
   "source": [
    "nokia.ram"
   ]
  },
  {
   "cell_type": "code",
   "execution_count": 23,
   "id": "3e93fd7c-8793-4d75-9334-e959e61c3ef8",
   "metadata": {},
   "outputs": [
    {
     "name": "stdout",
     "output_type": "stream",
     "text": [
      "id of self 2967989240016\n"
     ]
    }
   ],
   "source": [
    "samsung=Mobile()"
   ]
  },
  {
   "cell_type": "code",
   "execution_count": 24,
   "id": "5c710b5b-5f00-4f2c-9844-b0f052751d4f",
   "metadata": {},
   "outputs": [
    {
     "data": {
      "text/plain": [
       "2967989240016"
      ]
     },
     "execution_count": 24,
     "metadata": {},
     "output_type": "execute_result"
    }
   ],
   "source": [
    "id(samsung)"
   ]
  },
  {
   "cell_type": "code",
   "execution_count": 25,
   "id": "6f9af64b-332e-42a6-8bb7-7475bbbe2380",
   "metadata": {},
   "outputs": [
    {
     "name": "stdout",
     "output_type": "stream",
     "text": [
      "I can browse\n"
     ]
    }
   ],
   "source": [
    "Mobile.browsing(samsung)"
   ]
  },
  {
   "cell_type": "code",
   "execution_count": 27,
   "id": "7e0a3e30-4b65-4f9a-8bbc-6b9fdfdc0206",
   "metadata": {},
   "outputs": [
    {
     "name": "stdout",
     "output_type": "stream",
     "text": [
      "I can browse\n"
     ]
    }
   ],
   "source": [
    "samsung.browsing()"
   ]
  },
  {
   "cell_type": "code",
   "execution_count": 79,
   "id": "c765a374-c7f6-4e5d-81e6-3129d10283fd",
   "metadata": {},
   "outputs": [],
   "source": [
    "class ATM:\n",
    "    a=10        # class variable\n",
    "    def __init__(self):   # constructor\n",
    "        self.pin=\"1111\"         #instance variable\n",
    "        self.balance=10000.00   #instance variable\n",
    "        print(ATM.a)\n",
    "    def balance_enquiry(self):  # feature/method\n",
    "        print(\"You account balance is :\",self.balance)\n",
    "        "
   ]
  },
  {
   "cell_type": "code",
   "execution_count": 80,
   "id": "bd4a498b-12e0-4bee-b7f5-614e7d1f0f92",
   "metadata": {},
   "outputs": [
    {
     "name": "stdout",
     "output_type": "stream",
     "text": [
      "10\n"
     ]
    }
   ],
   "source": [
    "krishna=ATM()"
   ]
  },
  {
   "cell_type": "code",
   "execution_count": 34,
   "id": "912930d8-7efd-4f9c-af57-040028c87d1b",
   "metadata": {},
   "outputs": [],
   "source": [
    "krishna.pin=9807"
   ]
  },
  {
   "cell_type": "code",
   "execution_count": 35,
   "id": "cf1d5e7a-21dc-4968-acc2-59b9dcc495a0",
   "metadata": {},
   "outputs": [
    {
     "data": {
      "text/plain": [
       "10000.0"
      ]
     },
     "execution_count": 35,
     "metadata": {},
     "output_type": "execute_result"
    }
   ],
   "source": [
    "krishna.balance"
   ]
  },
  {
   "cell_type": "code",
   "execution_count": 36,
   "id": "f29a6fdb-cef6-4320-8a7f-9973784cee84",
   "metadata": {},
   "outputs": [
    {
     "data": {
      "text/plain": [
       "9807"
      ]
     },
     "execution_count": 36,
     "metadata": {},
     "output_type": "execute_result"
    }
   ],
   "source": [
    "krishna.pin"
   ]
  },
  {
   "cell_type": "code",
   "execution_count": 38,
   "id": "e6508f49-1bb6-46b2-92b1-173e821cc906",
   "metadata": {},
   "outputs": [],
   "source": [
    "krishna.balance=30000"
   ]
  },
  {
   "cell_type": "code",
   "execution_count": 39,
   "id": "630250c9-ceec-4b15-816c-013ba3961f2c",
   "metadata": {},
   "outputs": [
    {
     "data": {
      "text/plain": [
       "30000"
      ]
     },
     "execution_count": 39,
     "metadata": {},
     "output_type": "execute_result"
    }
   ],
   "source": [
    "krishna.balance"
   ]
  },
  {
   "cell_type": "code",
   "execution_count": 40,
   "id": "54abd258-d671-4771-afb9-aff70c00e039",
   "metadata": {},
   "outputs": [],
   "source": [
    "suraj=ATM()"
   ]
  },
  {
   "cell_type": "code",
   "execution_count": 41,
   "id": "9852bd2d-666f-4029-9b03-e8a9a4fbc258",
   "metadata": {},
   "outputs": [
    {
     "data": {
      "text/plain": [
       "'1111'"
      ]
     },
     "execution_count": 41,
     "metadata": {},
     "output_type": "execute_result"
    }
   ],
   "source": [
    "suraj.pin"
   ]
  },
  {
   "cell_type": "code",
   "execution_count": 42,
   "id": "1572bd83-6408-477e-91f2-0d2d3b541874",
   "metadata": {},
   "outputs": [],
   "source": [
    "suraj.pin=2345"
   ]
  },
  {
   "cell_type": "code",
   "execution_count": 43,
   "id": "0f72f5f8-5837-447e-83bc-72bfe38de41a",
   "metadata": {},
   "outputs": [],
   "source": [
    "suraj.balance=150000.00"
   ]
  },
  {
   "cell_type": "code",
   "execution_count": 44,
   "id": "5eb086f5-6b08-40c1-b73b-edff283a0486",
   "metadata": {},
   "outputs": [],
   "source": [
    "vinay=ATM()"
   ]
  },
  {
   "cell_type": "code",
   "execution_count": 47,
   "id": "789d2437-4975-44df-9224-cfbb500f9b36",
   "metadata": {},
   "outputs": [],
   "source": [
    "vinay.balance=40000"
   ]
  },
  {
   "cell_type": "code",
   "execution_count": 48,
   "id": "e6749130-9ab8-4f1f-b6ad-4bb38d45ed4e",
   "metadata": {},
   "outputs": [],
   "source": [
    "vinay.pin=9650"
   ]
  },
  {
   "cell_type": "code",
   "execution_count": 49,
   "id": "b7a118b4-a5b3-47b7-aa3c-66e56554c78b",
   "metadata": {},
   "outputs": [],
   "source": [
    "vinit=ATM()"
   ]
  },
  {
   "cell_type": "code",
   "execution_count": 52,
   "id": "2c680cab-9691-4cbe-81b6-f58a54ca3df5",
   "metadata": {},
   "outputs": [],
   "source": [
    "vinit.balance=2958.00"
   ]
  },
  {
   "cell_type": "code",
   "execution_count": 53,
   "id": "d9f89364-74bb-41c8-9f37-b26c34e0e3bc",
   "metadata": {},
   "outputs": [],
   "source": [
    "vinit.pin=4435"
   ]
  },
  {
   "cell_type": "code",
   "execution_count": 54,
   "id": "11c777b5-7512-4d67-8237-8107a80a25ec",
   "metadata": {},
   "outputs": [],
   "source": [
    "akash=ATM()"
   ]
  },
  {
   "cell_type": "code",
   "execution_count": 58,
   "id": "ff3b6044-3c41-4685-8245-b2f554e2ab9d",
   "metadata": {},
   "outputs": [],
   "source": [
    "akash.balance=5000"
   ]
  },
  {
   "cell_type": "code",
   "execution_count": 59,
   "id": "dc41fab8-3352-4048-bb3c-b523624a8920",
   "metadata": {},
   "outputs": [],
   "source": [
    "akash.pin=9773"
   ]
  },
  {
   "cell_type": "code",
   "execution_count": 60,
   "id": "508a8b7e-facb-445a-b97a-60ae4282f4d5",
   "metadata": {},
   "outputs": [],
   "source": [
    "anshika=ATM()"
   ]
  },
  {
   "cell_type": "code",
   "execution_count": 63,
   "id": "56810d72-f1a2-4771-9038-3d82f8e51c21",
   "metadata": {},
   "outputs": [],
   "source": [
    "anshika.balance=6500.0"
   ]
  },
  {
   "cell_type": "code",
   "execution_count": 64,
   "id": "f87607c1-8589-40d1-97bf-3e9ca3a95400",
   "metadata": {},
   "outputs": [],
   "source": [
    "anshika.pin=6245"
   ]
  },
  {
   "cell_type": "code",
   "execution_count": 65,
   "id": "e8fbf85e-83fa-4a57-88ea-f786e221d21b",
   "metadata": {},
   "outputs": [
    {
     "data": {
      "text/plain": [
       "5000"
      ]
     },
     "execution_count": 65,
     "metadata": {},
     "output_type": "execute_result"
    }
   ],
   "source": [
    "akash.balance"
   ]
  },
  {
   "cell_type": "code",
   "execution_count": 66,
   "id": "533dc3a5-b9e8-426b-8572-d39e54c3a4fb",
   "metadata": {},
   "outputs": [
    {
     "data": {
      "text/plain": [
       "9773"
      ]
     },
     "execution_count": 66,
     "metadata": {},
     "output_type": "execute_result"
    }
   ],
   "source": [
    "akash.pin"
   ]
  },
  {
   "cell_type": "code",
   "execution_count": 67,
   "id": "f97335e6-0291-4fdc-aa7a-7637473bf995",
   "metadata": {},
   "outputs": [
    {
     "data": {
      "text/plain": [
       "30000"
      ]
     },
     "execution_count": 67,
     "metadata": {},
     "output_type": "execute_result"
    }
   ],
   "source": [
    "krishna.balance"
   ]
  },
  {
   "cell_type": "code",
   "execution_count": 68,
   "id": "0a5c9b7c-714f-41f9-b7ee-236f5dec4a32",
   "metadata": {},
   "outputs": [
    {
     "data": {
      "text/plain": [
       "9807"
      ]
     },
     "execution_count": 68,
     "metadata": {},
     "output_type": "execute_result"
    }
   ],
   "source": [
    "krishna.pin"
   ]
  },
  {
   "cell_type": "code",
   "execution_count": 69,
   "id": "4c0e4083-30e3-4f3f-af13-852db5d5de10",
   "metadata": {},
   "outputs": [
    {
     "data": {
      "text/plain": [
       "150000.0"
      ]
     },
     "execution_count": 69,
     "metadata": {},
     "output_type": "execute_result"
    }
   ],
   "source": [
    "suraj.balance"
   ]
  },
  {
   "cell_type": "code",
   "execution_count": 70,
   "id": "d7d360e3-fe98-47f9-81ee-454433d251ca",
   "metadata": {},
   "outputs": [
    {
     "data": {
      "text/plain": [
       "2345"
      ]
     },
     "execution_count": 70,
     "metadata": {},
     "output_type": "execute_result"
    }
   ],
   "source": [
    "suraj.pin"
   ]
  },
  {
   "cell_type": "code",
   "execution_count": 71,
   "id": "f0bb43a0-5602-402d-9d72-8270a4a07a46",
   "metadata": {},
   "outputs": [
    {
     "data": {
      "text/plain": [
       "6500.0"
      ]
     },
     "execution_count": 71,
     "metadata": {},
     "output_type": "execute_result"
    }
   ],
   "source": [
    "anshika.balance"
   ]
  },
  {
   "cell_type": "code",
   "execution_count": 72,
   "id": "a6dcae99-61e2-494d-a3a3-4ff8e82a6fdc",
   "metadata": {},
   "outputs": [
    {
     "data": {
      "text/plain": [
       "6245"
      ]
     },
     "execution_count": 72,
     "metadata": {},
     "output_type": "execute_result"
    }
   ],
   "source": [
    "anshika.pin"
   ]
  },
  {
   "cell_type": "code",
   "execution_count": 73,
   "id": "a42e6371-5d8d-4fe8-9868-e393e6bdb8de",
   "metadata": {},
   "outputs": [
    {
     "data": {
      "text/plain": [
       "2958.0"
      ]
     },
     "execution_count": 73,
     "metadata": {},
     "output_type": "execute_result"
    }
   ],
   "source": [
    "vinit.balance"
   ]
  },
  {
   "cell_type": "code",
   "execution_count": 74,
   "id": "dca017c4-1d7b-4ac0-a44d-8b80f47779d8",
   "metadata": {},
   "outputs": [
    {
     "data": {
      "text/plain": [
       "4435"
      ]
     },
     "execution_count": 74,
     "metadata": {},
     "output_type": "execute_result"
    }
   ],
   "source": [
    "vinit.pin"
   ]
  },
  {
   "cell_type": "code",
   "execution_count": 75,
   "id": "562832de-11d5-4019-9ffb-e600a7d051e7",
   "metadata": {},
   "outputs": [
    {
     "data": {
      "text/plain": [
       "40000"
      ]
     },
     "execution_count": 75,
     "metadata": {},
     "output_type": "execute_result"
    }
   ],
   "source": [
    "vinay.balance"
   ]
  },
  {
   "cell_type": "code",
   "execution_count": 76,
   "id": "9b29dfff-cbf5-4b3f-8942-a073ffb3056d",
   "metadata": {},
   "outputs": [
    {
     "data": {
      "text/plain": [
       "9650"
      ]
     },
     "execution_count": 76,
     "metadata": {},
     "output_type": "execute_result"
    }
   ],
   "source": [
    "vinay.pin"
   ]
  },
  {
   "cell_type": "code",
   "execution_count": null,
   "id": "a14de9b2-50a1-4ea7-8cab-c2ea20140540",
   "metadata": {},
   "outputs": [],
   "source": []
  }
 ],
 "metadata": {
  "kernelspec": {
   "display_name": "Python 3 (ipykernel)",
   "language": "python",
   "name": "python3"
  },
  "language_info": {
   "codemirror_mode": {
    "name": "ipython",
    "version": 3
   },
   "file_extension": ".py",
   "mimetype": "text/x-python",
   "name": "python",
   "nbconvert_exporter": "python",
   "pygments_lexer": "ipython3",
   "version": "3.11.5"
  }
 },
 "nbformat": 4,
 "nbformat_minor": 5
}
