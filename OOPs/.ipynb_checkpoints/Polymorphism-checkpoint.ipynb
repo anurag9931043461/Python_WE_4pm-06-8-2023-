{
 "cells": [
  {
   "cell_type": "code",
   "execution_count": 1,
   "id": "9e1b0863-f07d-4aca-a569-56291583d61a",
   "metadata": {},
   "outputs": [],
   "source": [
    "# Polymorphism\n",
    "\n",
    "# poly=many\n",
    "\n",
    "# morphism = form"
   ]
  },
  {
   "cell_type": "markdown",
   "id": "4e873b53-ac9d-41e5-a327-a99ab9882c44",
   "metadata": {},
   "source": [
    "# Polymorphism:\n",
    "\n",
    "> Overloading(Java)\n",
    "\n",
    "    > method overloading\n",
    "\n",
    "    > constructor overloading\n",
    "\n",
    "> Overriding (Python)\n",
    "\n",
    "    > method overriding "
   ]
  },
  {
   "cell_type": "code",
   "execution_count": 2,
   "id": "b36e47c4-cdfb-4f32-b979-17033f87ddce",
   "metadata": {},
   "outputs": [],
   "source": [
    "a=10"
   ]
  },
  {
   "cell_type": "code",
   "execution_count": 4,
   "id": "4e0315e2-30c5-4117-b26c-caea21b571d8",
   "metadata": {},
   "outputs": [],
   "source": [
    "a=20"
   ]
  },
  {
   "cell_type": "code",
   "execution_count": 5,
   "id": "7f3b1088-d461-4b71-84ce-4557ba2a418d",
   "metadata": {},
   "outputs": [
    {
     "name": "stdout",
     "output_type": "stream",
     "text": [
      "20\n"
     ]
    }
   ],
   "source": [
    "print(a)"
   ]
  },
  {
   "cell_type": "code",
   "execution_count": 6,
   "id": "e9625985-c3d1-4e8e-a9fb-468c51566b25",
   "metadata": {},
   "outputs": [],
   "source": [
    "class calc:\n",
    "    def multiply(self,a,b):\n",
    "        print(a*b)"
   ]
  },
  {
   "cell_type": "code",
   "execution_count": 7,
   "id": "ee0d1970-6e28-466d-8900-f85d8b5a3c62",
   "metadata": {},
   "outputs": [],
   "source": [
    "krishna=calc()"
   ]
  },
  {
   "cell_type": "code",
   "execution_count": 8,
   "id": "ee5342f5-a051-4e25-8d76-ec3ffc2c4a03",
   "metadata": {},
   "outputs": [
    {
     "name": "stdout",
     "output_type": "stream",
     "text": [
      "200\n"
     ]
    }
   ],
   "source": [
    "krishna.multiply(10,20)"
   ]
  },
  {
   "cell_type": "code",
   "execution_count": 9,
   "id": "eb736a37-393a-49e0-91ff-db0fcfc92d46",
   "metadata": {},
   "outputs": [],
   "source": [
    "class calc:\n",
    "    def multiply(self,a,b):\n",
    "        print(a*b)\n",
    "    def multiply(self,a,b,c):\n",
    "        print(a*b*c)"
   ]
  },
  {
   "cell_type": "code",
   "execution_count": 10,
   "id": "62b80192-38d5-47d3-8b37-fc3c5b897623",
   "metadata": {},
   "outputs": [],
   "source": [
    "krishna=calc()"
   ]
  },
  {
   "cell_type": "code",
   "execution_count": 11,
   "id": "7835bf8c-dae1-40d6-9d54-dec289816668",
   "metadata": {},
   "outputs": [
    {
     "ename": "TypeError",
     "evalue": "calc.multiply() missing 1 required positional argument: 'c'",
     "output_type": "error",
     "traceback": [
      "\u001b[1;31m---------------------------------------------------------------------------\u001b[0m",
      "\u001b[1;31mTypeError\u001b[0m                                 Traceback (most recent call last)",
      "Cell \u001b[1;32mIn[11], line 1\u001b[0m\n\u001b[1;32m----> 1\u001b[0m \u001b[43mkrishna\u001b[49m\u001b[38;5;241;43m.\u001b[39;49m\u001b[43mmultiply\u001b[49m\u001b[43m(\u001b[49m\u001b[38;5;241;43m10\u001b[39;49m\u001b[43m,\u001b[49m\u001b[38;5;241;43m20\u001b[39;49m\u001b[43m)\u001b[49m\n",
      "\u001b[1;31mTypeError\u001b[0m: calc.multiply() missing 1 required positional argument: 'c'"
     ]
    }
   ],
   "source": [
    "krishna.multiply(10,20)"
   ]
  },
  {
   "cell_type": "code",
   "execution_count": 12,
   "id": "abbb867c-5215-4cfc-ae22-d2ce0376361a",
   "metadata": {},
   "outputs": [
    {
     "name": "stdout",
     "output_type": "stream",
     "text": [
      "6000\n"
     ]
    }
   ],
   "source": [
    "krishna.multiply(10,20,30)"
   ]
  },
  {
   "cell_type": "code",
   "execution_count": 13,
   "id": "9ee18f38-bb83-41ee-80b2-f00dba13ada9",
   "metadata": {},
   "outputs": [],
   "source": [
    "class calc:\n",
    "    def multiply1(self,a,b):\n",
    "        print(a*b)\n",
    "    def multiply(self,a,b,c):\n",
    "        print(a*b*c)"
   ]
  },
  {
   "cell_type": "code",
   "execution_count": 14,
   "id": "fa213648-3532-48b3-874d-8a5363ea8144",
   "metadata": {},
   "outputs": [],
   "source": [
    "krishna=calc()"
   ]
  },
  {
   "cell_type": "code",
   "execution_count": 15,
   "id": "a5a3656a-3fe3-46c4-9cd6-7a924e124405",
   "metadata": {},
   "outputs": [
    {
     "name": "stdout",
     "output_type": "stream",
     "text": [
      "200\n"
     ]
    }
   ],
   "source": [
    "krishna.multiply1(10,20)"
   ]
  },
  {
   "cell_type": "code",
   "execution_count": 16,
   "id": "42874315-5de7-4658-bfaf-987c96bf6e56",
   "metadata": {},
   "outputs": [
    {
     "name": "stdout",
     "output_type": "stream",
     "text": [
      "6000\n"
     ]
    }
   ],
   "source": [
    "krishna.multiply(10,20,30)"
   ]
  },
  {
   "cell_type": "code",
   "execution_count": 17,
   "id": "c3e3e7e8-4db0-442c-9ece-20b32f598b34",
   "metadata": {},
   "outputs": [],
   "source": [
    "class calc:\n",
    "    def multiply(self,*n):\n",
    "        counter=1\n",
    "        for i in n:\n",
    "            counter=counter*i\n",
    "        print(counter)"
   ]
  },
  {
   "cell_type": "code",
   "execution_count": 18,
   "id": "9b8bb0cc-b246-4e0c-a214-342de13f8f03",
   "metadata": {},
   "outputs": [],
   "source": [
    "krishna=calc()"
   ]
  },
  {
   "cell_type": "code",
   "execution_count": 19,
   "id": "83529fa8-c6e5-4124-88a0-d4961f6e162d",
   "metadata": {},
   "outputs": [
    {
     "name": "stdout",
     "output_type": "stream",
     "text": [
      "200\n"
     ]
    }
   ],
   "source": [
    "krishna.multiply(10,20)"
   ]
  },
  {
   "cell_type": "code",
   "execution_count": 20,
   "id": "3832863d-f00d-430d-b08b-6508aacdf90d",
   "metadata": {},
   "outputs": [
    {
     "name": "stdout",
     "output_type": "stream",
     "text": [
      "624524525568000\n"
     ]
    }
   ],
   "source": [
    "krishna.multiply(10,20,3040,432,32,32,43,54)"
   ]
  },
  {
   "cell_type": "code",
   "execution_count": 21,
   "id": "d843bf64-31e7-40cd-8ece-ab59a854f972",
   "metadata": {},
   "outputs": [],
   "source": [
    "class calc:\n",
    "    def multiply(self,a,b,c=1):\n",
    "        print(a*b*c)"
   ]
  },
  {
   "cell_type": "code",
   "execution_count": 22,
   "id": "58445a39-fed8-42f3-a26a-99c1b1b3b083",
   "metadata": {},
   "outputs": [],
   "source": [
    "krishna=calc()"
   ]
  },
  {
   "cell_type": "code",
   "execution_count": 23,
   "id": "a12850cf-6d52-42b4-b322-3410d87e04e0",
   "metadata": {},
   "outputs": [
    {
     "name": "stdout",
     "output_type": "stream",
     "text": [
      "200\n"
     ]
    }
   ],
   "source": [
    "krishna.multiply(10,20)"
   ]
  },
  {
   "cell_type": "code",
   "execution_count": 24,
   "id": "31b5ef82-73f9-4e74-bb5c-bc60476fb77e",
   "metadata": {},
   "outputs": [
    {
     "name": "stdout",
     "output_type": "stream",
     "text": [
      "6000\n"
     ]
    }
   ],
   "source": [
    "krishna.multiply(10,20,30)"
   ]
  },
  {
   "cell_type": "code",
   "execution_count": null,
   "id": "3d790dfe-8aff-4c27-9d4f-9ff03387d207",
   "metadata": {},
   "outputs": [],
   "source": []
  }
 ],
 "metadata": {
  "kernelspec": {
   "display_name": "Python 3 (ipykernel)",
   "language": "python",
   "name": "python3"
  },
  "language_info": {
   "codemirror_mode": {
    "name": "ipython",
    "version": 3
   },
   "file_extension": ".py",
   "mimetype": "text/x-python",
   "name": "python",
   "nbconvert_exporter": "python",
   "pygments_lexer": "ipython3",
   "version": "3.11.5"
  }
 },
 "nbformat": 4,
 "nbformat_minor": 5
}
