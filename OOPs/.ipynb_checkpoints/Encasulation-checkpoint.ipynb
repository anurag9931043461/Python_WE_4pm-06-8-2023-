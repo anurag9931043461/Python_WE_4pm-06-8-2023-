{
 "cells": [
  {
   "cell_type": "code",
   "execution_count": 3,
   "id": "f006ee0c-d35b-452d-8035-3785d7411ed9",
   "metadata": {},
   "outputs": [],
   "source": [
    "class Plane:\n",
    "    def __init__(self):\n",
    "        self.engine_number=2\n",
    "        self.length=100\n",
    "        self.width=70\n",
    "        self.landing_wheel=6\n",
    "    def takeoff(self):\n",
    "        print(\"plane in the sky\")\n",
    "    def ignition(self):\n",
    "        print(\"Engine is working fine\")\n",
    "    def landing(self):\n",
    "        print(\"plane landing\")\n",
    "    def redar_system(self):\n",
    "        print(\"Plane is in touch with nearest air control system\")"
   ]
  },
  {
   "cell_type": "code",
   "execution_count": 6,
   "id": "fb186f92-964e-4153-a2fc-53d8d19aed08",
   "metadata": {},
   "outputs": [],
   "source": [
    "Rafael=Plane()"
   ]
  },
  {
   "cell_type": "code",
   "execution_count": 8,
   "id": "a75ec938-d791-4f41-9f5a-1c89e9227acf",
   "metadata": {},
   "outputs": [
    {
     "data": {
      "text/plain": [
       "2"
      ]
     },
     "execution_count": 8,
     "metadata": {},
     "output_type": "execute_result"
    }
   ],
   "source": [
    "Rafael.engine_number"
   ]
  },
  {
   "cell_type": "code",
   "execution_count": 9,
   "id": "ff2abd15-b49a-4a7e-8799-8ea6da2dcd2c",
   "metadata": {},
   "outputs": [
    {
     "data": {
      "text/plain": [
       "6"
      ]
     },
     "execution_count": 9,
     "metadata": {},
     "output_type": "execute_result"
    }
   ],
   "source": [
    "Rafael.landing_wheel"
   ]
  },
  {
   "cell_type": "code",
   "execution_count": 10,
   "id": "fc33ebc2-65d8-48cd-acfb-396936c082af",
   "metadata": {},
   "outputs": [
    {
     "data": {
      "text/plain": [
       "100"
      ]
     },
     "execution_count": 10,
     "metadata": {},
     "output_type": "execute_result"
    }
   ],
   "source": [
    "Rafael.length"
   ]
  },
  {
   "cell_type": "code",
   "execution_count": 11,
   "id": "e2a8b647-405d-4350-a04d-b7c959a23018",
   "metadata": {},
   "outputs": [
    {
     "data": {
      "text/plain": [
       "70"
      ]
     },
     "execution_count": 11,
     "metadata": {},
     "output_type": "execute_result"
    }
   ],
   "source": [
    "Rafael.width"
   ]
  },
  {
   "cell_type": "markdown",
   "id": "9c75f6e2-669e-4c2c-a30e-b512b5c23eb7",
   "metadata": {},
   "source": [
    "# After applying encasulation "
   ]
  },
  {
   "cell_type": "code",
   "execution_count": 22,
   "id": "c38a7428-5925-4b32-971a-2ed35b546471",
   "metadata": {},
   "outputs": [],
   "source": [
    "class Plane:\n",
    "    def __init__(self):\n",
    "        self.__engine_number=2\n",
    "        self.__length=100\n",
    "        self.__width=70\n",
    "        self.__landing_wheel=6\n",
    "    def __takeoff(self):\n",
    "        print(\"plane in the sky\")\n",
    "    def __ignition(self):\n",
    "        print(\"Engine is working fine\")\n",
    "    def __landing(self):\n",
    "        print(\"plane landing\")\n",
    "    def __redar_system(self):\n",
    "        print(\"Plane is in touch with nearest air control system\")"
   ]
  },
  {
   "cell_type": "code",
   "execution_count": 23,
   "id": "0733a6cb-56fa-4f24-8dd4-f6dd25bc2d51",
   "metadata": {},
   "outputs": [],
   "source": [
    "Rafael=Plane()"
   ]
  },
  {
   "cell_type": "code",
   "execution_count": 24,
   "id": "11f45416-00f0-464f-98ed-a84b52aa1812",
   "metadata": {},
   "outputs": [
    {
     "name": "stdout",
     "output_type": "stream",
     "text": [
      "Engine is working fine\n"
     ]
    }
   ],
   "source": [
    "Rafael._Plane__ignition()"
   ]
  },
  {
   "cell_type": "code",
   "execution_count": 53,
   "id": "f5fe81c2-6d6d-4e64-a635-281255f75a07",
   "metadata": {},
   "outputs": [],
   "source": [
    "class ATM:\n",
    "    def __init__(self):\n",
    "        self.__pin=\"1111\"\n",
    "        self.__balance=10000.00\n",
    "    def balance_enquiry(self):\n",
    "        print(f\"Your account balance is {self.__balance}\")"
   ]
  },
  {
   "cell_type": "code",
   "execution_count": 54,
   "id": "9122e3be-c6a7-4175-a26e-199f63aaac0f",
   "metadata": {},
   "outputs": [],
   "source": [
    "krishna=ATM()"
   ]
  },
  {
   "cell_type": "code",
   "execution_count": 55,
   "id": "cce16ade-340b-4a92-a642-24241400eb0b",
   "metadata": {},
   "outputs": [],
   "source": [
    "krishna.balace=2.00"
   ]
  },
  {
   "cell_type": "code",
   "execution_count": 56,
   "id": "dabfc093-6f79-40b9-a626-e71d166ad637",
   "metadata": {},
   "outputs": [],
   "source": [
    "krishna.pin=\"1234\""
   ]
  },
  {
   "cell_type": "code",
   "execution_count": 57,
   "id": "ec223365-bda1-48cf-b100-50bfb7980652",
   "metadata": {},
   "outputs": [
    {
     "data": {
      "text/plain": [
       "2.0"
      ]
     },
     "execution_count": 57,
     "metadata": {},
     "output_type": "execute_result"
    }
   ],
   "source": [
    "krishna.balace"
   ]
  },
  {
   "cell_type": "code",
   "execution_count": 58,
   "id": "0a84e2d2-8402-434c-85f9-71286aada66f",
   "metadata": {},
   "outputs": [
    {
     "data": {
      "text/plain": [
       "'1234'"
      ]
     },
     "execution_count": 58,
     "metadata": {},
     "output_type": "execute_result"
    }
   ],
   "source": [
    "krishna.pin"
   ]
  },
  {
   "cell_type": "code",
   "execution_count": 59,
   "id": "c0a3320f-dd34-4bd6-89c4-5364134488c9",
   "metadata": {},
   "outputs": [
    {
     "name": "stdout",
     "output_type": "stream",
     "text": [
      "Your account balance is 10000.0\n"
     ]
    }
   ],
   "source": [
    "krishna.balance_enquiry()"
   ]
  },
  {
   "cell_type": "code",
   "execution_count": 60,
   "id": "74b963f9-3cf8-4c5a-a512-55fb527d39aa",
   "metadata": {},
   "outputs": [
    {
     "data": {
      "text/plain": [
       "10000.0"
      ]
     },
     "execution_count": 60,
     "metadata": {},
     "output_type": "execute_result"
    }
   ],
   "source": [
    "krishna._ATM__balance"
   ]
  },
  {
   "cell_type": "code",
   "execution_count": 61,
   "id": "9c7edc1c-f9d8-4e15-a7f1-aef637af5cbc",
   "metadata": {},
   "outputs": [
    {
     "data": {
      "text/plain": [
       "'1111'"
      ]
     },
     "execution_count": 61,
     "metadata": {},
     "output_type": "execute_result"
    }
   ],
   "source": [
    "krishna._ATM__pin"
   ]
  },
  {
   "cell_type": "code",
   "execution_count": 64,
   "id": "deac59da-cb1f-4aaa-b110-2e34e11d48fa",
   "metadata": {},
   "outputs": [],
   "source": [
    "class ATM:\n",
    "    def __init__(self):\n",
    "        self.__pin=\"1111\"\n",
    "        self.__balance=10000.00\n",
    "    def balance_enquiry(self):\n",
    "        print(f\"Your account balance is {self.__balance}\")\n",
    "    def change_pin(self):\n",
    "        user=input(\"Enter you old pin:\")\n",
    "        if user==self.__pin:\n",
    "            user1=input(\"Enter your new pin:\")\n",
    "            user2=input(\"re-enter your new pin:\")\n",
    "            if user1==user2:\n",
    "                self.__pin=user1\n",
    "                print(\"You pin chnage successfully\")\n",
    "            else:\n",
    "                print(\"new pin mismatch kindly try again\")\n",
    "        else:\n",
    "            print(\"Kindly enter a valid old pin\")"
   ]
  },
  {
   "cell_type": "code",
   "execution_count": 65,
   "id": "522db4cb-efb8-41fd-a246-870e6cc2687d",
   "metadata": {},
   "outputs": [],
   "source": [
    "krishna=ATM()"
   ]
  },
  {
   "cell_type": "code",
   "execution_count": 66,
   "id": "6da602ef-ad3c-4f57-ac35-d106a5862e0c",
   "metadata": {},
   "outputs": [
    {
     "name": "stdin",
     "output_type": "stream",
     "text": [
      "Enter you old pin: 1111\n",
      "Enter your new pin: 1234\n",
      "re-enter your new pin: 1234\n"
     ]
    },
    {
     "name": "stdout",
     "output_type": "stream",
     "text": [
      "You pin chnage successfully\n"
     ]
    }
   ],
   "source": [
    "krishna.change_pin()"
   ]
  },
  {
   "cell_type": "code",
   "execution_count": 67,
   "id": "638083c0-a5b2-4c31-8b92-c64d9a2b619b",
   "metadata": {},
   "outputs": [
    {
     "data": {
      "text/plain": [
       "'1234'"
      ]
     },
     "execution_count": 67,
     "metadata": {},
     "output_type": "execute_result"
    }
   ],
   "source": [
    "krishna._ATM__pin"
   ]
  },
  {
   "cell_type": "code",
   "execution_count": 68,
   "id": "a94564cf-a7ff-47a6-9589-249fe50a970e",
   "metadata": {},
   "outputs": [
    {
     "name": "stdin",
     "output_type": "stream",
     "text": [
      "Enter you old pin: 1234\n",
      "Enter your new pin: 8765\n",
      "re-enter your new pin: 8755\n"
     ]
    },
    {
     "name": "stdout",
     "output_type": "stream",
     "text": [
      "new pin mismatch kindly try again\n"
     ]
    }
   ],
   "source": [
    "krishna.change_pin()"
   ]
  },
  {
   "cell_type": "code",
   "execution_count": 69,
   "id": "960ddc89-8657-41d1-9887-e4d160d85ce6",
   "metadata": {},
   "outputs": [
    {
     "name": "stdin",
     "output_type": "stream",
     "text": [
      "Enter you old pin: 1111\n"
     ]
    },
    {
     "name": "stdout",
     "output_type": "stream",
     "text": [
      "Kindly enter a valid old pin\n"
     ]
    }
   ],
   "source": [
    "krishna.change_pin()"
   ]
  },
  {
   "cell_type": "code",
   "execution_count": 70,
   "id": "d7e3e5d8-65ce-4d36-9157-369d40ca1d48",
   "metadata": {},
   "outputs": [],
   "source": [
    "import random"
   ]
  },
  {
   "cell_type": "code",
   "execution_count": 94,
   "id": "af437890-9d1f-4571-b32b-179dd773ea8a",
   "metadata": {},
   "outputs": [
    {
     "data": {
      "text/plain": [
       "151625"
      ]
     },
     "execution_count": 94,
     "metadata": {},
     "output_type": "execute_result"
    }
   ],
   "source": [
    "random.randint(100000,999999)"
   ]
  },
  {
   "cell_type": "code",
   "execution_count": null,
   "id": "ea2d0163-a05b-4af3-b444-d5ac7f7110bd",
   "metadata": {},
   "outputs": [],
   "source": []
  },
  {
   "cell_type": "code",
   "execution_count": 123,
   "id": "26fd61cf-15c5-47ef-9b2f-3b49a1cdfd6f",
   "metadata": {},
   "outputs": [],
   "source": [
    "import random\n",
    "class ATM:\n",
    "    def __init__(self):\n",
    "        self.__pin=[\"0000\",\"0000\",\"1111\"]\n",
    "        self.__balance=10000.00\n",
    "        self.__mobile=\"1234567890\"\n",
    "        self.__mobile_otp=0\n",
    "    def balance_enquiry(self):\n",
    "        print(f\"Your account balance is {self.__balance}\")\n",
    "    def change_pin(self):\n",
    "        user=input(\"Enter you old pin:\")\n",
    "        if user in self.__pin:\n",
    "            user1=input(\"Enter your new pin:\")\n",
    "            user2=input(\"re-enter your new pin:\")\n",
    "            if user1 not in self.__pin:\n",
    "                mob=input(\"Enter your 10 digit register mobile number:\")\n",
    "                if mob==self.__mobile:\n",
    "                    print(\"To change your password kindly enter your 6 digit otp sent to your register mobile number\")\n",
    "                    otp1=random.randint(100000,999999)\n",
    "                    self.__mobile_otp=otp1\n",
    "                    print(\"your 6 digit otp is :\",self.__mobile_otp)\n",
    "                    otp=int(input(\"Enter your 6 digit otp: \"))\n",
    "                    if otp==self.__mobile_otp:\n",
    "                        if user1==user2:\n",
    "                                print(\"You pin chnage successfully\")\n",
    "                                self.__pin.pop(0)\n",
    "                                self.__pin.append(user1)\n",
    "                                print(self.__pin)\n",
    "                        else:\n",
    "                                print(\"new pin mismatch kindly try again\")        \n",
    "                    else:\n",
    "                        print(\"otp is not valid\")\n",
    "            else:\n",
    "                print(\"Kindly choose another pin\")\n",
    "        else:\n",
    "            print(\"Kindly enter a valid old pin\")"
   ]
  },
  {
   "cell_type": "code",
   "execution_count": 124,
   "id": "15364661-8e9a-450d-9cca-24cd73b05df8",
   "metadata": {},
   "outputs": [],
   "source": [
    "krishna=ATM()"
   ]
  },
  {
   "cell_type": "code",
   "execution_count": 125,
   "id": "8aafa7c0-d520-4763-a433-898c7c7a0a05",
   "metadata": {},
   "outputs": [
    {
     "name": "stdin",
     "output_type": "stream",
     "text": [
      "Enter you old pin: 1111\n",
      "Enter your new pin: 1234\n",
      "re-enter your new pin: 1234\n",
      "Enter your 10 digit register mobile number: 1234567890\n"
     ]
    },
    {
     "name": "stdout",
     "output_type": "stream",
     "text": [
      "To change your password kindly enter your 6 digit otp sent to your register mobile number\n",
      "your 6 digit otp is : 867587\n"
     ]
    },
    {
     "name": "stdin",
     "output_type": "stream",
     "text": [
      "Enter your 6 digit otp:  867587\n"
     ]
    },
    {
     "name": "stdout",
     "output_type": "stream",
     "text": [
      "You pin chnage successfully\n",
      "['0000', '1111', '1234']\n"
     ]
    }
   ],
   "source": [
    "krishna.change_pin()"
   ]
  },
  {
   "cell_type": "code",
   "execution_count": 126,
   "id": "a7a3eb3b-8e88-4e93-880f-71b9965077c9",
   "metadata": {},
   "outputs": [
    {
     "name": "stdin",
     "output_type": "stream",
     "text": [
      "Enter you old pin: 1111\n",
      "Enter your new pin: 0000\n",
      "re-enter your new pin: 0000\n"
     ]
    },
    {
     "name": "stdout",
     "output_type": "stream",
     "text": [
      "Kindly choose another pin\n"
     ]
    }
   ],
   "source": [
    "krishna.change_pin()"
   ]
  },
  {
   "cell_type": "code",
   "execution_count": null,
   "id": "9c488299-ac41-4aca-8181-f22054b76d4d",
   "metadata": {},
   "outputs": [],
   "source": []
  }
 ],
 "metadata": {
  "kernelspec": {
   "display_name": "Python 3 (ipykernel)",
   "language": "python",
   "name": "python3"
  },
  "language_info": {
   "codemirror_mode": {
    "name": "ipython",
    "version": 3
   },
   "file_extension": ".py",
   "mimetype": "text/x-python",
   "name": "python",
   "nbconvert_exporter": "python",
   "pygments_lexer": "ipython3",
   "version": "3.11.5"
  }
 },
 "nbformat": 4,
 "nbformat_minor": 5
}
