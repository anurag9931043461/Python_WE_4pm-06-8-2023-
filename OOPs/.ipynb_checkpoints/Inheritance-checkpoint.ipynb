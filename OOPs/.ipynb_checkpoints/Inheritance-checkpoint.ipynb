{
 "cells": [
  {
   "cell_type": "markdown",
   "id": "a584be52-a10e-4478-acdf-3905cf3c258b",
   "metadata": {},
   "source": [
    "# inheritance"
   ]
  },
  {
   "cell_type": "code",
   "execution_count": 6,
   "id": "9131e67d-5ba5-40ab-ba89-54785aa4e0da",
   "metadata": {},
   "outputs": [],
   "source": [
    "class Login_register:\n",
    "    def Login(self):\n",
    "        print(\"Welcome to login system\")\n",
    "\n",
    "    def Registration(self):\n",
    "        print(\"Welcome to registration system\")    "
   ]
  },
  {
   "cell_type": "code",
   "execution_count": 14,
   "id": "219f58fe-0cb4-46ef-b2a0-f4344ec32fd3",
   "metadata": {},
   "outputs": [],
   "source": [
    "class current_banking(Login_register):\n",
    "    def current(self):\n",
    "        print(\"Welcome to current account\")"
   ]
  },
  {
   "cell_type": "code",
   "execution_count": 18,
   "id": "d9d78fda-fb16-4628-a715-a7953668ff60",
   "metadata": {},
   "outputs": [],
   "source": [
    "class business_banking(Login_register):\n",
    "    def business(self):\n",
    "        print(\"Welcome to business account\")"
   ]
  },
  {
   "cell_type": "code",
   "execution_count": 19,
   "id": "d8bbd699-028a-4819-9915-98f7eb1c3388",
   "metadata": {},
   "outputs": [],
   "source": [
    "krishna=current_banking()"
   ]
  },
  {
   "cell_type": "code",
   "execution_count": 20,
   "id": "a412b6b2-e031-40cc-a4d5-8e5c07a2c7c7",
   "metadata": {},
   "outputs": [
    {
     "name": "stdout",
     "output_type": "stream",
     "text": [
      "Welcome to current account\n"
     ]
    }
   ],
   "source": [
    "krishna.current()"
   ]
  },
  {
   "cell_type": "code",
   "execution_count": 21,
   "id": "bd9b1e6f-b116-4f3e-a0d8-213efd4d5c90",
   "metadata": {},
   "outputs": [],
   "source": [
    "aishu=business_banking()"
   ]
  },
  {
   "cell_type": "code",
   "execution_count": 13,
   "id": "3fa4c2c3-3530-4d93-b0b2-099fcf2be243",
   "metadata": {},
   "outputs": [
    {
     "name": "stdout",
     "output_type": "stream",
     "text": [
      "Welcome to business account\n"
     ]
    }
   ],
   "source": [
    "aishu.business()"
   ]
  },
  {
   "cell_type": "markdown",
   "id": "82c1a635-6cb3-4d13-853c-3a6c2f149c4e",
   "metadata": {},
   "source": [
    "# single level inheritance\n",
    "\n",
    "# multilevel inheritance \n",
    "\n",
    "# multiple inheritance\n",
    "\n",
    "# hierarchical inheritance\n",
    "\n",
    "# hybride inheritance"
   ]
  },
  {
   "cell_type": "code",
   "execution_count": 22,
   "id": "406b9f28-5a0d-4925-b023-36bfabb0889b",
   "metadata": {},
   "outputs": [],
   "source": [
    "class A:\n",
    "    def attitude(self):\n",
    "        print(\"I have attitude\")"
   ]
  },
  {
   "cell_type": "code",
   "execution_count": 25,
   "id": "90a00b7a-2acf-4fc9-ada3-9b05739fd97f",
   "metadata": {},
   "outputs": [],
   "source": [
    "class B(A):\n",
    "    def business(self):\n",
    "        print(\"I am a business man\")"
   ]
  },
  {
   "cell_type": "code",
   "execution_count": 26,
   "id": "9f971096-b0f4-4d0a-a805-ccd6f33f0dc8",
   "metadata": {},
   "outputs": [],
   "source": [
    "krishna=B()"
   ]
  },
  {
   "cell_type": "code",
   "execution_count": 27,
   "id": "87f5c909-024c-4a66-8d13-f2c9af8f0822",
   "metadata": {},
   "outputs": [
    {
     "ename": "SyntaxError",
     "evalue": "invalid syntax (4066147596.py, line 1)",
     "output_type": "error",
     "traceback": [
      "\u001b[1;36m  Cell \u001b[1;32mIn[27], line 1\u001b[1;36m\u001b[0m\n\u001b[1;33m    krishna.\u001b[0m\n\u001b[1;37m            ^\u001b[0m\n\u001b[1;31mSyntaxError\u001b[0m\u001b[1;31m:\u001b[0m invalid syntax\n"
     ]
    }
   ],
   "source": [
    "krishna."
   ]
  },
  {
   "cell_type": "markdown",
   "id": "b9ea2df7-7de4-475a-8c7f-331f3ecedda8",
   "metadata": {},
   "source": [
    "# multilevel inheritance"
   ]
  },
  {
   "cell_type": "code",
   "execution_count": 34,
   "id": "a20429fd-5c22-498d-98de-cb1d69441114",
   "metadata": {},
   "outputs": [],
   "source": [
    "class A:\n",
    "    def attitude(self):\n",
    "        print(\"I have attitude\")\n",
    "\n",
    "class B(A):\n",
    "    def business(self):\n",
    "        print(\"I am a business man\")\n",
    "\n",
    "class C(B):\n",
    "    def command(self):\n",
    "        print(\"I command people to work\")"
   ]
  },
  {
   "cell_type": "code",
   "execution_count": 35,
   "id": "4130b612-7534-46dc-853b-13870d7f1ccd",
   "metadata": {},
   "outputs": [],
   "source": [
    "krishna=C()"
   ]
  },
  {
   "cell_type": "code",
   "execution_count": 36,
   "id": "4e3a0ec9-6c8b-4d0a-b243-431bb55c94ee",
   "metadata": {},
   "outputs": [
    {
     "name": "stdout",
     "output_type": "stream",
     "text": [
      "I have attitude\n",
      "I am a business man\n",
      "I command people to work\n"
     ]
    }
   ],
   "source": [
    "krishna.attitude()\n",
    "krishna.business()\n",
    "krishna.command()"
   ]
  },
  {
   "cell_type": "markdown",
   "id": "a8a9cce9-4272-409a-b368-94d32e2acfed",
   "metadata": {},
   "source": [
    "# multiple inheritance"
   ]
  },
  {
   "cell_type": "code",
   "execution_count": 43,
   "id": "2996c906-07fa-4486-b486-67bb44e1fc93",
   "metadata": {},
   "outputs": [],
   "source": [
    "class A:\n",
    "    def attitude(self):\n",
    "        print(\"I have attitude\")\n",
    "\n",
    "class B:\n",
    "    def business(self):\n",
    "        print(\"I am a business man\")\n",
    "\n",
    "class C(A,B):\n",
    "    def command(self):\n",
    "        print(\"I command people to work\")"
   ]
  },
  {
   "cell_type": "code",
   "execution_count": 44,
   "id": "c44d758c-4c05-4422-8532-68d65cecee42",
   "metadata": {},
   "outputs": [],
   "source": [
    "krishna=C()"
   ]
  },
  {
   "cell_type": "code",
   "execution_count": 45,
   "id": "15f0a2dd-9ff0-4a7e-beb7-05df4db09292",
   "metadata": {},
   "outputs": [
    {
     "name": "stdout",
     "output_type": "stream",
     "text": [
      "I have attitude\n",
      "I am a business man\n",
      "I command people to work\n"
     ]
    }
   ],
   "source": [
    "krishna.attitude()\n",
    "krishna.business()\n",
    "krishna.command()"
   ]
  },
  {
   "cell_type": "markdown",
   "id": "d5aba452-c394-418a-8336-529a04996e62",
   "metadata": {},
   "source": [
    "# hierarchical inheritance"
   ]
  },
  {
   "cell_type": "code",
   "execution_count": 47,
   "id": "e5bf88be-b571-4dfc-84de-cb8364aa7a0a",
   "metadata": {},
   "outputs": [],
   "source": [
    "class Login_register:\n",
    "    def Login(self):\n",
    "        print(\"Welcome to login system\")\n",
    "\n",
    "    def Registration(self):\n",
    "        print(\"Welcome to registration system\")  \n",
    "\n",
    "class current_banking(Login_register):\n",
    "    def current(self):\n",
    "        print(\"Welcome to current account\")\n",
    "class business_banking(Login_register):\n",
    "    def business(self):\n",
    "        print(\"Welcome to business account\")"
   ]
  },
  {
   "cell_type": "code",
   "execution_count": 48,
   "id": "b9a0c5e6-d968-4c50-bf2e-bdf24ebf4df1",
   "metadata": {},
   "outputs": [],
   "source": [
    "krishna=current_banking()"
   ]
  },
  {
   "cell_type": "code",
   "execution_count": 49,
   "id": "3f29415a-963b-47e8-9d54-6cb0f82f279f",
   "metadata": {},
   "outputs": [
    {
     "name": "stdout",
     "output_type": "stream",
     "text": [
      "Welcome to current account\n",
      "Welcome to login system\n",
      "Welcome to registration system\n"
     ]
    }
   ],
   "source": [
    "krishna.current()\n",
    "krishna.Login()\n",
    "krishna.Registration()"
   ]
  },
  {
   "cell_type": "code",
   "execution_count": 50,
   "id": "33effa3e-0dfa-4795-a7c3-157ec6a77948",
   "metadata": {},
   "outputs": [],
   "source": [
    "ai_martians=business_banking()"
   ]
  },
  {
   "cell_type": "code",
   "execution_count": 51,
   "id": "e3c89ad2-4fed-4674-a071-af804ea05397",
   "metadata": {},
   "outputs": [
    {
     "name": "stdout",
     "output_type": "stream",
     "text": [
      "Welcome to business account\n",
      "Welcome to login system\n",
      "Welcome to registration system\n"
     ]
    }
   ],
   "source": [
    "ai_martians.business()\n",
    "ai_martians.Login()\n",
    "ai_martians.Registration()"
   ]
  },
  {
   "cell_type": "code",
   "execution_count": 65,
   "id": "10c94139-15eb-4aa1-a9d6-527fd4411b4b",
   "metadata": {},
   "outputs": [],
   "source": [
    "class D:\n",
    "    def login(self):\n",
    "        print(\"Welcome to login system\")\n",
    "class F:\n",
    "    def registration(self):\n",
    "        print(\"Welcome to registration system\")\n",
    "\n",
    "class A(D,F):\n",
    "    pass\n",
    "\n",
    "class B(A):\n",
    "    pass\n",
    "class C(A):\n",
    "    pass"
   ]
  },
  {
   "cell_type": "code",
   "execution_count": 66,
   "id": "c4488ab3-fdb8-455b-aacc-558077f6d9ac",
   "metadata": {},
   "outputs": [],
   "source": [
    "krishna=C()"
   ]
  },
  {
   "cell_type": "code",
   "execution_count": 67,
   "id": "e1b1ef1b-5b07-489f-915c-9c5bf8576db8",
   "metadata": {},
   "outputs": [
    {
     "name": "stdout",
     "output_type": "stream",
     "text": [
      "Welcome to login system\n"
     ]
    }
   ],
   "source": [
    "krishna.login()"
   ]
  },
  {
   "cell_type": "code",
   "execution_count": 68,
   "id": "bab464b3-037e-48cc-be95-4eadb9874463",
   "metadata": {},
   "outputs": [
    {
     "name": "stdout",
     "output_type": "stream",
     "text": [
      "Welcome to registration system\n"
     ]
    }
   ],
   "source": [
    "krishna.registration()"
   ]
  },
  {
   "cell_type": "code",
   "execution_count": null,
   "id": "27a3aed3-525f-4c3a-84b6-f7ec004cff76",
   "metadata": {},
   "outputs": [],
   "source": []
  }
 ],
 "metadata": {
  "kernelspec": {
   "display_name": "Python 3 (ipykernel)",
   "language": "python",
   "name": "python3"
  },
  "language_info": {
   "codemirror_mode": {
    "name": "ipython",
    "version": 3
   },
   "file_extension": ".py",
   "mimetype": "text/x-python",
   "name": "python",
   "nbconvert_exporter": "python",
   "pygments_lexer": "ipython3",
   "version": "3.11.5"
  }
 },
 "nbformat": 4,
 "nbformat_minor": 5
}
