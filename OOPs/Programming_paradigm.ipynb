{
 "cells": [
  {
   "cell_type": "code",
   "execution_count": 5,
   "id": "6a85a298-59cf-433d-b51c-ee1de41aba72",
   "metadata": {},
   "outputs": [
    {
     "name": "stdout",
     "output_type": "stream",
     "text": [
      "I am Mohit and age 27\n"
     ]
    }
   ],
   "source": [
    "# Top Line programming \n",
    "name=\"Mohit\"\n",
    "age=27\n",
    "print(f\"I am {name} and age {age}\")"
   ]
  },
  {
   "cell_type": "code",
   "execution_count": 2,
   "id": "33cee7fa-3c83-45dc-b944-d742419a01f7",
   "metadata": {},
   "outputs": [],
   "source": [
    "# procedural programming/functional programming\n",
    "def intro(a,b):\n",
    "    name=a\n",
    "    age=b\n",
    "    print(f\"I am {name} and age {age}\")"
   ]
  },
  {
   "cell_type": "code",
   "execution_count": 4,
   "id": "efd3e3eb-a1cc-4535-af8e-b7975539ba31",
   "metadata": {},
   "outputs": [
    {
     "name": "stdout",
     "output_type": "stream",
     "text": [
      "I am Mohit and age 27\n"
     ]
    }
   ],
   "source": [
    "intro(\"Mohit\",27)"
   ]
  },
  {
   "cell_type": "code",
   "execution_count": 7,
   "id": "a6688178-125e-427e-a734-17dc29410570",
   "metadata": {},
   "outputs": [],
   "source": [
    "# Object Oriented Programming structure(OOPs)\n",
    "class A:\n",
    "    def intro(self,a,b):\n",
    "        name=a\n",
    "        age=b\n",
    "        print(f\"I am {name} and age {age}\")"
   ]
  },
  {
   "cell_type": "code",
   "execution_count": 8,
   "id": "8a7752bc-faae-47d2-9a13-034cc1af1bdf",
   "metadata": {},
   "outputs": [],
   "source": [
    "krishna=A()"
   ]
  },
  {
   "cell_type": "code",
   "execution_count": 9,
   "id": "58455a92-02ce-4774-a1eb-df8ca0cb2e7f",
   "metadata": {},
   "outputs": [
    {
     "name": "stdout",
     "output_type": "stream",
     "text": [
      "I am krishna and age 27\n"
     ]
    }
   ],
   "source": [
    "krishna.intro(\"krishna\",27)"
   ]
  },
  {
   "cell_type": "code",
   "execution_count": null,
   "id": "80c4ad58-6521-47a7-88d6-5f5f6dd7ac9b",
   "metadata": {},
   "outputs": [],
   "source": []
  }
 ],
 "metadata": {
  "kernelspec": {
   "display_name": "Python 3 (ipykernel)",
   "language": "python",
   "name": "python3"
  },
  "language_info": {
   "codemirror_mode": {
    "name": "ipython",
    "version": 3
   },
   "file_extension": ".py",
   "mimetype": "text/x-python",
   "name": "python",
   "nbconvert_exporter": "python",
   "pygments_lexer": "ipython3",
   "version": "3.11.5"
  }
 },
 "nbformat": 4,
 "nbformat_minor": 5
}
