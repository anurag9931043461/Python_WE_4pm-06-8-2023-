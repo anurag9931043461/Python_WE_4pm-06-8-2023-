{
 "cells": [
  {
   "cell_type": "code",
   "execution_count": 1,
   "id": "c6d38496-c2ee-4cee-9e93-640fe5d9d4f1",
   "metadata": {},
   "outputs": [],
   "source": [
    "#pip install mysql-connector-python"
   ]
  },
  {
   "cell_type": "code",
   "execution_count": 2,
   "id": "8e498248-6b4f-4a9b-b669-e5b469ba1e2d",
   "metadata": {},
   "outputs": [],
   "source": [
    "from mysql import connector as sql"
   ]
  },
  {
   "cell_type": "code",
   "execution_count": 7,
   "id": "fbefab13-d3b5-4fab-a8a2-35d8e082f36c",
   "metadata": {},
   "outputs": [],
   "source": [
    "krishna=sql.connect(host=\"localhost\",port=3306,user='root',password='root',db='we4')"
   ]
  },
  {
   "cell_type": "code",
   "execution_count": 8,
   "id": "5eef3875-9e53-401a-8793-04519a97a481",
   "metadata": {},
   "outputs": [],
   "source": [
    "car=krishna.cursor()"
   ]
  },
  {
   "cell_type": "code",
   "execution_count": 9,
   "id": "303c0267-ec05-4cf3-98b1-18d47ed8a639",
   "metadata": {},
   "outputs": [],
   "source": [
    "car.execute(\"show tables\")"
   ]
  },
  {
   "cell_type": "code",
   "execution_count": 10,
   "id": "6126fd0c-113d-4c47-9cc5-7dec6de3fc3b",
   "metadata": {},
   "outputs": [
    {
     "name": "stdout",
     "output_type": "stream",
     "text": [
      "('college',)\n",
      "('college2',)\n",
      "('counting',)\n",
      "('gks',)\n",
      "('hostel',)\n",
      "('hostel2',)\n",
      "('india',)\n",
      "('rmhall',)\n",
      "('timetable',)\n",
      "('universitypoly',)\n"
     ]
    }
   ],
   "source": [
    "for i in car:\n",
    "    print(i)"
   ]
  },
  {
   "cell_type": "code",
   "execution_count": null,
   "id": "ceba010a-2d49-43c6-a9ff-6edc5813bec5",
   "metadata": {},
   "outputs": [],
   "source": []
  }
 ],
 "metadata": {
  "kernelspec": {
   "display_name": "Python 3 (ipykernel)",
   "language": "python",
   "name": "python3"
  },
  "language_info": {
   "codemirror_mode": {
    "name": "ipython",
    "version": 3
   },
   "file_extension": ".py",
   "mimetype": "text/x-python",
   "name": "python",
   "nbconvert_exporter": "python",
   "pygments_lexer": "ipython3",
   "version": "3.12.0"
  }
 },
 "nbformat": 4,
 "nbformat_minor": 5
}
